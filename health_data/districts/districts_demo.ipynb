{
 "cells": [
  {
   "cell_type": "code",
   "execution_count": 2,
   "outputs": [],
   "source": [
    "import pandas as pd\n",
    "import numpy as np\n",
    "import matplotlib.pyplot as plt\n",
    "import seaborn as sns"
   ],
   "metadata": {
    "collapsed": false,
    "ExecuteTime": {
     "end_time": "2024-05-08T16:37:26.144050Z",
     "start_time": "2024-05-08T16:37:26.109875Z"
    }
   },
   "id": "71aedfc04328f160"
  },
  {
   "cell_type": "code",
   "execution_count": 5,
   "id": "initial_id",
   "metadata": {
    "collapsed": true,
    "ExecuteTime": {
     "end_time": "2024-05-08T16:38:33.970697800Z",
     "start_time": "2024-05-08T16:38:33.914069Z"
    }
   },
   "outputs": [],
   "source": [
    "# loading all the dataset of the various zones of the city of milan\n",
    "milan_baggio_deangeli_sansiro = pd.read_csv('Distretto_Milano_Baggio__De_Angeli__San_Siro.csv', sep=';')\n",
    "milan_barona_lorentaggio = pd.read_csv('Distretto_Milano_Barona__Lorenteggio.csv', sep=';')\n",
    "milan_center = pd.read_csv('Distretto_Milano_Centro.csv', sep=';')\n",
    "milan_cittastudi_lambrate_venezia = pd.read_csv('Distretto_Milano_Città_Studi__Lambrate__Venezia.csv', sep=';')\n",
    "milan_fiera_gallaratese_quartooggiaro = pd.read_csv('Distretto_Milano_Fiera__Gallaratese__Quarto_Oggiaro.csv', sep=';')\n",
    "milan_centrale_gorla_turro_greco_crescenzago = pd.read_csv('Distretto_Milano_Stazione_Centrale__Gorla__Turro__Greco__Crescenzago.csv', sep=';')\n",
    "milan_garibaldi_niguarda = pd.read_csv('Distretto_Milano_Stazione_Garibaldi__Niguarda.csv', sep=';')\n",
    "milan_vigentino_chiaravalle_gratosoglio = pd.read_csv('Distretto_Milano_Vigentino__Chiaravalle__Gratosoglio.csv', sep=';')\n",
    "milan_vittoria_forlanini = pd.read_csv('Distretto_Milano_Vittoria__Forlanini.csv', sep=';')"
   ]
  },
  {
   "cell_type": "code",
   "execution_count": 13,
   "outputs": [
    {
     "data": {
      "text/plain": "                                       Anno   Maschi  Femmine    Totale  \\\n0                                      2007  78800.0  88959.0  167759.0   \n1                                      2008  78307.0  88296.0  166603.0   \n2                                      2009  78621.0  88743.0  167364.0   \n3                                      2010  79331.0  89510.0  168841.0   \n4                                      2011  80212.0  90584.0  170796.0   \n..                                      ...      ...      ...       ...   \n157                                    2020  77303.0  83883.0  161186.0   \n158                                    2021  77120.0  83474.0  160594.0   \n159                                    2022  78109.0  83929.0  162038.0   \n160                                    2023  80263.0  85130.0  165393.0   \n161  Fonte portalestatosalute.ats-milano.it      NaN      NaN       NaN   \n\n                            Zona  \n0    Baggio, De Angeli, San Siro  \n1    Baggio, De Angeli, San Siro  \n2    Baggio, De Angeli, San Siro  \n3    Baggio, De Angeli, San Siro  \n4    Baggio, De Angeli, San Siro  \n..                           ...  \n157          Vittoria, Forlanini  \n158          Vittoria, Forlanini  \n159          Vittoria, Forlanini  \n160          Vittoria, Forlanini  \n161          Vittoria, Forlanini  \n\n[162 rows x 5 columns]",
      "text/html": "<div>\n<style scoped>\n    .dataframe tbody tr th:only-of-type {\n        vertical-align: middle;\n    }\n\n    .dataframe tbody tr th {\n        vertical-align: top;\n    }\n\n    .dataframe thead th {\n        text-align: right;\n    }\n</style>\n<table border=\"1\" class=\"dataframe\">\n  <thead>\n    <tr style=\"text-align: right;\">\n      <th></th>\n      <th>Anno</th>\n      <th>Maschi</th>\n      <th>Femmine</th>\n      <th>Totale</th>\n      <th>Zona</th>\n    </tr>\n  </thead>\n  <tbody>\n    <tr>\n      <th>0</th>\n      <td>2007</td>\n      <td>78800.0</td>\n      <td>88959.0</td>\n      <td>167759.0</td>\n      <td>Baggio, De Angeli, San Siro</td>\n    </tr>\n    <tr>\n      <th>1</th>\n      <td>2008</td>\n      <td>78307.0</td>\n      <td>88296.0</td>\n      <td>166603.0</td>\n      <td>Baggio, De Angeli, San Siro</td>\n    </tr>\n    <tr>\n      <th>2</th>\n      <td>2009</td>\n      <td>78621.0</td>\n      <td>88743.0</td>\n      <td>167364.0</td>\n      <td>Baggio, De Angeli, San Siro</td>\n    </tr>\n    <tr>\n      <th>3</th>\n      <td>2010</td>\n      <td>79331.0</td>\n      <td>89510.0</td>\n      <td>168841.0</td>\n      <td>Baggio, De Angeli, San Siro</td>\n    </tr>\n    <tr>\n      <th>4</th>\n      <td>2011</td>\n      <td>80212.0</td>\n      <td>90584.0</td>\n      <td>170796.0</td>\n      <td>Baggio, De Angeli, San Siro</td>\n    </tr>\n    <tr>\n      <th>...</th>\n      <td>...</td>\n      <td>...</td>\n      <td>...</td>\n      <td>...</td>\n      <td>...</td>\n    </tr>\n    <tr>\n      <th>157</th>\n      <td>2020</td>\n      <td>77303.0</td>\n      <td>83883.0</td>\n      <td>161186.0</td>\n      <td>Vittoria, Forlanini</td>\n    </tr>\n    <tr>\n      <th>158</th>\n      <td>2021</td>\n      <td>77120.0</td>\n      <td>83474.0</td>\n      <td>160594.0</td>\n      <td>Vittoria, Forlanini</td>\n    </tr>\n    <tr>\n      <th>159</th>\n      <td>2022</td>\n      <td>78109.0</td>\n      <td>83929.0</td>\n      <td>162038.0</td>\n      <td>Vittoria, Forlanini</td>\n    </tr>\n    <tr>\n      <th>160</th>\n      <td>2023</td>\n      <td>80263.0</td>\n      <td>85130.0</td>\n      <td>165393.0</td>\n      <td>Vittoria, Forlanini</td>\n    </tr>\n    <tr>\n      <th>161</th>\n      <td>Fonte portalestatosalute.ats-milano.it</td>\n      <td>NaN</td>\n      <td>NaN</td>\n      <td>NaN</td>\n      <td>Vittoria, Forlanini</td>\n    </tr>\n  </tbody>\n</table>\n<p>162 rows × 5 columns</p>\n</div>"
     },
     "execution_count": 13,
     "metadata": {},
     "output_type": "execute_result"
    }
   ],
   "source": [
    "# putting all the dataset in a single dataset\n",
    "# creating the new dataframe\n",
    "milan_cardiovascular = pd.DataFrame()\n",
    "\n",
    "# putting inside all of the other datasets by adding the specific zone\n",
    "milan_baggio_deangeli_sansiro['Zona'] = 'Baggio, De Angeli, San Siro'\n",
    "milan_barona_lorentaggio['Zona'] = 'Barona, Lorenteggio'\n",
    "milan_center['Zona'] = 'Centro'\n",
    "milan_cittastudi_lambrate_venezia['Zona'] = 'Città Studi, Lambrate, Venezia'\n",
    "milan_fiera_gallaratese_quartooggiaro['Zona'] = 'Fiera, Gallaratese, Quarto Oggiaro'\n",
    "milan_centrale_gorla_turro_greco_crescenzago['Zona'] = 'Stazione Centrale, Gorla, Turro, Greco, Crescenzago'\n",
    "milan_garibaldi_niguarda['Zona'] = 'Stazione Garibaldi, Niguarda'\n",
    "milan_vigentino_chiaravalle_gratosoglio['Zona'] = 'Vigentino, Chiaravalle, Gratosoglio'\n",
    "milan_vittoria_forlanini['Zona'] = 'Vittoria, Forlanini'\n",
    "\n",
    "# concatenating all of the datasets inside milan\n",
    "milan = pd.concat([milan_baggio_deangeli_sansiro, milan_barona_lorentaggio, milan_center, milan_cittastudi_lambrate_venezia, milan_fiera_gallaratese_quartooggiaro, milan_centrale_gorla_turro_greco_crescenzago, milan_garibaldi_niguarda, milan_vigentino_chiaravalle_gratosoglio, milan_vittoria_forlanini], ignore_index=True)\n",
    "\n",
    "# this is done so to remove the colum taken by the font of the data which is present in all the datasets and it is  easier to remove in this way than manually in all of them before \n",
    "milan_ = milan.dropna()\n",
    "\n",
    "milan"
   ],
   "metadata": {
    "collapsed": false,
    "ExecuteTime": {
     "end_time": "2024-05-08T16:48:20.923736600Z",
     "start_time": "2024-05-08T16:48:20.891983400Z"
    }
   },
   "id": "d44fa13849d57c5c"
  },
  {
   "cell_type": "code",
   "execution_count": 15,
   "outputs": [],
   "source": [
    "# saving the dataset in the folder as a csv file so to use it in other folders\n",
    "import os  \n",
    "os.makedirs('health_data', exist_ok=True)  \n",
    "milan.to_csv('health_data/milan_districts.csv', index=False) "
   ],
   "metadata": {
    "collapsed": false,
    "ExecuteTime": {
     "end_time": "2024-05-08T16:48:51.569492600Z",
     "start_time": "2024-05-08T16:48:51.558510900Z"
    }
   },
   "id": "5e518c003c759aca"
  },
  {
   "cell_type": "code",
   "execution_count": null,
   "outputs": [],
   "source": [],
   "metadata": {
    "collapsed": false
   },
   "id": "fc6e4f6449eb5b3f"
  }
 ],
 "metadata": {
  "kernelspec": {
   "display_name": "Python 3",
   "language": "python",
   "name": "python3"
  },
  "language_info": {
   "codemirror_mode": {
    "name": "ipython",
    "version": 2
   },
   "file_extension": ".py",
   "mimetype": "text/x-python",
   "name": "python",
   "nbconvert_exporter": "python",
   "pygments_lexer": "ipython2",
   "version": "2.7.6"
  }
 },
 "nbformat": 4,
 "nbformat_minor": 5
}
