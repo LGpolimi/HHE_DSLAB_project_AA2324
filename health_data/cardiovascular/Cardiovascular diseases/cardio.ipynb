{
 "cells": [
  {
   "cell_type": "code",
   "execution_count": 1,
   "id": "initial_id",
   "metadata": {
    "collapsed": true,
    "ExecuteTime": {
     "end_time": "2024-04-30T16:21:46.714737400Z",
     "start_time": "2024-04-30T16:21:46.705012500Z"
    }
   },
   "outputs": [],
   "source": [
    "import pandas as pd\n",
    "import numpy as np\n",
    "import matplotlib.pyplot as plt\n",
    "import seaborn as sns"
   ]
  },
  {
   "cell_type": "code",
   "execution_count": 18,
   "outputs": [],
   "source": [
    "# loading all the dataset of the various zones of the city of milan\n",
    "milan_baggio_deangeli_sansiro = pd.read_csv('Milano_Baggio__De_Angeli__San_Siro.csv', sep=';')\n",
    "milan_barona_lorentaggio = pd.read_csv('Milano_Barona__Lorenteggio.csv', sep=';')\n",
    "milan_center = pd.read_csv('Milano_Centro.csv', sep=';')\n",
    "milan_cittastudi_lambrate_venezia = pd.read_csv('Milano_Città_Studi__Lambrate__Venezia.csv', sep=';')\n",
    "milan_fiera_gallaratese_quartooggiaro = pd.read_csv('Milano_Fiera__Gallaratese__Quarto_Oggiaro (1).csv', sep=';')\n",
    "milan_centrale_gorla_turro_greco_crescenzago = pd.read_csv('Milano_Stazione_Centrale__Gorla__Turro__Greco__Crescenzago.csv', sep=';')\n",
    "milan_garibaldi_niguarda = pd.read_csv('Milano_Stazione_Garibaldi__Niguarda.csv', sep=';')\n",
    "milan_vigentino_chiaravalle_gratosoglio = pd.read_csv('Milano_Vigentino__Chiaravalle__Gratosoglio.csv', sep=';')\n",
    "milan_vittoria_forlanini = pd.read_csv('Milano_Vittoria__Forlanini.csv', sep=';')"
   ],
   "metadata": {
    "collapsed": false,
    "ExecuteTime": {
     "end_time": "2024-04-30T16:33:08.797449800Z",
     "start_time": "2024-04-30T16:33:08.776553800Z"
    }
   },
   "id": "4375b3ce7d3570d0"
  },
  {
   "cell_type": "code",
   "execution_count": null,
   "outputs": [],
   "source": [
    "# putting all the dataset in a single dataset\n",
    "# creating the new dataframe\n",
    "milan_cardiovascular = "
   ],
   "metadata": {
    "collapsed": false
   },
   "id": "d572a1790c2f5e2e"
  }
 ],
 "metadata": {
  "kernelspec": {
   "display_name": "Python 3",
   "language": "python",
   "name": "python3"
  },
  "language_info": {
   "codemirror_mode": {
    "name": "ipython",
    "version": 2
   },
   "file_extension": ".py",
   "mimetype": "text/x-python",
   "name": "python",
   "nbconvert_exporter": "python",
   "pygments_lexer": "ipython2",
   "version": "2.7.6"
  }
 },
 "nbformat": 4,
 "nbformat_minor": 5
}
