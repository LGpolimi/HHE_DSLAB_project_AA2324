{
 "cells": [
  {
   "cell_type": "markdown",
   "source": [
    "# Validation of interpolation on Ozone stazions"
   ],
   "metadata": {
    "collapsed": false
   },
   "id": "a9a24bcac2a05164"
  },
  {
   "cell_type": "code",
   "execution_count": 47,
   "outputs": [],
   "source": [
    "import pandas as pd\n",
    "import numpy as np"
   ],
   "metadata": {
    "collapsed": false,
    "ExecuteTime": {
     "end_time": "2024-05-27T11:21:26.941742400Z",
     "start_time": "2024-05-27T11:21:26.928807400Z"
    }
   },
   "id": "684a55079c23159"
  },
  {
   "cell_type": "code",
   "execution_count": 48,
   "outputs": [],
   "source": [
    "ozone_all = pd.read_csv('Validation_interpolation/means_ozone_imputed.csv')\n",
    "ozone_interpolated = pd.read_csv('Validation_interpolation/validation_ozone.csv')"
   ],
   "metadata": {
    "collapsed": false,
    "ExecuteTime": {
     "end_time": "2024-05-27T11:21:27.892092800Z",
     "start_time": "2024-05-27T11:21:27.797880300Z"
    }
   },
   "id": "44929cc293db993c"
  },
  {
   "cell_type": "code",
   "execution_count": 49,
   "outputs": [
    {
     "data": {
      "text/plain": "    Unnamed: 0  IdSensore  w1 y2013  w2 y2013  w3 y2013  w4 y2013  w5 y2013  \\\n0            0       5707     12.60      8.85     18.15      9.60     24.77   \n1            1       5708      5.86      5.74      8.34      8.66     18.53   \n2            2       5710      4.97      5.05      8.08     12.25     16.53   \n3            3       5711      4.03      5.12      7.39      6.28     14.46   \n4            4       5712     12.51     15.25      9.98      9.00     15.67   \n5            5       5714     16.64     14.00     16.29     15.07     22.21   \n6            6       5715      5.65      5.25      8.01      6.54     15.15   \n7            7       5718      5.42      5.27      8.85      6.46     15.30   \n8            8       5717      6.45      7.69      8.74      8.94     10.33   \n9            9       5721     16.62     13.39     16.75     14.75     23.35   \n10          10       5722     13.21     10.42      8.41     11.18     17.32   \n11          11       5724      9.80      7.44     11.82     12.74     17.30   \n12          12       5725      2.14      2.07      2.94      5.10      9.82   \n13          13       9900      7.43      7.44      8.67      9.37     11.27   \n14          14      10282      6.04      6.25      7.36      8.25      6.35   \n15          15      10350     18.10     15.58     21.46     16.94     25.87   \n\n    w6 y2013  w7 y2013  w8 y2013  ...  w44 y2016  w45 y2016  w46 y2016  \\\n0      39.21     22.12     28.45  ...      16.24      13.33      13.91   \n1      27.94     13.99     12.22  ...      14.97      10.21      13.26   \n2      28.98     21.19     24.88  ...      13.09       6.53       7.04   \n3      20.33     13.31     13.37  ...      17.66      10.74       9.75   \n4      30.54     29.31     36.70  ...      11.03       7.64       5.64   \n5      33.58     29.71     29.20  ...      23.43      15.59      13.80   \n6      21.00     12.32     20.78  ...      14.29      11.73      11.87   \n7      47.96     17.48     18.28  ...      14.87      11.69      11.89   \n8      17.33     12.48     13.86  ...      13.48       7.76       7.14   \n9      35.47     29.13     27.98  ...      25.28      14.78      16.71   \n10     25.05     21.15     23.75  ...      14.96      10.78      10.98   \n11     31.37     28.02     29.31  ...      17.40      16.12      12.88   \n12     19.14     15.95     15.00  ...      14.46       9.08       9.18   \n13     22.30     19.05     18.72  ...      11.85       9.04       6.35   \n14     18.65     17.86     17.89  ...      14.59       9.43       9.14   \n15     37.90     27.28     32.25  ...      16.48      13.04      13.88   \n\n    w47 y2016  w48 y2016  w49 y2016  w50 y2016  w51 y2016  w52 y2016  \\\n0        3.35      17.59       5.89       2.96       5.64      14.45   \n1        6.99      15.60       9.57       7.23       7.40      16.72   \n2        2.74       9.89       3.62       1.58       1.55      10.49   \n3        5.03      14.47       8.63       6.07       6.06      12.81   \n4        0.70      11.64       6.18       4.99       5.37      13.72   \n5        8.86      18.21       9.65       7.79       6.29       3.72   \n6        7.67      14.02       9.97       8.09       8.23      12.52   \n7        6.09       9.19       4.46       1.77       2.03       6.20   \n8        1.86      10.40       4.00       1.34       1.43       9.92   \n9        9.54      21.40      10.86       7.02       7.16      10.26   \n10       6.91      11.86       8.56       7.07       6.68      15.13   \n11       7.10      19.13      10.90       7.81       9.47      22.55   \n12       5.30      11.20       7.84       6.48       9.08      19.35   \n13       1.93      12.18       5.21       2.69       3.00       9.96   \n14       4.61      11.82       6.74       3.98       3.39      12.14   \n15       5.95      18.44      10.22       6.95       8.97      15.29   \n\n    w53 y2016  \n0        8.47  \n1        9.95  \n2        3.47  \n3        9.62  \n4        8.69  \n5       11.29  \n6       11.21  \n7        5.12  \n8        5.08  \n9       12.95  \n10       8.61  \n11      14.59  \n12      21.79  \n13       5.75  \n14       6.49  \n15      10.71  \n\n[16 rows x 214 columns]",
      "text/html": "<div>\n<style scoped>\n    .dataframe tbody tr th:only-of-type {\n        vertical-align: middle;\n    }\n\n    .dataframe tbody tr th {\n        vertical-align: top;\n    }\n\n    .dataframe thead th {\n        text-align: right;\n    }\n</style>\n<table border=\"1\" class=\"dataframe\">\n  <thead>\n    <tr style=\"text-align: right;\">\n      <th></th>\n      <th>Unnamed: 0</th>\n      <th>IdSensore</th>\n      <th>w1 y2013</th>\n      <th>w2 y2013</th>\n      <th>w3 y2013</th>\n      <th>w4 y2013</th>\n      <th>w5 y2013</th>\n      <th>w6 y2013</th>\n      <th>w7 y2013</th>\n      <th>w8 y2013</th>\n      <th>...</th>\n      <th>w44 y2016</th>\n      <th>w45 y2016</th>\n      <th>w46 y2016</th>\n      <th>w47 y2016</th>\n      <th>w48 y2016</th>\n      <th>w49 y2016</th>\n      <th>w50 y2016</th>\n      <th>w51 y2016</th>\n      <th>w52 y2016</th>\n      <th>w53 y2016</th>\n    </tr>\n  </thead>\n  <tbody>\n    <tr>\n      <th>0</th>\n      <td>0</td>\n      <td>5707</td>\n      <td>12.60</td>\n      <td>8.85</td>\n      <td>18.15</td>\n      <td>9.60</td>\n      <td>24.77</td>\n      <td>39.21</td>\n      <td>22.12</td>\n      <td>28.45</td>\n      <td>...</td>\n      <td>16.24</td>\n      <td>13.33</td>\n      <td>13.91</td>\n      <td>3.35</td>\n      <td>17.59</td>\n      <td>5.89</td>\n      <td>2.96</td>\n      <td>5.64</td>\n      <td>14.45</td>\n      <td>8.47</td>\n    </tr>\n    <tr>\n      <th>1</th>\n      <td>1</td>\n      <td>5708</td>\n      <td>5.86</td>\n      <td>5.74</td>\n      <td>8.34</td>\n      <td>8.66</td>\n      <td>18.53</td>\n      <td>27.94</td>\n      <td>13.99</td>\n      <td>12.22</td>\n      <td>...</td>\n      <td>14.97</td>\n      <td>10.21</td>\n      <td>13.26</td>\n      <td>6.99</td>\n      <td>15.60</td>\n      <td>9.57</td>\n      <td>7.23</td>\n      <td>7.40</td>\n      <td>16.72</td>\n      <td>9.95</td>\n    </tr>\n    <tr>\n      <th>2</th>\n      <td>2</td>\n      <td>5710</td>\n      <td>4.97</td>\n      <td>5.05</td>\n      <td>8.08</td>\n      <td>12.25</td>\n      <td>16.53</td>\n      <td>28.98</td>\n      <td>21.19</td>\n      <td>24.88</td>\n      <td>...</td>\n      <td>13.09</td>\n      <td>6.53</td>\n      <td>7.04</td>\n      <td>2.74</td>\n      <td>9.89</td>\n      <td>3.62</td>\n      <td>1.58</td>\n      <td>1.55</td>\n      <td>10.49</td>\n      <td>3.47</td>\n    </tr>\n    <tr>\n      <th>3</th>\n      <td>3</td>\n      <td>5711</td>\n      <td>4.03</td>\n      <td>5.12</td>\n      <td>7.39</td>\n      <td>6.28</td>\n      <td>14.46</td>\n      <td>20.33</td>\n      <td>13.31</td>\n      <td>13.37</td>\n      <td>...</td>\n      <td>17.66</td>\n      <td>10.74</td>\n      <td>9.75</td>\n      <td>5.03</td>\n      <td>14.47</td>\n      <td>8.63</td>\n      <td>6.07</td>\n      <td>6.06</td>\n      <td>12.81</td>\n      <td>9.62</td>\n    </tr>\n    <tr>\n      <th>4</th>\n      <td>4</td>\n      <td>5712</td>\n      <td>12.51</td>\n      <td>15.25</td>\n      <td>9.98</td>\n      <td>9.00</td>\n      <td>15.67</td>\n      <td>30.54</td>\n      <td>29.31</td>\n      <td>36.70</td>\n      <td>...</td>\n      <td>11.03</td>\n      <td>7.64</td>\n      <td>5.64</td>\n      <td>0.70</td>\n      <td>11.64</td>\n      <td>6.18</td>\n      <td>4.99</td>\n      <td>5.37</td>\n      <td>13.72</td>\n      <td>8.69</td>\n    </tr>\n    <tr>\n      <th>5</th>\n      <td>5</td>\n      <td>5714</td>\n      <td>16.64</td>\n      <td>14.00</td>\n      <td>16.29</td>\n      <td>15.07</td>\n      <td>22.21</td>\n      <td>33.58</td>\n      <td>29.71</td>\n      <td>29.20</td>\n      <td>...</td>\n      <td>23.43</td>\n      <td>15.59</td>\n      <td>13.80</td>\n      <td>8.86</td>\n      <td>18.21</td>\n      <td>9.65</td>\n      <td>7.79</td>\n      <td>6.29</td>\n      <td>3.72</td>\n      <td>11.29</td>\n    </tr>\n    <tr>\n      <th>6</th>\n      <td>6</td>\n      <td>5715</td>\n      <td>5.65</td>\n      <td>5.25</td>\n      <td>8.01</td>\n      <td>6.54</td>\n      <td>15.15</td>\n      <td>21.00</td>\n      <td>12.32</td>\n      <td>20.78</td>\n      <td>...</td>\n      <td>14.29</td>\n      <td>11.73</td>\n      <td>11.87</td>\n      <td>7.67</td>\n      <td>14.02</td>\n      <td>9.97</td>\n      <td>8.09</td>\n      <td>8.23</td>\n      <td>12.52</td>\n      <td>11.21</td>\n    </tr>\n    <tr>\n      <th>7</th>\n      <td>7</td>\n      <td>5718</td>\n      <td>5.42</td>\n      <td>5.27</td>\n      <td>8.85</td>\n      <td>6.46</td>\n      <td>15.30</td>\n      <td>47.96</td>\n      <td>17.48</td>\n      <td>18.28</td>\n      <td>...</td>\n      <td>14.87</td>\n      <td>11.69</td>\n      <td>11.89</td>\n      <td>6.09</td>\n      <td>9.19</td>\n      <td>4.46</td>\n      <td>1.77</td>\n      <td>2.03</td>\n      <td>6.20</td>\n      <td>5.12</td>\n    </tr>\n    <tr>\n      <th>8</th>\n      <td>8</td>\n      <td>5717</td>\n      <td>6.45</td>\n      <td>7.69</td>\n      <td>8.74</td>\n      <td>8.94</td>\n      <td>10.33</td>\n      <td>17.33</td>\n      <td>12.48</td>\n      <td>13.86</td>\n      <td>...</td>\n      <td>13.48</td>\n      <td>7.76</td>\n      <td>7.14</td>\n      <td>1.86</td>\n      <td>10.40</td>\n      <td>4.00</td>\n      <td>1.34</td>\n      <td>1.43</td>\n      <td>9.92</td>\n      <td>5.08</td>\n    </tr>\n    <tr>\n      <th>9</th>\n      <td>9</td>\n      <td>5721</td>\n      <td>16.62</td>\n      <td>13.39</td>\n      <td>16.75</td>\n      <td>14.75</td>\n      <td>23.35</td>\n      <td>35.47</td>\n      <td>29.13</td>\n      <td>27.98</td>\n      <td>...</td>\n      <td>25.28</td>\n      <td>14.78</td>\n      <td>16.71</td>\n      <td>9.54</td>\n      <td>21.40</td>\n      <td>10.86</td>\n      <td>7.02</td>\n      <td>7.16</td>\n      <td>10.26</td>\n      <td>12.95</td>\n    </tr>\n    <tr>\n      <th>10</th>\n      <td>10</td>\n      <td>5722</td>\n      <td>13.21</td>\n      <td>10.42</td>\n      <td>8.41</td>\n      <td>11.18</td>\n      <td>17.32</td>\n      <td>25.05</td>\n      <td>21.15</td>\n      <td>23.75</td>\n      <td>...</td>\n      <td>14.96</td>\n      <td>10.78</td>\n      <td>10.98</td>\n      <td>6.91</td>\n      <td>11.86</td>\n      <td>8.56</td>\n      <td>7.07</td>\n      <td>6.68</td>\n      <td>15.13</td>\n      <td>8.61</td>\n    </tr>\n    <tr>\n      <th>11</th>\n      <td>11</td>\n      <td>5724</td>\n      <td>9.80</td>\n      <td>7.44</td>\n      <td>11.82</td>\n      <td>12.74</td>\n      <td>17.30</td>\n      <td>31.37</td>\n      <td>28.02</td>\n      <td>29.31</td>\n      <td>...</td>\n      <td>17.40</td>\n      <td>16.12</td>\n      <td>12.88</td>\n      <td>7.10</td>\n      <td>19.13</td>\n      <td>10.90</td>\n      <td>7.81</td>\n      <td>9.47</td>\n      <td>22.55</td>\n      <td>14.59</td>\n    </tr>\n    <tr>\n      <th>12</th>\n      <td>12</td>\n      <td>5725</td>\n      <td>2.14</td>\n      <td>2.07</td>\n      <td>2.94</td>\n      <td>5.10</td>\n      <td>9.82</td>\n      <td>19.14</td>\n      <td>15.95</td>\n      <td>15.00</td>\n      <td>...</td>\n      <td>14.46</td>\n      <td>9.08</td>\n      <td>9.18</td>\n      <td>5.30</td>\n      <td>11.20</td>\n      <td>7.84</td>\n      <td>6.48</td>\n      <td>9.08</td>\n      <td>19.35</td>\n      <td>21.79</td>\n    </tr>\n    <tr>\n      <th>13</th>\n      <td>13</td>\n      <td>9900</td>\n      <td>7.43</td>\n      <td>7.44</td>\n      <td>8.67</td>\n      <td>9.37</td>\n      <td>11.27</td>\n      <td>22.30</td>\n      <td>19.05</td>\n      <td>18.72</td>\n      <td>...</td>\n      <td>11.85</td>\n      <td>9.04</td>\n      <td>6.35</td>\n      <td>1.93</td>\n      <td>12.18</td>\n      <td>5.21</td>\n      <td>2.69</td>\n      <td>3.00</td>\n      <td>9.96</td>\n      <td>5.75</td>\n    </tr>\n    <tr>\n      <th>14</th>\n      <td>14</td>\n      <td>10282</td>\n      <td>6.04</td>\n      <td>6.25</td>\n      <td>7.36</td>\n      <td>8.25</td>\n      <td>6.35</td>\n      <td>18.65</td>\n      <td>17.86</td>\n      <td>17.89</td>\n      <td>...</td>\n      <td>14.59</td>\n      <td>9.43</td>\n      <td>9.14</td>\n      <td>4.61</td>\n      <td>11.82</td>\n      <td>6.74</td>\n      <td>3.98</td>\n      <td>3.39</td>\n      <td>12.14</td>\n      <td>6.49</td>\n    </tr>\n    <tr>\n      <th>15</th>\n      <td>15</td>\n      <td>10350</td>\n      <td>18.10</td>\n      <td>15.58</td>\n      <td>21.46</td>\n      <td>16.94</td>\n      <td>25.87</td>\n      <td>37.90</td>\n      <td>27.28</td>\n      <td>32.25</td>\n      <td>...</td>\n      <td>16.48</td>\n      <td>13.04</td>\n      <td>13.88</td>\n      <td>5.95</td>\n      <td>18.44</td>\n      <td>10.22</td>\n      <td>6.95</td>\n      <td>8.97</td>\n      <td>15.29</td>\n      <td>10.71</td>\n    </tr>\n  </tbody>\n</table>\n<p>16 rows × 214 columns</p>\n</div>"
     },
     "execution_count": 49,
     "metadata": {},
     "output_type": "execute_result"
    }
   ],
   "source": [
    "ozone_all.head(16)"
   ],
   "metadata": {
    "collapsed": false,
    "ExecuteTime": {
     "end_time": "2024-05-27T11:21:29.106999700Z",
     "start_time": "2024-05-27T11:21:29.029763700Z"
    }
   },
   "id": "9052b029d32b0049"
  },
  {
   "cell_type": "code",
   "execution_count": 50,
   "outputs": [
    {
     "data": {
      "text/plain": "    Unnamed: 0   w1 y2013   w2 y2013   w3 y2013   w4 y2013   w5 y2013  \\\n0            1  10.850058   9.665183  13.554810  11.196871  19.468684   \n1            2   6.841238   6.438553   8.829794   9.859879  15.458188   \n2            3   7.794787   7.026212   8.860125   9.341231  14.982837   \n3            4   7.686945   7.431638   8.980916   9.693075  12.135988   \n4            5  11.764878  13.799726   9.967905   9.298352  15.552682   \n5            6   7.379787   6.850930   8.276356   8.748548  15.008833   \n6            7   9.007628   7.232425  12.831941   8.443251  19.448298   \n7            8   8.461023   7.752931   9.880725   9.512002  15.905412   \n8            9  10.351744   8.489196  13.798245  10.128074  20.363953   \n9           10  12.447002  10.561157  15.434282  12.082624  21.313557   \n10          11   7.722581   7.338500   8.280127   9.219299  11.640956   \n11          12   9.166574   7.669204   7.163859   9.315648  14.875979   \n12          13   5.813741   6.032623   7.306336   8.265234   8.755658   \n13          14  10.044860   9.003257  11.462175  10.568724  17.483671   \n14          15   8.706388   7.907100   8.149367   9.453117  13.502209   \n15          16   9.580502  10.515937   9.287462   9.260687  14.083887   \n\n     w6 y2013   w7 y2013   w8 y2013  \n0   32.651135  20.245158  24.537200  \n1   26.884092  19.251307  21.892096  \n2   26.545217  19.453932  20.291193  \n3   23.289697  19.696514  19.725655  \n4   29.762838  27.823850  34.088912  \n5   24.937549  17.205189  17.688315  \n6   37.767178  19.389045  23.117321  \n7   26.795486  19.567134  20.332981  \n8   34.515658  20.716708  23.948296  \n9   32.508096  22.203295  26.078401  \n10  22.269587  18.441777  19.403254  \n11  23.420984  19.084016  20.579516  \n12  20.095526  17.488263  17.848121  \n13  29.812519  21.430364  22.566229  \n14  24.069686  20.085641  21.583073  \n15  26.332853  22.742629  26.111000  ",
      "text/html": "<div>\n<style scoped>\n    .dataframe tbody tr th:only-of-type {\n        vertical-align: middle;\n    }\n\n    .dataframe tbody tr th {\n        vertical-align: top;\n    }\n\n    .dataframe thead th {\n        text-align: right;\n    }\n</style>\n<table border=\"1\" class=\"dataframe\">\n  <thead>\n    <tr style=\"text-align: right;\">\n      <th></th>\n      <th>Unnamed: 0</th>\n      <th>w1 y2013</th>\n      <th>w2 y2013</th>\n      <th>w3 y2013</th>\n      <th>w4 y2013</th>\n      <th>w5 y2013</th>\n      <th>w6 y2013</th>\n      <th>w7 y2013</th>\n      <th>w8 y2013</th>\n    </tr>\n  </thead>\n  <tbody>\n    <tr>\n      <th>0</th>\n      <td>1</td>\n      <td>10.850058</td>\n      <td>9.665183</td>\n      <td>13.554810</td>\n      <td>11.196871</td>\n      <td>19.468684</td>\n      <td>32.651135</td>\n      <td>20.245158</td>\n      <td>24.537200</td>\n    </tr>\n    <tr>\n      <th>1</th>\n      <td>2</td>\n      <td>6.841238</td>\n      <td>6.438553</td>\n      <td>8.829794</td>\n      <td>9.859879</td>\n      <td>15.458188</td>\n      <td>26.884092</td>\n      <td>19.251307</td>\n      <td>21.892096</td>\n    </tr>\n    <tr>\n      <th>2</th>\n      <td>3</td>\n      <td>7.794787</td>\n      <td>7.026212</td>\n      <td>8.860125</td>\n      <td>9.341231</td>\n      <td>14.982837</td>\n      <td>26.545217</td>\n      <td>19.453932</td>\n      <td>20.291193</td>\n    </tr>\n    <tr>\n      <th>3</th>\n      <td>4</td>\n      <td>7.686945</td>\n      <td>7.431638</td>\n      <td>8.980916</td>\n      <td>9.693075</td>\n      <td>12.135988</td>\n      <td>23.289697</td>\n      <td>19.696514</td>\n      <td>19.725655</td>\n    </tr>\n    <tr>\n      <th>4</th>\n      <td>5</td>\n      <td>11.764878</td>\n      <td>13.799726</td>\n      <td>9.967905</td>\n      <td>9.298352</td>\n      <td>15.552682</td>\n      <td>29.762838</td>\n      <td>27.823850</td>\n      <td>34.088912</td>\n    </tr>\n    <tr>\n      <th>5</th>\n      <td>6</td>\n      <td>7.379787</td>\n      <td>6.850930</td>\n      <td>8.276356</td>\n      <td>8.748548</td>\n      <td>15.008833</td>\n      <td>24.937549</td>\n      <td>17.205189</td>\n      <td>17.688315</td>\n    </tr>\n    <tr>\n      <th>6</th>\n      <td>7</td>\n      <td>9.007628</td>\n      <td>7.232425</td>\n      <td>12.831941</td>\n      <td>8.443251</td>\n      <td>19.448298</td>\n      <td>37.767178</td>\n      <td>19.389045</td>\n      <td>23.117321</td>\n    </tr>\n    <tr>\n      <th>7</th>\n      <td>8</td>\n      <td>8.461023</td>\n      <td>7.752931</td>\n      <td>9.880725</td>\n      <td>9.512002</td>\n      <td>15.905412</td>\n      <td>26.795486</td>\n      <td>19.567134</td>\n      <td>20.332981</td>\n    </tr>\n    <tr>\n      <th>8</th>\n      <td>9</td>\n      <td>10.351744</td>\n      <td>8.489196</td>\n      <td>13.798245</td>\n      <td>10.128074</td>\n      <td>20.363953</td>\n      <td>34.515658</td>\n      <td>20.716708</td>\n      <td>23.948296</td>\n    </tr>\n    <tr>\n      <th>9</th>\n      <td>10</td>\n      <td>12.447002</td>\n      <td>10.561157</td>\n      <td>15.434282</td>\n      <td>12.082624</td>\n      <td>21.313557</td>\n      <td>32.508096</td>\n      <td>22.203295</td>\n      <td>26.078401</td>\n    </tr>\n    <tr>\n      <th>10</th>\n      <td>11</td>\n      <td>7.722581</td>\n      <td>7.338500</td>\n      <td>8.280127</td>\n      <td>9.219299</td>\n      <td>11.640956</td>\n      <td>22.269587</td>\n      <td>18.441777</td>\n      <td>19.403254</td>\n    </tr>\n    <tr>\n      <th>11</th>\n      <td>12</td>\n      <td>9.166574</td>\n      <td>7.669204</td>\n      <td>7.163859</td>\n      <td>9.315648</td>\n      <td>14.875979</td>\n      <td>23.420984</td>\n      <td>19.084016</td>\n      <td>20.579516</td>\n    </tr>\n    <tr>\n      <th>12</th>\n      <td>13</td>\n      <td>5.813741</td>\n      <td>6.032623</td>\n      <td>7.306336</td>\n      <td>8.265234</td>\n      <td>8.755658</td>\n      <td>20.095526</td>\n      <td>17.488263</td>\n      <td>17.848121</td>\n    </tr>\n    <tr>\n      <th>13</th>\n      <td>14</td>\n      <td>10.044860</td>\n      <td>9.003257</td>\n      <td>11.462175</td>\n      <td>10.568724</td>\n      <td>17.483671</td>\n      <td>29.812519</td>\n      <td>21.430364</td>\n      <td>22.566229</td>\n    </tr>\n    <tr>\n      <th>14</th>\n      <td>15</td>\n      <td>8.706388</td>\n      <td>7.907100</td>\n      <td>8.149367</td>\n      <td>9.453117</td>\n      <td>13.502209</td>\n      <td>24.069686</td>\n      <td>20.085641</td>\n      <td>21.583073</td>\n    </tr>\n    <tr>\n      <th>15</th>\n      <td>16</td>\n      <td>9.580502</td>\n      <td>10.515937</td>\n      <td>9.287462</td>\n      <td>9.260687</td>\n      <td>14.083887</td>\n      <td>26.332853</td>\n      <td>22.742629</td>\n      <td>26.111000</td>\n    </tr>\n  </tbody>\n</table>\n</div>"
     },
     "execution_count": 50,
     "metadata": {},
     "output_type": "execute_result"
    }
   ],
   "source": [
    "ozone_interpolated.head(17)"
   ],
   "metadata": {
    "collapsed": false,
    "ExecuteTime": {
     "end_time": "2024-05-27T11:21:32.738943Z",
     "start_time": "2024-05-27T11:21:32.695406500Z"
    }
   },
   "id": "dafde695ecee984d"
  },
  {
   "cell_type": "code",
   "execution_count": 51,
   "outputs": [],
   "source": [
    "ozone_real = ozone_all.iloc[:, 1:10]\n",
    "ozone_interpolated.iloc[:,0]=ozone_real.iloc[:,0]\n",
    "# rename first column\n",
    "ozone_interpolated.rename(columns={ozone_interpolated.columns[0]: 'IdSensore'}, inplace=True)"
   ],
   "metadata": {
    "collapsed": false,
    "ExecuteTime": {
     "end_time": "2024-05-27T11:21:37.325026500Z",
     "start_time": "2024-05-27T11:21:37.299549300Z"
    }
   },
   "id": "b1c8908f76108fea"
  },
  {
   "cell_type": "code",
   "execution_count": 52,
   "outputs": [
    {
     "data": {
      "text/plain": "    IdSensore  w1 y2013  w2 y2013  w3 y2013  w4 y2013  w5 y2013  w6 y2013  \\\n0        5707     12.60      8.85     18.15      9.60     24.77     39.21   \n1        5708      5.86      5.74      8.34      8.66     18.53     27.94   \n2        5710      4.97      5.05      8.08     12.25     16.53     28.98   \n3        5711      4.03      5.12      7.39      6.28     14.46     20.33   \n4        5712     12.51     15.25      9.98      9.00     15.67     30.54   \n5        5714     16.64     14.00     16.29     15.07     22.21     33.58   \n6        5715      5.65      5.25      8.01      6.54     15.15     21.00   \n7        5718      5.42      5.27      8.85      6.46     15.30     47.96   \n8        5717      6.45      7.69      8.74      8.94     10.33     17.33   \n9        5721     16.62     13.39     16.75     14.75     23.35     35.47   \n10       5722     13.21     10.42      8.41     11.18     17.32     25.05   \n11       5724      9.80      7.44     11.82     12.74     17.30     31.37   \n12       5725      2.14      2.07      2.94      5.10      9.82     19.14   \n13       9900      7.43      7.44      8.67      9.37     11.27     22.30   \n14      10282      6.04      6.25      7.36      8.25      6.35     18.65   \n15      10350     18.10     15.58     21.46     16.94     25.87     37.90   \n\n    w7 y2013  w8 y2013  \n0      22.12     28.45  \n1      13.99     12.22  \n2      21.19     24.88  \n3      13.31     13.37  \n4      29.31     36.70  \n5      29.71     29.20  \n6      12.32     20.78  \n7      17.48     18.28  \n8      12.48     13.86  \n9      29.13     27.98  \n10     21.15     23.75  \n11     28.02     29.31  \n12     15.95     15.00  \n13     19.05     18.72  \n14     17.86     17.89  \n15     27.28     32.25  ",
      "text/html": "<div>\n<style scoped>\n    .dataframe tbody tr th:only-of-type {\n        vertical-align: middle;\n    }\n\n    .dataframe tbody tr th {\n        vertical-align: top;\n    }\n\n    .dataframe thead th {\n        text-align: right;\n    }\n</style>\n<table border=\"1\" class=\"dataframe\">\n  <thead>\n    <tr style=\"text-align: right;\">\n      <th></th>\n      <th>IdSensore</th>\n      <th>w1 y2013</th>\n      <th>w2 y2013</th>\n      <th>w3 y2013</th>\n      <th>w4 y2013</th>\n      <th>w5 y2013</th>\n      <th>w6 y2013</th>\n      <th>w7 y2013</th>\n      <th>w8 y2013</th>\n    </tr>\n  </thead>\n  <tbody>\n    <tr>\n      <th>0</th>\n      <td>5707</td>\n      <td>12.60</td>\n      <td>8.85</td>\n      <td>18.15</td>\n      <td>9.60</td>\n      <td>24.77</td>\n      <td>39.21</td>\n      <td>22.12</td>\n      <td>28.45</td>\n    </tr>\n    <tr>\n      <th>1</th>\n      <td>5708</td>\n      <td>5.86</td>\n      <td>5.74</td>\n      <td>8.34</td>\n      <td>8.66</td>\n      <td>18.53</td>\n      <td>27.94</td>\n      <td>13.99</td>\n      <td>12.22</td>\n    </tr>\n    <tr>\n      <th>2</th>\n      <td>5710</td>\n      <td>4.97</td>\n      <td>5.05</td>\n      <td>8.08</td>\n      <td>12.25</td>\n      <td>16.53</td>\n      <td>28.98</td>\n      <td>21.19</td>\n      <td>24.88</td>\n    </tr>\n    <tr>\n      <th>3</th>\n      <td>5711</td>\n      <td>4.03</td>\n      <td>5.12</td>\n      <td>7.39</td>\n      <td>6.28</td>\n      <td>14.46</td>\n      <td>20.33</td>\n      <td>13.31</td>\n      <td>13.37</td>\n    </tr>\n    <tr>\n      <th>4</th>\n      <td>5712</td>\n      <td>12.51</td>\n      <td>15.25</td>\n      <td>9.98</td>\n      <td>9.00</td>\n      <td>15.67</td>\n      <td>30.54</td>\n      <td>29.31</td>\n      <td>36.70</td>\n    </tr>\n    <tr>\n      <th>5</th>\n      <td>5714</td>\n      <td>16.64</td>\n      <td>14.00</td>\n      <td>16.29</td>\n      <td>15.07</td>\n      <td>22.21</td>\n      <td>33.58</td>\n      <td>29.71</td>\n      <td>29.20</td>\n    </tr>\n    <tr>\n      <th>6</th>\n      <td>5715</td>\n      <td>5.65</td>\n      <td>5.25</td>\n      <td>8.01</td>\n      <td>6.54</td>\n      <td>15.15</td>\n      <td>21.00</td>\n      <td>12.32</td>\n      <td>20.78</td>\n    </tr>\n    <tr>\n      <th>7</th>\n      <td>5718</td>\n      <td>5.42</td>\n      <td>5.27</td>\n      <td>8.85</td>\n      <td>6.46</td>\n      <td>15.30</td>\n      <td>47.96</td>\n      <td>17.48</td>\n      <td>18.28</td>\n    </tr>\n    <tr>\n      <th>8</th>\n      <td>5717</td>\n      <td>6.45</td>\n      <td>7.69</td>\n      <td>8.74</td>\n      <td>8.94</td>\n      <td>10.33</td>\n      <td>17.33</td>\n      <td>12.48</td>\n      <td>13.86</td>\n    </tr>\n    <tr>\n      <th>9</th>\n      <td>5721</td>\n      <td>16.62</td>\n      <td>13.39</td>\n      <td>16.75</td>\n      <td>14.75</td>\n      <td>23.35</td>\n      <td>35.47</td>\n      <td>29.13</td>\n      <td>27.98</td>\n    </tr>\n    <tr>\n      <th>10</th>\n      <td>5722</td>\n      <td>13.21</td>\n      <td>10.42</td>\n      <td>8.41</td>\n      <td>11.18</td>\n      <td>17.32</td>\n      <td>25.05</td>\n      <td>21.15</td>\n      <td>23.75</td>\n    </tr>\n    <tr>\n      <th>11</th>\n      <td>5724</td>\n      <td>9.80</td>\n      <td>7.44</td>\n      <td>11.82</td>\n      <td>12.74</td>\n      <td>17.30</td>\n      <td>31.37</td>\n      <td>28.02</td>\n      <td>29.31</td>\n    </tr>\n    <tr>\n      <th>12</th>\n      <td>5725</td>\n      <td>2.14</td>\n      <td>2.07</td>\n      <td>2.94</td>\n      <td>5.10</td>\n      <td>9.82</td>\n      <td>19.14</td>\n      <td>15.95</td>\n      <td>15.00</td>\n    </tr>\n    <tr>\n      <th>13</th>\n      <td>9900</td>\n      <td>7.43</td>\n      <td>7.44</td>\n      <td>8.67</td>\n      <td>9.37</td>\n      <td>11.27</td>\n      <td>22.30</td>\n      <td>19.05</td>\n      <td>18.72</td>\n    </tr>\n    <tr>\n      <th>14</th>\n      <td>10282</td>\n      <td>6.04</td>\n      <td>6.25</td>\n      <td>7.36</td>\n      <td>8.25</td>\n      <td>6.35</td>\n      <td>18.65</td>\n      <td>17.86</td>\n      <td>17.89</td>\n    </tr>\n    <tr>\n      <th>15</th>\n      <td>10350</td>\n      <td>18.10</td>\n      <td>15.58</td>\n      <td>21.46</td>\n      <td>16.94</td>\n      <td>25.87</td>\n      <td>37.90</td>\n      <td>27.28</td>\n      <td>32.25</td>\n    </tr>\n  </tbody>\n</table>\n</div>"
     },
     "execution_count": 52,
     "metadata": {},
     "output_type": "execute_result"
    }
   ],
   "source": [
    "ozone_real.head(16)"
   ],
   "metadata": {
    "collapsed": false,
    "ExecuteTime": {
     "end_time": "2024-05-27T11:21:46.701358800Z",
     "start_time": "2024-05-27T11:21:46.637050700Z"
    }
   },
   "id": "cd36c317ab1b8c29"
  },
  {
   "cell_type": "code",
   "execution_count": 21,
   "outputs": [
    {
     "data": {
      "text/plain": "    IdSensore   w1 y2013   w2 y2013   w3 y2013   w4 y2013   w5 y2013  \\\n0        5707  10.850058   9.665183  13.554810  11.196871  19.468684   \n1        5708   6.841238   6.438553   8.829794   9.859879  15.458188   \n2        5710   7.794787   7.026212   8.860125   9.341231  14.982837   \n3        5711   7.686945   7.431638   8.980916   9.693075  12.135988   \n4        5712  11.764878  13.799726   9.967905   9.298352  15.552682   \n5        5714   7.379787   6.850930   8.276356   8.748548  15.008833   \n6        5715   9.007628   7.232425  12.831941   8.443251  19.448298   \n7        5718   8.461023   7.752931   9.880725   9.512002  15.905412   \n8        5717  10.351744   8.489196  13.798245  10.128074  20.363953   \n9        5721  12.447002  10.561157  15.434282  12.082624  21.313557   \n10       5722   7.722581   7.338500   8.280127   9.219299  11.640956   \n11       5724   9.166574   7.669204   7.163859   9.315648  14.875979   \n12       5725   5.813741   6.032623   7.306336   8.265234   8.755658   \n13       9900  10.044860   9.003257  11.462175  10.568724  17.483671   \n14      10282   8.706388   7.907100   8.149367   9.453117  13.502209   \n15      10350   9.580502  10.515937   9.287462   9.260687  14.083887   \n\n     w6 y2013   w7 y2013   w8 y2013  \n0   32.651135  20.245158  24.537200  \n1   26.884092  19.251307  21.892096  \n2   26.545217  19.453932  20.291193  \n3   23.289697  19.696514  19.725655  \n4   29.762838  27.823850  34.088912  \n5   24.937549  17.205189  17.688315  \n6   37.767178  19.389045  23.117321  \n7   26.795486  19.567134  20.332981  \n8   34.515658  20.716708  23.948296  \n9   32.508096  22.203295  26.078401  \n10  22.269587  18.441777  19.403254  \n11  23.420984  19.084016  20.579516  \n12  20.095526  17.488263  17.848121  \n13  29.812519  21.430364  22.566229  \n14  24.069686  20.085641  21.583073  \n15  26.332853  22.742629  26.111000  ",
      "text/html": "<div>\n<style scoped>\n    .dataframe tbody tr th:only-of-type {\n        vertical-align: middle;\n    }\n\n    .dataframe tbody tr th {\n        vertical-align: top;\n    }\n\n    .dataframe thead th {\n        text-align: right;\n    }\n</style>\n<table border=\"1\" class=\"dataframe\">\n  <thead>\n    <tr style=\"text-align: right;\">\n      <th></th>\n      <th>IdSensore</th>\n      <th>w1 y2013</th>\n      <th>w2 y2013</th>\n      <th>w3 y2013</th>\n      <th>w4 y2013</th>\n      <th>w5 y2013</th>\n      <th>w6 y2013</th>\n      <th>w7 y2013</th>\n      <th>w8 y2013</th>\n    </tr>\n  </thead>\n  <tbody>\n    <tr>\n      <th>0</th>\n      <td>5707</td>\n      <td>10.850058</td>\n      <td>9.665183</td>\n      <td>13.554810</td>\n      <td>11.196871</td>\n      <td>19.468684</td>\n      <td>32.651135</td>\n      <td>20.245158</td>\n      <td>24.537200</td>\n    </tr>\n    <tr>\n      <th>1</th>\n      <td>5708</td>\n      <td>6.841238</td>\n      <td>6.438553</td>\n      <td>8.829794</td>\n      <td>9.859879</td>\n      <td>15.458188</td>\n      <td>26.884092</td>\n      <td>19.251307</td>\n      <td>21.892096</td>\n    </tr>\n    <tr>\n      <th>2</th>\n      <td>5710</td>\n      <td>7.794787</td>\n      <td>7.026212</td>\n      <td>8.860125</td>\n      <td>9.341231</td>\n      <td>14.982837</td>\n      <td>26.545217</td>\n      <td>19.453932</td>\n      <td>20.291193</td>\n    </tr>\n    <tr>\n      <th>3</th>\n      <td>5711</td>\n      <td>7.686945</td>\n      <td>7.431638</td>\n      <td>8.980916</td>\n      <td>9.693075</td>\n      <td>12.135988</td>\n      <td>23.289697</td>\n      <td>19.696514</td>\n      <td>19.725655</td>\n    </tr>\n    <tr>\n      <th>4</th>\n      <td>5712</td>\n      <td>11.764878</td>\n      <td>13.799726</td>\n      <td>9.967905</td>\n      <td>9.298352</td>\n      <td>15.552682</td>\n      <td>29.762838</td>\n      <td>27.823850</td>\n      <td>34.088912</td>\n    </tr>\n    <tr>\n      <th>5</th>\n      <td>5714</td>\n      <td>7.379787</td>\n      <td>6.850930</td>\n      <td>8.276356</td>\n      <td>8.748548</td>\n      <td>15.008833</td>\n      <td>24.937549</td>\n      <td>17.205189</td>\n      <td>17.688315</td>\n    </tr>\n    <tr>\n      <th>6</th>\n      <td>5715</td>\n      <td>9.007628</td>\n      <td>7.232425</td>\n      <td>12.831941</td>\n      <td>8.443251</td>\n      <td>19.448298</td>\n      <td>37.767178</td>\n      <td>19.389045</td>\n      <td>23.117321</td>\n    </tr>\n    <tr>\n      <th>7</th>\n      <td>5718</td>\n      <td>8.461023</td>\n      <td>7.752931</td>\n      <td>9.880725</td>\n      <td>9.512002</td>\n      <td>15.905412</td>\n      <td>26.795486</td>\n      <td>19.567134</td>\n      <td>20.332981</td>\n    </tr>\n    <tr>\n      <th>8</th>\n      <td>5717</td>\n      <td>10.351744</td>\n      <td>8.489196</td>\n      <td>13.798245</td>\n      <td>10.128074</td>\n      <td>20.363953</td>\n      <td>34.515658</td>\n      <td>20.716708</td>\n      <td>23.948296</td>\n    </tr>\n    <tr>\n      <th>9</th>\n      <td>5721</td>\n      <td>12.447002</td>\n      <td>10.561157</td>\n      <td>15.434282</td>\n      <td>12.082624</td>\n      <td>21.313557</td>\n      <td>32.508096</td>\n      <td>22.203295</td>\n      <td>26.078401</td>\n    </tr>\n    <tr>\n      <th>10</th>\n      <td>5722</td>\n      <td>7.722581</td>\n      <td>7.338500</td>\n      <td>8.280127</td>\n      <td>9.219299</td>\n      <td>11.640956</td>\n      <td>22.269587</td>\n      <td>18.441777</td>\n      <td>19.403254</td>\n    </tr>\n    <tr>\n      <th>11</th>\n      <td>5724</td>\n      <td>9.166574</td>\n      <td>7.669204</td>\n      <td>7.163859</td>\n      <td>9.315648</td>\n      <td>14.875979</td>\n      <td>23.420984</td>\n      <td>19.084016</td>\n      <td>20.579516</td>\n    </tr>\n    <tr>\n      <th>12</th>\n      <td>5725</td>\n      <td>5.813741</td>\n      <td>6.032623</td>\n      <td>7.306336</td>\n      <td>8.265234</td>\n      <td>8.755658</td>\n      <td>20.095526</td>\n      <td>17.488263</td>\n      <td>17.848121</td>\n    </tr>\n    <tr>\n      <th>13</th>\n      <td>9900</td>\n      <td>10.044860</td>\n      <td>9.003257</td>\n      <td>11.462175</td>\n      <td>10.568724</td>\n      <td>17.483671</td>\n      <td>29.812519</td>\n      <td>21.430364</td>\n      <td>22.566229</td>\n    </tr>\n    <tr>\n      <th>14</th>\n      <td>10282</td>\n      <td>8.706388</td>\n      <td>7.907100</td>\n      <td>8.149367</td>\n      <td>9.453117</td>\n      <td>13.502209</td>\n      <td>24.069686</td>\n      <td>20.085641</td>\n      <td>21.583073</td>\n    </tr>\n    <tr>\n      <th>15</th>\n      <td>10350</td>\n      <td>9.580502</td>\n      <td>10.515937</td>\n      <td>9.287462</td>\n      <td>9.260687</td>\n      <td>14.083887</td>\n      <td>26.332853</td>\n      <td>22.742629</td>\n      <td>26.111000</td>\n    </tr>\n  </tbody>\n</table>\n</div>"
     },
     "execution_count": 21,
     "metadata": {},
     "output_type": "execute_result"
    }
   ],
   "source": [
    "ozone_interpolated.head(17)"
   ],
   "metadata": {
    "collapsed": false,
    "ExecuteTime": {
     "end_time": "2024-05-25T22:58:39.040906500Z",
     "start_time": "2024-05-25T22:58:39.016435300Z"
    }
   },
   "id": "c6ccf1d3a82a9586"
  },
  {
   "cell_type": "code",
   "execution_count": 34,
   "outputs": [
    {
     "data": {
      "text/plain": "array([12.6 ,  8.85, 18.15,  9.6 , 24.77, 39.21, 22.12, 28.45])"
     },
     "execution_count": 34,
     "metadata": {},
     "output_type": "execute_result"
    }
   ],
   "source": [
    "ozone_real.iloc[i,1:].values"
   ],
   "metadata": {
    "collapsed": false,
    "ExecuteTime": {
     "end_time": "2024-05-25T23:05:04.314624500Z",
     "start_time": "2024-05-25T23:05:04.307144600Z"
    }
   },
   "id": "e38fb075588db7f4"
  },
  {
   "cell_type": "code",
   "execution_count": 63,
   "outputs": [],
   "source": [
    "# Compute mean squared error\n",
    "from sklearn.metrics import mean_squared_error\n",
    "from sklearn.metrics import mean_absolute_error\n",
    "mse_sensors=list()\n",
    "mae_sensors=list()\n",
    "real_mean = list()\n",
    "perc_err = list()\n",
    "for i in range(0,16):\n",
    "    real = ozone_real.iloc[i,1:].mean()\n",
    "    mse = mean_squared_error(ozone_real.iloc[i,1:].values, ozone_interpolated.iloc[i,1:].values)\n",
    "    mae = mean_absolute_error(ozone_real.iloc[i,1:].values, ozone_interpolated.iloc[i,1:].values)\n",
    "    perc = (mae/real)\n",
    "    mse_sensors.append(mse)\n",
    "    mae_sensors.append(mae)\n",
    "    real_mean.append(real)\n",
    "    perc_err.append(perc)\n"
   ],
   "metadata": {
    "collapsed": false,
    "ExecuteTime": {
     "end_time": "2024-05-27T11:46:42.679609700Z",
     "start_time": "2024-05-27T11:46:42.635175500Z"
    }
   },
   "id": "63dba100f9080fd8"
  },
  {
   "cell_type": "code",
   "execution_count": 64,
   "outputs": [
    {
     "data": {
      "text/plain": "    IdSensore        MSE       MAE  RealMean  PercError\n0      5707.0  14.667536  3.300626  20.46875   0.161252\n1      5708.0  16.864022  2.803823  12.66000   0.221471\n2      5710.0   6.668416  2.349589  15.24125   0.154160\n3      5711.0  16.029970  3.624806  10.53625   0.344032\n4      5712.0   1.548979  0.937195  19.87000   0.047166\n5      5714.0  82.059743  8.825562  22.08750   0.399573\n6      5715.0  49.640656  5.317136  11.83750   0.449177\n7      5718.0  60.332990  4.439590  15.62750   0.284088\n8      5717.0  76.062976  7.061484  10.72750   0.658260\n9      5721.0  12.347196  3.101448  22.18000   0.139831\n10     5722.0  13.709942  3.271740  16.31125   0.200582\n11     5724.0  32.374437  4.622829  18.47500   0.250221\n12     5725.0   8.850781  2.696773   9.02000   0.298977\n13     9900.0  16.752713  3.515225  13.03125   0.269753\n14    10282.0  13.880694  3.100823  11.08125   0.279826\n15    10350.0  79.544440  8.433130  24.42250   0.345302",
      "text/html": "<div>\n<style scoped>\n    .dataframe tbody tr th:only-of-type {\n        vertical-align: middle;\n    }\n\n    .dataframe tbody tr th {\n        vertical-align: top;\n    }\n\n    .dataframe thead th {\n        text-align: right;\n    }\n</style>\n<table border=\"1\" class=\"dataframe\">\n  <thead>\n    <tr style=\"text-align: right;\">\n      <th></th>\n      <th>IdSensore</th>\n      <th>MSE</th>\n      <th>MAE</th>\n      <th>RealMean</th>\n      <th>PercError</th>\n    </tr>\n  </thead>\n  <tbody>\n    <tr>\n      <th>0</th>\n      <td>5707.0</td>\n      <td>14.667536</td>\n      <td>3.300626</td>\n      <td>20.46875</td>\n      <td>0.161252</td>\n    </tr>\n    <tr>\n      <th>1</th>\n      <td>5708.0</td>\n      <td>16.864022</td>\n      <td>2.803823</td>\n      <td>12.66000</td>\n      <td>0.221471</td>\n    </tr>\n    <tr>\n      <th>2</th>\n      <td>5710.0</td>\n      <td>6.668416</td>\n      <td>2.349589</td>\n      <td>15.24125</td>\n      <td>0.154160</td>\n    </tr>\n    <tr>\n      <th>3</th>\n      <td>5711.0</td>\n      <td>16.029970</td>\n      <td>3.624806</td>\n      <td>10.53625</td>\n      <td>0.344032</td>\n    </tr>\n    <tr>\n      <th>4</th>\n      <td>5712.0</td>\n      <td>1.548979</td>\n      <td>0.937195</td>\n      <td>19.87000</td>\n      <td>0.047166</td>\n    </tr>\n    <tr>\n      <th>5</th>\n      <td>5714.0</td>\n      <td>82.059743</td>\n      <td>8.825562</td>\n      <td>22.08750</td>\n      <td>0.399573</td>\n    </tr>\n    <tr>\n      <th>6</th>\n      <td>5715.0</td>\n      <td>49.640656</td>\n      <td>5.317136</td>\n      <td>11.83750</td>\n      <td>0.449177</td>\n    </tr>\n    <tr>\n      <th>7</th>\n      <td>5718.0</td>\n      <td>60.332990</td>\n      <td>4.439590</td>\n      <td>15.62750</td>\n      <td>0.284088</td>\n    </tr>\n    <tr>\n      <th>8</th>\n      <td>5717.0</td>\n      <td>76.062976</td>\n      <td>7.061484</td>\n      <td>10.72750</td>\n      <td>0.658260</td>\n    </tr>\n    <tr>\n      <th>9</th>\n      <td>5721.0</td>\n      <td>12.347196</td>\n      <td>3.101448</td>\n      <td>22.18000</td>\n      <td>0.139831</td>\n    </tr>\n    <tr>\n      <th>10</th>\n      <td>5722.0</td>\n      <td>13.709942</td>\n      <td>3.271740</td>\n      <td>16.31125</td>\n      <td>0.200582</td>\n    </tr>\n    <tr>\n      <th>11</th>\n      <td>5724.0</td>\n      <td>32.374437</td>\n      <td>4.622829</td>\n      <td>18.47500</td>\n      <td>0.250221</td>\n    </tr>\n    <tr>\n      <th>12</th>\n      <td>5725.0</td>\n      <td>8.850781</td>\n      <td>2.696773</td>\n      <td>9.02000</td>\n      <td>0.298977</td>\n    </tr>\n    <tr>\n      <th>13</th>\n      <td>9900.0</td>\n      <td>16.752713</td>\n      <td>3.515225</td>\n      <td>13.03125</td>\n      <td>0.269753</td>\n    </tr>\n    <tr>\n      <th>14</th>\n      <td>10282.0</td>\n      <td>13.880694</td>\n      <td>3.100823</td>\n      <td>11.08125</td>\n      <td>0.279826</td>\n    </tr>\n    <tr>\n      <th>15</th>\n      <td>10350.0</td>\n      <td>79.544440</td>\n      <td>8.433130</td>\n      <td>24.42250</td>\n      <td>0.345302</td>\n    </tr>\n  </tbody>\n</table>\n</div>"
     },
     "execution_count": 64,
     "metadata": {},
     "output_type": "execute_result"
    }
   ],
   "source": [
    "out = pd.DataFrame()\n",
    "\n",
    "for i in range(0,16):\n",
    "    out.loc[i,'IdSensore'] = ozone_interpolated.loc[i,'IdSensore']\n",
    "    out.loc[i,'MSE'] = mse_sensors[i]\n",
    "    out.loc[i,'MAE'] = mae_sensors[i]\n",
    "    out.loc[i,'RealMean'] = real_mean[i]\n",
    "    out.loc[i,'PercError'] = perc_err[i]\n",
    "\n",
    "out.head(16)"
   ],
   "metadata": {
    "collapsed": false,
    "ExecuteTime": {
     "end_time": "2024-05-27T11:46:52.140312800Z",
     "start_time": "2024-05-27T11:46:52.092857800Z"
    }
   },
   "id": "ff868443ea1a3c10"
  },
  {
   "cell_type": "code",
   "execution_count": 65,
   "outputs": [],
   "source": [
    "out.to_csv('Validation_interpolation/out.csv', index=False)"
   ],
   "metadata": {
    "collapsed": false,
    "ExecuteTime": {
     "end_time": "2024-05-27T11:47:11.559538800Z",
     "start_time": "2024-05-27T11:47:11.552192Z"
    }
   },
   "id": "bbe322a693f70522"
  }
 ],
 "metadata": {
  "kernelspec": {
   "display_name": "Python 3",
   "language": "python",
   "name": "python3"
  },
  "language_info": {
   "codemirror_mode": {
    "name": "ipython",
    "version": 2
   },
   "file_extension": ".py",
   "mimetype": "text/x-python",
   "name": "python",
   "nbconvert_exporter": "python",
   "pygments_lexer": "ipython2",
   "version": "2.7.6"
  }
 },
 "nbformat": 4,
 "nbformat_minor": 5
}
