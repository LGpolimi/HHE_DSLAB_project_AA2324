{
 "cells": [
  {
   "cell_type": "code",
   "execution_count": 2,
   "id": "initial_id",
   "metadata": {
    "collapsed": true,
    "ExecuteTime": {
     "end_time": "2024-05-19T11:46:28.493094400Z",
     "start_time": "2024-05-19T11:46:28.476552900Z"
    }
   },
   "outputs": [],
   "source": [
    "import pandas as pd\n",
    "import numpy as np\n",
    "import matplotlib.pyplot as plt\n",
    "import seaborn as sns\n",
    "\n"
   ]
  },
  {
   "cell_type": "code",
   "execution_count": 3,
   "outputs": [],
   "source": [
    "def format_column_name(col_name):\n",
    "    if 'Week' in col_name and 'Year' in col_name:\n",
    "        week_num = col_name.split(' ')[1]\n",
    "        year_num = col_name.split(' ')[3]\n",
    "        return f\"w{week_num} y{year_num}\"\n",
    "    return col_name\n"
   ],
   "metadata": {
    "collapsed": false,
    "ExecuteTime": {
     "end_time": "2024-05-19T11:46:28.919734500Z",
     "start_time": "2024-05-19T11:46:28.900984Z"
    }
   },
   "id": "ea37905b062205bb"
  },
  {
   "cell_type": "markdown",
   "source": [
    "# Biossido di azoto"
   ],
   "metadata": {
    "collapsed": false
   },
   "id": "c70f7c739a6c8a49"
  },
  {
   "cell_type": "code",
   "execution_count": 145,
   "outputs": [
    {
     "data": {
      "text/plain": "   Unnamed: 0  IdSensore  Week 1 Year 2013  Week 2 Year 2013  \\\n0           0     5504.0             99.15             69.36   \n1           1     5506.0             86.96             65.20   \n2           2     5507.0             93.04             80.90   \n3           3     5508.0             69.17             53.50   \n4           4     5511.0             56.34             42.19   \n\n   Week 3 Year 2013  Week 4 Year 2013  Week 5 Year 2013  Week 6 Year 2013  \\\n0             88.24             94.66             76.28             77.14   \n1             76.64             81.33             70.78             69.44   \n2             64.80             68.00             58.59             77.16   \n3             60.77             67.32             63.61             57.76   \n4             58.71             57.54             56.72             55.67   \n\n   Week 7 Year 2013  Week 8 Year 2013  ...  Week 44 Year 2016  \\\n0            104.79             77.82  ...              77.16   \n1            102.13             76.28  ...              52.64   \n2            103.05             72.50  ...              38.61   \n3             76.15             75.34  ...              38.11   \n4             78.63             46.29  ...              35.52   \n\n   Week 45 Year 2016  Week 46 Year 2016  Week 47 Year 2016  Week 48 Year 2016  \\\n0              76.22              79.60              78.49              64.93   \n1              54.59              53.00              51.37              54.60   \n2              47.42              41.69              38.24              42.91   \n3              45.74              48.60              39.10              42.59   \n4              39.85              43.13              27.42              36.10   \n\n   Week 49 Year 2016  Week 50 Year 2016  Week 51 Year 2016  Week 52 Year 2016  \\\n0              76.02              76.05              74.94              83.10   \n1              62.74              55.11              53.86              55.38   \n2              55.56              63.29              59.46              57.72   \n3              52.30              56.27              53.82              56.32   \n4              42.95              48.69              37.65              41.31   \n\n   Week 53 Year 2016  \n0              72.43  \n1              51.39  \n2              54.94  \n3              50.73  \n4              42.88  \n\n[5 rows x 214 columns]",
      "text/html": "<div>\n<style scoped>\n    .dataframe tbody tr th:only-of-type {\n        vertical-align: middle;\n    }\n\n    .dataframe tbody tr th {\n        vertical-align: top;\n    }\n\n    .dataframe thead th {\n        text-align: right;\n    }\n</style>\n<table border=\"1\" class=\"dataframe\">\n  <thead>\n    <tr style=\"text-align: right;\">\n      <th></th>\n      <th>Unnamed: 0</th>\n      <th>IdSensore</th>\n      <th>Week 1 Year 2013</th>\n      <th>Week 2 Year 2013</th>\n      <th>Week 3 Year 2013</th>\n      <th>Week 4 Year 2013</th>\n      <th>Week 5 Year 2013</th>\n      <th>Week 6 Year 2013</th>\n      <th>Week 7 Year 2013</th>\n      <th>Week 8 Year 2013</th>\n      <th>...</th>\n      <th>Week 44 Year 2016</th>\n      <th>Week 45 Year 2016</th>\n      <th>Week 46 Year 2016</th>\n      <th>Week 47 Year 2016</th>\n      <th>Week 48 Year 2016</th>\n      <th>Week 49 Year 2016</th>\n      <th>Week 50 Year 2016</th>\n      <th>Week 51 Year 2016</th>\n      <th>Week 52 Year 2016</th>\n      <th>Week 53 Year 2016</th>\n    </tr>\n  </thead>\n  <tbody>\n    <tr>\n      <th>0</th>\n      <td>0</td>\n      <td>5504.0</td>\n      <td>99.15</td>\n      <td>69.36</td>\n      <td>88.24</td>\n      <td>94.66</td>\n      <td>76.28</td>\n      <td>77.14</td>\n      <td>104.79</td>\n      <td>77.82</td>\n      <td>...</td>\n      <td>77.16</td>\n      <td>76.22</td>\n      <td>79.60</td>\n      <td>78.49</td>\n      <td>64.93</td>\n      <td>76.02</td>\n      <td>76.05</td>\n      <td>74.94</td>\n      <td>83.10</td>\n      <td>72.43</td>\n    </tr>\n    <tr>\n      <th>1</th>\n      <td>1</td>\n      <td>5506.0</td>\n      <td>86.96</td>\n      <td>65.20</td>\n      <td>76.64</td>\n      <td>81.33</td>\n      <td>70.78</td>\n      <td>69.44</td>\n      <td>102.13</td>\n      <td>76.28</td>\n      <td>...</td>\n      <td>52.64</td>\n      <td>54.59</td>\n      <td>53.00</td>\n      <td>51.37</td>\n      <td>54.60</td>\n      <td>62.74</td>\n      <td>55.11</td>\n      <td>53.86</td>\n      <td>55.38</td>\n      <td>51.39</td>\n    </tr>\n    <tr>\n      <th>2</th>\n      <td>2</td>\n      <td>5507.0</td>\n      <td>93.04</td>\n      <td>80.90</td>\n      <td>64.80</td>\n      <td>68.00</td>\n      <td>58.59</td>\n      <td>77.16</td>\n      <td>103.05</td>\n      <td>72.50</td>\n      <td>...</td>\n      <td>38.61</td>\n      <td>47.42</td>\n      <td>41.69</td>\n      <td>38.24</td>\n      <td>42.91</td>\n      <td>55.56</td>\n      <td>63.29</td>\n      <td>59.46</td>\n      <td>57.72</td>\n      <td>54.94</td>\n    </tr>\n    <tr>\n      <th>3</th>\n      <td>3</td>\n      <td>5508.0</td>\n      <td>69.17</td>\n      <td>53.50</td>\n      <td>60.77</td>\n      <td>67.32</td>\n      <td>63.61</td>\n      <td>57.76</td>\n      <td>76.15</td>\n      <td>75.34</td>\n      <td>...</td>\n      <td>38.11</td>\n      <td>45.74</td>\n      <td>48.60</td>\n      <td>39.10</td>\n      <td>42.59</td>\n      <td>52.30</td>\n      <td>56.27</td>\n      <td>53.82</td>\n      <td>56.32</td>\n      <td>50.73</td>\n    </tr>\n    <tr>\n      <th>4</th>\n      <td>4</td>\n      <td>5511.0</td>\n      <td>56.34</td>\n      <td>42.19</td>\n      <td>58.71</td>\n      <td>57.54</td>\n      <td>56.72</td>\n      <td>55.67</td>\n      <td>78.63</td>\n      <td>46.29</td>\n      <td>...</td>\n      <td>35.52</td>\n      <td>39.85</td>\n      <td>43.13</td>\n      <td>27.42</td>\n      <td>36.10</td>\n      <td>42.95</td>\n      <td>48.69</td>\n      <td>37.65</td>\n      <td>41.31</td>\n      <td>42.88</td>\n    </tr>\n  </tbody>\n</table>\n<p>5 rows × 214 columns</p>\n</div>"
     },
     "execution_count": 145,
     "metadata": {},
     "output_type": "execute_result"
    }
   ],
   "source": [
    "means_biossido_di_azoto_imputed = pd.read_csv('Air_quality_data/means_biossido_di_azoto_imputed.csv')\n",
    "means_biossido_di_azoto_imputed.head()"
   ],
   "metadata": {
    "collapsed": false,
    "ExecuteTime": {
     "end_time": "2024-05-18T18:48:33.390808500Z",
     "start_time": "2024-05-18T18:48:33.123349500Z"
    }
   },
   "id": "45c998fd595d399e"
  },
  {
   "cell_type": "code",
   "execution_count": 146,
   "outputs": [
    {
     "data": {
      "text/plain": "   Unnamed: 0  IdSensore  w1 y2013  w2 y2013  w3 y2013  w4 y2013  w5 y2013  \\\n0           0     5504.0     99.15     69.36     88.24     94.66     76.28   \n1           1     5506.0     86.96     65.20     76.64     81.33     70.78   \n2           2     5507.0     93.04     80.90     64.80     68.00     58.59   \n3           3     5508.0     69.17     53.50     60.77     67.32     63.61   \n4           4     5511.0     56.34     42.19     58.71     57.54     56.72   \n\n   w6 y2013  w7 y2013  w8 y2013  ...  w44 y2016  w45 y2016  w46 y2016  \\\n0     77.14    104.79     77.82  ...      77.16      76.22      79.60   \n1     69.44    102.13     76.28  ...      52.64      54.59      53.00   \n2     77.16    103.05     72.50  ...      38.61      47.42      41.69   \n3     57.76     76.15     75.34  ...      38.11      45.74      48.60   \n4     55.67     78.63     46.29  ...      35.52      39.85      43.13   \n\n   w47 y2016  w48 y2016  w49 y2016  w50 y2016  w51 y2016  w52 y2016  w53 y2016  \n0      78.49      64.93      76.02      76.05      74.94      83.10      72.43  \n1      51.37      54.60      62.74      55.11      53.86      55.38      51.39  \n2      38.24      42.91      55.56      63.29      59.46      57.72      54.94  \n3      39.10      42.59      52.30      56.27      53.82      56.32      50.73  \n4      27.42      36.10      42.95      48.69      37.65      41.31      42.88  \n\n[5 rows x 214 columns]",
      "text/html": "<div>\n<style scoped>\n    .dataframe tbody tr th:only-of-type {\n        vertical-align: middle;\n    }\n\n    .dataframe tbody tr th {\n        vertical-align: top;\n    }\n\n    .dataframe thead th {\n        text-align: right;\n    }\n</style>\n<table border=\"1\" class=\"dataframe\">\n  <thead>\n    <tr style=\"text-align: right;\">\n      <th></th>\n      <th>Unnamed: 0</th>\n      <th>IdSensore</th>\n      <th>w1 y2013</th>\n      <th>w2 y2013</th>\n      <th>w3 y2013</th>\n      <th>w4 y2013</th>\n      <th>w5 y2013</th>\n      <th>w6 y2013</th>\n      <th>w7 y2013</th>\n      <th>w8 y2013</th>\n      <th>...</th>\n      <th>w44 y2016</th>\n      <th>w45 y2016</th>\n      <th>w46 y2016</th>\n      <th>w47 y2016</th>\n      <th>w48 y2016</th>\n      <th>w49 y2016</th>\n      <th>w50 y2016</th>\n      <th>w51 y2016</th>\n      <th>w52 y2016</th>\n      <th>w53 y2016</th>\n    </tr>\n  </thead>\n  <tbody>\n    <tr>\n      <th>0</th>\n      <td>0</td>\n      <td>5504.0</td>\n      <td>99.15</td>\n      <td>69.36</td>\n      <td>88.24</td>\n      <td>94.66</td>\n      <td>76.28</td>\n      <td>77.14</td>\n      <td>104.79</td>\n      <td>77.82</td>\n      <td>...</td>\n      <td>77.16</td>\n      <td>76.22</td>\n      <td>79.60</td>\n      <td>78.49</td>\n      <td>64.93</td>\n      <td>76.02</td>\n      <td>76.05</td>\n      <td>74.94</td>\n      <td>83.10</td>\n      <td>72.43</td>\n    </tr>\n    <tr>\n      <th>1</th>\n      <td>1</td>\n      <td>5506.0</td>\n      <td>86.96</td>\n      <td>65.20</td>\n      <td>76.64</td>\n      <td>81.33</td>\n      <td>70.78</td>\n      <td>69.44</td>\n      <td>102.13</td>\n      <td>76.28</td>\n      <td>...</td>\n      <td>52.64</td>\n      <td>54.59</td>\n      <td>53.00</td>\n      <td>51.37</td>\n      <td>54.60</td>\n      <td>62.74</td>\n      <td>55.11</td>\n      <td>53.86</td>\n      <td>55.38</td>\n      <td>51.39</td>\n    </tr>\n    <tr>\n      <th>2</th>\n      <td>2</td>\n      <td>5507.0</td>\n      <td>93.04</td>\n      <td>80.90</td>\n      <td>64.80</td>\n      <td>68.00</td>\n      <td>58.59</td>\n      <td>77.16</td>\n      <td>103.05</td>\n      <td>72.50</td>\n      <td>...</td>\n      <td>38.61</td>\n      <td>47.42</td>\n      <td>41.69</td>\n      <td>38.24</td>\n      <td>42.91</td>\n      <td>55.56</td>\n      <td>63.29</td>\n      <td>59.46</td>\n      <td>57.72</td>\n      <td>54.94</td>\n    </tr>\n    <tr>\n      <th>3</th>\n      <td>3</td>\n      <td>5508.0</td>\n      <td>69.17</td>\n      <td>53.50</td>\n      <td>60.77</td>\n      <td>67.32</td>\n      <td>63.61</td>\n      <td>57.76</td>\n      <td>76.15</td>\n      <td>75.34</td>\n      <td>...</td>\n      <td>38.11</td>\n      <td>45.74</td>\n      <td>48.60</td>\n      <td>39.10</td>\n      <td>42.59</td>\n      <td>52.30</td>\n      <td>56.27</td>\n      <td>53.82</td>\n      <td>56.32</td>\n      <td>50.73</td>\n    </tr>\n    <tr>\n      <th>4</th>\n      <td>4</td>\n      <td>5511.0</td>\n      <td>56.34</td>\n      <td>42.19</td>\n      <td>58.71</td>\n      <td>57.54</td>\n      <td>56.72</td>\n      <td>55.67</td>\n      <td>78.63</td>\n      <td>46.29</td>\n      <td>...</td>\n      <td>35.52</td>\n      <td>39.85</td>\n      <td>43.13</td>\n      <td>27.42</td>\n      <td>36.10</td>\n      <td>42.95</td>\n      <td>48.69</td>\n      <td>37.65</td>\n      <td>41.31</td>\n      <td>42.88</td>\n    </tr>\n  </tbody>\n</table>\n<p>5 rows × 214 columns</p>\n</div>"
     },
     "execution_count": 146,
     "metadata": {},
     "output_type": "execute_result"
    }
   ],
   "source": [
    "means_biossido_di_azoto_imputed.rename(columns=format_column_name, inplace=True)\n",
    "means_biossido_di_azoto_imputed.head()"
   ],
   "metadata": {
    "collapsed": false,
    "ExecuteTime": {
     "end_time": "2024-05-18T18:48:33.390808500Z",
     "start_time": "2024-05-18T18:48:33.152058500Z"
    }
   },
   "id": "12329c234a72e608"
  },
  {
   "cell_type": "code",
   "execution_count": 147,
   "outputs": [
    {
     "data": {
      "text/plain": "   IdSensore  w1 y2013  w2 y2013  w3 y2013  w4 y2013  w5 y2013  w6 y2013  \\\n0     5504.0     99.15     69.36     88.24     94.66     76.28     77.14   \n1     5506.0     86.96     65.20     76.64     81.33     70.78     69.44   \n2     5507.0     93.04     80.90     64.80     68.00     58.59     77.16   \n3     5508.0     69.17     53.50     60.77     67.32     63.61     57.76   \n4     5511.0     56.34     42.19     58.71     57.54     56.72     55.67   \n\n   w7 y2013  w8 y2013  w9 y2013  ...  w44 y2016  w45 y2016  w46 y2016  \\\n0    104.79     77.82     85.39  ...      77.16      76.22      79.60   \n1    102.13     76.28     90.06  ...      52.64      54.59      53.00   \n2    103.05     72.50     89.91  ...      38.61      47.42      41.69   \n3     76.15     75.34     81.12  ...      38.11      45.74      48.60   \n4     78.63     46.29     41.31  ...      35.52      39.85      43.13   \n\n   w47 y2016  w48 y2016  w49 y2016  w50 y2016  w51 y2016  w52 y2016  w53 y2016  \n0      78.49      64.93      76.02      76.05      74.94      83.10      72.43  \n1      51.37      54.60      62.74      55.11      53.86      55.38      51.39  \n2      38.24      42.91      55.56      63.29      59.46      57.72      54.94  \n3      39.10      42.59      52.30      56.27      53.82      56.32      50.73  \n4      27.42      36.10      42.95      48.69      37.65      41.31      42.88  \n\n[5 rows x 213 columns]",
      "text/html": "<div>\n<style scoped>\n    .dataframe tbody tr th:only-of-type {\n        vertical-align: middle;\n    }\n\n    .dataframe tbody tr th {\n        vertical-align: top;\n    }\n\n    .dataframe thead th {\n        text-align: right;\n    }\n</style>\n<table border=\"1\" class=\"dataframe\">\n  <thead>\n    <tr style=\"text-align: right;\">\n      <th></th>\n      <th>IdSensore</th>\n      <th>w1 y2013</th>\n      <th>w2 y2013</th>\n      <th>w3 y2013</th>\n      <th>w4 y2013</th>\n      <th>w5 y2013</th>\n      <th>w6 y2013</th>\n      <th>w7 y2013</th>\n      <th>w8 y2013</th>\n      <th>w9 y2013</th>\n      <th>...</th>\n      <th>w44 y2016</th>\n      <th>w45 y2016</th>\n      <th>w46 y2016</th>\n      <th>w47 y2016</th>\n      <th>w48 y2016</th>\n      <th>w49 y2016</th>\n      <th>w50 y2016</th>\n      <th>w51 y2016</th>\n      <th>w52 y2016</th>\n      <th>w53 y2016</th>\n    </tr>\n  </thead>\n  <tbody>\n    <tr>\n      <th>0</th>\n      <td>5504.0</td>\n      <td>99.15</td>\n      <td>69.36</td>\n      <td>88.24</td>\n      <td>94.66</td>\n      <td>76.28</td>\n      <td>77.14</td>\n      <td>104.79</td>\n      <td>77.82</td>\n      <td>85.39</td>\n      <td>...</td>\n      <td>77.16</td>\n      <td>76.22</td>\n      <td>79.60</td>\n      <td>78.49</td>\n      <td>64.93</td>\n      <td>76.02</td>\n      <td>76.05</td>\n      <td>74.94</td>\n      <td>83.10</td>\n      <td>72.43</td>\n    </tr>\n    <tr>\n      <th>1</th>\n      <td>5506.0</td>\n      <td>86.96</td>\n      <td>65.20</td>\n      <td>76.64</td>\n      <td>81.33</td>\n      <td>70.78</td>\n      <td>69.44</td>\n      <td>102.13</td>\n      <td>76.28</td>\n      <td>90.06</td>\n      <td>...</td>\n      <td>52.64</td>\n      <td>54.59</td>\n      <td>53.00</td>\n      <td>51.37</td>\n      <td>54.60</td>\n      <td>62.74</td>\n      <td>55.11</td>\n      <td>53.86</td>\n      <td>55.38</td>\n      <td>51.39</td>\n    </tr>\n    <tr>\n      <th>2</th>\n      <td>5507.0</td>\n      <td>93.04</td>\n      <td>80.90</td>\n      <td>64.80</td>\n      <td>68.00</td>\n      <td>58.59</td>\n      <td>77.16</td>\n      <td>103.05</td>\n      <td>72.50</td>\n      <td>89.91</td>\n      <td>...</td>\n      <td>38.61</td>\n      <td>47.42</td>\n      <td>41.69</td>\n      <td>38.24</td>\n      <td>42.91</td>\n      <td>55.56</td>\n      <td>63.29</td>\n      <td>59.46</td>\n      <td>57.72</td>\n      <td>54.94</td>\n    </tr>\n    <tr>\n      <th>3</th>\n      <td>5508.0</td>\n      <td>69.17</td>\n      <td>53.50</td>\n      <td>60.77</td>\n      <td>67.32</td>\n      <td>63.61</td>\n      <td>57.76</td>\n      <td>76.15</td>\n      <td>75.34</td>\n      <td>81.12</td>\n      <td>...</td>\n      <td>38.11</td>\n      <td>45.74</td>\n      <td>48.60</td>\n      <td>39.10</td>\n      <td>42.59</td>\n      <td>52.30</td>\n      <td>56.27</td>\n      <td>53.82</td>\n      <td>56.32</td>\n      <td>50.73</td>\n    </tr>\n    <tr>\n      <th>4</th>\n      <td>5511.0</td>\n      <td>56.34</td>\n      <td>42.19</td>\n      <td>58.71</td>\n      <td>57.54</td>\n      <td>56.72</td>\n      <td>55.67</td>\n      <td>78.63</td>\n      <td>46.29</td>\n      <td>41.31</td>\n      <td>...</td>\n      <td>35.52</td>\n      <td>39.85</td>\n      <td>43.13</td>\n      <td>27.42</td>\n      <td>36.10</td>\n      <td>42.95</td>\n      <td>48.69</td>\n      <td>37.65</td>\n      <td>41.31</td>\n      <td>42.88</td>\n    </tr>\n  </tbody>\n</table>\n<p>5 rows × 213 columns</p>\n</div>"
     },
     "execution_count": 147,
     "metadata": {},
     "output_type": "execute_result"
    }
   ],
   "source": [
    "## Remove first column\n",
    "means_biossido_di_azoto_imputed = means_biossido_di_azoto_imputed.drop('Unnamed: 0', axis=1)\n",
    "means_biossido_di_azoto_imputed.head()"
   ],
   "metadata": {
    "collapsed": false,
    "ExecuteTime": {
     "end_time": "2024-05-18T18:48:33.421289900Z",
     "start_time": "2024-05-18T18:48:33.184817500Z"
    }
   },
   "id": "89e33b4cab6c4954"
  },
  {
   "cell_type": "code",
   "execution_count": 148,
   "outputs": [],
   "source": [
    "## Save the dataframe to a csv file\n",
    "means_biossido_di_azoto_imputed.to_csv('means_biossido_di_azoto_imputed_formatted.csv', index=False)"
   ],
   "metadata": {
    "collapsed": false,
    "ExecuteTime": {
     "end_time": "2024-05-18T18:48:33.421289900Z",
     "start_time": "2024-05-18T18:48:33.212851500Z"
    }
   },
   "id": "3f9957b28786b590"
  },
  {
   "cell_type": "markdown",
   "source": [
    "# Ozone"
   ],
   "metadata": {
    "collapsed": false
   },
   "id": "2190c743ceb010f2"
  },
  {
   "cell_type": "code",
   "execution_count": 149,
   "outputs": [
    {
     "data": {
      "text/plain": "   means_ozone.csvIdSensore  Week 1 Year 2013  Week 2 Year 2013  \\\n0                    5707.0             12.60              8.85   \n1                    5708.0              5.86              5.74   \n2                    5710.0              4.97              5.05   \n3                    5711.0              4.03              5.12   \n4                    5712.0             12.51             15.25   \n\n   Week 3 Year 2013  Week 4 Year 2013  Week 5 Year 2013  Week 6 Year 2013  \\\n0             18.15              9.60             24.77             39.21   \n1              8.34              8.66             18.53             27.94   \n2              8.08             12.25             16.53             28.98   \n3              7.39              6.28             14.46             20.33   \n4              9.98              9.00             15.67             30.54   \n\n   Week 7 Year 2013  Week 8 Year 2013  Week 9 Year 2013  ...  \\\n0             22.12             28.45             29.57  ...   \n1             13.99             12.22             12.70  ...   \n2             21.19             24.88             24.49  ...   \n3             13.31             13.37             20.65  ...   \n4             29.31             36.70             32.24  ...   \n\n   Week 45 Year 2017  Week 46 Year 2017  Week 47 Year 2017  Week 48 Year 2017  \\\n0              17.29              18.16               9.08              22.22   \n1                NaN                NaN                NaN                NaN   \n2              12.24              11.81              11.73              12.99   \n3                NaN                NaN                NaN                NaN   \n4                NaN                NaN                NaN                NaN   \n\n   Week 49 Year 2017  Week 50 Year 2017  Week 51 Year 2017  Week 52 Year 2017  \\\n0              13.41                8.4              12.17              21.31   \n1                NaN                NaN                NaN                NaN   \n2              17.29               12.5              11.28              24.36   \n3                NaN                NaN                NaN                NaN   \n4                NaN                NaN                NaN                NaN   \n\n   Week 53 Year 2017  Week 6 Year 2017  \n0               2.48               NaN  \n1                NaN               NaN  \n2              12.82              9.45  \n3                NaN               NaN  \n4                NaN               NaN  \n\n[5 rows x 266 columns]",
      "text/html": "<div>\n<style scoped>\n    .dataframe tbody tr th:only-of-type {\n        vertical-align: middle;\n    }\n\n    .dataframe tbody tr th {\n        vertical-align: top;\n    }\n\n    .dataframe thead th {\n        text-align: right;\n    }\n</style>\n<table border=\"1\" class=\"dataframe\">\n  <thead>\n    <tr style=\"text-align: right;\">\n      <th></th>\n      <th>means_ozone.csvIdSensore</th>\n      <th>Week 1 Year 2013</th>\n      <th>Week 2 Year 2013</th>\n      <th>Week 3 Year 2013</th>\n      <th>Week 4 Year 2013</th>\n      <th>Week 5 Year 2013</th>\n      <th>Week 6 Year 2013</th>\n      <th>Week 7 Year 2013</th>\n      <th>Week 8 Year 2013</th>\n      <th>Week 9 Year 2013</th>\n      <th>...</th>\n      <th>Week 45 Year 2017</th>\n      <th>Week 46 Year 2017</th>\n      <th>Week 47 Year 2017</th>\n      <th>Week 48 Year 2017</th>\n      <th>Week 49 Year 2017</th>\n      <th>Week 50 Year 2017</th>\n      <th>Week 51 Year 2017</th>\n      <th>Week 52 Year 2017</th>\n      <th>Week 53 Year 2017</th>\n      <th>Week 6 Year 2017</th>\n    </tr>\n  </thead>\n  <tbody>\n    <tr>\n      <th>0</th>\n      <td>5707.0</td>\n      <td>12.60</td>\n      <td>8.85</td>\n      <td>18.15</td>\n      <td>9.60</td>\n      <td>24.77</td>\n      <td>39.21</td>\n      <td>22.12</td>\n      <td>28.45</td>\n      <td>29.57</td>\n      <td>...</td>\n      <td>17.29</td>\n      <td>18.16</td>\n      <td>9.08</td>\n      <td>22.22</td>\n      <td>13.41</td>\n      <td>8.4</td>\n      <td>12.17</td>\n      <td>21.31</td>\n      <td>2.48</td>\n      <td>NaN</td>\n    </tr>\n    <tr>\n      <th>1</th>\n      <td>5708.0</td>\n      <td>5.86</td>\n      <td>5.74</td>\n      <td>8.34</td>\n      <td>8.66</td>\n      <td>18.53</td>\n      <td>27.94</td>\n      <td>13.99</td>\n      <td>12.22</td>\n      <td>12.70</td>\n      <td>...</td>\n      <td>NaN</td>\n      <td>NaN</td>\n      <td>NaN</td>\n      <td>NaN</td>\n      <td>NaN</td>\n      <td>NaN</td>\n      <td>NaN</td>\n      <td>NaN</td>\n      <td>NaN</td>\n      <td>NaN</td>\n    </tr>\n    <tr>\n      <th>2</th>\n      <td>5710.0</td>\n      <td>4.97</td>\n      <td>5.05</td>\n      <td>8.08</td>\n      <td>12.25</td>\n      <td>16.53</td>\n      <td>28.98</td>\n      <td>21.19</td>\n      <td>24.88</td>\n      <td>24.49</td>\n      <td>...</td>\n      <td>12.24</td>\n      <td>11.81</td>\n      <td>11.73</td>\n      <td>12.99</td>\n      <td>17.29</td>\n      <td>12.5</td>\n      <td>11.28</td>\n      <td>24.36</td>\n      <td>12.82</td>\n      <td>9.45</td>\n    </tr>\n    <tr>\n      <th>3</th>\n      <td>5711.0</td>\n      <td>4.03</td>\n      <td>5.12</td>\n      <td>7.39</td>\n      <td>6.28</td>\n      <td>14.46</td>\n      <td>20.33</td>\n      <td>13.31</td>\n      <td>13.37</td>\n      <td>20.65</td>\n      <td>...</td>\n      <td>NaN</td>\n      <td>NaN</td>\n      <td>NaN</td>\n      <td>NaN</td>\n      <td>NaN</td>\n      <td>NaN</td>\n      <td>NaN</td>\n      <td>NaN</td>\n      <td>NaN</td>\n      <td>NaN</td>\n    </tr>\n    <tr>\n      <th>4</th>\n      <td>5712.0</td>\n      <td>12.51</td>\n      <td>15.25</td>\n      <td>9.98</td>\n      <td>9.00</td>\n      <td>15.67</td>\n      <td>30.54</td>\n      <td>29.31</td>\n      <td>36.70</td>\n      <td>32.24</td>\n      <td>...</td>\n      <td>NaN</td>\n      <td>NaN</td>\n      <td>NaN</td>\n      <td>NaN</td>\n      <td>NaN</td>\n      <td>NaN</td>\n      <td>NaN</td>\n      <td>NaN</td>\n      <td>NaN</td>\n      <td>NaN</td>\n    </tr>\n  </tbody>\n</table>\n<p>5 rows × 266 columns</p>\n</div>"
     },
     "execution_count": 149,
     "metadata": {},
     "output_type": "execute_result"
    }
   ],
   "source": [
    "means_ozone = pd.read_csv('Air_quality_data/means_ozone.csv')\n",
    "means_ozone.head()\n"
   ],
   "metadata": {
    "collapsed": false,
    "ExecuteTime": {
     "end_time": "2024-05-18T18:48:33.422291600Z",
     "start_time": "2024-05-18T18:48:33.228940Z"
    }
   },
   "id": "1c51ba9e28f8f98f"
  },
  {
   "cell_type": "code",
   "execution_count": 150,
   "outputs": [
    {
     "data": {
      "text/plain": "   means_ozone.csvIdSensore  w1 y2013  w2 y2013  w3 y2013  w4 y2013  w5 y2013  \\\n0                    5707.0     12.60      8.85     18.15      9.60     24.77   \n1                    5708.0      5.86      5.74      8.34      8.66     18.53   \n2                    5710.0      4.97      5.05      8.08     12.25     16.53   \n3                    5711.0      4.03      5.12      7.39      6.28     14.46   \n4                    5712.0     12.51     15.25      9.98      9.00     15.67   \n\n   w6 y2013  w7 y2013  w8 y2013  w9 y2013  ...  w45 y2017  w46 y2017  \\\n0     39.21     22.12     28.45     29.57  ...      17.29      18.16   \n1     27.94     13.99     12.22     12.70  ...        NaN        NaN   \n2     28.98     21.19     24.88     24.49  ...      12.24      11.81   \n3     20.33     13.31     13.37     20.65  ...        NaN        NaN   \n4     30.54     29.31     36.70     32.24  ...        NaN        NaN   \n\n   w47 y2017  w48 y2017  w49 y2017  w50 y2017  w51 y2017  w52 y2017  \\\n0       9.08      22.22      13.41        8.4      12.17      21.31   \n1        NaN        NaN        NaN        NaN        NaN        NaN   \n2      11.73      12.99      17.29       12.5      11.28      24.36   \n3        NaN        NaN        NaN        NaN        NaN        NaN   \n4        NaN        NaN        NaN        NaN        NaN        NaN   \n\n   w53 y2017  w6 y2017  \n0       2.48       NaN  \n1        NaN       NaN  \n2      12.82      9.45  \n3        NaN       NaN  \n4        NaN       NaN  \n\n[5 rows x 266 columns]",
      "text/html": "<div>\n<style scoped>\n    .dataframe tbody tr th:only-of-type {\n        vertical-align: middle;\n    }\n\n    .dataframe tbody tr th {\n        vertical-align: top;\n    }\n\n    .dataframe thead th {\n        text-align: right;\n    }\n</style>\n<table border=\"1\" class=\"dataframe\">\n  <thead>\n    <tr style=\"text-align: right;\">\n      <th></th>\n      <th>means_ozone.csvIdSensore</th>\n      <th>w1 y2013</th>\n      <th>w2 y2013</th>\n      <th>w3 y2013</th>\n      <th>w4 y2013</th>\n      <th>w5 y2013</th>\n      <th>w6 y2013</th>\n      <th>w7 y2013</th>\n      <th>w8 y2013</th>\n      <th>w9 y2013</th>\n      <th>...</th>\n      <th>w45 y2017</th>\n      <th>w46 y2017</th>\n      <th>w47 y2017</th>\n      <th>w48 y2017</th>\n      <th>w49 y2017</th>\n      <th>w50 y2017</th>\n      <th>w51 y2017</th>\n      <th>w52 y2017</th>\n      <th>w53 y2017</th>\n      <th>w6 y2017</th>\n    </tr>\n  </thead>\n  <tbody>\n    <tr>\n      <th>0</th>\n      <td>5707.0</td>\n      <td>12.60</td>\n      <td>8.85</td>\n      <td>18.15</td>\n      <td>9.60</td>\n      <td>24.77</td>\n      <td>39.21</td>\n      <td>22.12</td>\n      <td>28.45</td>\n      <td>29.57</td>\n      <td>...</td>\n      <td>17.29</td>\n      <td>18.16</td>\n      <td>9.08</td>\n      <td>22.22</td>\n      <td>13.41</td>\n      <td>8.4</td>\n      <td>12.17</td>\n      <td>21.31</td>\n      <td>2.48</td>\n      <td>NaN</td>\n    </tr>\n    <tr>\n      <th>1</th>\n      <td>5708.0</td>\n      <td>5.86</td>\n      <td>5.74</td>\n      <td>8.34</td>\n      <td>8.66</td>\n      <td>18.53</td>\n      <td>27.94</td>\n      <td>13.99</td>\n      <td>12.22</td>\n      <td>12.70</td>\n      <td>...</td>\n      <td>NaN</td>\n      <td>NaN</td>\n      <td>NaN</td>\n      <td>NaN</td>\n      <td>NaN</td>\n      <td>NaN</td>\n      <td>NaN</td>\n      <td>NaN</td>\n      <td>NaN</td>\n      <td>NaN</td>\n    </tr>\n    <tr>\n      <th>2</th>\n      <td>5710.0</td>\n      <td>4.97</td>\n      <td>5.05</td>\n      <td>8.08</td>\n      <td>12.25</td>\n      <td>16.53</td>\n      <td>28.98</td>\n      <td>21.19</td>\n      <td>24.88</td>\n      <td>24.49</td>\n      <td>...</td>\n      <td>12.24</td>\n      <td>11.81</td>\n      <td>11.73</td>\n      <td>12.99</td>\n      <td>17.29</td>\n      <td>12.5</td>\n      <td>11.28</td>\n      <td>24.36</td>\n      <td>12.82</td>\n      <td>9.45</td>\n    </tr>\n    <tr>\n      <th>3</th>\n      <td>5711.0</td>\n      <td>4.03</td>\n      <td>5.12</td>\n      <td>7.39</td>\n      <td>6.28</td>\n      <td>14.46</td>\n      <td>20.33</td>\n      <td>13.31</td>\n      <td>13.37</td>\n      <td>20.65</td>\n      <td>...</td>\n      <td>NaN</td>\n      <td>NaN</td>\n      <td>NaN</td>\n      <td>NaN</td>\n      <td>NaN</td>\n      <td>NaN</td>\n      <td>NaN</td>\n      <td>NaN</td>\n      <td>NaN</td>\n      <td>NaN</td>\n    </tr>\n    <tr>\n      <th>4</th>\n      <td>5712.0</td>\n      <td>12.51</td>\n      <td>15.25</td>\n      <td>9.98</td>\n      <td>9.00</td>\n      <td>15.67</td>\n      <td>30.54</td>\n      <td>29.31</td>\n      <td>36.70</td>\n      <td>32.24</td>\n      <td>...</td>\n      <td>NaN</td>\n      <td>NaN</td>\n      <td>NaN</td>\n      <td>NaN</td>\n      <td>NaN</td>\n      <td>NaN</td>\n      <td>NaN</td>\n      <td>NaN</td>\n      <td>NaN</td>\n      <td>NaN</td>\n    </tr>\n  </tbody>\n</table>\n<p>5 rows × 266 columns</p>\n</div>"
     },
     "execution_count": 150,
     "metadata": {},
     "output_type": "execute_result"
    }
   ],
   "source": [
    "means_ozone.rename(columns=format_column_name, inplace=True)\n",
    "means_ozone.head()"
   ],
   "metadata": {
    "collapsed": false,
    "ExecuteTime": {
     "end_time": "2024-05-18T18:48:33.423296700Z",
     "start_time": "2024-05-18T18:48:33.263613200Z"
    }
   },
   "id": "2a83db028ae8adba"
  },
  {
   "cell_type": "code",
   "execution_count": 151,
   "outputs": [
    {
     "data": {
      "text/plain": "   means_ozone.csvIdSensore  w1 y2013  w2 y2013  w3 y2013  w4 y2013  w5 y2013  \\\n0                    5707.0     12.60      8.85     18.15      9.60     24.77   \n1                    5708.0      5.86      5.74      8.34      8.66     18.53   \n2                    5710.0      4.97      5.05      8.08     12.25     16.53   \n3                    5711.0      4.03      5.12      7.39      6.28     14.46   \n4                    5712.0     12.51     15.25      9.98      9.00     15.67   \n\n   w6 y2013  w7 y2013  w8 y2013  w9 y2013  ...  w45 y2016  w46 y2016  \\\n0     39.21     22.12     28.45     29.57  ...      13.33      13.91   \n1     27.94     13.99     12.22     12.70  ...      10.21      13.26   \n2     28.98     21.19     24.88     24.49  ...       6.53       7.04   \n3     20.33     13.31     13.37     20.65  ...      10.74       9.75   \n4     30.54     29.31     36.70     32.24  ...       7.64       5.64   \n\n   w47 y2016  w48 y2016  w49 y2016  w50 y2016  w51 y2016  w52 y2016  \\\n0       3.35      17.59       5.89       2.96       5.64      14.45   \n1       6.99      15.60       9.57       7.23       7.40      16.72   \n2       2.74       9.89       3.62       1.58       1.55      10.49   \n3       5.03      14.47       8.63       6.07       6.06      12.81   \n4       0.70      11.64       6.18       4.99       5.37      13.72   \n\n   w53 y2016  w7 y2016  \n0       8.47       NaN  \n1       9.95     15.77  \n2       3.47     14.88  \n3       9.62     16.48  \n4       8.69     19.98  \n\n[5 rows x 213 columns]",
      "text/html": "<div>\n<style scoped>\n    .dataframe tbody tr th:only-of-type {\n        vertical-align: middle;\n    }\n\n    .dataframe tbody tr th {\n        vertical-align: top;\n    }\n\n    .dataframe thead th {\n        text-align: right;\n    }\n</style>\n<table border=\"1\" class=\"dataframe\">\n  <thead>\n    <tr style=\"text-align: right;\">\n      <th></th>\n      <th>means_ozone.csvIdSensore</th>\n      <th>w1 y2013</th>\n      <th>w2 y2013</th>\n      <th>w3 y2013</th>\n      <th>w4 y2013</th>\n      <th>w5 y2013</th>\n      <th>w6 y2013</th>\n      <th>w7 y2013</th>\n      <th>w8 y2013</th>\n      <th>w9 y2013</th>\n      <th>...</th>\n      <th>w45 y2016</th>\n      <th>w46 y2016</th>\n      <th>w47 y2016</th>\n      <th>w48 y2016</th>\n      <th>w49 y2016</th>\n      <th>w50 y2016</th>\n      <th>w51 y2016</th>\n      <th>w52 y2016</th>\n      <th>w53 y2016</th>\n      <th>w7 y2016</th>\n    </tr>\n  </thead>\n  <tbody>\n    <tr>\n      <th>0</th>\n      <td>5707.0</td>\n      <td>12.60</td>\n      <td>8.85</td>\n      <td>18.15</td>\n      <td>9.60</td>\n      <td>24.77</td>\n      <td>39.21</td>\n      <td>22.12</td>\n      <td>28.45</td>\n      <td>29.57</td>\n      <td>...</td>\n      <td>13.33</td>\n      <td>13.91</td>\n      <td>3.35</td>\n      <td>17.59</td>\n      <td>5.89</td>\n      <td>2.96</td>\n      <td>5.64</td>\n      <td>14.45</td>\n      <td>8.47</td>\n      <td>NaN</td>\n    </tr>\n    <tr>\n      <th>1</th>\n      <td>5708.0</td>\n      <td>5.86</td>\n      <td>5.74</td>\n      <td>8.34</td>\n      <td>8.66</td>\n      <td>18.53</td>\n      <td>27.94</td>\n      <td>13.99</td>\n      <td>12.22</td>\n      <td>12.70</td>\n      <td>...</td>\n      <td>10.21</td>\n      <td>13.26</td>\n      <td>6.99</td>\n      <td>15.60</td>\n      <td>9.57</td>\n      <td>7.23</td>\n      <td>7.40</td>\n      <td>16.72</td>\n      <td>9.95</td>\n      <td>15.77</td>\n    </tr>\n    <tr>\n      <th>2</th>\n      <td>5710.0</td>\n      <td>4.97</td>\n      <td>5.05</td>\n      <td>8.08</td>\n      <td>12.25</td>\n      <td>16.53</td>\n      <td>28.98</td>\n      <td>21.19</td>\n      <td>24.88</td>\n      <td>24.49</td>\n      <td>...</td>\n      <td>6.53</td>\n      <td>7.04</td>\n      <td>2.74</td>\n      <td>9.89</td>\n      <td>3.62</td>\n      <td>1.58</td>\n      <td>1.55</td>\n      <td>10.49</td>\n      <td>3.47</td>\n      <td>14.88</td>\n    </tr>\n    <tr>\n      <th>3</th>\n      <td>5711.0</td>\n      <td>4.03</td>\n      <td>5.12</td>\n      <td>7.39</td>\n      <td>6.28</td>\n      <td>14.46</td>\n      <td>20.33</td>\n      <td>13.31</td>\n      <td>13.37</td>\n      <td>20.65</td>\n      <td>...</td>\n      <td>10.74</td>\n      <td>9.75</td>\n      <td>5.03</td>\n      <td>14.47</td>\n      <td>8.63</td>\n      <td>6.07</td>\n      <td>6.06</td>\n      <td>12.81</td>\n      <td>9.62</td>\n      <td>16.48</td>\n    </tr>\n    <tr>\n      <th>4</th>\n      <td>5712.0</td>\n      <td>12.51</td>\n      <td>15.25</td>\n      <td>9.98</td>\n      <td>9.00</td>\n      <td>15.67</td>\n      <td>30.54</td>\n      <td>29.31</td>\n      <td>36.70</td>\n      <td>32.24</td>\n      <td>...</td>\n      <td>7.64</td>\n      <td>5.64</td>\n      <td>0.70</td>\n      <td>11.64</td>\n      <td>6.18</td>\n      <td>4.99</td>\n      <td>5.37</td>\n      <td>13.72</td>\n      <td>8.69</td>\n      <td>19.98</td>\n    </tr>\n  </tbody>\n</table>\n<p>5 rows × 213 columns</p>\n</div>"
     },
     "execution_count": 151,
     "metadata": {},
     "output_type": "execute_result"
    }
   ],
   "source": [
    "## Remove column if contains y2017\n",
    "means_ozone = means_ozone.loc[:, ~means_ozone.columns.str.contains('y2017')]\n",
    "means_ozone.head()\n",
    "\n"
   ],
   "metadata": {
    "collapsed": false,
    "ExecuteTime": {
     "end_time": "2024-05-18T18:48:33.427812200Z",
     "start_time": "2024-05-18T18:48:33.292813Z"
    }
   },
   "id": "779afee4d20030dc"
  },
  {
   "cell_type": "code",
   "execution_count": 152,
   "outputs": [
    {
     "name": "stderr",
     "output_type": "stream",
     "text": [
      "C:\\Users\\massi\\AppData\\Local\\Temp\\ipykernel_12372\\2712310681.py:4: PerformanceWarning: DataFrame is highly fragmented.  This is usually the result of calling `frame.insert` many times, which has poor performance.  Consider joining all columns at once using pd.concat(axis=1) instead. To get a de-fragmented frame, use `newframe = frame.copy()`\n",
      "  means_ozone.insert(n_column + 1, 'w6 y2015', w6_2015_column)\n",
      "C:\\Users\\massi\\AppData\\Local\\Temp\\ipykernel_12372\\2712310681.py:9: PerformanceWarning: DataFrame is highly fragmented.  This is usually the result of calling `frame.insert` many times, which has poor performance.  Consider joining all columns at once using pd.concat(axis=1) instead. To get a de-fragmented frame, use `newframe = frame.copy()`\n",
      "  means_ozone.insert(n2_column + 1, 'w7 y2016', w7_2016_column)\n"
     ]
    },
    {
     "data": {
      "text/plain": "   means_ozone.csvIdSensore  w1 y2013  w2 y2013  w3 y2013  w4 y2013  w5 y2013  \\\n0                    5707.0     12.60      8.85     18.15      9.60     24.77   \n1                    5708.0      5.86      5.74      8.34      8.66     18.53   \n2                    5710.0      4.97      5.05      8.08     12.25     16.53   \n3                    5711.0      4.03      5.12      7.39      6.28     14.46   \n4                    5712.0     12.51     15.25      9.98      9.00     15.67   \n\n   w6 y2013  w7 y2013  w8 y2013  w9 y2013  ...  w44 y2016  w45 y2016  \\\n0     39.21     22.12     28.45     29.57  ...      16.24      13.33   \n1     27.94     13.99     12.22     12.70  ...      14.97      10.21   \n2     28.98     21.19     24.88     24.49  ...      13.09       6.53   \n3     20.33     13.31     13.37     20.65  ...      17.66      10.74   \n4     30.54     29.31     36.70     32.24  ...      11.03       7.64   \n\n   w46 y2016  w47 y2016  w48 y2016  w49 y2016  w50 y2016  w51 y2016  \\\n0      13.91       3.35      17.59       5.89       2.96       5.64   \n1      13.26       6.99      15.60       9.57       7.23       7.40   \n2       7.04       2.74       9.89       3.62       1.58       1.55   \n3       9.75       5.03      14.47       8.63       6.07       6.06   \n4       5.64       0.70      11.64       6.18       4.99       5.37   \n\n   w52 y2016  w53 y2016  \n0      14.45       8.47  \n1      16.72       9.95  \n2      10.49       3.47  \n3      12.81       9.62  \n4      13.72       8.69  \n\n[5 rows x 213 columns]",
      "text/html": "<div>\n<style scoped>\n    .dataframe tbody tr th:only-of-type {\n        vertical-align: middle;\n    }\n\n    .dataframe tbody tr th {\n        vertical-align: top;\n    }\n\n    .dataframe thead th {\n        text-align: right;\n    }\n</style>\n<table border=\"1\" class=\"dataframe\">\n  <thead>\n    <tr style=\"text-align: right;\">\n      <th></th>\n      <th>means_ozone.csvIdSensore</th>\n      <th>w1 y2013</th>\n      <th>w2 y2013</th>\n      <th>w3 y2013</th>\n      <th>w4 y2013</th>\n      <th>w5 y2013</th>\n      <th>w6 y2013</th>\n      <th>w7 y2013</th>\n      <th>w8 y2013</th>\n      <th>w9 y2013</th>\n      <th>...</th>\n      <th>w44 y2016</th>\n      <th>w45 y2016</th>\n      <th>w46 y2016</th>\n      <th>w47 y2016</th>\n      <th>w48 y2016</th>\n      <th>w49 y2016</th>\n      <th>w50 y2016</th>\n      <th>w51 y2016</th>\n      <th>w52 y2016</th>\n      <th>w53 y2016</th>\n    </tr>\n  </thead>\n  <tbody>\n    <tr>\n      <th>0</th>\n      <td>5707.0</td>\n      <td>12.60</td>\n      <td>8.85</td>\n      <td>18.15</td>\n      <td>9.60</td>\n      <td>24.77</td>\n      <td>39.21</td>\n      <td>22.12</td>\n      <td>28.45</td>\n      <td>29.57</td>\n      <td>...</td>\n      <td>16.24</td>\n      <td>13.33</td>\n      <td>13.91</td>\n      <td>3.35</td>\n      <td>17.59</td>\n      <td>5.89</td>\n      <td>2.96</td>\n      <td>5.64</td>\n      <td>14.45</td>\n      <td>8.47</td>\n    </tr>\n    <tr>\n      <th>1</th>\n      <td>5708.0</td>\n      <td>5.86</td>\n      <td>5.74</td>\n      <td>8.34</td>\n      <td>8.66</td>\n      <td>18.53</td>\n      <td>27.94</td>\n      <td>13.99</td>\n      <td>12.22</td>\n      <td>12.70</td>\n      <td>...</td>\n      <td>14.97</td>\n      <td>10.21</td>\n      <td>13.26</td>\n      <td>6.99</td>\n      <td>15.60</td>\n      <td>9.57</td>\n      <td>7.23</td>\n      <td>7.40</td>\n      <td>16.72</td>\n      <td>9.95</td>\n    </tr>\n    <tr>\n      <th>2</th>\n      <td>5710.0</td>\n      <td>4.97</td>\n      <td>5.05</td>\n      <td>8.08</td>\n      <td>12.25</td>\n      <td>16.53</td>\n      <td>28.98</td>\n      <td>21.19</td>\n      <td>24.88</td>\n      <td>24.49</td>\n      <td>...</td>\n      <td>13.09</td>\n      <td>6.53</td>\n      <td>7.04</td>\n      <td>2.74</td>\n      <td>9.89</td>\n      <td>3.62</td>\n      <td>1.58</td>\n      <td>1.55</td>\n      <td>10.49</td>\n      <td>3.47</td>\n    </tr>\n    <tr>\n      <th>3</th>\n      <td>5711.0</td>\n      <td>4.03</td>\n      <td>5.12</td>\n      <td>7.39</td>\n      <td>6.28</td>\n      <td>14.46</td>\n      <td>20.33</td>\n      <td>13.31</td>\n      <td>13.37</td>\n      <td>20.65</td>\n      <td>...</td>\n      <td>17.66</td>\n      <td>10.74</td>\n      <td>9.75</td>\n      <td>5.03</td>\n      <td>14.47</td>\n      <td>8.63</td>\n      <td>6.07</td>\n      <td>6.06</td>\n      <td>12.81</td>\n      <td>9.62</td>\n    </tr>\n    <tr>\n      <th>4</th>\n      <td>5712.0</td>\n      <td>12.51</td>\n      <td>15.25</td>\n      <td>9.98</td>\n      <td>9.00</td>\n      <td>15.67</td>\n      <td>30.54</td>\n      <td>29.31</td>\n      <td>36.70</td>\n      <td>32.24</td>\n      <td>...</td>\n      <td>11.03</td>\n      <td>7.64</td>\n      <td>5.64</td>\n      <td>0.70</td>\n      <td>11.64</td>\n      <td>6.18</td>\n      <td>4.99</td>\n      <td>5.37</td>\n      <td>13.72</td>\n      <td>8.69</td>\n    </tr>\n  </tbody>\n</table>\n<p>5 rows × 213 columns</p>\n</div>"
     },
     "execution_count": 152,
     "metadata": {},
     "output_type": "execute_result"
    }
   ],
   "source": [
    "## Select column named w6 y2015 and place it just after the column named w5 y2015\n",
    "n_column = means_ozone.columns.get_loc('w5 y2015')\n",
    "w6_2015_column = means_ozone.pop('w6 y2015')\n",
    "means_ozone.insert(n_column + 1, 'w6 y2015', w6_2015_column)\n",
    "\n",
    "## Select column named w7 y2016 and place it just after the column named w6 y2016\n",
    "n2_column = means_ozone.columns.get_loc('w6 y2016')\n",
    "w7_2016_column = means_ozone.pop('w7 y2016')\n",
    "means_ozone.insert(n2_column + 1, 'w7 y2016', w7_2016_column)\n",
    "\n",
    "means_ozone.head()"
   ],
   "metadata": {
    "collapsed": false,
    "ExecuteTime": {
     "end_time": "2024-05-18T18:48:33.428807300Z",
     "start_time": "2024-05-18T18:48:33.326496600Z"
    }
   },
   "id": "e134dba9c08e6278"
  },
  {
   "cell_type": "code",
   "execution_count": 153,
   "outputs": [
    {
     "data": {
      "text/plain": "45"
     },
     "execution_count": 153,
     "metadata": {},
     "output_type": "execute_result"
    }
   ],
   "source": [
    "## Count missing values\n",
    "means_ozone.isnull().sum().sum()"
   ],
   "metadata": {
    "collapsed": false,
    "ExecuteTime": {
     "end_time": "2024-05-18T18:48:33.496386800Z",
     "start_time": "2024-05-18T18:48:33.356711900Z"
    }
   },
   "id": "5e0ee162f5dac11"
  },
  {
   "cell_type": "code",
   "execution_count": 154,
   "outputs": [],
   "source": [
    "## Interpolate missing values\n",
    "means_ozone_imputed = means_ozone.interpolate(method='linear', axis=1, limit = 4)\n"
   ],
   "metadata": {
    "collapsed": false,
    "ExecuteTime": {
     "end_time": "2024-05-18T18:48:33.499936300Z",
     "start_time": "2024-05-18T18:48:33.387805100Z"
    }
   },
   "id": "f0a91b5df2db666f"
  },
  {
   "cell_type": "code",
   "execution_count": 155,
   "outputs": [
    {
     "data": {
      "text/plain": "0"
     },
     "execution_count": 155,
     "metadata": {},
     "output_type": "execute_result"
    }
   ],
   "source": [
    "## Count missing values\n",
    "means_ozone_imputed.isnull().sum().sum()"
   ],
   "metadata": {
    "collapsed": false,
    "ExecuteTime": {
     "end_time": "2024-05-18T18:48:33.499936300Z",
     "start_time": "2024-05-18T18:48:33.404191200Z"
    }
   },
   "id": "b2180300354d4379"
  },
  {
   "cell_type": "code",
   "execution_count": 156,
   "outputs": [
    {
     "data": {
      "text/plain": "   IdSensore  w1 y2013  w2 y2013  w3 y2013  w4 y2013  w5 y2013  w6 y2013  \\\n0     5707.0     12.60      8.85     18.15      9.60     24.77     39.21   \n1     5708.0      5.86      5.74      8.34      8.66     18.53     27.94   \n2     5710.0      4.97      5.05      8.08     12.25     16.53     28.98   \n3     5711.0      4.03      5.12      7.39      6.28     14.46     20.33   \n4     5712.0     12.51     15.25      9.98      9.00     15.67     30.54   \n\n   w7 y2013  w8 y2013  w9 y2013  ...  w44 y2016  w45 y2016  w46 y2016  \\\n0     22.12     28.45     29.57  ...      16.24      13.33      13.91   \n1     13.99     12.22     12.70  ...      14.97      10.21      13.26   \n2     21.19     24.88     24.49  ...      13.09       6.53       7.04   \n3     13.31     13.37     20.65  ...      17.66      10.74       9.75   \n4     29.31     36.70     32.24  ...      11.03       7.64       5.64   \n\n   w47 y2016  w48 y2016  w49 y2016  w50 y2016  w51 y2016  w52 y2016  w53 y2016  \n0       3.35      17.59       5.89       2.96       5.64      14.45       8.47  \n1       6.99      15.60       9.57       7.23       7.40      16.72       9.95  \n2       2.74       9.89       3.62       1.58       1.55      10.49       3.47  \n3       5.03      14.47       8.63       6.07       6.06      12.81       9.62  \n4       0.70      11.64       6.18       4.99       5.37      13.72       8.69  \n\n[5 rows x 213 columns]",
      "text/html": "<div>\n<style scoped>\n    .dataframe tbody tr th:only-of-type {\n        vertical-align: middle;\n    }\n\n    .dataframe tbody tr th {\n        vertical-align: top;\n    }\n\n    .dataframe thead th {\n        text-align: right;\n    }\n</style>\n<table border=\"1\" class=\"dataframe\">\n  <thead>\n    <tr style=\"text-align: right;\">\n      <th></th>\n      <th>IdSensore</th>\n      <th>w1 y2013</th>\n      <th>w2 y2013</th>\n      <th>w3 y2013</th>\n      <th>w4 y2013</th>\n      <th>w5 y2013</th>\n      <th>w6 y2013</th>\n      <th>w7 y2013</th>\n      <th>w8 y2013</th>\n      <th>w9 y2013</th>\n      <th>...</th>\n      <th>w44 y2016</th>\n      <th>w45 y2016</th>\n      <th>w46 y2016</th>\n      <th>w47 y2016</th>\n      <th>w48 y2016</th>\n      <th>w49 y2016</th>\n      <th>w50 y2016</th>\n      <th>w51 y2016</th>\n      <th>w52 y2016</th>\n      <th>w53 y2016</th>\n    </tr>\n  </thead>\n  <tbody>\n    <tr>\n      <th>0</th>\n      <td>5707.0</td>\n      <td>12.60</td>\n      <td>8.85</td>\n      <td>18.15</td>\n      <td>9.60</td>\n      <td>24.77</td>\n      <td>39.21</td>\n      <td>22.12</td>\n      <td>28.45</td>\n      <td>29.57</td>\n      <td>...</td>\n      <td>16.24</td>\n      <td>13.33</td>\n      <td>13.91</td>\n      <td>3.35</td>\n      <td>17.59</td>\n      <td>5.89</td>\n      <td>2.96</td>\n      <td>5.64</td>\n      <td>14.45</td>\n      <td>8.47</td>\n    </tr>\n    <tr>\n      <th>1</th>\n      <td>5708.0</td>\n      <td>5.86</td>\n      <td>5.74</td>\n      <td>8.34</td>\n      <td>8.66</td>\n      <td>18.53</td>\n      <td>27.94</td>\n      <td>13.99</td>\n      <td>12.22</td>\n      <td>12.70</td>\n      <td>...</td>\n      <td>14.97</td>\n      <td>10.21</td>\n      <td>13.26</td>\n      <td>6.99</td>\n      <td>15.60</td>\n      <td>9.57</td>\n      <td>7.23</td>\n      <td>7.40</td>\n      <td>16.72</td>\n      <td>9.95</td>\n    </tr>\n    <tr>\n      <th>2</th>\n      <td>5710.0</td>\n      <td>4.97</td>\n      <td>5.05</td>\n      <td>8.08</td>\n      <td>12.25</td>\n      <td>16.53</td>\n      <td>28.98</td>\n      <td>21.19</td>\n      <td>24.88</td>\n      <td>24.49</td>\n      <td>...</td>\n      <td>13.09</td>\n      <td>6.53</td>\n      <td>7.04</td>\n      <td>2.74</td>\n      <td>9.89</td>\n      <td>3.62</td>\n      <td>1.58</td>\n      <td>1.55</td>\n      <td>10.49</td>\n      <td>3.47</td>\n    </tr>\n    <tr>\n      <th>3</th>\n      <td>5711.0</td>\n      <td>4.03</td>\n      <td>5.12</td>\n      <td>7.39</td>\n      <td>6.28</td>\n      <td>14.46</td>\n      <td>20.33</td>\n      <td>13.31</td>\n      <td>13.37</td>\n      <td>20.65</td>\n      <td>...</td>\n      <td>17.66</td>\n      <td>10.74</td>\n      <td>9.75</td>\n      <td>5.03</td>\n      <td>14.47</td>\n      <td>8.63</td>\n      <td>6.07</td>\n      <td>6.06</td>\n      <td>12.81</td>\n      <td>9.62</td>\n    </tr>\n    <tr>\n      <th>4</th>\n      <td>5712.0</td>\n      <td>12.51</td>\n      <td>15.25</td>\n      <td>9.98</td>\n      <td>9.00</td>\n      <td>15.67</td>\n      <td>30.54</td>\n      <td>29.31</td>\n      <td>36.70</td>\n      <td>32.24</td>\n      <td>...</td>\n      <td>11.03</td>\n      <td>7.64</td>\n      <td>5.64</td>\n      <td>0.70</td>\n      <td>11.64</td>\n      <td>6.18</td>\n      <td>4.99</td>\n      <td>5.37</td>\n      <td>13.72</td>\n      <td>8.69</td>\n    </tr>\n  </tbody>\n</table>\n<p>5 rows × 213 columns</p>\n</div>"
     },
     "execution_count": 156,
     "metadata": {},
     "output_type": "execute_result"
    }
   ],
   "source": [
    "# Rename first column to 'IdSensore'\n",
    "means_ozone_imputed.rename(columns={'means_ozone.csvIdSensore': 'IdSensore'}, inplace=True)\n",
    "means_ozone_imputed.head()"
   ],
   "metadata": {
    "collapsed": false,
    "ExecuteTime": {
     "end_time": "2024-05-18T18:48:33.615803300Z",
     "start_time": "2024-05-18T18:48:33.421289900Z"
    }
   },
   "id": "13d16c896b87cd5d"
  },
  {
   "cell_type": "code",
   "execution_count": 157,
   "outputs": [
    {
     "data": {
      "text/plain": "   IdSensore  w1 y2013  w2 y2013  w3 y2013  w4 y2013  w5 y2013  w6 y2013  \\\n0       5707     12.60      8.85     18.15      9.60     24.77     39.21   \n1       5708      5.86      5.74      8.34      8.66     18.53     27.94   \n2       5710      4.97      5.05      8.08     12.25     16.53     28.98   \n3       5711      4.03      5.12      7.39      6.28     14.46     20.33   \n4       5712     12.51     15.25      9.98      9.00     15.67     30.54   \n\n   w7 y2013  w8 y2013  w9 y2013  ...  w44 y2016  w45 y2016  w46 y2016  \\\n0     22.12     28.45     29.57  ...      16.24      13.33      13.91   \n1     13.99     12.22     12.70  ...      14.97      10.21      13.26   \n2     21.19     24.88     24.49  ...      13.09       6.53       7.04   \n3     13.31     13.37     20.65  ...      17.66      10.74       9.75   \n4     29.31     36.70     32.24  ...      11.03       7.64       5.64   \n\n   w47 y2016  w48 y2016  w49 y2016  w50 y2016  w51 y2016  w52 y2016  w53 y2016  \n0       3.35      17.59       5.89       2.96       5.64      14.45       8.47  \n1       6.99      15.60       9.57       7.23       7.40      16.72       9.95  \n2       2.74       9.89       3.62       1.58       1.55      10.49       3.47  \n3       5.03      14.47       8.63       6.07       6.06      12.81       9.62  \n4       0.70      11.64       6.18       4.99       5.37      13.72       8.69  \n\n[5 rows x 213 columns]",
      "text/html": "<div>\n<style scoped>\n    .dataframe tbody tr th:only-of-type {\n        vertical-align: middle;\n    }\n\n    .dataframe tbody tr th {\n        vertical-align: top;\n    }\n\n    .dataframe thead th {\n        text-align: right;\n    }\n</style>\n<table border=\"1\" class=\"dataframe\">\n  <thead>\n    <tr style=\"text-align: right;\">\n      <th></th>\n      <th>IdSensore</th>\n      <th>w1 y2013</th>\n      <th>w2 y2013</th>\n      <th>w3 y2013</th>\n      <th>w4 y2013</th>\n      <th>w5 y2013</th>\n      <th>w6 y2013</th>\n      <th>w7 y2013</th>\n      <th>w8 y2013</th>\n      <th>w9 y2013</th>\n      <th>...</th>\n      <th>w44 y2016</th>\n      <th>w45 y2016</th>\n      <th>w46 y2016</th>\n      <th>w47 y2016</th>\n      <th>w48 y2016</th>\n      <th>w49 y2016</th>\n      <th>w50 y2016</th>\n      <th>w51 y2016</th>\n      <th>w52 y2016</th>\n      <th>w53 y2016</th>\n    </tr>\n  </thead>\n  <tbody>\n    <tr>\n      <th>0</th>\n      <td>5707</td>\n      <td>12.60</td>\n      <td>8.85</td>\n      <td>18.15</td>\n      <td>9.60</td>\n      <td>24.77</td>\n      <td>39.21</td>\n      <td>22.12</td>\n      <td>28.45</td>\n      <td>29.57</td>\n      <td>...</td>\n      <td>16.24</td>\n      <td>13.33</td>\n      <td>13.91</td>\n      <td>3.35</td>\n      <td>17.59</td>\n      <td>5.89</td>\n      <td>2.96</td>\n      <td>5.64</td>\n      <td>14.45</td>\n      <td>8.47</td>\n    </tr>\n    <tr>\n      <th>1</th>\n      <td>5708</td>\n      <td>5.86</td>\n      <td>5.74</td>\n      <td>8.34</td>\n      <td>8.66</td>\n      <td>18.53</td>\n      <td>27.94</td>\n      <td>13.99</td>\n      <td>12.22</td>\n      <td>12.70</td>\n      <td>...</td>\n      <td>14.97</td>\n      <td>10.21</td>\n      <td>13.26</td>\n      <td>6.99</td>\n      <td>15.60</td>\n      <td>9.57</td>\n      <td>7.23</td>\n      <td>7.40</td>\n      <td>16.72</td>\n      <td>9.95</td>\n    </tr>\n    <tr>\n      <th>2</th>\n      <td>5710</td>\n      <td>4.97</td>\n      <td>5.05</td>\n      <td>8.08</td>\n      <td>12.25</td>\n      <td>16.53</td>\n      <td>28.98</td>\n      <td>21.19</td>\n      <td>24.88</td>\n      <td>24.49</td>\n      <td>...</td>\n      <td>13.09</td>\n      <td>6.53</td>\n      <td>7.04</td>\n      <td>2.74</td>\n      <td>9.89</td>\n      <td>3.62</td>\n      <td>1.58</td>\n      <td>1.55</td>\n      <td>10.49</td>\n      <td>3.47</td>\n    </tr>\n    <tr>\n      <th>3</th>\n      <td>5711</td>\n      <td>4.03</td>\n      <td>5.12</td>\n      <td>7.39</td>\n      <td>6.28</td>\n      <td>14.46</td>\n      <td>20.33</td>\n      <td>13.31</td>\n      <td>13.37</td>\n      <td>20.65</td>\n      <td>...</td>\n      <td>17.66</td>\n      <td>10.74</td>\n      <td>9.75</td>\n      <td>5.03</td>\n      <td>14.47</td>\n      <td>8.63</td>\n      <td>6.07</td>\n      <td>6.06</td>\n      <td>12.81</td>\n      <td>9.62</td>\n    </tr>\n    <tr>\n      <th>4</th>\n      <td>5712</td>\n      <td>12.51</td>\n      <td>15.25</td>\n      <td>9.98</td>\n      <td>9.00</td>\n      <td>15.67</td>\n      <td>30.54</td>\n      <td>29.31</td>\n      <td>36.70</td>\n      <td>32.24</td>\n      <td>...</td>\n      <td>11.03</td>\n      <td>7.64</td>\n      <td>5.64</td>\n      <td>0.70</td>\n      <td>11.64</td>\n      <td>6.18</td>\n      <td>4.99</td>\n      <td>5.37</td>\n      <td>13.72</td>\n      <td>8.69</td>\n    </tr>\n  </tbody>\n</table>\n<p>5 rows × 213 columns</p>\n</div>"
     },
     "execution_count": 157,
     "metadata": {},
     "output_type": "execute_result"
    }
   ],
   "source": [
    "means_ozone_imputed['IdSensore'] = means_ozone_imputed['IdSensore'].astype(int)\n",
    "means_ozone_imputed.head()"
   ],
   "metadata": {
    "collapsed": false,
    "ExecuteTime": {
     "end_time": "2024-05-18T18:48:33.801757100Z",
     "start_time": "2024-05-18T18:48:33.448555900Z"
    }
   },
   "id": "6907682d8b0e79f9"
  },
  {
   "cell_type": "code",
   "execution_count": 158,
   "outputs": [],
   "source": [
    "## Save the dataframe to a csv file\n",
    "means_ozone_imputed.to_csv('means_ozone_imputed.csv', index=False)"
   ],
   "metadata": {
    "collapsed": false,
    "ExecuteTime": {
     "end_time": "2024-05-18T18:48:33.826673600Z",
     "start_time": "2024-05-18T18:48:33.482375600Z"
    }
   },
   "id": "849a711b155c3b47"
  },
  {
   "cell_type": "markdown",
   "source": [
    "# MONOSSIDO DI CARBONIO"
   ],
   "metadata": {
    "collapsed": false
   },
   "id": "d4a601eda4983461"
  },
  {
   "cell_type": "code",
   "execution_count": 180,
   "outputs": [
    {
     "data": {
      "text/plain": "   IdSensore  Week 1 Year 2013  Week 2 Year 2013  Week 3 Year 2013  \\\n0     5810.0              1.29              1.21              1.41   \n1     5812.0              1.08              0.75              0.92   \n2     5814.0              1.11              1.04              1.14   \n3     5820.0              1.69              1.25              1.19   \n4     5823.0              2.65              1.53              1.61   \n\n   Week 4 Year 2013  Week 5 Year 2013  Week 6 Year 2013  Week 7 Year 2013  \\\n0              1.62              1.56              1.50              1.96   \n1              1.05              0.84              0.64              1.08   \n2              1.33              0.59              0.49              0.91   \n3              1.27              1.16              0.97              1.62   \n4              1.87              1.89              1.66              2.01   \n\n   Week 8 Year 2013  Week 9 Year 2013  ...  Week 48 Year 2017  \\\n0              1.82              1.89  ...                NaN   \n1              0.71              0.84  ...               0.50   \n2              0.89              0.66  ...               0.80   \n3              1.09              1.01  ...                NaN   \n4              1.90              1.84  ...               0.89   \n\n   Week 49 Year 2017  Week 50 Year 2017  Week 51 Year 2017  Week 52 Year 2017  \\\n0                NaN                NaN                NaN                NaN   \n1               0.72               0.52               0.95               0.61   \n2               0.99               1.04               1.22               0.51   \n3                NaN                NaN                NaN                NaN   \n4               1.21               1.13               1.51               1.17   \n\n   Week 53 Year 2017  Week 2 Year 2017  Week 3 Year 2017  Week 33 Year 2017  \\\n0                NaN               NaN               NaN                NaN   \n1               0.68               NaN               NaN                NaN   \n2               0.72              0.95              1.02               0.20   \n3                NaN               NaN               NaN                NaN   \n4               1.19              1.37              1.18               0.94   \n\n   Week 34 Year 2017  \n0                NaN  \n1                NaN  \n2               0.23  \n3                NaN  \n4               0.95  \n\n[5 rows x 266 columns]",
      "text/html": "<div>\n<style scoped>\n    .dataframe tbody tr th:only-of-type {\n        vertical-align: middle;\n    }\n\n    .dataframe tbody tr th {\n        vertical-align: top;\n    }\n\n    .dataframe thead th {\n        text-align: right;\n    }\n</style>\n<table border=\"1\" class=\"dataframe\">\n  <thead>\n    <tr style=\"text-align: right;\">\n      <th></th>\n      <th>IdSensore</th>\n      <th>Week 1 Year 2013</th>\n      <th>Week 2 Year 2013</th>\n      <th>Week 3 Year 2013</th>\n      <th>Week 4 Year 2013</th>\n      <th>Week 5 Year 2013</th>\n      <th>Week 6 Year 2013</th>\n      <th>Week 7 Year 2013</th>\n      <th>Week 8 Year 2013</th>\n      <th>Week 9 Year 2013</th>\n      <th>...</th>\n      <th>Week 48 Year 2017</th>\n      <th>Week 49 Year 2017</th>\n      <th>Week 50 Year 2017</th>\n      <th>Week 51 Year 2017</th>\n      <th>Week 52 Year 2017</th>\n      <th>Week 53 Year 2017</th>\n      <th>Week 2 Year 2017</th>\n      <th>Week 3 Year 2017</th>\n      <th>Week 33 Year 2017</th>\n      <th>Week 34 Year 2017</th>\n    </tr>\n  </thead>\n  <tbody>\n    <tr>\n      <th>0</th>\n      <td>5810.0</td>\n      <td>1.29</td>\n      <td>1.21</td>\n      <td>1.41</td>\n      <td>1.62</td>\n      <td>1.56</td>\n      <td>1.50</td>\n      <td>1.96</td>\n      <td>1.82</td>\n      <td>1.89</td>\n      <td>...</td>\n      <td>NaN</td>\n      <td>NaN</td>\n      <td>NaN</td>\n      <td>NaN</td>\n      <td>NaN</td>\n      <td>NaN</td>\n      <td>NaN</td>\n      <td>NaN</td>\n      <td>NaN</td>\n      <td>NaN</td>\n    </tr>\n    <tr>\n      <th>1</th>\n      <td>5812.0</td>\n      <td>1.08</td>\n      <td>0.75</td>\n      <td>0.92</td>\n      <td>1.05</td>\n      <td>0.84</td>\n      <td>0.64</td>\n      <td>1.08</td>\n      <td>0.71</td>\n      <td>0.84</td>\n      <td>...</td>\n      <td>0.50</td>\n      <td>0.72</td>\n      <td>0.52</td>\n      <td>0.95</td>\n      <td>0.61</td>\n      <td>0.68</td>\n      <td>NaN</td>\n      <td>NaN</td>\n      <td>NaN</td>\n      <td>NaN</td>\n    </tr>\n    <tr>\n      <th>2</th>\n      <td>5814.0</td>\n      <td>1.11</td>\n      <td>1.04</td>\n      <td>1.14</td>\n      <td>1.33</td>\n      <td>0.59</td>\n      <td>0.49</td>\n      <td>0.91</td>\n      <td>0.89</td>\n      <td>0.66</td>\n      <td>...</td>\n      <td>0.80</td>\n      <td>0.99</td>\n      <td>1.04</td>\n      <td>1.22</td>\n      <td>0.51</td>\n      <td>0.72</td>\n      <td>0.95</td>\n      <td>1.02</td>\n      <td>0.20</td>\n      <td>0.23</td>\n    </tr>\n    <tr>\n      <th>3</th>\n      <td>5820.0</td>\n      <td>1.69</td>\n      <td>1.25</td>\n      <td>1.19</td>\n      <td>1.27</td>\n      <td>1.16</td>\n      <td>0.97</td>\n      <td>1.62</td>\n      <td>1.09</td>\n      <td>1.01</td>\n      <td>...</td>\n      <td>NaN</td>\n      <td>NaN</td>\n      <td>NaN</td>\n      <td>NaN</td>\n      <td>NaN</td>\n      <td>NaN</td>\n      <td>NaN</td>\n      <td>NaN</td>\n      <td>NaN</td>\n      <td>NaN</td>\n    </tr>\n    <tr>\n      <th>4</th>\n      <td>5823.0</td>\n      <td>2.65</td>\n      <td>1.53</td>\n      <td>1.61</td>\n      <td>1.87</td>\n      <td>1.89</td>\n      <td>1.66</td>\n      <td>2.01</td>\n      <td>1.90</td>\n      <td>1.84</td>\n      <td>...</td>\n      <td>0.89</td>\n      <td>1.21</td>\n      <td>1.13</td>\n      <td>1.51</td>\n      <td>1.17</td>\n      <td>1.19</td>\n      <td>1.37</td>\n      <td>1.18</td>\n      <td>0.94</td>\n      <td>0.95</td>\n    </tr>\n  </tbody>\n</table>\n<p>5 rows × 266 columns</p>\n</div>"
     },
     "execution_count": 180,
     "metadata": {},
     "output_type": "execute_result"
    }
   ],
   "source": [
    "means_monossido_di_carbonio = pd.read_csv('Air_quality_data/means_monossido_di_carbonio.csv')\n",
    "means_monossido_di_carbonio.head()"
   ],
   "metadata": {
    "collapsed": false,
    "ExecuteTime": {
     "end_time": "2024-05-18T18:52:04.885434600Z",
     "start_time": "2024-05-18T18:52:04.833430900Z"
    }
   },
   "id": "16b45563a2a399aa"
  },
  {
   "cell_type": "code",
   "execution_count": 181,
   "outputs": [
    {
     "data": {
      "text/plain": "   IdSensore  w1 y2013  w2 y2013  w3 y2013  w4 y2013  w5 y2013  w6 y2013  \\\n0     5810.0      1.29      1.21      1.41      1.62      1.56      1.50   \n1     5812.0      1.08      0.75      0.92      1.05      0.84      0.64   \n2     5814.0      1.11      1.04      1.14      1.33      0.59      0.49   \n3     5820.0      1.69      1.25      1.19      1.27      1.16      0.97   \n4     5823.0      2.65      1.53      1.61      1.87      1.89      1.66   \n\n   w7 y2013  w8 y2013  w9 y2013  ...  w48 y2017  w49 y2017  w50 y2017  \\\n0      1.96      1.82      1.89  ...        NaN        NaN        NaN   \n1      1.08      0.71      0.84  ...       0.50       0.72       0.52   \n2      0.91      0.89      0.66  ...       0.80       0.99       1.04   \n3      1.62      1.09      1.01  ...        NaN        NaN        NaN   \n4      2.01      1.90      1.84  ...       0.89       1.21       1.13   \n\n   w51 y2017  w52 y2017  w53 y2017  w2 y2017  w3 y2017  w33 y2017  w34 y2017  \n0        NaN        NaN        NaN       NaN       NaN        NaN        NaN  \n1       0.95       0.61       0.68       NaN       NaN        NaN        NaN  \n2       1.22       0.51       0.72      0.95      1.02       0.20       0.23  \n3        NaN        NaN        NaN       NaN       NaN        NaN        NaN  \n4       1.51       1.17       1.19      1.37      1.18       0.94       0.95  \n\n[5 rows x 266 columns]",
      "text/html": "<div>\n<style scoped>\n    .dataframe tbody tr th:only-of-type {\n        vertical-align: middle;\n    }\n\n    .dataframe tbody tr th {\n        vertical-align: top;\n    }\n\n    .dataframe thead th {\n        text-align: right;\n    }\n</style>\n<table border=\"1\" class=\"dataframe\">\n  <thead>\n    <tr style=\"text-align: right;\">\n      <th></th>\n      <th>IdSensore</th>\n      <th>w1 y2013</th>\n      <th>w2 y2013</th>\n      <th>w3 y2013</th>\n      <th>w4 y2013</th>\n      <th>w5 y2013</th>\n      <th>w6 y2013</th>\n      <th>w7 y2013</th>\n      <th>w8 y2013</th>\n      <th>w9 y2013</th>\n      <th>...</th>\n      <th>w48 y2017</th>\n      <th>w49 y2017</th>\n      <th>w50 y2017</th>\n      <th>w51 y2017</th>\n      <th>w52 y2017</th>\n      <th>w53 y2017</th>\n      <th>w2 y2017</th>\n      <th>w3 y2017</th>\n      <th>w33 y2017</th>\n      <th>w34 y2017</th>\n    </tr>\n  </thead>\n  <tbody>\n    <tr>\n      <th>0</th>\n      <td>5810.0</td>\n      <td>1.29</td>\n      <td>1.21</td>\n      <td>1.41</td>\n      <td>1.62</td>\n      <td>1.56</td>\n      <td>1.50</td>\n      <td>1.96</td>\n      <td>1.82</td>\n      <td>1.89</td>\n      <td>...</td>\n      <td>NaN</td>\n      <td>NaN</td>\n      <td>NaN</td>\n      <td>NaN</td>\n      <td>NaN</td>\n      <td>NaN</td>\n      <td>NaN</td>\n      <td>NaN</td>\n      <td>NaN</td>\n      <td>NaN</td>\n    </tr>\n    <tr>\n      <th>1</th>\n      <td>5812.0</td>\n      <td>1.08</td>\n      <td>0.75</td>\n      <td>0.92</td>\n      <td>1.05</td>\n      <td>0.84</td>\n      <td>0.64</td>\n      <td>1.08</td>\n      <td>0.71</td>\n      <td>0.84</td>\n      <td>...</td>\n      <td>0.50</td>\n      <td>0.72</td>\n      <td>0.52</td>\n      <td>0.95</td>\n      <td>0.61</td>\n      <td>0.68</td>\n      <td>NaN</td>\n      <td>NaN</td>\n      <td>NaN</td>\n      <td>NaN</td>\n    </tr>\n    <tr>\n      <th>2</th>\n      <td>5814.0</td>\n      <td>1.11</td>\n      <td>1.04</td>\n      <td>1.14</td>\n      <td>1.33</td>\n      <td>0.59</td>\n      <td>0.49</td>\n      <td>0.91</td>\n      <td>0.89</td>\n      <td>0.66</td>\n      <td>...</td>\n      <td>0.80</td>\n      <td>0.99</td>\n      <td>1.04</td>\n      <td>1.22</td>\n      <td>0.51</td>\n      <td>0.72</td>\n      <td>0.95</td>\n      <td>1.02</td>\n      <td>0.20</td>\n      <td>0.23</td>\n    </tr>\n    <tr>\n      <th>3</th>\n      <td>5820.0</td>\n      <td>1.69</td>\n      <td>1.25</td>\n      <td>1.19</td>\n      <td>1.27</td>\n      <td>1.16</td>\n      <td>0.97</td>\n      <td>1.62</td>\n      <td>1.09</td>\n      <td>1.01</td>\n      <td>...</td>\n      <td>NaN</td>\n      <td>NaN</td>\n      <td>NaN</td>\n      <td>NaN</td>\n      <td>NaN</td>\n      <td>NaN</td>\n      <td>NaN</td>\n      <td>NaN</td>\n      <td>NaN</td>\n      <td>NaN</td>\n    </tr>\n    <tr>\n      <th>4</th>\n      <td>5823.0</td>\n      <td>2.65</td>\n      <td>1.53</td>\n      <td>1.61</td>\n      <td>1.87</td>\n      <td>1.89</td>\n      <td>1.66</td>\n      <td>2.01</td>\n      <td>1.90</td>\n      <td>1.84</td>\n      <td>...</td>\n      <td>0.89</td>\n      <td>1.21</td>\n      <td>1.13</td>\n      <td>1.51</td>\n      <td>1.17</td>\n      <td>1.19</td>\n      <td>1.37</td>\n      <td>1.18</td>\n      <td>0.94</td>\n      <td>0.95</td>\n    </tr>\n  </tbody>\n</table>\n<p>5 rows × 266 columns</p>\n</div>"
     },
     "execution_count": 181,
     "metadata": {},
     "output_type": "execute_result"
    }
   ],
   "source": [
    "means_monossido_di_carbonio.rename(columns=format_column_name, inplace=True)\n",
    "means_monossido_di_carbonio.head()"
   ],
   "metadata": {
    "collapsed": false,
    "ExecuteTime": {
     "end_time": "2024-05-18T18:52:05.045953600Z",
     "start_time": "2024-05-18T18:52:04.999753300Z"
    }
   },
   "id": "f9fb8a0595b3eb88"
  },
  {
   "cell_type": "code",
   "execution_count": 182,
   "outputs": [
    {
     "data": {
      "text/plain": "   IdSensore  w1 y2013  w2 y2013  w3 y2013  w4 y2013  w5 y2013  w6 y2013  \\\n0     5810.0      1.29      1.21      1.41      1.62      1.56      1.50   \n1     5812.0      1.08      0.75      0.92      1.05      0.84      0.64   \n2     5814.0      1.11      1.04      1.14      1.33      0.59      0.49   \n3     5820.0      1.69      1.25      1.19      1.27      1.16      0.97   \n4     5823.0      2.65      1.53      1.61      1.87      1.89      1.66   \n\n   w7 y2013  w8 y2013  w9 y2013  ...  w44 y2016  w45 y2016  w46 y2016  \\\n0      1.96      1.82      1.89  ...       1.10       1.22       1.53   \n1      1.08      0.71      0.84  ...       0.92       0.90       1.03   \n2      0.91      0.89      0.66  ...       0.87       0.89       1.16   \n3      1.62      1.09      1.01  ...       0.90       0.88       1.12   \n4      2.01      1.90      1.84  ...       1.06       1.17       1.43   \n\n   w47 y2016  w48 y2016  w49 y2016  w50 y2016  w51 y2016  w52 y2016  w53 y2016  \n0       1.71       1.78       2.00       1.23       1.35       1.50       1.55  \n1       1.10       0.99       1.33       1.48       1.48       1.48       1.56  \n2       1.40       1.21       1.29       1.60       1.42       0.83       0.82  \n3       0.93       0.67       1.18       1.32       1.27       1.28       1.28  \n4       0.88       0.86       1.25       1.47       1.58       1.63       1.46  \n\n[5 rows x 213 columns]",
      "text/html": "<div>\n<style scoped>\n    .dataframe tbody tr th:only-of-type {\n        vertical-align: middle;\n    }\n\n    .dataframe tbody tr th {\n        vertical-align: top;\n    }\n\n    .dataframe thead th {\n        text-align: right;\n    }\n</style>\n<table border=\"1\" class=\"dataframe\">\n  <thead>\n    <tr style=\"text-align: right;\">\n      <th></th>\n      <th>IdSensore</th>\n      <th>w1 y2013</th>\n      <th>w2 y2013</th>\n      <th>w3 y2013</th>\n      <th>w4 y2013</th>\n      <th>w5 y2013</th>\n      <th>w6 y2013</th>\n      <th>w7 y2013</th>\n      <th>w8 y2013</th>\n      <th>w9 y2013</th>\n      <th>...</th>\n      <th>w44 y2016</th>\n      <th>w45 y2016</th>\n      <th>w46 y2016</th>\n      <th>w47 y2016</th>\n      <th>w48 y2016</th>\n      <th>w49 y2016</th>\n      <th>w50 y2016</th>\n      <th>w51 y2016</th>\n      <th>w52 y2016</th>\n      <th>w53 y2016</th>\n    </tr>\n  </thead>\n  <tbody>\n    <tr>\n      <th>0</th>\n      <td>5810.0</td>\n      <td>1.29</td>\n      <td>1.21</td>\n      <td>1.41</td>\n      <td>1.62</td>\n      <td>1.56</td>\n      <td>1.50</td>\n      <td>1.96</td>\n      <td>1.82</td>\n      <td>1.89</td>\n      <td>...</td>\n      <td>1.10</td>\n      <td>1.22</td>\n      <td>1.53</td>\n      <td>1.71</td>\n      <td>1.78</td>\n      <td>2.00</td>\n      <td>1.23</td>\n      <td>1.35</td>\n      <td>1.50</td>\n      <td>1.55</td>\n    </tr>\n    <tr>\n      <th>1</th>\n      <td>5812.0</td>\n      <td>1.08</td>\n      <td>0.75</td>\n      <td>0.92</td>\n      <td>1.05</td>\n      <td>0.84</td>\n      <td>0.64</td>\n      <td>1.08</td>\n      <td>0.71</td>\n      <td>0.84</td>\n      <td>...</td>\n      <td>0.92</td>\n      <td>0.90</td>\n      <td>1.03</td>\n      <td>1.10</td>\n      <td>0.99</td>\n      <td>1.33</td>\n      <td>1.48</td>\n      <td>1.48</td>\n      <td>1.48</td>\n      <td>1.56</td>\n    </tr>\n    <tr>\n      <th>2</th>\n      <td>5814.0</td>\n      <td>1.11</td>\n      <td>1.04</td>\n      <td>1.14</td>\n      <td>1.33</td>\n      <td>0.59</td>\n      <td>0.49</td>\n      <td>0.91</td>\n      <td>0.89</td>\n      <td>0.66</td>\n      <td>...</td>\n      <td>0.87</td>\n      <td>0.89</td>\n      <td>1.16</td>\n      <td>1.40</td>\n      <td>1.21</td>\n      <td>1.29</td>\n      <td>1.60</td>\n      <td>1.42</td>\n      <td>0.83</td>\n      <td>0.82</td>\n    </tr>\n    <tr>\n      <th>3</th>\n      <td>5820.0</td>\n      <td>1.69</td>\n      <td>1.25</td>\n      <td>1.19</td>\n      <td>1.27</td>\n      <td>1.16</td>\n      <td>0.97</td>\n      <td>1.62</td>\n      <td>1.09</td>\n      <td>1.01</td>\n      <td>...</td>\n      <td>0.90</td>\n      <td>0.88</td>\n      <td>1.12</td>\n      <td>0.93</td>\n      <td>0.67</td>\n      <td>1.18</td>\n      <td>1.32</td>\n      <td>1.27</td>\n      <td>1.28</td>\n      <td>1.28</td>\n    </tr>\n    <tr>\n      <th>4</th>\n      <td>5823.0</td>\n      <td>2.65</td>\n      <td>1.53</td>\n      <td>1.61</td>\n      <td>1.87</td>\n      <td>1.89</td>\n      <td>1.66</td>\n      <td>2.01</td>\n      <td>1.90</td>\n      <td>1.84</td>\n      <td>...</td>\n      <td>1.06</td>\n      <td>1.17</td>\n      <td>1.43</td>\n      <td>0.88</td>\n      <td>0.86</td>\n      <td>1.25</td>\n      <td>1.47</td>\n      <td>1.58</td>\n      <td>1.63</td>\n      <td>1.46</td>\n    </tr>\n  </tbody>\n</table>\n<p>5 rows × 213 columns</p>\n</div>"
     },
     "execution_count": 182,
     "metadata": {},
     "output_type": "execute_result"
    }
   ],
   "source": [
    "## Remove column if contains y2017\n",
    "means_monossido_di_carbonio = means_monossido_di_carbonio.loc[:, ~means_monossido_di_carbonio.columns.str.contains('y2017')]\n",
    "means_monossido_di_carbonio.head()"
   ],
   "metadata": {
    "collapsed": false,
    "ExecuteTime": {
     "end_time": "2024-05-18T18:52:05.443646200Z",
     "start_time": "2024-05-18T18:52:05.390011300Z"
    }
   },
   "id": "3bf5d47f74e61dab"
  },
  {
   "cell_type": "code",
   "execution_count": 183,
   "outputs": [
    {
     "name": "stderr",
     "output_type": "stream",
     "text": [
      "C:\\Users\\massi\\AppData\\Local\\Temp\\ipykernel_12372\\1375867568.py:4: PerformanceWarning: DataFrame is highly fragmented.  This is usually the result of calling `frame.insert` many times, which has poor performance.  Consider joining all columns at once using pd.concat(axis=1) instead. To get a de-fragmented frame, use `newframe = frame.copy()`\n",
      "  means_monossido_di_carbonio.insert(n_column + 1, 'w18 y2014', w18_2014_column)\n",
      "C:\\Users\\massi\\AppData\\Local\\Temp\\ipykernel_12372\\1375867568.py:8: PerformanceWarning: DataFrame is highly fragmented.  This is usually the result of calling `frame.insert` many times, which has poor performance.  Consider joining all columns at once using pd.concat(axis=1) instead. To get a de-fragmented frame, use `newframe = frame.copy()`\n",
      "  means_monossido_di_carbonio.insert(n2_column + 1, 'w19 y2014', w19_2014_column)\n",
      "C:\\Users\\massi\\AppData\\Local\\Temp\\ipykernel_12372\\1375867568.py:12: PerformanceWarning: DataFrame is highly fragmented.  This is usually the result of calling `frame.insert` many times, which has poor performance.  Consider joining all columns at once using pd.concat(axis=1) instead. To get a de-fragmented frame, use `newframe = frame.copy()`\n",
      "  means_monossido_di_carbonio.insert(n3_column + 1, 'w40 y2015', w40_2015_column)\n"
     ]
    },
    {
     "data": {
      "text/plain": "   IdSensore  w1 y2013  w2 y2013  w3 y2013  w4 y2013  w5 y2013  w6 y2013  \\\n0     5810.0      1.29      1.21      1.41      1.62      1.56      1.50   \n1     5812.0      1.08      0.75      0.92      1.05      0.84      0.64   \n2     5814.0      1.11      1.04      1.14      1.33      0.59      0.49   \n3     5820.0      1.69      1.25      1.19      1.27      1.16      0.97   \n4     5823.0      2.65      1.53      1.61      1.87      1.89      1.66   \n\n   w7 y2013  w8 y2013  w9 y2013  ...  w44 y2016  w45 y2016  w46 y2016  \\\n0      1.96      1.82      1.89  ...       1.10       1.22       1.53   \n1      1.08      0.71      0.84  ...       0.92       0.90       1.03   \n2      0.91      0.89      0.66  ...       0.87       0.89       1.16   \n3      1.62      1.09      1.01  ...       0.90       0.88       1.12   \n4      2.01      1.90      1.84  ...       1.06       1.17       1.43   \n\n   w47 y2016  w48 y2016  w49 y2016  w50 y2016  w51 y2016  w52 y2016  w53 y2016  \n0       1.71       1.78       2.00       1.23       1.35       1.50       1.55  \n1       1.10       0.99       1.33       1.48       1.48       1.48       1.56  \n2       1.40       1.21       1.29       1.60       1.42       0.83       0.82  \n3       0.93       0.67       1.18       1.32       1.27       1.28       1.28  \n4       0.88       0.86       1.25       1.47       1.58       1.63       1.46  \n\n[5 rows x 213 columns]",
      "text/html": "<div>\n<style scoped>\n    .dataframe tbody tr th:only-of-type {\n        vertical-align: middle;\n    }\n\n    .dataframe tbody tr th {\n        vertical-align: top;\n    }\n\n    .dataframe thead th {\n        text-align: right;\n    }\n</style>\n<table border=\"1\" class=\"dataframe\">\n  <thead>\n    <tr style=\"text-align: right;\">\n      <th></th>\n      <th>IdSensore</th>\n      <th>w1 y2013</th>\n      <th>w2 y2013</th>\n      <th>w3 y2013</th>\n      <th>w4 y2013</th>\n      <th>w5 y2013</th>\n      <th>w6 y2013</th>\n      <th>w7 y2013</th>\n      <th>w8 y2013</th>\n      <th>w9 y2013</th>\n      <th>...</th>\n      <th>w44 y2016</th>\n      <th>w45 y2016</th>\n      <th>w46 y2016</th>\n      <th>w47 y2016</th>\n      <th>w48 y2016</th>\n      <th>w49 y2016</th>\n      <th>w50 y2016</th>\n      <th>w51 y2016</th>\n      <th>w52 y2016</th>\n      <th>w53 y2016</th>\n    </tr>\n  </thead>\n  <tbody>\n    <tr>\n      <th>0</th>\n      <td>5810.0</td>\n      <td>1.29</td>\n      <td>1.21</td>\n      <td>1.41</td>\n      <td>1.62</td>\n      <td>1.56</td>\n      <td>1.50</td>\n      <td>1.96</td>\n      <td>1.82</td>\n      <td>1.89</td>\n      <td>...</td>\n      <td>1.10</td>\n      <td>1.22</td>\n      <td>1.53</td>\n      <td>1.71</td>\n      <td>1.78</td>\n      <td>2.00</td>\n      <td>1.23</td>\n      <td>1.35</td>\n      <td>1.50</td>\n      <td>1.55</td>\n    </tr>\n    <tr>\n      <th>1</th>\n      <td>5812.0</td>\n      <td>1.08</td>\n      <td>0.75</td>\n      <td>0.92</td>\n      <td>1.05</td>\n      <td>0.84</td>\n      <td>0.64</td>\n      <td>1.08</td>\n      <td>0.71</td>\n      <td>0.84</td>\n      <td>...</td>\n      <td>0.92</td>\n      <td>0.90</td>\n      <td>1.03</td>\n      <td>1.10</td>\n      <td>0.99</td>\n      <td>1.33</td>\n      <td>1.48</td>\n      <td>1.48</td>\n      <td>1.48</td>\n      <td>1.56</td>\n    </tr>\n    <tr>\n      <th>2</th>\n      <td>5814.0</td>\n      <td>1.11</td>\n      <td>1.04</td>\n      <td>1.14</td>\n      <td>1.33</td>\n      <td>0.59</td>\n      <td>0.49</td>\n      <td>0.91</td>\n      <td>0.89</td>\n      <td>0.66</td>\n      <td>...</td>\n      <td>0.87</td>\n      <td>0.89</td>\n      <td>1.16</td>\n      <td>1.40</td>\n      <td>1.21</td>\n      <td>1.29</td>\n      <td>1.60</td>\n      <td>1.42</td>\n      <td>0.83</td>\n      <td>0.82</td>\n    </tr>\n    <tr>\n      <th>3</th>\n      <td>5820.0</td>\n      <td>1.69</td>\n      <td>1.25</td>\n      <td>1.19</td>\n      <td>1.27</td>\n      <td>1.16</td>\n      <td>0.97</td>\n      <td>1.62</td>\n      <td>1.09</td>\n      <td>1.01</td>\n      <td>...</td>\n      <td>0.90</td>\n      <td>0.88</td>\n      <td>1.12</td>\n      <td>0.93</td>\n      <td>0.67</td>\n      <td>1.18</td>\n      <td>1.32</td>\n      <td>1.27</td>\n      <td>1.28</td>\n      <td>1.28</td>\n    </tr>\n    <tr>\n      <th>4</th>\n      <td>5823.0</td>\n      <td>2.65</td>\n      <td>1.53</td>\n      <td>1.61</td>\n      <td>1.87</td>\n      <td>1.89</td>\n      <td>1.66</td>\n      <td>2.01</td>\n      <td>1.90</td>\n      <td>1.84</td>\n      <td>...</td>\n      <td>1.06</td>\n      <td>1.17</td>\n      <td>1.43</td>\n      <td>0.88</td>\n      <td>0.86</td>\n      <td>1.25</td>\n      <td>1.47</td>\n      <td>1.58</td>\n      <td>1.63</td>\n      <td>1.46</td>\n    </tr>\n  </tbody>\n</table>\n<p>5 rows × 213 columns</p>\n</div>"
     },
     "execution_count": 183,
     "metadata": {},
     "output_type": "execute_result"
    }
   ],
   "source": [
    "## reposition w18,19 y2014\n",
    "n_column = means_monossido_di_carbonio.columns.get_loc('w17 y2014')\n",
    "w18_2014_column = means_monossido_di_carbonio.pop('w18 y2014')\n",
    "means_monossido_di_carbonio.insert(n_column + 1, 'w18 y2014', w18_2014_column)\n",
    "\n",
    "n2_column = means_monossido_di_carbonio.columns.get_loc('w18 y2014')\n",
    "w19_2014_column = means_monossido_di_carbonio.pop('w19 y2014')\n",
    "means_monossido_di_carbonio.insert(n2_column + 1, 'w19 y2014', w19_2014_column)\n",
    "## reposition w40 y2015\n",
    "n3_column = means_monossido_di_carbonio.columns.get_loc('w39 y2015')\n",
    "w40_2015_column = means_monossido_di_carbonio.pop('w40 y2015')\n",
    "means_monossido_di_carbonio.insert(n3_column + 1, 'w40 y2015', w40_2015_column)\n",
    "\n",
    "means_monossido_di_carbonio.head()"
   ],
   "metadata": {
    "collapsed": false,
    "ExecuteTime": {
     "end_time": "2024-05-18T18:52:05.498524400Z",
     "start_time": "2024-05-18T18:52:05.422011800Z"
    }
   },
   "id": "5a78336ec8eaf958"
  },
  {
   "cell_type": "code",
   "execution_count": 184,
   "outputs": [
    {
     "data": {
      "text/plain": "81"
     },
     "execution_count": 184,
     "metadata": {},
     "output_type": "execute_result"
    }
   ],
   "source": [
    "## Count missing values\n",
    "means_monossido_di_carbonio.isnull().sum().sum()\n"
   ],
   "metadata": {
    "collapsed": false,
    "ExecuteTime": {
     "end_time": "2024-05-18T18:52:05.757229400Z",
     "start_time": "2024-05-18T18:52:05.623251100Z"
    }
   },
   "id": "836e65ce9ed3d307"
  },
  {
   "cell_type": "code",
   "execution_count": 185,
   "outputs": [],
   "source": [
    "## Interpolate missing values\n",
    "means_monossido_di_carbonio_imputed = means_monossido_di_carbonio.interpolate(method='linear', axis=1, limit = 14)\n"
   ],
   "metadata": {
    "collapsed": false,
    "ExecuteTime": {
     "end_time": "2024-05-18T18:52:06.028214800Z",
     "start_time": "2024-05-18T18:52:06.015566800Z"
    }
   },
   "id": "b5b55b05daa8102c"
  },
  {
   "cell_type": "code",
   "execution_count": 186,
   "outputs": [
    {
     "data": {
      "text/plain": "0"
     },
     "execution_count": 186,
     "metadata": {},
     "output_type": "execute_result"
    }
   ],
   "source": [
    "## Count missing values\n",
    "means_monossido_di_carbonio_imputed.isnull().sum().sum()"
   ],
   "metadata": {
    "collapsed": false,
    "ExecuteTime": {
     "end_time": "2024-05-18T18:52:07.193524600Z",
     "start_time": "2024-05-18T18:52:07.152229200Z"
    }
   },
   "id": "c0f16061b56ebd3d"
  },
  {
   "cell_type": "code",
   "execution_count": 187,
   "outputs": [],
   "source": [
    "#Save the dataframe to a csv file\n",
    "means_monossido_di_carbonio_imputed.to_csv('means_monossido_di_carbonio_imputed.csv', index=False)"
   ],
   "metadata": {
    "collapsed": false,
    "ExecuteTime": {
     "end_time": "2024-05-18T18:52:47.884631Z",
     "start_time": "2024-05-18T18:52:47.857812900Z"
    }
   },
   "id": "dd4410cb7549431d"
  },
  {
   "cell_type": "markdown",
   "source": [
    "# OSSIDI DI AZOTO\n"
   ],
   "metadata": {
    "collapsed": false
   },
   "id": "8a1a6d4f953ca82c"
  },
  {
   "cell_type": "code",
   "execution_count": 9,
   "outputs": [
    {
     "data": {
      "text/plain": "   IdSensore  w1 y2013  w2 y2013  w3 y2013  w4 y2013  w5 y2013  w6 y2013  \\\n0     6270.0    115.07     85.40    120.95    132.33    103.44     96.61   \n1     6276.0    218.54    149.66    219.88    207.31    171.00    163.75   \n2     6284.0    141.10     87.09       NaN    163.61    124.98    119.18   \n3     6288.0     96.85     69.41     73.45     99.12    122.45     52.13   \n4     6290.0    306.47    170.45    223.01    241.45    225.13    122.01   \n\n   w7 y2013  w8 y2013  w9 y2013  ...  w44 y2016  w45 y2016  w46 y2016  \\\n0    173.59     84.13    114.89  ...      70.58      80.84      96.11   \n1    273.41    121.25    197.50  ...     111.81     137.37     127.73   \n2    223.75    124.49    152.37  ...     106.44     137.45     149.39   \n3    100.45     58.09     69.86  ...      57.95      72.42      86.12   \n4    189.04    129.45    191.27  ...     149.06     179.72     182.74   \n\n   w47 y2016  w48 y2016  w49 y2016  w50 y2016  w51 y2016  w52 y2016  w53 y2016  \n0      84.54      78.03     122.81      96.03     104.88      92.11      75.95  \n1     117.90     184.79     137.36     120.34     186.35     174.75     173.38  \n2     148.98     120.64     218.04     171.08     207.61     237.89     245.88  \n3     111.51      61.21     120.94     189.29     152.57     106.95      88.53  \n4     161.68     197.70     328.94     345.37     307.64     275.88     275.58  \n\n[5 rows x 213 columns]",
      "text/html": "<div>\n<style scoped>\n    .dataframe tbody tr th:only-of-type {\n        vertical-align: middle;\n    }\n\n    .dataframe tbody tr th {\n        vertical-align: top;\n    }\n\n    .dataframe thead th {\n        text-align: right;\n    }\n</style>\n<table border=\"1\" class=\"dataframe\">\n  <thead>\n    <tr style=\"text-align: right;\">\n      <th></th>\n      <th>IdSensore</th>\n      <th>w1 y2013</th>\n      <th>w2 y2013</th>\n      <th>w3 y2013</th>\n      <th>w4 y2013</th>\n      <th>w5 y2013</th>\n      <th>w6 y2013</th>\n      <th>w7 y2013</th>\n      <th>w8 y2013</th>\n      <th>w9 y2013</th>\n      <th>...</th>\n      <th>w44 y2016</th>\n      <th>w45 y2016</th>\n      <th>w46 y2016</th>\n      <th>w47 y2016</th>\n      <th>w48 y2016</th>\n      <th>w49 y2016</th>\n      <th>w50 y2016</th>\n      <th>w51 y2016</th>\n      <th>w52 y2016</th>\n      <th>w53 y2016</th>\n    </tr>\n  </thead>\n  <tbody>\n    <tr>\n      <th>0</th>\n      <td>6270.0</td>\n      <td>115.07</td>\n      <td>85.40</td>\n      <td>120.95</td>\n      <td>132.33</td>\n      <td>103.44</td>\n      <td>96.61</td>\n      <td>173.59</td>\n      <td>84.13</td>\n      <td>114.89</td>\n      <td>...</td>\n      <td>70.58</td>\n      <td>80.84</td>\n      <td>96.11</td>\n      <td>84.54</td>\n      <td>78.03</td>\n      <td>122.81</td>\n      <td>96.03</td>\n      <td>104.88</td>\n      <td>92.11</td>\n      <td>75.95</td>\n    </tr>\n    <tr>\n      <th>1</th>\n      <td>6276.0</td>\n      <td>218.54</td>\n      <td>149.66</td>\n      <td>219.88</td>\n      <td>207.31</td>\n      <td>171.00</td>\n      <td>163.75</td>\n      <td>273.41</td>\n      <td>121.25</td>\n      <td>197.50</td>\n      <td>...</td>\n      <td>111.81</td>\n      <td>137.37</td>\n      <td>127.73</td>\n      <td>117.90</td>\n      <td>184.79</td>\n      <td>137.36</td>\n      <td>120.34</td>\n      <td>186.35</td>\n      <td>174.75</td>\n      <td>173.38</td>\n    </tr>\n    <tr>\n      <th>2</th>\n      <td>6284.0</td>\n      <td>141.10</td>\n      <td>87.09</td>\n      <td>NaN</td>\n      <td>163.61</td>\n      <td>124.98</td>\n      <td>119.18</td>\n      <td>223.75</td>\n      <td>124.49</td>\n      <td>152.37</td>\n      <td>...</td>\n      <td>106.44</td>\n      <td>137.45</td>\n      <td>149.39</td>\n      <td>148.98</td>\n      <td>120.64</td>\n      <td>218.04</td>\n      <td>171.08</td>\n      <td>207.61</td>\n      <td>237.89</td>\n      <td>245.88</td>\n    </tr>\n    <tr>\n      <th>3</th>\n      <td>6288.0</td>\n      <td>96.85</td>\n      <td>69.41</td>\n      <td>73.45</td>\n      <td>99.12</td>\n      <td>122.45</td>\n      <td>52.13</td>\n      <td>100.45</td>\n      <td>58.09</td>\n      <td>69.86</td>\n      <td>...</td>\n      <td>57.95</td>\n      <td>72.42</td>\n      <td>86.12</td>\n      <td>111.51</td>\n      <td>61.21</td>\n      <td>120.94</td>\n      <td>189.29</td>\n      <td>152.57</td>\n      <td>106.95</td>\n      <td>88.53</td>\n    </tr>\n    <tr>\n      <th>4</th>\n      <td>6290.0</td>\n      <td>306.47</td>\n      <td>170.45</td>\n      <td>223.01</td>\n      <td>241.45</td>\n      <td>225.13</td>\n      <td>122.01</td>\n      <td>189.04</td>\n      <td>129.45</td>\n      <td>191.27</td>\n      <td>...</td>\n      <td>149.06</td>\n      <td>179.72</td>\n      <td>182.74</td>\n      <td>161.68</td>\n      <td>197.70</td>\n      <td>328.94</td>\n      <td>345.37</td>\n      <td>307.64</td>\n      <td>275.88</td>\n      <td>275.58</td>\n    </tr>\n  </tbody>\n</table>\n<p>5 rows × 213 columns</p>\n</div>"
     },
     "execution_count": 9,
     "metadata": {},
     "output_type": "execute_result"
    }
   ],
   "source": [
    "means_ossidi_di_azoto = pd.read_csv('Air_quality_data/means_ossidi_di_azoto.csv')\n",
    "means_ossidi_di_azoto.head()"
   ],
   "metadata": {
    "collapsed": false,
    "ExecuteTime": {
     "end_time": "2024-05-19T11:55:33.088891300Z",
     "start_time": "2024-05-19T11:55:33.043223100Z"
    }
   },
   "id": "5e3b633d0504b08c"
  },
  {
   "cell_type": "code",
   "execution_count": 10,
   "outputs": [
    {
     "name": "stderr",
     "output_type": "stream",
     "text": [
      "C:\\Users\\massi\\AppData\\Local\\Temp\\ipykernel_28708\\1561428108.py:8: PerformanceWarning: DataFrame is highly fragmented.  This is usually the result of calling `frame.insert` many times, which has poor performance.  Consider joining all columns at once using pd.concat(axis=1) instead. To get a de-fragmented frame, use `newframe = frame.copy()`\n",
      "  means_ossidi_di_azoto.insert(n_column + 1, 'w5 y2014', w5_2014_column)\n",
      "C:\\Users\\massi\\AppData\\Local\\Temp\\ipykernel_28708\\1561428108.py:13: PerformanceWarning: DataFrame is highly fragmented.  This is usually the result of calling `frame.insert` many times, which has poor performance.  Consider joining all columns at once using pd.concat(axis=1) instead. To get a de-fragmented frame, use `newframe = frame.copy()`\n",
      "  means_ossidi_di_azoto.insert(n2_column + 1, 'w18 y2014', w18_2014_column)\n",
      "C:\\Users\\massi\\AppData\\Local\\Temp\\ipykernel_28708\\1561428108.py:18: PerformanceWarning: DataFrame is highly fragmented.  This is usually the result of calling `frame.insert` many times, which has poor performance.  Consider joining all columns at once using pd.concat(axis=1) instead. To get a de-fragmented frame, use `newframe = frame.copy()`\n",
      "  means_ossidi_di_azoto.insert(n3_column + 1, 'w19 y2014', w19_2014_column)\n",
      "C:\\Users\\massi\\AppData\\Local\\Temp\\ipykernel_28708\\1561428108.py:23: PerformanceWarning: DataFrame is highly fragmented.  This is usually the result of calling `frame.insert` many times, which has poor performance.  Consider joining all columns at once using pd.concat(axis=1) instead. To get a de-fragmented frame, use `newframe = frame.copy()`\n",
      "  means_ossidi_di_azoto.insert(n4_column + 1, 'w6 y2015', w6_2015_column)\n"
     ]
    },
    {
     "data": {
      "text/plain": "   IdSensore  w1 y2013  w2 y2013  w3 y2013  w4 y2013  w5 y2013  w6 y2013  \\\n0     6270.0    115.07     85.40    120.95    132.33    103.44     96.61   \n1     6276.0    218.54    149.66    219.88    207.31    171.00    163.75   \n2     6284.0    141.10     87.09       NaN    163.61    124.98    119.18   \n3     6288.0     96.85     69.41     73.45     99.12    122.45     52.13   \n4     6290.0    306.47    170.45    223.01    241.45    225.13    122.01   \n\n   w7 y2013  w8 y2013  w9 y2013  ...  w44 y2016  w45 y2016  w46 y2016  \\\n0    173.59     84.13    114.89  ...      70.58      80.84      96.11   \n1    273.41    121.25    197.50  ...     111.81     137.37     127.73   \n2    223.75    124.49    152.37  ...     106.44     137.45     149.39   \n3    100.45     58.09     69.86  ...      57.95      72.42      86.12   \n4    189.04    129.45    191.27  ...     149.06     179.72     182.74   \n\n   w47 y2016  w48 y2016  w49 y2016  w50 y2016  w51 y2016  w52 y2016  w53 y2016  \n0      84.54      78.03     122.81      96.03     104.88      92.11      75.95  \n1     117.90     184.79     137.36     120.34     186.35     174.75     173.38  \n2     148.98     120.64     218.04     171.08     207.61     237.89     245.88  \n3     111.51      61.21     120.94     189.29     152.57     106.95      88.53  \n4     161.68     197.70     328.94     345.37     307.64     275.88     275.58  \n\n[5 rows x 213 columns]",
      "text/html": "<div>\n<style scoped>\n    .dataframe tbody tr th:only-of-type {\n        vertical-align: middle;\n    }\n\n    .dataframe tbody tr th {\n        vertical-align: top;\n    }\n\n    .dataframe thead th {\n        text-align: right;\n    }\n</style>\n<table border=\"1\" class=\"dataframe\">\n  <thead>\n    <tr style=\"text-align: right;\">\n      <th></th>\n      <th>IdSensore</th>\n      <th>w1 y2013</th>\n      <th>w2 y2013</th>\n      <th>w3 y2013</th>\n      <th>w4 y2013</th>\n      <th>w5 y2013</th>\n      <th>w6 y2013</th>\n      <th>w7 y2013</th>\n      <th>w8 y2013</th>\n      <th>w9 y2013</th>\n      <th>...</th>\n      <th>w44 y2016</th>\n      <th>w45 y2016</th>\n      <th>w46 y2016</th>\n      <th>w47 y2016</th>\n      <th>w48 y2016</th>\n      <th>w49 y2016</th>\n      <th>w50 y2016</th>\n      <th>w51 y2016</th>\n      <th>w52 y2016</th>\n      <th>w53 y2016</th>\n    </tr>\n  </thead>\n  <tbody>\n    <tr>\n      <th>0</th>\n      <td>6270.0</td>\n      <td>115.07</td>\n      <td>85.40</td>\n      <td>120.95</td>\n      <td>132.33</td>\n      <td>103.44</td>\n      <td>96.61</td>\n      <td>173.59</td>\n      <td>84.13</td>\n      <td>114.89</td>\n      <td>...</td>\n      <td>70.58</td>\n      <td>80.84</td>\n      <td>96.11</td>\n      <td>84.54</td>\n      <td>78.03</td>\n      <td>122.81</td>\n      <td>96.03</td>\n      <td>104.88</td>\n      <td>92.11</td>\n      <td>75.95</td>\n    </tr>\n    <tr>\n      <th>1</th>\n      <td>6276.0</td>\n      <td>218.54</td>\n      <td>149.66</td>\n      <td>219.88</td>\n      <td>207.31</td>\n      <td>171.00</td>\n      <td>163.75</td>\n      <td>273.41</td>\n      <td>121.25</td>\n      <td>197.50</td>\n      <td>...</td>\n      <td>111.81</td>\n      <td>137.37</td>\n      <td>127.73</td>\n      <td>117.90</td>\n      <td>184.79</td>\n      <td>137.36</td>\n      <td>120.34</td>\n      <td>186.35</td>\n      <td>174.75</td>\n      <td>173.38</td>\n    </tr>\n    <tr>\n      <th>2</th>\n      <td>6284.0</td>\n      <td>141.10</td>\n      <td>87.09</td>\n      <td>NaN</td>\n      <td>163.61</td>\n      <td>124.98</td>\n      <td>119.18</td>\n      <td>223.75</td>\n      <td>124.49</td>\n      <td>152.37</td>\n      <td>...</td>\n      <td>106.44</td>\n      <td>137.45</td>\n      <td>149.39</td>\n      <td>148.98</td>\n      <td>120.64</td>\n      <td>218.04</td>\n      <td>171.08</td>\n      <td>207.61</td>\n      <td>237.89</td>\n      <td>245.88</td>\n    </tr>\n    <tr>\n      <th>3</th>\n      <td>6288.0</td>\n      <td>96.85</td>\n      <td>69.41</td>\n      <td>73.45</td>\n      <td>99.12</td>\n      <td>122.45</td>\n      <td>52.13</td>\n      <td>100.45</td>\n      <td>58.09</td>\n      <td>69.86</td>\n      <td>...</td>\n      <td>57.95</td>\n      <td>72.42</td>\n      <td>86.12</td>\n      <td>111.51</td>\n      <td>61.21</td>\n      <td>120.94</td>\n      <td>189.29</td>\n      <td>152.57</td>\n      <td>106.95</td>\n      <td>88.53</td>\n    </tr>\n    <tr>\n      <th>4</th>\n      <td>6290.0</td>\n      <td>306.47</td>\n      <td>170.45</td>\n      <td>223.01</td>\n      <td>241.45</td>\n      <td>225.13</td>\n      <td>122.01</td>\n      <td>189.04</td>\n      <td>129.45</td>\n      <td>191.27</td>\n      <td>...</td>\n      <td>149.06</td>\n      <td>179.72</td>\n      <td>182.74</td>\n      <td>161.68</td>\n      <td>197.70</td>\n      <td>328.94</td>\n      <td>345.37</td>\n      <td>307.64</td>\n      <td>275.88</td>\n      <td>275.58</td>\n    </tr>\n  </tbody>\n</table>\n<p>5 rows × 213 columns</p>\n</div>"
     },
     "execution_count": 10,
     "metadata": {},
     "output_type": "execute_result"
    }
   ],
   "source": [
    "#w5 y2014 is missing\n",
    "#w18,19 y2014 are missing\n",
    "#w6 y2015 is missing\n",
    "\n",
    "## Select column named w5 y2014 and place it just after the column named w4 y2014\n",
    "n_column = means_ossidi_di_azoto.columns.get_loc('w4 y2014')\n",
    "w5_2014_column = means_ossidi_di_azoto.pop('w5 y2014')\n",
    "means_ossidi_di_azoto.insert(n_column + 1, 'w5 y2014', w5_2014_column)\n",
    "\n",
    "## Select column named w18 y2014 and place it just after the column named w17 y2014\n",
    "n2_column = means_ossidi_di_azoto.columns.get_loc('w17 y2014')\n",
    "w18_2014_column = means_ossidi_di_azoto.pop('w18 y2014')\n",
    "means_ossidi_di_azoto.insert(n2_column + 1, 'w18 y2014', w18_2014_column)\n",
    "\n",
    "## Select column named w19 y2014 and place it just after the column named w18 y2014\n",
    "n3_column = means_ossidi_di_azoto.columns.get_loc('w18 y2014')\n",
    "w19_2014_column = means_ossidi_di_azoto.pop('w19 y2014')\n",
    "means_ossidi_di_azoto.insert(n3_column + 1, 'w19 y2014', w19_2014_column)\n",
    "\n",
    "## Select column named w6 y2015 and place it just after the column named w5 y2015\n",
    "n4_column = means_ossidi_di_azoto.columns.get_loc('w5 y2015')\n",
    "w6_2015_column = means_ossidi_di_azoto.pop('w6 y2015')\n",
    "means_ossidi_di_azoto.insert(n4_column + 1, 'w6 y2015', w6_2015_column)\n",
    "\n",
    "means_ossidi_di_azoto.head()\n"
   ],
   "metadata": {
    "collapsed": false,
    "ExecuteTime": {
     "end_time": "2024-05-19T11:55:33.903314900Z",
     "start_time": "2024-05-19T11:55:33.838965400Z"
    }
   },
   "id": "98688c9089f7918"
  },
  {
   "cell_type": "code",
   "execution_count": 11,
   "outputs": [
    {
     "data": {
      "text/plain": "301"
     },
     "execution_count": 11,
     "metadata": {},
     "output_type": "execute_result"
    }
   ],
   "source": [
    "## Count missing values\n",
    "means_ossidi_di_azoto.isnull().sum().sum()"
   ],
   "metadata": {
    "collapsed": false,
    "ExecuteTime": {
     "end_time": "2024-05-19T11:55:34.532302800Z",
     "start_time": "2024-05-19T11:55:34.409528500Z"
    }
   },
   "id": "691fb25aa2d198e9"
  },
  {
   "cell_type": "code",
   "execution_count": 12,
   "outputs": [],
   "source": [
    "## Interpolate missing values\n",
    "means_ossidi_di_azoto_imputed = means_ossidi_di_azoto.interpolate(method='linear', axis=1, limit = 23)"
   ],
   "metadata": {
    "collapsed": false,
    "ExecuteTime": {
     "end_time": "2024-05-19T11:55:35.462581500Z",
     "start_time": "2024-05-19T11:55:35.433418100Z"
    }
   },
   "id": "800587d9a19799ae"
  },
  {
   "cell_type": "code",
   "execution_count": 17,
   "outputs": [
    {
     "data": {
      "text/plain": "0"
     },
     "execution_count": 17,
     "metadata": {},
     "output_type": "execute_result"
    }
   ],
   "source": [
    "## Count missing values\n",
    "means_ossidi_di_azoto_imputed.isnull().sum().sum()"
   ],
   "metadata": {
    "collapsed": false,
    "ExecuteTime": {
     "end_time": "2024-05-19T11:58:13.884406700Z",
     "start_time": "2024-05-19T11:58:13.842850800Z"
    }
   },
   "id": "513e6b42ffbf879b"
  },
  {
   "cell_type": "code",
   "execution_count": 16,
   "outputs": [
    {
     "data": {
      "text/plain": "   IdSensore  w1 y2013  w2 y2013  w3 y2013  w4 y2013  w5 y2013  w6 y2013  \\\n0       6270    115.07     85.40    120.95    132.33    103.44     96.61   \n1       6276    218.54    149.66    219.88    207.31    171.00    163.75   \n2       6284    141.10     87.09    125.35    163.61    124.98    119.18   \n3       6288     96.85     69.41     73.45     99.12    122.45     52.13   \n4       6290    306.47    170.45    223.01    241.45    225.13    122.01   \n\n   w7 y2013  w8 y2013  w9 y2013  ...  w44 y2016  w45 y2016  w46 y2016  \\\n0    173.59     84.13    114.89  ...      70.58      80.84      96.11   \n1    273.41    121.25    197.50  ...     111.81     137.37     127.73   \n2    223.75    124.49    152.37  ...     106.44     137.45     149.39   \n3    100.45     58.09     69.86  ...      57.95      72.42      86.12   \n4    189.04    129.45    191.27  ...     149.06     179.72     182.74   \n\n   w47 y2016  w48 y2016  w49 y2016  w50 y2016  w51 y2016  w52 y2016  w53 y2016  \n0      84.54      78.03     122.81      96.03     104.88      92.11      75.95  \n1     117.90     184.79     137.36     120.34     186.35     174.75     173.38  \n2     148.98     120.64     218.04     171.08     207.61     237.89     245.88  \n3     111.51      61.21     120.94     189.29     152.57     106.95      88.53  \n4     161.68     197.70     328.94     345.37     307.64     275.88     275.58  \n\n[5 rows x 213 columns]",
      "text/html": "<div>\n<style scoped>\n    .dataframe tbody tr th:only-of-type {\n        vertical-align: middle;\n    }\n\n    .dataframe tbody tr th {\n        vertical-align: top;\n    }\n\n    .dataframe thead th {\n        text-align: right;\n    }\n</style>\n<table border=\"1\" class=\"dataframe\">\n  <thead>\n    <tr style=\"text-align: right;\">\n      <th></th>\n      <th>IdSensore</th>\n      <th>w1 y2013</th>\n      <th>w2 y2013</th>\n      <th>w3 y2013</th>\n      <th>w4 y2013</th>\n      <th>w5 y2013</th>\n      <th>w6 y2013</th>\n      <th>w7 y2013</th>\n      <th>w8 y2013</th>\n      <th>w9 y2013</th>\n      <th>...</th>\n      <th>w44 y2016</th>\n      <th>w45 y2016</th>\n      <th>w46 y2016</th>\n      <th>w47 y2016</th>\n      <th>w48 y2016</th>\n      <th>w49 y2016</th>\n      <th>w50 y2016</th>\n      <th>w51 y2016</th>\n      <th>w52 y2016</th>\n      <th>w53 y2016</th>\n    </tr>\n  </thead>\n  <tbody>\n    <tr>\n      <th>0</th>\n      <td>6270</td>\n      <td>115.07</td>\n      <td>85.40</td>\n      <td>120.95</td>\n      <td>132.33</td>\n      <td>103.44</td>\n      <td>96.61</td>\n      <td>173.59</td>\n      <td>84.13</td>\n      <td>114.89</td>\n      <td>...</td>\n      <td>70.58</td>\n      <td>80.84</td>\n      <td>96.11</td>\n      <td>84.54</td>\n      <td>78.03</td>\n      <td>122.81</td>\n      <td>96.03</td>\n      <td>104.88</td>\n      <td>92.11</td>\n      <td>75.95</td>\n    </tr>\n    <tr>\n      <th>1</th>\n      <td>6276</td>\n      <td>218.54</td>\n      <td>149.66</td>\n      <td>219.88</td>\n      <td>207.31</td>\n      <td>171.00</td>\n      <td>163.75</td>\n      <td>273.41</td>\n      <td>121.25</td>\n      <td>197.50</td>\n      <td>...</td>\n      <td>111.81</td>\n      <td>137.37</td>\n      <td>127.73</td>\n      <td>117.90</td>\n      <td>184.79</td>\n      <td>137.36</td>\n      <td>120.34</td>\n      <td>186.35</td>\n      <td>174.75</td>\n      <td>173.38</td>\n    </tr>\n    <tr>\n      <th>2</th>\n      <td>6284</td>\n      <td>141.10</td>\n      <td>87.09</td>\n      <td>125.35</td>\n      <td>163.61</td>\n      <td>124.98</td>\n      <td>119.18</td>\n      <td>223.75</td>\n      <td>124.49</td>\n      <td>152.37</td>\n      <td>...</td>\n      <td>106.44</td>\n      <td>137.45</td>\n      <td>149.39</td>\n      <td>148.98</td>\n      <td>120.64</td>\n      <td>218.04</td>\n      <td>171.08</td>\n      <td>207.61</td>\n      <td>237.89</td>\n      <td>245.88</td>\n    </tr>\n    <tr>\n      <th>3</th>\n      <td>6288</td>\n      <td>96.85</td>\n      <td>69.41</td>\n      <td>73.45</td>\n      <td>99.12</td>\n      <td>122.45</td>\n      <td>52.13</td>\n      <td>100.45</td>\n      <td>58.09</td>\n      <td>69.86</td>\n      <td>...</td>\n      <td>57.95</td>\n      <td>72.42</td>\n      <td>86.12</td>\n      <td>111.51</td>\n      <td>61.21</td>\n      <td>120.94</td>\n      <td>189.29</td>\n      <td>152.57</td>\n      <td>106.95</td>\n      <td>88.53</td>\n    </tr>\n    <tr>\n      <th>4</th>\n      <td>6290</td>\n      <td>306.47</td>\n      <td>170.45</td>\n      <td>223.01</td>\n      <td>241.45</td>\n      <td>225.13</td>\n      <td>122.01</td>\n      <td>189.04</td>\n      <td>129.45</td>\n      <td>191.27</td>\n      <td>...</td>\n      <td>149.06</td>\n      <td>179.72</td>\n      <td>182.74</td>\n      <td>161.68</td>\n      <td>197.70</td>\n      <td>328.94</td>\n      <td>345.37</td>\n      <td>307.64</td>\n      <td>275.88</td>\n      <td>275.58</td>\n    </tr>\n  </tbody>\n</table>\n<p>5 rows × 213 columns</p>\n</div>"
     },
     "execution_count": 16,
     "metadata": {},
     "output_type": "execute_result"
    }
   ],
   "source": [
    "means_ossidi_di_azoto_imputed['IdSensore'] = means_ossidi_di_azoto_imputed['IdSensore'].astype(int)\n",
    "means_ossidi_di_azoto_imputed.head()"
   ],
   "metadata": {
    "collapsed": false,
    "ExecuteTime": {
     "end_time": "2024-05-19T11:57:50.462573200Z",
     "start_time": "2024-05-19T11:57:50.416253400Z"
    }
   },
   "id": "57026b28a6c21f43"
  },
  {
   "cell_type": "code",
   "execution_count": 18,
   "outputs": [],
   "source": [
    "## Save the dataframe to a csv file\n",
    "means_ossidi_di_azoto_imputed.to_csv('means_ossidi_di_azoto_imputed.csv', index=False)"
   ],
   "metadata": {
    "collapsed": false,
    "ExecuteTime": {
     "end_time": "2024-05-19T11:58:17.341190700Z",
     "start_time": "2024-05-19T11:58:17.295763100Z"
    }
   },
   "id": "a0a97347e027fb21"
  },
  {
   "cell_type": "code",
   "execution_count": null,
   "outputs": [],
   "source": [],
   "metadata": {
    "collapsed": false
   },
   "id": "14430f4bfe43f8c1"
  }
 ],
 "metadata": {
  "kernelspec": {
   "display_name": "Python 3",
   "language": "python",
   "name": "python3"
  },
  "language_info": {
   "codemirror_mode": {
    "name": "ipython",
    "version": 2
   },
   "file_extension": ".py",
   "mimetype": "text/x-python",
   "name": "python",
   "nbconvert_exporter": "python",
   "pygments_lexer": "ipython2",
   "version": "2.7.6"
  }
 },
 "nbformat": 4,
 "nbformat_minor": 5
}
