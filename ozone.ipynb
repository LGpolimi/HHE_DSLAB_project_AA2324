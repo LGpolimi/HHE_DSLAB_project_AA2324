{
 "cells": [
  {
   "cell_type": "code",
   "execution_count": 1,
   "id": "ad4148de1e6a3434",
   "metadata": {
    "collapsed": true,
    "ExecuteTime": {
     "end_time": "2024-05-18T13:58:12.206413300Z",
     "start_time": "2024-05-18T13:58:12.205392600Z"
    }
   },
   "outputs": [],
   "source": [
    "import pandas as pd\n",
    "import numpy as np\n",
    "import matplotlib.pyplot as plt\n",
    "import seaborn as sns"
   ]
  },
  {
   "cell_type": "code",
   "execution_count": 16,
   "outputs": [
    {
     "data": {
      "text/plain": "        IdSensore                 Data  Valore Stato UnitaMisura  \\\n0            5707  2013-01-01 00:00:00     2.8    VA       µg/m³   \n1            5707  2013-01-01 01:00:00     2.7    VA       µg/m³   \n2            5707  2013-01-01 02:00:00     2.8    VA       µg/m³   \n3            5707  2013-01-01 03:00:00     2.7    VA       µg/m³   \n4            5707  2013-01-01 04:00:00     2.7    VA       µg/m³   \n...           ...                  ...     ...   ...         ...   \n597753      10350  2016-12-31 20:00:00     6.4    VA       µg/m³   \n597754      10350  2016-12-31 21:00:00     6.1    VA       µg/m³   \n597755      10350  2016-12-31 22:00:00     7.5    VA       µg/m³   \n597756      10350  2016-12-31 23:00:00     7.2    VA       µg/m³   \n597757      10350  2017-01-01 00:00:00     7.1    VA       µg/m³   \n\n       NomeTipoSensore  Year  Month  Day  Hour  CumulativeDays  Week  \\\n0                Ozono  2013      1    1     0               1     1   \n1                Ozono  2013      1    1     1               1     1   \n2                Ozono  2013      1    1     2               1     1   \n3                Ozono  2013      1    1     3               1     1   \n4                Ozono  2013      1    1     4               1     1   \n...                ...   ...    ...  ...   ...             ...   ...   \n597753           Ozono  2016     12   31    20             366    53   \n597754           Ozono  2016     12   31    21             366    53   \n597755           Ozono  2016     12   31    22             366    53   \n597756           Ozono  2016     12   31    23             366    53   \n597757           Ozono  2017      1    1     0               1     1   \n\n        CumulativeDay  \n0                   1  \n1                   1  \n2                   1  \n3                   1  \n4                   1  \n...               ...  \n597753            366  \n597754            366  \n597755            366  \n597756            366  \n597757              1  \n\n[597758 rows x 13 columns]",
      "text/html": "<div>\n<style scoped>\n    .dataframe tbody tr th:only-of-type {\n        vertical-align: middle;\n    }\n\n    .dataframe tbody tr th {\n        vertical-align: top;\n    }\n\n    .dataframe thead th {\n        text-align: right;\n    }\n</style>\n<table border=\"1\" class=\"dataframe\">\n  <thead>\n    <tr style=\"text-align: right;\">\n      <th></th>\n      <th>IdSensore</th>\n      <th>Data</th>\n      <th>Valore</th>\n      <th>Stato</th>\n      <th>UnitaMisura</th>\n      <th>NomeTipoSensore</th>\n      <th>Year</th>\n      <th>Month</th>\n      <th>Day</th>\n      <th>Hour</th>\n      <th>CumulativeDays</th>\n      <th>Week</th>\n      <th>CumulativeDay</th>\n    </tr>\n  </thead>\n  <tbody>\n    <tr>\n      <th>0</th>\n      <td>5707</td>\n      <td>2013-01-01 00:00:00</td>\n      <td>2.8</td>\n      <td>VA</td>\n      <td>µg/m³</td>\n      <td>Ozono</td>\n      <td>2013</td>\n      <td>1</td>\n      <td>1</td>\n      <td>0</td>\n      <td>1</td>\n      <td>1</td>\n      <td>1</td>\n    </tr>\n    <tr>\n      <th>1</th>\n      <td>5707</td>\n      <td>2013-01-01 01:00:00</td>\n      <td>2.7</td>\n      <td>VA</td>\n      <td>µg/m³</td>\n      <td>Ozono</td>\n      <td>2013</td>\n      <td>1</td>\n      <td>1</td>\n      <td>1</td>\n      <td>1</td>\n      <td>1</td>\n      <td>1</td>\n    </tr>\n    <tr>\n      <th>2</th>\n      <td>5707</td>\n      <td>2013-01-01 02:00:00</td>\n      <td>2.8</td>\n      <td>VA</td>\n      <td>µg/m³</td>\n      <td>Ozono</td>\n      <td>2013</td>\n      <td>1</td>\n      <td>1</td>\n      <td>2</td>\n      <td>1</td>\n      <td>1</td>\n      <td>1</td>\n    </tr>\n    <tr>\n      <th>3</th>\n      <td>5707</td>\n      <td>2013-01-01 03:00:00</td>\n      <td>2.7</td>\n      <td>VA</td>\n      <td>µg/m³</td>\n      <td>Ozono</td>\n      <td>2013</td>\n      <td>1</td>\n      <td>1</td>\n      <td>3</td>\n      <td>1</td>\n      <td>1</td>\n      <td>1</td>\n    </tr>\n    <tr>\n      <th>4</th>\n      <td>5707</td>\n      <td>2013-01-01 04:00:00</td>\n      <td>2.7</td>\n      <td>VA</td>\n      <td>µg/m³</td>\n      <td>Ozono</td>\n      <td>2013</td>\n      <td>1</td>\n      <td>1</td>\n      <td>4</td>\n      <td>1</td>\n      <td>1</td>\n      <td>1</td>\n    </tr>\n    <tr>\n      <th>...</th>\n      <td>...</td>\n      <td>...</td>\n      <td>...</td>\n      <td>...</td>\n      <td>...</td>\n      <td>...</td>\n      <td>...</td>\n      <td>...</td>\n      <td>...</td>\n      <td>...</td>\n      <td>...</td>\n      <td>...</td>\n      <td>...</td>\n    </tr>\n    <tr>\n      <th>597753</th>\n      <td>10350</td>\n      <td>2016-12-31 20:00:00</td>\n      <td>6.4</td>\n      <td>VA</td>\n      <td>µg/m³</td>\n      <td>Ozono</td>\n      <td>2016</td>\n      <td>12</td>\n      <td>31</td>\n      <td>20</td>\n      <td>366</td>\n      <td>53</td>\n      <td>366</td>\n    </tr>\n    <tr>\n      <th>597754</th>\n      <td>10350</td>\n      <td>2016-12-31 21:00:00</td>\n      <td>6.1</td>\n      <td>VA</td>\n      <td>µg/m³</td>\n      <td>Ozono</td>\n      <td>2016</td>\n      <td>12</td>\n      <td>31</td>\n      <td>21</td>\n      <td>366</td>\n      <td>53</td>\n      <td>366</td>\n    </tr>\n    <tr>\n      <th>597755</th>\n      <td>10350</td>\n      <td>2016-12-31 22:00:00</td>\n      <td>7.5</td>\n      <td>VA</td>\n      <td>µg/m³</td>\n      <td>Ozono</td>\n      <td>2016</td>\n      <td>12</td>\n      <td>31</td>\n      <td>22</td>\n      <td>366</td>\n      <td>53</td>\n      <td>366</td>\n    </tr>\n    <tr>\n      <th>597756</th>\n      <td>10350</td>\n      <td>2016-12-31 23:00:00</td>\n      <td>7.2</td>\n      <td>VA</td>\n      <td>µg/m³</td>\n      <td>Ozono</td>\n      <td>2016</td>\n      <td>12</td>\n      <td>31</td>\n      <td>23</td>\n      <td>366</td>\n      <td>53</td>\n      <td>366</td>\n    </tr>\n    <tr>\n      <th>597757</th>\n      <td>10350</td>\n      <td>2017-01-01 00:00:00</td>\n      <td>7.1</td>\n      <td>VA</td>\n      <td>µg/m³</td>\n      <td>Ozono</td>\n      <td>2017</td>\n      <td>1</td>\n      <td>1</td>\n      <td>0</td>\n      <td>1</td>\n      <td>1</td>\n      <td>1</td>\n    </tr>\n  </tbody>\n</table>\n<p>597758 rows × 13 columns</p>\n</div>"
     },
     "execution_count": 16,
     "metadata": {},
     "output_type": "execute_result"
    }
   ],
   "source": [
    "# loading the data\n",
    "data = pd.read_csv('ozone.csv')\n",
    "data"
   ],
   "metadata": {
    "collapsed": false,
    "ExecuteTime": {
     "end_time": "2024-05-18T14:20:25.800258800Z",
     "start_time": "2024-05-18T14:20:25.134438700Z"
    }
   },
   "id": "6b4804d5541976b5"
  },
  {
   "cell_type": "code",
   "execution_count": 18,
   "outputs": [],
   "source": [
    "# dropping 2017\n",
    "data = data[data['Year'] != 2017]"
   ],
   "metadata": {
    "collapsed": false,
    "ExecuteTime": {
     "end_time": "2024-05-18T14:20:48.707909200Z",
     "start_time": "2024-05-18T14:20:48.630880900Z"
    }
   },
   "id": "9ce1e0d360a838a4"
  },
  {
   "cell_type": "code",
   "execution_count": 19,
   "outputs": [
    {
     "data": {
      "text/plain": "Year  Week  IdSensore\n2013  1     5707         119\n            5708          92\n            5710         119\n            5711           7\n            5712         119\n                        ... \n2016  53    5724          34\n            5725          34\n            9900          34\n            10282         34\n            10350         34\nLength: 3347, dtype: int64"
     },
     "execution_count": 19,
     "metadata": {},
     "output_type": "execute_result"
    }
   ],
   "source": [
    "# dropping all the nocturnal hour (from 23 to 7)\n",
    "data = data[(data['Hour'] >= 7) & (data['Hour'] <= 23)]\n",
    "# counting the number of values for each day in each year\n",
    "data.groupby(['Year', 'Week', 'IdSensore']).size()"
   ],
   "metadata": {
    "collapsed": false,
    "ExecuteTime": {
     "end_time": "2024-05-18T14:20:49.376813Z",
     "start_time": "2024-05-18T14:20:49.264982400Z"
    }
   },
   "id": "238c62b5ef1ab406"
  },
  {
   "cell_type": "code",
   "execution_count": 20,
   "outputs": [
    {
     "data": {
      "text/plain": "    IdSensore  Week 1 Year 2013  Week 2 Year 2013  Week 3 Year 2013  \\\n0      5707.0             12.60              8.85             18.15   \n1      5708.0              5.86              5.74              8.34   \n2      5710.0              4.97              5.05              8.08   \n3      5711.0              4.03              5.12              7.39   \n4      5712.0             12.51             15.25              9.98   \n5      5714.0             16.64             14.00             16.29   \n6      5715.0              5.65              5.25              8.01   \n7      5718.0              5.42              5.27              8.85   \n8      5717.0              6.45              7.69              8.74   \n9      5721.0             16.62             13.39             16.75   \n10     5722.0               NaN               NaN              8.41   \n11     5724.0              9.80              7.44             11.82   \n12     5725.0              2.14              2.07              2.94   \n13     9900.0              7.43              7.44              8.67   \n14    10282.0              6.04              6.25              7.36   \n15    10350.0             18.10             15.58             21.46   \n\n    Week 4 Year 2013  Week 5 Year 2013  Week 6 Year 2013  Week 7 Year 2013  \\\n0               9.60             24.77             39.21             22.12   \n1               8.66             18.53             27.94             13.99   \n2              12.25             16.53             28.98             21.19   \n3               6.28             14.46             20.33             13.31   \n4               9.00             15.67             30.54             29.31   \n5              15.07             22.21             33.58             29.71   \n6               6.54             15.15             21.00             12.32   \n7               6.46             15.30             47.96             17.48   \n8               8.94             10.33             17.33             12.48   \n9              14.75             23.35             35.47             29.13   \n10             11.18             17.32             25.05             21.15   \n11             12.74             17.30             31.37             28.02   \n12              5.10              9.82             19.14             15.95   \n13              9.37             11.27             22.30             19.05   \n14              8.25              6.35             18.65             17.86   \n15             16.94             25.87             37.90             27.28   \n\n    Week 8 Year 2013  Week 9 Year 2013  ...  Week 45 Year 2016  \\\n0              28.45             29.57  ...              13.33   \n1              12.22             12.70  ...              10.21   \n2              24.88             24.49  ...               6.53   \n3              13.37             20.65  ...              10.74   \n4              36.70             32.24  ...               7.64   \n5              29.20             36.85  ...              15.59   \n6              20.78             22.73  ...              11.73   \n7              18.28               NaN  ...              11.69   \n8              13.86             14.91  ...               7.76   \n9              27.98             34.65  ...              14.78   \n10             23.75             26.84  ...              10.78   \n11             29.31             33.49  ...              16.12   \n12             15.00             25.77  ...               9.08   \n13             18.72             21.80  ...               9.04   \n14             17.89             23.64  ...               9.43   \n15             32.25             31.73  ...              13.04   \n\n    Week 46 Year 2016  Week 47 Year 2016  Week 48 Year 2016  \\\n0               13.91               3.35              17.59   \n1               13.26               6.99              15.60   \n2                7.04               2.74               9.89   \n3                9.75               5.03              14.47   \n4                5.64               0.70              11.64   \n5               13.80               8.86              18.21   \n6               11.87               7.67              14.02   \n7               11.89               6.09               9.19   \n8                7.14               1.86              10.40   \n9               16.71               9.54              21.40   \n10              10.98               6.91              11.86   \n11              12.88               7.10              19.13   \n12               9.18               5.30              11.20   \n13               6.35               1.93              12.18   \n14               9.14               4.61              11.82   \n15              13.88               5.95              18.44   \n\n    Week 49 Year 2016  Week 50 Year 2016  Week 51 Year 2016  \\\n0                5.89               2.96               5.64   \n1                9.57               7.23               7.40   \n2                3.62               1.58               1.55   \n3                8.63               6.07               6.06   \n4                6.18               4.99               5.37   \n5                9.65               7.79               6.29   \n6                9.97               8.09               8.23   \n7                4.46               1.77               2.03   \n8                4.00               1.34               1.43   \n9               10.86               7.02               7.16   \n10               8.56               7.07               6.68   \n11              10.90               7.81               9.47   \n12               7.84               6.48               9.08   \n13               5.21               2.69               3.00   \n14               6.74               3.98               3.39   \n15              10.22               6.95               8.97   \n\n    Week 52 Year 2016  Week 53 Year 2016  Week 7 Year 2016  \n0               14.45               8.47               NaN  \n1               16.72               9.95             15.77  \n2               10.49               3.47             14.88  \n3               12.81               9.62             16.48  \n4               13.72               8.69             19.98  \n5                3.72              11.29             16.51  \n6               12.52              11.21             15.51  \n7                6.20               5.12             25.73  \n8                9.92               5.08             11.59  \n9               10.26              12.95             23.17  \n10              15.13               8.61               NaN  \n11              22.55              14.59             21.70  \n12              19.35              21.79              9.95  \n13               9.96               5.75             12.41  \n14              12.14               6.49             21.11  \n15              15.29              10.71             21.65  \n\n[16 rows x 213 columns]",
      "text/html": "<div>\n<style scoped>\n    .dataframe tbody tr th:only-of-type {\n        vertical-align: middle;\n    }\n\n    .dataframe tbody tr th {\n        vertical-align: top;\n    }\n\n    .dataframe thead th {\n        text-align: right;\n    }\n</style>\n<table border=\"1\" class=\"dataframe\">\n  <thead>\n    <tr style=\"text-align: right;\">\n      <th></th>\n      <th>IdSensore</th>\n      <th>Week 1 Year 2013</th>\n      <th>Week 2 Year 2013</th>\n      <th>Week 3 Year 2013</th>\n      <th>Week 4 Year 2013</th>\n      <th>Week 5 Year 2013</th>\n      <th>Week 6 Year 2013</th>\n      <th>Week 7 Year 2013</th>\n      <th>Week 8 Year 2013</th>\n      <th>Week 9 Year 2013</th>\n      <th>...</th>\n      <th>Week 45 Year 2016</th>\n      <th>Week 46 Year 2016</th>\n      <th>Week 47 Year 2016</th>\n      <th>Week 48 Year 2016</th>\n      <th>Week 49 Year 2016</th>\n      <th>Week 50 Year 2016</th>\n      <th>Week 51 Year 2016</th>\n      <th>Week 52 Year 2016</th>\n      <th>Week 53 Year 2016</th>\n      <th>Week 7 Year 2016</th>\n    </tr>\n  </thead>\n  <tbody>\n    <tr>\n      <th>0</th>\n      <td>5707.0</td>\n      <td>12.60</td>\n      <td>8.85</td>\n      <td>18.15</td>\n      <td>9.60</td>\n      <td>24.77</td>\n      <td>39.21</td>\n      <td>22.12</td>\n      <td>28.45</td>\n      <td>29.57</td>\n      <td>...</td>\n      <td>13.33</td>\n      <td>13.91</td>\n      <td>3.35</td>\n      <td>17.59</td>\n      <td>5.89</td>\n      <td>2.96</td>\n      <td>5.64</td>\n      <td>14.45</td>\n      <td>8.47</td>\n      <td>NaN</td>\n    </tr>\n    <tr>\n      <th>1</th>\n      <td>5708.0</td>\n      <td>5.86</td>\n      <td>5.74</td>\n      <td>8.34</td>\n      <td>8.66</td>\n      <td>18.53</td>\n      <td>27.94</td>\n      <td>13.99</td>\n      <td>12.22</td>\n      <td>12.70</td>\n      <td>...</td>\n      <td>10.21</td>\n      <td>13.26</td>\n      <td>6.99</td>\n      <td>15.60</td>\n      <td>9.57</td>\n      <td>7.23</td>\n      <td>7.40</td>\n      <td>16.72</td>\n      <td>9.95</td>\n      <td>15.77</td>\n    </tr>\n    <tr>\n      <th>2</th>\n      <td>5710.0</td>\n      <td>4.97</td>\n      <td>5.05</td>\n      <td>8.08</td>\n      <td>12.25</td>\n      <td>16.53</td>\n      <td>28.98</td>\n      <td>21.19</td>\n      <td>24.88</td>\n      <td>24.49</td>\n      <td>...</td>\n      <td>6.53</td>\n      <td>7.04</td>\n      <td>2.74</td>\n      <td>9.89</td>\n      <td>3.62</td>\n      <td>1.58</td>\n      <td>1.55</td>\n      <td>10.49</td>\n      <td>3.47</td>\n      <td>14.88</td>\n    </tr>\n    <tr>\n      <th>3</th>\n      <td>5711.0</td>\n      <td>4.03</td>\n      <td>5.12</td>\n      <td>7.39</td>\n      <td>6.28</td>\n      <td>14.46</td>\n      <td>20.33</td>\n      <td>13.31</td>\n      <td>13.37</td>\n      <td>20.65</td>\n      <td>...</td>\n      <td>10.74</td>\n      <td>9.75</td>\n      <td>5.03</td>\n      <td>14.47</td>\n      <td>8.63</td>\n      <td>6.07</td>\n      <td>6.06</td>\n      <td>12.81</td>\n      <td>9.62</td>\n      <td>16.48</td>\n    </tr>\n    <tr>\n      <th>4</th>\n      <td>5712.0</td>\n      <td>12.51</td>\n      <td>15.25</td>\n      <td>9.98</td>\n      <td>9.00</td>\n      <td>15.67</td>\n      <td>30.54</td>\n      <td>29.31</td>\n      <td>36.70</td>\n      <td>32.24</td>\n      <td>...</td>\n      <td>7.64</td>\n      <td>5.64</td>\n      <td>0.70</td>\n      <td>11.64</td>\n      <td>6.18</td>\n      <td>4.99</td>\n      <td>5.37</td>\n      <td>13.72</td>\n      <td>8.69</td>\n      <td>19.98</td>\n    </tr>\n    <tr>\n      <th>5</th>\n      <td>5714.0</td>\n      <td>16.64</td>\n      <td>14.00</td>\n      <td>16.29</td>\n      <td>15.07</td>\n      <td>22.21</td>\n      <td>33.58</td>\n      <td>29.71</td>\n      <td>29.20</td>\n      <td>36.85</td>\n      <td>...</td>\n      <td>15.59</td>\n      <td>13.80</td>\n      <td>8.86</td>\n      <td>18.21</td>\n      <td>9.65</td>\n      <td>7.79</td>\n      <td>6.29</td>\n      <td>3.72</td>\n      <td>11.29</td>\n      <td>16.51</td>\n    </tr>\n    <tr>\n      <th>6</th>\n      <td>5715.0</td>\n      <td>5.65</td>\n      <td>5.25</td>\n      <td>8.01</td>\n      <td>6.54</td>\n      <td>15.15</td>\n      <td>21.00</td>\n      <td>12.32</td>\n      <td>20.78</td>\n      <td>22.73</td>\n      <td>...</td>\n      <td>11.73</td>\n      <td>11.87</td>\n      <td>7.67</td>\n      <td>14.02</td>\n      <td>9.97</td>\n      <td>8.09</td>\n      <td>8.23</td>\n      <td>12.52</td>\n      <td>11.21</td>\n      <td>15.51</td>\n    </tr>\n    <tr>\n      <th>7</th>\n      <td>5718.0</td>\n      <td>5.42</td>\n      <td>5.27</td>\n      <td>8.85</td>\n      <td>6.46</td>\n      <td>15.30</td>\n      <td>47.96</td>\n      <td>17.48</td>\n      <td>18.28</td>\n      <td>NaN</td>\n      <td>...</td>\n      <td>11.69</td>\n      <td>11.89</td>\n      <td>6.09</td>\n      <td>9.19</td>\n      <td>4.46</td>\n      <td>1.77</td>\n      <td>2.03</td>\n      <td>6.20</td>\n      <td>5.12</td>\n      <td>25.73</td>\n    </tr>\n    <tr>\n      <th>8</th>\n      <td>5717.0</td>\n      <td>6.45</td>\n      <td>7.69</td>\n      <td>8.74</td>\n      <td>8.94</td>\n      <td>10.33</td>\n      <td>17.33</td>\n      <td>12.48</td>\n      <td>13.86</td>\n      <td>14.91</td>\n      <td>...</td>\n      <td>7.76</td>\n      <td>7.14</td>\n      <td>1.86</td>\n      <td>10.40</td>\n      <td>4.00</td>\n      <td>1.34</td>\n      <td>1.43</td>\n      <td>9.92</td>\n      <td>5.08</td>\n      <td>11.59</td>\n    </tr>\n    <tr>\n      <th>9</th>\n      <td>5721.0</td>\n      <td>16.62</td>\n      <td>13.39</td>\n      <td>16.75</td>\n      <td>14.75</td>\n      <td>23.35</td>\n      <td>35.47</td>\n      <td>29.13</td>\n      <td>27.98</td>\n      <td>34.65</td>\n      <td>...</td>\n      <td>14.78</td>\n      <td>16.71</td>\n      <td>9.54</td>\n      <td>21.40</td>\n      <td>10.86</td>\n      <td>7.02</td>\n      <td>7.16</td>\n      <td>10.26</td>\n      <td>12.95</td>\n      <td>23.17</td>\n    </tr>\n    <tr>\n      <th>10</th>\n      <td>5722.0</td>\n      <td>NaN</td>\n      <td>NaN</td>\n      <td>8.41</td>\n      <td>11.18</td>\n      <td>17.32</td>\n      <td>25.05</td>\n      <td>21.15</td>\n      <td>23.75</td>\n      <td>26.84</td>\n      <td>...</td>\n      <td>10.78</td>\n      <td>10.98</td>\n      <td>6.91</td>\n      <td>11.86</td>\n      <td>8.56</td>\n      <td>7.07</td>\n      <td>6.68</td>\n      <td>15.13</td>\n      <td>8.61</td>\n      <td>NaN</td>\n    </tr>\n    <tr>\n      <th>11</th>\n      <td>5724.0</td>\n      <td>9.80</td>\n      <td>7.44</td>\n      <td>11.82</td>\n      <td>12.74</td>\n      <td>17.30</td>\n      <td>31.37</td>\n      <td>28.02</td>\n      <td>29.31</td>\n      <td>33.49</td>\n      <td>...</td>\n      <td>16.12</td>\n      <td>12.88</td>\n      <td>7.10</td>\n      <td>19.13</td>\n      <td>10.90</td>\n      <td>7.81</td>\n      <td>9.47</td>\n      <td>22.55</td>\n      <td>14.59</td>\n      <td>21.70</td>\n    </tr>\n    <tr>\n      <th>12</th>\n      <td>5725.0</td>\n      <td>2.14</td>\n      <td>2.07</td>\n      <td>2.94</td>\n      <td>5.10</td>\n      <td>9.82</td>\n      <td>19.14</td>\n      <td>15.95</td>\n      <td>15.00</td>\n      <td>25.77</td>\n      <td>...</td>\n      <td>9.08</td>\n      <td>9.18</td>\n      <td>5.30</td>\n      <td>11.20</td>\n      <td>7.84</td>\n      <td>6.48</td>\n      <td>9.08</td>\n      <td>19.35</td>\n      <td>21.79</td>\n      <td>9.95</td>\n    </tr>\n    <tr>\n      <th>13</th>\n      <td>9900.0</td>\n      <td>7.43</td>\n      <td>7.44</td>\n      <td>8.67</td>\n      <td>9.37</td>\n      <td>11.27</td>\n      <td>22.30</td>\n      <td>19.05</td>\n      <td>18.72</td>\n      <td>21.80</td>\n      <td>...</td>\n      <td>9.04</td>\n      <td>6.35</td>\n      <td>1.93</td>\n      <td>12.18</td>\n      <td>5.21</td>\n      <td>2.69</td>\n      <td>3.00</td>\n      <td>9.96</td>\n      <td>5.75</td>\n      <td>12.41</td>\n    </tr>\n    <tr>\n      <th>14</th>\n      <td>10282.0</td>\n      <td>6.04</td>\n      <td>6.25</td>\n      <td>7.36</td>\n      <td>8.25</td>\n      <td>6.35</td>\n      <td>18.65</td>\n      <td>17.86</td>\n      <td>17.89</td>\n      <td>23.64</td>\n      <td>...</td>\n      <td>9.43</td>\n      <td>9.14</td>\n      <td>4.61</td>\n      <td>11.82</td>\n      <td>6.74</td>\n      <td>3.98</td>\n      <td>3.39</td>\n      <td>12.14</td>\n      <td>6.49</td>\n      <td>21.11</td>\n    </tr>\n    <tr>\n      <th>15</th>\n      <td>10350.0</td>\n      <td>18.10</td>\n      <td>15.58</td>\n      <td>21.46</td>\n      <td>16.94</td>\n      <td>25.87</td>\n      <td>37.90</td>\n      <td>27.28</td>\n      <td>32.25</td>\n      <td>31.73</td>\n      <td>...</td>\n      <td>13.04</td>\n      <td>13.88</td>\n      <td>5.95</td>\n      <td>18.44</td>\n      <td>10.22</td>\n      <td>6.95</td>\n      <td>8.97</td>\n      <td>15.29</td>\n      <td>10.71</td>\n      <td>21.65</td>\n    </tr>\n  </tbody>\n</table>\n<p>16 rows × 213 columns</p>\n</div>"
     },
     "execution_count": 20,
     "metadata": {},
     "output_type": "execute_result"
    }
   ],
   "source": [
    "# weekly_std = data.groupby(['Year', 'Week']).size().std()\n",
    "data['IdSensore'].unique()\n",
    "# total number of weeks in the dataset\n",
    "weeks = data.groupby(['Year', 'Week']).size().count()\n",
    "# computing the maean for each sensors\n",
    "# creating the dataframe\n",
    "colarray = ['IdSensore']\n",
    "for years in data['Year'].unique():\n",
    "    for week in data[data['Year'] == years]['Week'].unique():\n",
    "        colarray.append('Week ' + str(week) + ' Year ' + str(years))\n",
    "means = pd.DataFrame(columns=colarray)\n",
    "\n",
    "for sensor in data['IdSensore'].unique():\n",
    "    currmeans = []\n",
    "    for year in data['Year'].unique():\n",
    "        for week in data[data['Year'] == year]['Week'].unique():\n",
    "            currentweek = data[(data['Year'] == year) & (data['Week'] == week) & (data['IdSensore'] == sensor)]\n",
    "            currmeans.append(round(currentweek['Valore'].mean(), 2))\n",
    "    # adding the means of the sensors as a row in the dataframe\n",
    "    means.loc[len(means)] = [sensor] + currmeans\n",
    "means"
   ],
   "metadata": {
    "collapsed": false,
    "ExecuteTime": {
     "end_time": "2024-05-18T14:20:55.811742200Z",
     "start_time": "2024-05-18T14:20:49.783537700Z"
    }
   },
   "id": "4c6f5484ae95a48a"
  },
  {
   "cell_type": "code",
   "execution_count": 21,
   "outputs": [
    {
     "data": {
      "text/plain": "0      2\n1      3\n2      1\n3      1\n4      3\n5      7\n6      4\n7      2\n8      1\n9      0\n10    13\n11     1\n12     4\n13     1\n14     0\n15     2\ndtype: int64"
     },
     "execution_count": 21,
     "metadata": {},
     "output_type": "execute_result"
    }
   ],
   "source": [
    "# finding out the number of missing values for each row\n",
    "missing = means.isna().sum(axis=1)\n",
    "missing"
   ],
   "metadata": {
    "collapsed": false,
    "ExecuteTime": {
     "end_time": "2024-05-18T14:20:55.842864700Z",
     "start_time": "2024-05-18T14:20:55.818286900Z"
    }
   },
   "id": "17f4e37e933a49df"
  },
  {
   "cell_type": "code",
   "execution_count": 22,
   "outputs": [],
   "source": [
    "# dropping the rows with more than 100 missing values\n",
    "means = means[missing <= 100]"
   ],
   "metadata": {
    "collapsed": false,
    "ExecuteTime": {
     "end_time": "2024-05-18T14:21:03.081583300Z",
     "start_time": "2024-05-18T14:21:03.066580300Z"
    }
   },
   "id": "4ad1860d319ccf4c"
  },
  {
   "cell_type": "code",
   "execution_count": 9,
   "outputs": [
    {
     "data": {
      "text/plain": "    IdSensore  Week 1 Year 2013  Week 2 Year 2013  Week 3 Year 2013  \\\n0      5707.0             12.60              8.85             18.15   \n1      5708.0              5.86              5.74              8.34   \n2      5710.0              4.97              5.05              8.08   \n3      5711.0              4.03              5.12              7.39   \n4      5712.0             12.51             15.25              9.98   \n5      5714.0             16.64             14.00             16.29   \n6      5715.0              5.65              5.25              8.01   \n7      5718.0              5.42              5.27              8.85   \n8      5717.0              6.45              7.69              8.74   \n9      5721.0             16.62             13.39             16.75   \n10     5722.0               NaN               NaN              8.41   \n11     5724.0              9.80              7.44             11.82   \n12     5725.0              2.14              2.07              2.94   \n13     9900.0              7.43              7.44              8.67   \n14    10282.0              6.04              6.25              7.36   \n15    10350.0             18.10             15.58             21.46   \n\n    Week 4 Year 2013  Week 5 Year 2013  Week 6 Year 2013  Week 7 Year 2013  \\\n0               9.60             24.77             39.21             22.12   \n1               8.66             18.53             27.94             13.99   \n2              12.25             16.53             28.98             21.19   \n3               6.28             14.46             20.33             13.31   \n4               9.00             15.67             30.54             29.31   \n5              15.07             22.21             33.58             29.71   \n6               6.54             15.15             21.00             12.32   \n7               6.46             15.30             47.96             17.48   \n8               8.94             10.33             17.33             12.48   \n9              14.75             23.35             35.47             29.13   \n10             11.18             17.32             25.05             21.15   \n11             12.74             17.30             31.37             28.02   \n12              5.10              9.82             19.14             15.95   \n13              9.37             11.27             22.30             19.05   \n14              8.25              6.35             18.65             17.86   \n15             16.94             25.87             37.90             27.28   \n\n    Week 8 Year 2013  Week 9 Year 2013  ...  Week 45 Year 2017  \\\n0              28.45             29.57  ...              17.29   \n1              12.22             12.70  ...                NaN   \n2              24.88             24.49  ...              12.24   \n3              13.37             20.65  ...                NaN   \n4              36.70             32.24  ...                NaN   \n5              29.20             36.85  ...                NaN   \n6              20.78             22.73  ...                NaN   \n7              18.28               NaN  ...              11.58   \n8              13.86             14.91  ...               8.60   \n9              27.98             34.65  ...              18.79   \n10             23.75             26.84  ...                NaN   \n11             29.31             33.49  ...                NaN   \n12             15.00             25.77  ...                NaN   \n13             18.72             21.80  ...              11.07   \n14             17.89             23.64  ...               9.99   \n15             32.25             31.73  ...                NaN   \n\n    Week 46 Year 2017  Week 47 Year 2017  Week 48 Year 2017  \\\n0               18.16               9.08              22.22   \n1                 NaN                NaN                NaN   \n2               11.81              11.73              12.99   \n3                 NaN                NaN                NaN   \n4                 NaN                NaN                NaN   \n5                 NaN                NaN                NaN   \n6                 NaN                NaN                NaN   \n7               12.84               5.86              15.24   \n8                8.81               6.24              10.09   \n9               22.25              13.28              19.32   \n10                NaN                NaN                NaN   \n11                NaN                NaN                NaN   \n12                NaN                NaN               9.46   \n13              10.35               9.45               9.68   \n14               8.23               6.79              13.53   \n15                NaN                NaN                NaN   \n\n    Week 49 Year 2017  Week 50 Year 2017  Week 51 Year 2017  \\\n0               13.41               8.40              12.17   \n1                 NaN                NaN                NaN   \n2               17.29              12.50              11.28   \n3                 NaN                NaN                NaN   \n4                 NaN                NaN                NaN   \n5                 NaN                NaN                NaN   \n6                 NaN                NaN                NaN   \n7                9.17               5.52               7.95   \n8                9.53               5.54               3.93   \n9               16.16              11.47              11.54   \n10                NaN                NaN                NaN   \n11                NaN                NaN                NaN   \n12               8.79               5.78               5.23   \n13              11.66               5.12               4.25   \n14              11.05               6.30               5.63   \n15                NaN                NaN                NaN   \n\n    Week 52 Year 2017  Week 53 Year 2017  Week 6 Year 2017  \n0               21.31               2.48               NaN  \n1                 NaN                NaN               NaN  \n2               24.36              12.82              9.45  \n3                 NaN                NaN               NaN  \n4                 NaN                NaN               NaN  \n5                 NaN                NaN               NaN  \n6                 NaN                NaN               NaN  \n7               14.59               1.79              7.64  \n8                8.66               3.90              9.22  \n9               18.74               6.89             19.93  \n10                NaN                NaN               NaN  \n11                NaN                NaN               NaN  \n12              10.88               4.01              4.03  \n13                NaN                NaN             12.35  \n14              12.36               3.75             10.83  \n15                NaN                NaN               NaN  \n\n[16 rows x 266 columns]",
      "text/html": "<div>\n<style scoped>\n    .dataframe tbody tr th:only-of-type {\n        vertical-align: middle;\n    }\n\n    .dataframe tbody tr th {\n        vertical-align: top;\n    }\n\n    .dataframe thead th {\n        text-align: right;\n    }\n</style>\n<table border=\"1\" class=\"dataframe\">\n  <thead>\n    <tr style=\"text-align: right;\">\n      <th></th>\n      <th>IdSensore</th>\n      <th>Week 1 Year 2013</th>\n      <th>Week 2 Year 2013</th>\n      <th>Week 3 Year 2013</th>\n      <th>Week 4 Year 2013</th>\n      <th>Week 5 Year 2013</th>\n      <th>Week 6 Year 2013</th>\n      <th>Week 7 Year 2013</th>\n      <th>Week 8 Year 2013</th>\n      <th>Week 9 Year 2013</th>\n      <th>...</th>\n      <th>Week 45 Year 2017</th>\n      <th>Week 46 Year 2017</th>\n      <th>Week 47 Year 2017</th>\n      <th>Week 48 Year 2017</th>\n      <th>Week 49 Year 2017</th>\n      <th>Week 50 Year 2017</th>\n      <th>Week 51 Year 2017</th>\n      <th>Week 52 Year 2017</th>\n      <th>Week 53 Year 2017</th>\n      <th>Week 6 Year 2017</th>\n    </tr>\n  </thead>\n  <tbody>\n    <tr>\n      <th>0</th>\n      <td>5707.0</td>\n      <td>12.60</td>\n      <td>8.85</td>\n      <td>18.15</td>\n      <td>9.60</td>\n      <td>24.77</td>\n      <td>39.21</td>\n      <td>22.12</td>\n      <td>28.45</td>\n      <td>29.57</td>\n      <td>...</td>\n      <td>17.29</td>\n      <td>18.16</td>\n      <td>9.08</td>\n      <td>22.22</td>\n      <td>13.41</td>\n      <td>8.40</td>\n      <td>12.17</td>\n      <td>21.31</td>\n      <td>2.48</td>\n      <td>NaN</td>\n    </tr>\n    <tr>\n      <th>1</th>\n      <td>5708.0</td>\n      <td>5.86</td>\n      <td>5.74</td>\n      <td>8.34</td>\n      <td>8.66</td>\n      <td>18.53</td>\n      <td>27.94</td>\n      <td>13.99</td>\n      <td>12.22</td>\n      <td>12.70</td>\n      <td>...</td>\n      <td>NaN</td>\n      <td>NaN</td>\n      <td>NaN</td>\n      <td>NaN</td>\n      <td>NaN</td>\n      <td>NaN</td>\n      <td>NaN</td>\n      <td>NaN</td>\n      <td>NaN</td>\n      <td>NaN</td>\n    </tr>\n    <tr>\n      <th>2</th>\n      <td>5710.0</td>\n      <td>4.97</td>\n      <td>5.05</td>\n      <td>8.08</td>\n      <td>12.25</td>\n      <td>16.53</td>\n      <td>28.98</td>\n      <td>21.19</td>\n      <td>24.88</td>\n      <td>24.49</td>\n      <td>...</td>\n      <td>12.24</td>\n      <td>11.81</td>\n      <td>11.73</td>\n      <td>12.99</td>\n      <td>17.29</td>\n      <td>12.50</td>\n      <td>11.28</td>\n      <td>24.36</td>\n      <td>12.82</td>\n      <td>9.45</td>\n    </tr>\n    <tr>\n      <th>3</th>\n      <td>5711.0</td>\n      <td>4.03</td>\n      <td>5.12</td>\n      <td>7.39</td>\n      <td>6.28</td>\n      <td>14.46</td>\n      <td>20.33</td>\n      <td>13.31</td>\n      <td>13.37</td>\n      <td>20.65</td>\n      <td>...</td>\n      <td>NaN</td>\n      <td>NaN</td>\n      <td>NaN</td>\n      <td>NaN</td>\n      <td>NaN</td>\n      <td>NaN</td>\n      <td>NaN</td>\n      <td>NaN</td>\n      <td>NaN</td>\n      <td>NaN</td>\n    </tr>\n    <tr>\n      <th>4</th>\n      <td>5712.0</td>\n      <td>12.51</td>\n      <td>15.25</td>\n      <td>9.98</td>\n      <td>9.00</td>\n      <td>15.67</td>\n      <td>30.54</td>\n      <td>29.31</td>\n      <td>36.70</td>\n      <td>32.24</td>\n      <td>...</td>\n      <td>NaN</td>\n      <td>NaN</td>\n      <td>NaN</td>\n      <td>NaN</td>\n      <td>NaN</td>\n      <td>NaN</td>\n      <td>NaN</td>\n      <td>NaN</td>\n      <td>NaN</td>\n      <td>NaN</td>\n    </tr>\n    <tr>\n      <th>5</th>\n      <td>5714.0</td>\n      <td>16.64</td>\n      <td>14.00</td>\n      <td>16.29</td>\n      <td>15.07</td>\n      <td>22.21</td>\n      <td>33.58</td>\n      <td>29.71</td>\n      <td>29.20</td>\n      <td>36.85</td>\n      <td>...</td>\n      <td>NaN</td>\n      <td>NaN</td>\n      <td>NaN</td>\n      <td>NaN</td>\n      <td>NaN</td>\n      <td>NaN</td>\n      <td>NaN</td>\n      <td>NaN</td>\n      <td>NaN</td>\n      <td>NaN</td>\n    </tr>\n    <tr>\n      <th>6</th>\n      <td>5715.0</td>\n      <td>5.65</td>\n      <td>5.25</td>\n      <td>8.01</td>\n      <td>6.54</td>\n      <td>15.15</td>\n      <td>21.00</td>\n      <td>12.32</td>\n      <td>20.78</td>\n      <td>22.73</td>\n      <td>...</td>\n      <td>NaN</td>\n      <td>NaN</td>\n      <td>NaN</td>\n      <td>NaN</td>\n      <td>NaN</td>\n      <td>NaN</td>\n      <td>NaN</td>\n      <td>NaN</td>\n      <td>NaN</td>\n      <td>NaN</td>\n    </tr>\n    <tr>\n      <th>7</th>\n      <td>5718.0</td>\n      <td>5.42</td>\n      <td>5.27</td>\n      <td>8.85</td>\n      <td>6.46</td>\n      <td>15.30</td>\n      <td>47.96</td>\n      <td>17.48</td>\n      <td>18.28</td>\n      <td>NaN</td>\n      <td>...</td>\n      <td>11.58</td>\n      <td>12.84</td>\n      <td>5.86</td>\n      <td>15.24</td>\n      <td>9.17</td>\n      <td>5.52</td>\n      <td>7.95</td>\n      <td>14.59</td>\n      <td>1.79</td>\n      <td>7.64</td>\n    </tr>\n    <tr>\n      <th>8</th>\n      <td>5717.0</td>\n      <td>6.45</td>\n      <td>7.69</td>\n      <td>8.74</td>\n      <td>8.94</td>\n      <td>10.33</td>\n      <td>17.33</td>\n      <td>12.48</td>\n      <td>13.86</td>\n      <td>14.91</td>\n      <td>...</td>\n      <td>8.60</td>\n      <td>8.81</td>\n      <td>6.24</td>\n      <td>10.09</td>\n      <td>9.53</td>\n      <td>5.54</td>\n      <td>3.93</td>\n      <td>8.66</td>\n      <td>3.90</td>\n      <td>9.22</td>\n    </tr>\n    <tr>\n      <th>9</th>\n      <td>5721.0</td>\n      <td>16.62</td>\n      <td>13.39</td>\n      <td>16.75</td>\n      <td>14.75</td>\n      <td>23.35</td>\n      <td>35.47</td>\n      <td>29.13</td>\n      <td>27.98</td>\n      <td>34.65</td>\n      <td>...</td>\n      <td>18.79</td>\n      <td>22.25</td>\n      <td>13.28</td>\n      <td>19.32</td>\n      <td>16.16</td>\n      <td>11.47</td>\n      <td>11.54</td>\n      <td>18.74</td>\n      <td>6.89</td>\n      <td>19.93</td>\n    </tr>\n    <tr>\n      <th>10</th>\n      <td>5722.0</td>\n      <td>NaN</td>\n      <td>NaN</td>\n      <td>8.41</td>\n      <td>11.18</td>\n      <td>17.32</td>\n      <td>25.05</td>\n      <td>21.15</td>\n      <td>23.75</td>\n      <td>26.84</td>\n      <td>...</td>\n      <td>NaN</td>\n      <td>NaN</td>\n      <td>NaN</td>\n      <td>NaN</td>\n      <td>NaN</td>\n      <td>NaN</td>\n      <td>NaN</td>\n      <td>NaN</td>\n      <td>NaN</td>\n      <td>NaN</td>\n    </tr>\n    <tr>\n      <th>11</th>\n      <td>5724.0</td>\n      <td>9.80</td>\n      <td>7.44</td>\n      <td>11.82</td>\n      <td>12.74</td>\n      <td>17.30</td>\n      <td>31.37</td>\n      <td>28.02</td>\n      <td>29.31</td>\n      <td>33.49</td>\n      <td>...</td>\n      <td>NaN</td>\n      <td>NaN</td>\n      <td>NaN</td>\n      <td>NaN</td>\n      <td>NaN</td>\n      <td>NaN</td>\n      <td>NaN</td>\n      <td>NaN</td>\n      <td>NaN</td>\n      <td>NaN</td>\n    </tr>\n    <tr>\n      <th>12</th>\n      <td>5725.0</td>\n      <td>2.14</td>\n      <td>2.07</td>\n      <td>2.94</td>\n      <td>5.10</td>\n      <td>9.82</td>\n      <td>19.14</td>\n      <td>15.95</td>\n      <td>15.00</td>\n      <td>25.77</td>\n      <td>...</td>\n      <td>NaN</td>\n      <td>NaN</td>\n      <td>NaN</td>\n      <td>9.46</td>\n      <td>8.79</td>\n      <td>5.78</td>\n      <td>5.23</td>\n      <td>10.88</td>\n      <td>4.01</td>\n      <td>4.03</td>\n    </tr>\n    <tr>\n      <th>13</th>\n      <td>9900.0</td>\n      <td>7.43</td>\n      <td>7.44</td>\n      <td>8.67</td>\n      <td>9.37</td>\n      <td>11.27</td>\n      <td>22.30</td>\n      <td>19.05</td>\n      <td>18.72</td>\n      <td>21.80</td>\n      <td>...</td>\n      <td>11.07</td>\n      <td>10.35</td>\n      <td>9.45</td>\n      <td>9.68</td>\n      <td>11.66</td>\n      <td>5.12</td>\n      <td>4.25</td>\n      <td>NaN</td>\n      <td>NaN</td>\n      <td>12.35</td>\n    </tr>\n    <tr>\n      <th>14</th>\n      <td>10282.0</td>\n      <td>6.04</td>\n      <td>6.25</td>\n      <td>7.36</td>\n      <td>8.25</td>\n      <td>6.35</td>\n      <td>18.65</td>\n      <td>17.86</td>\n      <td>17.89</td>\n      <td>23.64</td>\n      <td>...</td>\n      <td>9.99</td>\n      <td>8.23</td>\n      <td>6.79</td>\n      <td>13.53</td>\n      <td>11.05</td>\n      <td>6.30</td>\n      <td>5.63</td>\n      <td>12.36</td>\n      <td>3.75</td>\n      <td>10.83</td>\n    </tr>\n    <tr>\n      <th>15</th>\n      <td>10350.0</td>\n      <td>18.10</td>\n      <td>15.58</td>\n      <td>21.46</td>\n      <td>16.94</td>\n      <td>25.87</td>\n      <td>37.90</td>\n      <td>27.28</td>\n      <td>32.25</td>\n      <td>31.73</td>\n      <td>...</td>\n      <td>NaN</td>\n      <td>NaN</td>\n      <td>NaN</td>\n      <td>NaN</td>\n      <td>NaN</td>\n      <td>NaN</td>\n      <td>NaN</td>\n      <td>NaN</td>\n      <td>NaN</td>\n      <td>NaN</td>\n    </tr>\n  </tbody>\n</table>\n<p>16 rows × 266 columns</p>\n</div>"
     },
     "execution_count": 9,
     "metadata": {},
     "output_type": "execute_result"
    }
   ],
   "source": [
    "means"
   ],
   "metadata": {
    "collapsed": false,
    "ExecuteTime": {
     "end_time": "2024-05-18T14:14:34.008002Z",
     "start_time": "2024-05-18T14:14:33.960848700Z"
    }
   },
   "id": "36c1cf9d49544bd3"
  },
  {
   "cell_type": "code",
   "execution_count": 29,
   "outputs": [
    {
     "data": {
      "text/plain": "        0        1        2      3      4      5      6      7      8    \\\n0    5707.0    12.60     8.85  18.15   9.60  24.77  39.21  22.12  28.45   \n1    5708.0     5.86     5.74   8.34   8.66  18.53  27.94  13.99  12.22   \n2    5710.0     4.97     5.05   8.08  12.25  16.53  28.98  21.19  24.88   \n3    5711.0     4.03     5.12   7.39   6.28  14.46  20.33  13.31  13.37   \n4    5712.0    12.51    15.25   9.98   9.00  15.67  30.54  29.31  36.70   \n5    5714.0    16.64    14.00  16.29  15.07  22.21  33.58  29.71  29.20   \n6    5715.0     5.65     5.25   8.01   6.54  15.15  21.00  12.32  20.78   \n7    5718.0     5.42     5.27   8.85   6.46  15.30  47.96  17.48  18.28   \n8    5717.0     6.45     7.69   8.74   8.94  10.33  17.33  12.48  13.86   \n9    5721.0    16.62    13.39  16.75  14.75  23.35  35.47  29.13  27.98   \n10   5722.0  5722.00  5722.00   8.41  11.18  17.32  25.05  21.15  23.75   \n11   5724.0     9.80     7.44  11.82  12.74  17.30  31.37  28.02  29.31   \n12   5725.0     2.14     2.07   2.94   5.10   9.82  19.14  15.95  15.00   \n13   9900.0     7.43     7.44   8.67   9.37  11.27  22.30  19.05  18.72   \n14  10282.0     6.04     6.25   7.36   8.25   6.35  18.65  17.86  17.89   \n15  10350.0    18.10    15.58  21.46  16.94  25.87  37.90  27.28  32.25   \n\n      9    ...    203    204   205    206    207   208   209    210    211  \\\n0   29.57  ...  13.33  13.91  3.35  17.59   5.89  2.96  5.64  14.45   8.47   \n1   12.70  ...  10.21  13.26  6.99  15.60   9.57  7.23  7.40  16.72   9.95   \n2   24.49  ...   6.53   7.04  2.74   9.89   3.62  1.58  1.55  10.49   3.47   \n3   20.65  ...  10.74   9.75  5.03  14.47   8.63  6.07  6.06  12.81   9.62   \n4   32.24  ...   7.64   5.64  0.70  11.64   6.18  4.99  5.37  13.72   8.69   \n5   36.85  ...  15.59  13.80  8.86  18.21   9.65  7.79  6.29   3.72  11.29   \n6   22.73  ...  11.73  11.87  7.67  14.02   9.97  8.09  8.23  12.52  11.21   \n7   18.28  ...  11.69  11.89  6.09   9.19   4.46  1.77  2.03   6.20   5.12   \n8   14.91  ...   7.76   7.14  1.86  10.40   4.00  1.34  1.43   9.92   5.08   \n9   34.65  ...  14.78  16.71  9.54  21.40  10.86  7.02  7.16  10.26  12.95   \n10  26.84  ...  10.78  10.98  6.91  11.86   8.56  7.07  6.68  15.13   8.61   \n11  33.49  ...  16.12  12.88  7.10  19.13  10.90  7.81  9.47  22.55  14.59   \n12  25.77  ...   9.08   9.18  5.30  11.20   7.84  6.48  9.08  19.35  21.79   \n13  21.80  ...   9.04   6.35  1.93  12.18   5.21  2.69  3.00   9.96   5.75   \n14  23.64  ...   9.43   9.14  4.61  11.82   6.74  3.98  3.39  12.14   6.49   \n15  31.73  ...  13.04  13.88  5.95  18.44  10.22  6.95  8.97  15.29  10.71   \n\n      212  \n0    8.47  \n1   15.77  \n2   14.88  \n3   16.48  \n4   19.98  \n5   16.51  \n6   15.51  \n7   25.73  \n8   11.59  \n9   23.17  \n10   8.61  \n11  21.70  \n12   9.95  \n13  12.41  \n14  21.11  \n15  21.65  \n\n[16 rows x 213 columns]",
      "text/html": "<div>\n<style scoped>\n    .dataframe tbody tr th:only-of-type {\n        vertical-align: middle;\n    }\n\n    .dataframe tbody tr th {\n        vertical-align: top;\n    }\n\n    .dataframe thead th {\n        text-align: right;\n    }\n</style>\n<table border=\"1\" class=\"dataframe\">\n  <thead>\n    <tr style=\"text-align: right;\">\n      <th></th>\n      <th>0</th>\n      <th>1</th>\n      <th>2</th>\n      <th>3</th>\n      <th>4</th>\n      <th>5</th>\n      <th>6</th>\n      <th>7</th>\n      <th>8</th>\n      <th>9</th>\n      <th>...</th>\n      <th>203</th>\n      <th>204</th>\n      <th>205</th>\n      <th>206</th>\n      <th>207</th>\n      <th>208</th>\n      <th>209</th>\n      <th>210</th>\n      <th>211</th>\n      <th>212</th>\n    </tr>\n  </thead>\n  <tbody>\n    <tr>\n      <th>0</th>\n      <td>5707.0</td>\n      <td>12.60</td>\n      <td>8.85</td>\n      <td>18.15</td>\n      <td>9.60</td>\n      <td>24.77</td>\n      <td>39.21</td>\n      <td>22.12</td>\n      <td>28.45</td>\n      <td>29.57</td>\n      <td>...</td>\n      <td>13.33</td>\n      <td>13.91</td>\n      <td>3.35</td>\n      <td>17.59</td>\n      <td>5.89</td>\n      <td>2.96</td>\n      <td>5.64</td>\n      <td>14.45</td>\n      <td>8.47</td>\n      <td>8.47</td>\n    </tr>\n    <tr>\n      <th>1</th>\n      <td>5708.0</td>\n      <td>5.86</td>\n      <td>5.74</td>\n      <td>8.34</td>\n      <td>8.66</td>\n      <td>18.53</td>\n      <td>27.94</td>\n      <td>13.99</td>\n      <td>12.22</td>\n      <td>12.70</td>\n      <td>...</td>\n      <td>10.21</td>\n      <td>13.26</td>\n      <td>6.99</td>\n      <td>15.60</td>\n      <td>9.57</td>\n      <td>7.23</td>\n      <td>7.40</td>\n      <td>16.72</td>\n      <td>9.95</td>\n      <td>15.77</td>\n    </tr>\n    <tr>\n      <th>2</th>\n      <td>5710.0</td>\n      <td>4.97</td>\n      <td>5.05</td>\n      <td>8.08</td>\n      <td>12.25</td>\n      <td>16.53</td>\n      <td>28.98</td>\n      <td>21.19</td>\n      <td>24.88</td>\n      <td>24.49</td>\n      <td>...</td>\n      <td>6.53</td>\n      <td>7.04</td>\n      <td>2.74</td>\n      <td>9.89</td>\n      <td>3.62</td>\n      <td>1.58</td>\n      <td>1.55</td>\n      <td>10.49</td>\n      <td>3.47</td>\n      <td>14.88</td>\n    </tr>\n    <tr>\n      <th>3</th>\n      <td>5711.0</td>\n      <td>4.03</td>\n      <td>5.12</td>\n      <td>7.39</td>\n      <td>6.28</td>\n      <td>14.46</td>\n      <td>20.33</td>\n      <td>13.31</td>\n      <td>13.37</td>\n      <td>20.65</td>\n      <td>...</td>\n      <td>10.74</td>\n      <td>9.75</td>\n      <td>5.03</td>\n      <td>14.47</td>\n      <td>8.63</td>\n      <td>6.07</td>\n      <td>6.06</td>\n      <td>12.81</td>\n      <td>9.62</td>\n      <td>16.48</td>\n    </tr>\n    <tr>\n      <th>4</th>\n      <td>5712.0</td>\n      <td>12.51</td>\n      <td>15.25</td>\n      <td>9.98</td>\n      <td>9.00</td>\n      <td>15.67</td>\n      <td>30.54</td>\n      <td>29.31</td>\n      <td>36.70</td>\n      <td>32.24</td>\n      <td>...</td>\n      <td>7.64</td>\n      <td>5.64</td>\n      <td>0.70</td>\n      <td>11.64</td>\n      <td>6.18</td>\n      <td>4.99</td>\n      <td>5.37</td>\n      <td>13.72</td>\n      <td>8.69</td>\n      <td>19.98</td>\n    </tr>\n    <tr>\n      <th>5</th>\n      <td>5714.0</td>\n      <td>16.64</td>\n      <td>14.00</td>\n      <td>16.29</td>\n      <td>15.07</td>\n      <td>22.21</td>\n      <td>33.58</td>\n      <td>29.71</td>\n      <td>29.20</td>\n      <td>36.85</td>\n      <td>...</td>\n      <td>15.59</td>\n      <td>13.80</td>\n      <td>8.86</td>\n      <td>18.21</td>\n      <td>9.65</td>\n      <td>7.79</td>\n      <td>6.29</td>\n      <td>3.72</td>\n      <td>11.29</td>\n      <td>16.51</td>\n    </tr>\n    <tr>\n      <th>6</th>\n      <td>5715.0</td>\n      <td>5.65</td>\n      <td>5.25</td>\n      <td>8.01</td>\n      <td>6.54</td>\n      <td>15.15</td>\n      <td>21.00</td>\n      <td>12.32</td>\n      <td>20.78</td>\n      <td>22.73</td>\n      <td>...</td>\n      <td>11.73</td>\n      <td>11.87</td>\n      <td>7.67</td>\n      <td>14.02</td>\n      <td>9.97</td>\n      <td>8.09</td>\n      <td>8.23</td>\n      <td>12.52</td>\n      <td>11.21</td>\n      <td>15.51</td>\n    </tr>\n    <tr>\n      <th>7</th>\n      <td>5718.0</td>\n      <td>5.42</td>\n      <td>5.27</td>\n      <td>8.85</td>\n      <td>6.46</td>\n      <td>15.30</td>\n      <td>47.96</td>\n      <td>17.48</td>\n      <td>18.28</td>\n      <td>18.28</td>\n      <td>...</td>\n      <td>11.69</td>\n      <td>11.89</td>\n      <td>6.09</td>\n      <td>9.19</td>\n      <td>4.46</td>\n      <td>1.77</td>\n      <td>2.03</td>\n      <td>6.20</td>\n      <td>5.12</td>\n      <td>25.73</td>\n    </tr>\n    <tr>\n      <th>8</th>\n      <td>5717.0</td>\n      <td>6.45</td>\n      <td>7.69</td>\n      <td>8.74</td>\n      <td>8.94</td>\n      <td>10.33</td>\n      <td>17.33</td>\n      <td>12.48</td>\n      <td>13.86</td>\n      <td>14.91</td>\n      <td>...</td>\n      <td>7.76</td>\n      <td>7.14</td>\n      <td>1.86</td>\n      <td>10.40</td>\n      <td>4.00</td>\n      <td>1.34</td>\n      <td>1.43</td>\n      <td>9.92</td>\n      <td>5.08</td>\n      <td>11.59</td>\n    </tr>\n    <tr>\n      <th>9</th>\n      <td>5721.0</td>\n      <td>16.62</td>\n      <td>13.39</td>\n      <td>16.75</td>\n      <td>14.75</td>\n      <td>23.35</td>\n      <td>35.47</td>\n      <td>29.13</td>\n      <td>27.98</td>\n      <td>34.65</td>\n      <td>...</td>\n      <td>14.78</td>\n      <td>16.71</td>\n      <td>9.54</td>\n      <td>21.40</td>\n      <td>10.86</td>\n      <td>7.02</td>\n      <td>7.16</td>\n      <td>10.26</td>\n      <td>12.95</td>\n      <td>23.17</td>\n    </tr>\n    <tr>\n      <th>10</th>\n      <td>5722.0</td>\n      <td>5722.00</td>\n      <td>5722.00</td>\n      <td>8.41</td>\n      <td>11.18</td>\n      <td>17.32</td>\n      <td>25.05</td>\n      <td>21.15</td>\n      <td>23.75</td>\n      <td>26.84</td>\n      <td>...</td>\n      <td>10.78</td>\n      <td>10.98</td>\n      <td>6.91</td>\n      <td>11.86</td>\n      <td>8.56</td>\n      <td>7.07</td>\n      <td>6.68</td>\n      <td>15.13</td>\n      <td>8.61</td>\n      <td>8.61</td>\n    </tr>\n    <tr>\n      <th>11</th>\n      <td>5724.0</td>\n      <td>9.80</td>\n      <td>7.44</td>\n      <td>11.82</td>\n      <td>12.74</td>\n      <td>17.30</td>\n      <td>31.37</td>\n      <td>28.02</td>\n      <td>29.31</td>\n      <td>33.49</td>\n      <td>...</td>\n      <td>16.12</td>\n      <td>12.88</td>\n      <td>7.10</td>\n      <td>19.13</td>\n      <td>10.90</td>\n      <td>7.81</td>\n      <td>9.47</td>\n      <td>22.55</td>\n      <td>14.59</td>\n      <td>21.70</td>\n    </tr>\n    <tr>\n      <th>12</th>\n      <td>5725.0</td>\n      <td>2.14</td>\n      <td>2.07</td>\n      <td>2.94</td>\n      <td>5.10</td>\n      <td>9.82</td>\n      <td>19.14</td>\n      <td>15.95</td>\n      <td>15.00</td>\n      <td>25.77</td>\n      <td>...</td>\n      <td>9.08</td>\n      <td>9.18</td>\n      <td>5.30</td>\n      <td>11.20</td>\n      <td>7.84</td>\n      <td>6.48</td>\n      <td>9.08</td>\n      <td>19.35</td>\n      <td>21.79</td>\n      <td>9.95</td>\n    </tr>\n    <tr>\n      <th>13</th>\n      <td>9900.0</td>\n      <td>7.43</td>\n      <td>7.44</td>\n      <td>8.67</td>\n      <td>9.37</td>\n      <td>11.27</td>\n      <td>22.30</td>\n      <td>19.05</td>\n      <td>18.72</td>\n      <td>21.80</td>\n      <td>...</td>\n      <td>9.04</td>\n      <td>6.35</td>\n      <td>1.93</td>\n      <td>12.18</td>\n      <td>5.21</td>\n      <td>2.69</td>\n      <td>3.00</td>\n      <td>9.96</td>\n      <td>5.75</td>\n      <td>12.41</td>\n    </tr>\n    <tr>\n      <th>14</th>\n      <td>10282.0</td>\n      <td>6.04</td>\n      <td>6.25</td>\n      <td>7.36</td>\n      <td>8.25</td>\n      <td>6.35</td>\n      <td>18.65</td>\n      <td>17.86</td>\n      <td>17.89</td>\n      <td>23.64</td>\n      <td>...</td>\n      <td>9.43</td>\n      <td>9.14</td>\n      <td>4.61</td>\n      <td>11.82</td>\n      <td>6.74</td>\n      <td>3.98</td>\n      <td>3.39</td>\n      <td>12.14</td>\n      <td>6.49</td>\n      <td>21.11</td>\n    </tr>\n    <tr>\n      <th>15</th>\n      <td>10350.0</td>\n      <td>18.10</td>\n      <td>15.58</td>\n      <td>21.46</td>\n      <td>16.94</td>\n      <td>25.87</td>\n      <td>37.90</td>\n      <td>27.28</td>\n      <td>32.25</td>\n      <td>31.73</td>\n      <td>...</td>\n      <td>13.04</td>\n      <td>13.88</td>\n      <td>5.95</td>\n      <td>18.44</td>\n      <td>10.22</td>\n      <td>6.95</td>\n      <td>8.97</td>\n      <td>15.29</td>\n      <td>10.71</td>\n      <td>21.65</td>\n    </tr>\n  </tbody>\n</table>\n<p>16 rows × 213 columns</p>\n</div>"
     },
     "execution_count": 29,
     "metadata": {},
     "output_type": "execute_result"
    }
   ],
   "source": [
    "# filling the values with an imputer which consider the row\n",
    "from sklearn.impute import SimpleImputer\n",
    "imputer = SimpleImputer(strategy='mean')\n",
    "means = pd.DataFrame(imputer.fit_transform(means))\n",
    "means"
   ],
   "metadata": {
    "collapsed": false,
    "ExecuteTime": {
     "end_time": "2024-05-18T14:24:04.652641Z",
     "start_time": "2024-05-18T14:24:04.573866200Z"
    }
   },
   "id": "ef2b0def398019d"
  },
  {
   "cell_type": "code",
   "execution_count": 30,
   "outputs": [
    {
     "data": {
      "text/plain": "0     0\n1     0\n2     0\n3     0\n4     0\n5     0\n6     0\n7     0\n8     0\n9     0\n10    0\n11    0\n12    0\n13    0\n14    0\n15    0\ndtype: int64"
     },
     "execution_count": 30,
     "metadata": {},
     "output_type": "execute_result"
    }
   ],
   "source": [
    "# finding the number of missing values for each row\n",
    "means.isna().sum(axis=1)"
   ],
   "metadata": {
    "collapsed": false,
    "ExecuteTime": {
     "end_time": "2024-05-18T14:24:06.103968900Z",
     "start_time": "2024-05-18T14:24:06.087429900Z"
    }
   },
   "id": "a3caf357f8db355a"
  },
  {
   "cell_type": "code",
   "execution_count": 33,
   "outputs": [],
   "source": [
    "# reassigning the columns\n",
    "means.columns = colarray"
   ],
   "metadata": {
    "collapsed": false,
    "ExecuteTime": {
     "end_time": "2024-05-18T14:26:27.820920500Z",
     "start_time": "2024-05-18T14:26:27.820920500Z"
    }
   },
   "id": "f2c651307249bea0"
  },
  {
   "cell_type": "code",
   "execution_count": 34,
   "outputs": [],
   "source": [
    "# saving the means\n",
    "means.to_csv('means_ozone.csv', index=False)"
   ],
   "metadata": {
    "collapsed": false,
    "ExecuteTime": {
     "end_time": "2024-05-18T14:26:29.010744400Z",
     "start_time": "2024-05-18T14:26:28.995204600Z"
    }
   },
   "id": "initial_id"
  },
  {
   "cell_type": "code",
   "execution_count": null,
   "outputs": [],
   "source": [],
   "metadata": {
    "collapsed": false
   },
   "id": "fbe8abe6d3baabe9"
  }
 ],
 "metadata": {
  "kernelspec": {
   "display_name": "Python 3",
   "language": "python",
   "name": "python3"
  },
  "language_info": {
   "codemirror_mode": {
    "name": "ipython",
    "version": 2
   },
   "file_extension": ".py",
   "mimetype": "text/x-python",
   "name": "python",
   "nbconvert_exporter": "python",
   "pygments_lexer": "ipython2",
   "version": "2.7.6"
  }
 },
 "nbformat": 4,
 "nbformat_minor": 5
}
