{
 "cells": [
  {
   "cell_type": "code",
   "execution_count": 16,
   "id": "d6145b1792890685",
   "metadata": {
    "collapsed": true,
    "ExecuteTime": {
     "end_time": "2024-05-19T12:14:30.485276200Z",
     "start_time": "2024-05-19T12:14:30.479742Z"
    }
   },
   "outputs": [],
   "source": [
    "import numpy as np\n",
    "import matplotlib.pyplot as plt\n",
    "import seaborn as sns"
   ]
  },
  {
   "cell_type": "code",
   "execution_count": 17,
   "outputs": [
    {
     "data": {
      "text/plain": "        IdSensore                 Data  Valore Stato UnitaMisura  \\\n0            5617  2013-01-01 00:00:00     1.4    VA       µg/m³   \n1            5617  2013-01-01 01:00:00     2.9    VA       µg/m³   \n2            5617  2013-01-01 02:00:00     1.9    VA       µg/m³   \n3            5617  2013-01-01 03:00:00     2.1    VA       µg/m³   \n4            5617  2013-01-01 04:00:00     2.5    VA       µg/m³   \n...           ...                  ...     ...   ...         ...   \n271190      20427  2017-12-31 19:00:00     2.5    VA       µg/m³   \n271191      20427  2017-12-31 20:00:00     3.5    VA       µg/m³   \n271192      20427  2017-12-31 21:00:00     4.2    VA       µg/m³   \n271193      20427  2017-12-31 22:00:00     4.8    VA       µg/m³   \n271194      20427  2017-12-31 23:00:00     4.5    VA       µg/m³   \n\n          NomeTipoSensore  Year  Month  Day  Hour  CumulativeDays  Week  \\\n0       Biossido di Zolfo  2013      1    1     0               1     1   \n1       Biossido di Zolfo  2013      1    1     1               1     1   \n2       Biossido di Zolfo  2013      1    1     2               1     1   \n3       Biossido di Zolfo  2013      1    1     3               1     1   \n4       Biossido di Zolfo  2013      1    1     4               1     1   \n...                   ...   ...    ...  ...   ...             ...   ...   \n271190  Biossido di Zolfo  2017     12   31    19             365    53   \n271191  Biossido di Zolfo  2017     12   31    20             365    53   \n271192  Biossido di Zolfo  2017     12   31    21             365    53   \n271193  Biossido di Zolfo  2017     12   31    22             365    53   \n271194  Biossido di Zolfo  2017     12   31    23             365    53   \n\n        CumulativeDay  \n0                   1  \n1                   1  \n2                   1  \n3                   1  \n4                   1  \n...               ...  \n271190            365  \n271191            365  \n271192            365  \n271193            365  \n271194            365  \n\n[271195 rows x 13 columns]",
      "text/html": "<div>\n<style scoped>\n    .dataframe tbody tr th:only-of-type {\n        vertical-align: middle;\n    }\n\n    .dataframe tbody tr th {\n        vertical-align: top;\n    }\n\n    .dataframe thead th {\n        text-align: right;\n    }\n</style>\n<table border=\"1\" class=\"dataframe\">\n  <thead>\n    <tr style=\"text-align: right;\">\n      <th></th>\n      <th>IdSensore</th>\n      <th>Data</th>\n      <th>Valore</th>\n      <th>Stato</th>\n      <th>UnitaMisura</th>\n      <th>NomeTipoSensore</th>\n      <th>Year</th>\n      <th>Month</th>\n      <th>Day</th>\n      <th>Hour</th>\n      <th>CumulativeDays</th>\n      <th>Week</th>\n      <th>CumulativeDay</th>\n    </tr>\n  </thead>\n  <tbody>\n    <tr>\n      <th>0</th>\n      <td>5617</td>\n      <td>2013-01-01 00:00:00</td>\n      <td>1.4</td>\n      <td>VA</td>\n      <td>µg/m³</td>\n      <td>Biossido di Zolfo</td>\n      <td>2013</td>\n      <td>1</td>\n      <td>1</td>\n      <td>0</td>\n      <td>1</td>\n      <td>1</td>\n      <td>1</td>\n    </tr>\n    <tr>\n      <th>1</th>\n      <td>5617</td>\n      <td>2013-01-01 01:00:00</td>\n      <td>2.9</td>\n      <td>VA</td>\n      <td>µg/m³</td>\n      <td>Biossido di Zolfo</td>\n      <td>2013</td>\n      <td>1</td>\n      <td>1</td>\n      <td>1</td>\n      <td>1</td>\n      <td>1</td>\n      <td>1</td>\n    </tr>\n    <tr>\n      <th>2</th>\n      <td>5617</td>\n      <td>2013-01-01 02:00:00</td>\n      <td>1.9</td>\n      <td>VA</td>\n      <td>µg/m³</td>\n      <td>Biossido di Zolfo</td>\n      <td>2013</td>\n      <td>1</td>\n      <td>1</td>\n      <td>2</td>\n      <td>1</td>\n      <td>1</td>\n      <td>1</td>\n    </tr>\n    <tr>\n      <th>3</th>\n      <td>5617</td>\n      <td>2013-01-01 03:00:00</td>\n      <td>2.1</td>\n      <td>VA</td>\n      <td>µg/m³</td>\n      <td>Biossido di Zolfo</td>\n      <td>2013</td>\n      <td>1</td>\n      <td>1</td>\n      <td>3</td>\n      <td>1</td>\n      <td>1</td>\n      <td>1</td>\n    </tr>\n    <tr>\n      <th>4</th>\n      <td>5617</td>\n      <td>2013-01-01 04:00:00</td>\n      <td>2.5</td>\n      <td>VA</td>\n      <td>µg/m³</td>\n      <td>Biossido di Zolfo</td>\n      <td>2013</td>\n      <td>1</td>\n      <td>1</td>\n      <td>4</td>\n      <td>1</td>\n      <td>1</td>\n      <td>1</td>\n    </tr>\n    <tr>\n      <th>...</th>\n      <td>...</td>\n      <td>...</td>\n      <td>...</td>\n      <td>...</td>\n      <td>...</td>\n      <td>...</td>\n      <td>...</td>\n      <td>...</td>\n      <td>...</td>\n      <td>...</td>\n      <td>...</td>\n      <td>...</td>\n      <td>...</td>\n    </tr>\n    <tr>\n      <th>271190</th>\n      <td>20427</td>\n      <td>2017-12-31 19:00:00</td>\n      <td>2.5</td>\n      <td>VA</td>\n      <td>µg/m³</td>\n      <td>Biossido di Zolfo</td>\n      <td>2017</td>\n      <td>12</td>\n      <td>31</td>\n      <td>19</td>\n      <td>365</td>\n      <td>53</td>\n      <td>365</td>\n    </tr>\n    <tr>\n      <th>271191</th>\n      <td>20427</td>\n      <td>2017-12-31 20:00:00</td>\n      <td>3.5</td>\n      <td>VA</td>\n      <td>µg/m³</td>\n      <td>Biossido di Zolfo</td>\n      <td>2017</td>\n      <td>12</td>\n      <td>31</td>\n      <td>20</td>\n      <td>365</td>\n      <td>53</td>\n      <td>365</td>\n    </tr>\n    <tr>\n      <th>271192</th>\n      <td>20427</td>\n      <td>2017-12-31 21:00:00</td>\n      <td>4.2</td>\n      <td>VA</td>\n      <td>µg/m³</td>\n      <td>Biossido di Zolfo</td>\n      <td>2017</td>\n      <td>12</td>\n      <td>31</td>\n      <td>21</td>\n      <td>365</td>\n      <td>53</td>\n      <td>365</td>\n    </tr>\n    <tr>\n      <th>271193</th>\n      <td>20427</td>\n      <td>2017-12-31 22:00:00</td>\n      <td>4.8</td>\n      <td>VA</td>\n      <td>µg/m³</td>\n      <td>Biossido di Zolfo</td>\n      <td>2017</td>\n      <td>12</td>\n      <td>31</td>\n      <td>22</td>\n      <td>365</td>\n      <td>53</td>\n      <td>365</td>\n    </tr>\n    <tr>\n      <th>271194</th>\n      <td>20427</td>\n      <td>2017-12-31 23:00:00</td>\n      <td>4.5</td>\n      <td>VA</td>\n      <td>µg/m³</td>\n      <td>Biossido di Zolfo</td>\n      <td>2017</td>\n      <td>12</td>\n      <td>31</td>\n      <td>23</td>\n      <td>365</td>\n      <td>53</td>\n      <td>365</td>\n    </tr>\n  </tbody>\n</table>\n<p>271195 rows × 13 columns</p>\n</div>"
     },
     "execution_count": 17,
     "metadata": {},
     "output_type": "execute_result"
    }
   ],
   "source": [
    "data = pd.read_csv('biossido_di_zolfo.csv')\n",
    "data"
   ],
   "metadata": {
    "collapsed": false,
    "ExecuteTime": {
     "end_time": "2024-05-19T12:14:36.984178500Z",
     "start_time": "2024-05-19T12:14:36.602656400Z"
    }
   },
   "id": "984a69862313b932"
  },
  {
   "cell_type": "code",
   "execution_count": 19,
   "outputs": [],
   "source": [
    "# dropping all the nocturnal hour (from 23 to 7)\n",
    "data = data[(data['Hour'] >= 7) & (data['Hour'] <= 23)]\n",
    "# dropping 2017\n",
    "data = data[data['Year'] != 2017]"
   ],
   "metadata": {
    "collapsed": false,
    "ExecuteTime": {
     "end_time": "2024-05-19T12:15:34.420569300Z",
     "start_time": "2024-05-19T12:15:34.373097700Z"
    }
   },
   "id": "806c8e09e1aa0f4b"
  },
  {
   "cell_type": "code",
   "execution_count": 20,
   "outputs": [
    {
     "data": {
      "text/plain": "Year  Week  IdSensore\n2013  1     5617         119\n            5619         119\n            5630         119\n            5631         119\n            5646         119\n                        ... \n2016  53    5630          34\n            5631          34\n            5646          34\n            10006         34\n            10280         34\nLength: 1425, dtype: int64"
     },
     "execution_count": 20,
     "metadata": {},
     "output_type": "execute_result"
    }
   ],
   "source": [
    "# counting the number of values for each day in each year\n",
    "data.groupby(['Year', 'Week', 'IdSensore']).size()"
   ],
   "metadata": {
    "collapsed": false,
    "ExecuteTime": {
     "end_time": "2024-05-19T12:15:48.569772600Z",
     "start_time": "2024-05-19T12:15:48.540365300Z"
    }
   },
   "id": "30dcc54966d8834e"
  },
  {
   "cell_type": "code",
   "execution_count": 21,
   "outputs": [
    {
     "data": {
      "text/plain": "   IdSensore  Week 1 Year 2013  Week 2 Year 2013  Week 3 Year 2013  \\\n0     5617.0              0.88              1.00              1.48   \n1     5619.0              6.46              1.86              2.94   \n2     5630.0              2.95              2.15              2.11   \n3     5631.0              7.46              6.09              4.10   \n4     5646.0              5.07              6.40              7.10   \n5     5696.0               NaN               NaN               NaN   \n6    10006.0              2.03              2.12              1.96   \n7    10280.0              7.05              6.37              7.99   \n\n   Week 4 Year 2013  Week 5 Year 2013  Week 6 Year 2013  Week 7 Year 2013  \\\n0              1.07              1.03              1.24              0.77   \n1              3.02              2.71              3.05              6.28   \n2              1.95              2.88              0.63              6.90   \n3              2.94              3.42              2.69              4.47   \n4              6.81              6.92              6.77              7.19   \n5               NaN               NaN               NaN               NaN   \n6              2.09               NaN               NaN              3.00   \n7              8.70              8.32              9.80             11.59   \n\n   Week 8 Year 2013  Week 9 Year 2013  ...  Week 46 Year 2016  \\\n0              1.09              0.71  ...               4.78   \n1              3.27              2.52  ...               7.09   \n2              3.15              2.31  ...               3.39   \n3              6.33              2.56  ...               4.08   \n4              6.82              6.88  ...               1.42   \n5               NaN               NaN  ...                NaN   \n6              2.79              4.10  ...               5.23   \n7              4.83              3.62  ...               5.26   \n\n   Week 47 Year 2016  Week 48 Year 2016  Week 49 Year 2016  Week 50 Year 2016  \\\n0               5.55               5.81               5.32               7.04   \n1               3.70               5.26               7.58               8.69   \n2               2.78               3.10               4.08               3.02   \n3               3.39               3.88               4.91               7.09   \n4               6.00               6.79               8.57                NaN   \n5                NaN                NaN                NaN                NaN   \n6               5.46               6.09               6.68               6.93   \n7               6.76               7.11               7.60               7.68   \n\n   Week 51 Year 2016  Week 52 Year 2016  Week 53 Year 2016  Week 11 Year 2016  \\\n0               7.07               4.00               3.76                NaN   \n1               8.69              10.12                NaN               7.07   \n2               3.43               3.59               3.89               4.91   \n3               5.18               5.63               5.49               3.86   \n4               1.87               2.74               1.77               3.45   \n5                NaN                NaN                NaN                NaN   \n6               5.53               6.56               5.89               5.78   \n7               5.79               7.48               6.07               3.18   \n\n   Week 38 Year 2016  \n0                NaN  \n1               5.30  \n2               2.88  \n3               1.97  \n4               2.91  \n5                NaN  \n6                NaN  \n7               5.75  \n\n[8 rows x 213 columns]",
      "text/html": "<div>\n<style scoped>\n    .dataframe tbody tr th:only-of-type {\n        vertical-align: middle;\n    }\n\n    .dataframe tbody tr th {\n        vertical-align: top;\n    }\n\n    .dataframe thead th {\n        text-align: right;\n    }\n</style>\n<table border=\"1\" class=\"dataframe\">\n  <thead>\n    <tr style=\"text-align: right;\">\n      <th></th>\n      <th>IdSensore</th>\n      <th>Week 1 Year 2013</th>\n      <th>Week 2 Year 2013</th>\n      <th>Week 3 Year 2013</th>\n      <th>Week 4 Year 2013</th>\n      <th>Week 5 Year 2013</th>\n      <th>Week 6 Year 2013</th>\n      <th>Week 7 Year 2013</th>\n      <th>Week 8 Year 2013</th>\n      <th>Week 9 Year 2013</th>\n      <th>...</th>\n      <th>Week 46 Year 2016</th>\n      <th>Week 47 Year 2016</th>\n      <th>Week 48 Year 2016</th>\n      <th>Week 49 Year 2016</th>\n      <th>Week 50 Year 2016</th>\n      <th>Week 51 Year 2016</th>\n      <th>Week 52 Year 2016</th>\n      <th>Week 53 Year 2016</th>\n      <th>Week 11 Year 2016</th>\n      <th>Week 38 Year 2016</th>\n    </tr>\n  </thead>\n  <tbody>\n    <tr>\n      <th>0</th>\n      <td>5617.0</td>\n      <td>0.88</td>\n      <td>1.00</td>\n      <td>1.48</td>\n      <td>1.07</td>\n      <td>1.03</td>\n      <td>1.24</td>\n      <td>0.77</td>\n      <td>1.09</td>\n      <td>0.71</td>\n      <td>...</td>\n      <td>4.78</td>\n      <td>5.55</td>\n      <td>5.81</td>\n      <td>5.32</td>\n      <td>7.04</td>\n      <td>7.07</td>\n      <td>4.00</td>\n      <td>3.76</td>\n      <td>NaN</td>\n      <td>NaN</td>\n    </tr>\n    <tr>\n      <th>1</th>\n      <td>5619.0</td>\n      <td>6.46</td>\n      <td>1.86</td>\n      <td>2.94</td>\n      <td>3.02</td>\n      <td>2.71</td>\n      <td>3.05</td>\n      <td>6.28</td>\n      <td>3.27</td>\n      <td>2.52</td>\n      <td>...</td>\n      <td>7.09</td>\n      <td>3.70</td>\n      <td>5.26</td>\n      <td>7.58</td>\n      <td>8.69</td>\n      <td>8.69</td>\n      <td>10.12</td>\n      <td>NaN</td>\n      <td>7.07</td>\n      <td>5.30</td>\n    </tr>\n    <tr>\n      <th>2</th>\n      <td>5630.0</td>\n      <td>2.95</td>\n      <td>2.15</td>\n      <td>2.11</td>\n      <td>1.95</td>\n      <td>2.88</td>\n      <td>0.63</td>\n      <td>6.90</td>\n      <td>3.15</td>\n      <td>2.31</td>\n      <td>...</td>\n      <td>3.39</td>\n      <td>2.78</td>\n      <td>3.10</td>\n      <td>4.08</td>\n      <td>3.02</td>\n      <td>3.43</td>\n      <td>3.59</td>\n      <td>3.89</td>\n      <td>4.91</td>\n      <td>2.88</td>\n    </tr>\n    <tr>\n      <th>3</th>\n      <td>5631.0</td>\n      <td>7.46</td>\n      <td>6.09</td>\n      <td>4.10</td>\n      <td>2.94</td>\n      <td>3.42</td>\n      <td>2.69</td>\n      <td>4.47</td>\n      <td>6.33</td>\n      <td>2.56</td>\n      <td>...</td>\n      <td>4.08</td>\n      <td>3.39</td>\n      <td>3.88</td>\n      <td>4.91</td>\n      <td>7.09</td>\n      <td>5.18</td>\n      <td>5.63</td>\n      <td>5.49</td>\n      <td>3.86</td>\n      <td>1.97</td>\n    </tr>\n    <tr>\n      <th>4</th>\n      <td>5646.0</td>\n      <td>5.07</td>\n      <td>6.40</td>\n      <td>7.10</td>\n      <td>6.81</td>\n      <td>6.92</td>\n      <td>6.77</td>\n      <td>7.19</td>\n      <td>6.82</td>\n      <td>6.88</td>\n      <td>...</td>\n      <td>1.42</td>\n      <td>6.00</td>\n      <td>6.79</td>\n      <td>8.57</td>\n      <td>NaN</td>\n      <td>1.87</td>\n      <td>2.74</td>\n      <td>1.77</td>\n      <td>3.45</td>\n      <td>2.91</td>\n    </tr>\n    <tr>\n      <th>5</th>\n      <td>5696.0</td>\n      <td>NaN</td>\n      <td>NaN</td>\n      <td>NaN</td>\n      <td>NaN</td>\n      <td>NaN</td>\n      <td>NaN</td>\n      <td>NaN</td>\n      <td>NaN</td>\n      <td>NaN</td>\n      <td>...</td>\n      <td>NaN</td>\n      <td>NaN</td>\n      <td>NaN</td>\n      <td>NaN</td>\n      <td>NaN</td>\n      <td>NaN</td>\n      <td>NaN</td>\n      <td>NaN</td>\n      <td>NaN</td>\n      <td>NaN</td>\n    </tr>\n    <tr>\n      <th>6</th>\n      <td>10006.0</td>\n      <td>2.03</td>\n      <td>2.12</td>\n      <td>1.96</td>\n      <td>2.09</td>\n      <td>NaN</td>\n      <td>NaN</td>\n      <td>3.00</td>\n      <td>2.79</td>\n      <td>4.10</td>\n      <td>...</td>\n      <td>5.23</td>\n      <td>5.46</td>\n      <td>6.09</td>\n      <td>6.68</td>\n      <td>6.93</td>\n      <td>5.53</td>\n      <td>6.56</td>\n      <td>5.89</td>\n      <td>5.78</td>\n      <td>NaN</td>\n    </tr>\n    <tr>\n      <th>7</th>\n      <td>10280.0</td>\n      <td>7.05</td>\n      <td>6.37</td>\n      <td>7.99</td>\n      <td>8.70</td>\n      <td>8.32</td>\n      <td>9.80</td>\n      <td>11.59</td>\n      <td>4.83</td>\n      <td>3.62</td>\n      <td>...</td>\n      <td>5.26</td>\n      <td>6.76</td>\n      <td>7.11</td>\n      <td>7.60</td>\n      <td>7.68</td>\n      <td>5.79</td>\n      <td>7.48</td>\n      <td>6.07</td>\n      <td>3.18</td>\n      <td>5.75</td>\n    </tr>\n  </tbody>\n</table>\n<p>8 rows × 213 columns</p>\n</div>"
     },
     "execution_count": 21,
     "metadata": {},
     "output_type": "execute_result"
    }
   ],
   "source": [
    "# weekly_std = data.groupby(['Year', 'Week']).size().std()\n",
    "data['IdSensore'].unique()\n",
    "# total number of weeks in the dataset\n",
    "weeks = data.groupby(['Year', 'Week']).size().count()\n",
    "# computing the maean for each sensors\n",
    "# creating the dataframe\n",
    "colarray = ['IdSensore']\n",
    "for years in data['Year'].unique():\n",
    "    for week in data[data['Year'] == years]['Week'].unique():\n",
    "        colarray.append('Week ' + str(week) + ' Year ' + str(years))\n",
    "means = pd.DataFrame(columns=colarray)\n",
    "\n",
    "for sensor in data['IdSensore'].unique():\n",
    "    currmeans = []\n",
    "    for year in data['Year'].unique():\n",
    "        for week in data[data['Year'] == year]['Week'].unique():\n",
    "            currentweek = data[(data['Year'] == year) & (data['Week'] == week) & (data['IdSensore'] == sensor)]\n",
    "            currmeans.append(round(currentweek['Valore'].mean(), 2))\n",
    "    # adding the means of the sensors as a row in the dataframe\n",
    "    means.loc[len(means)] = [sensor] + currmeans\n",
    "means"
   ],
   "metadata": {
    "collapsed": false,
    "ExecuteTime": {
     "end_time": "2024-05-19T12:15:50.500379100Z",
     "start_time": "2024-05-19T12:15:49.190575Z"
    }
   },
   "id": "d5430f86e05d2c04"
  },
  {
   "cell_type": "code",
   "execution_count": 22,
   "outputs": [
    {
     "data": {
      "text/plain": "0      6\n1     29\n2      1\n3      8\n4      6\n5    211\n6      5\n7      5\ndtype: int64"
     },
     "execution_count": 22,
     "metadata": {},
     "output_type": "execute_result"
    }
   ],
   "source": [
    "# finding out the number of missing values for each row\n",
    "missing = means.isna().sum(axis=1)\n",
    "missing"
   ],
   "metadata": {
    "collapsed": false,
    "ExecuteTime": {
     "end_time": "2024-05-19T12:15:56.988327500Z",
     "start_time": "2024-05-19T12:15:56.955982Z"
    }
   },
   "id": "f8972c12e64122be"
  },
  {
   "cell_type": "code",
   "execution_count": 23,
   "outputs": [],
   "source": [
    "# removing all the rows with more than 75 missing values\n",
    "means = means[missing <= 75]"
   ],
   "metadata": {
    "collapsed": false,
    "ExecuteTime": {
     "end_time": "2024-05-19T12:16:13.053879100Z",
     "start_time": "2024-05-19T12:16:13.050412800Z"
    }
   },
   "id": "ffcb94d1bb2246b1"
  },
  {
   "cell_type": "code",
   "execution_count": 25,
   "outputs": [],
   "source": [
    "# saving the means\n",
    "means.to_csv('means_perticolato.csv', index=False)"
   ],
   "metadata": {
    "collapsed": false,
    "ExecuteTime": {
     "end_time": "2024-05-19T12:16:31.855038500Z",
     "start_time": "2024-05-19T12:16:31.822863300Z"
    }
   },
   "id": "initial_id"
  },
  {
   "cell_type": "code",
   "execution_count": null,
   "outputs": [],
   "source": [],
   "metadata": {
    "collapsed": false
   },
   "id": "bc5fcbee2e4852ea"
  }
 ],
 "metadata": {
  "kernelspec": {
   "display_name": "Python 3",
   "language": "python",
   "name": "python3"
  },
  "language_info": {
   "codemirror_mode": {
    "name": "ipython",
    "version": 2
   },
   "file_extension": ".py",
   "mimetype": "text/x-python",
   "name": "python",
   "nbconvert_exporter": "python",
   "pygments_lexer": "ipython2",
   "version": "2.7.6"
  }
 },
 "nbformat": 4,
 "nbformat_minor": 5
}
