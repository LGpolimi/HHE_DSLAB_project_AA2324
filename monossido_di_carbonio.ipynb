{
 "cells": [
  {
   "cell_type": "code",
   "execution_count": 1,
   "id": "4202342696e382ec",
   "metadata": {
    "collapsed": true,
    "ExecuteTime": {
     "end_time": "2024-05-18T13:50:12.121927800Z",
     "start_time": "2024-05-18T13:50:12.119859600Z"
    }
   },
   "outputs": [],
   "source": [
    "import pandas as pd\n",
    "import numpy as np\n",
    "import matplotlib.pyplot as plt\n",
    "import seaborn as sns"
   ]
  },
  {
   "cell_type": "code",
   "execution_count": 2,
   "outputs": [
    {
     "data": {
      "text/plain": "        IdSensore                 Data  Valore Stato UnitaMisura  \\\n0            5810  2013-01-01 00:00:00     1.5    VA       mg/m³   \n1            5810  2013-01-01 01:00:00     1.5    VA       mg/m³   \n2            5810  2013-01-01 02:00:00     1.4    VA       mg/m³   \n3            5810  2013-01-01 03:00:00     1.5    VA       mg/m³   \n4            5810  2013-01-01 04:00:00     1.6    VA       mg/m³   \n...           ...                  ...     ...   ...         ...   \n640376      10355  2016-12-31 20:00:00     1.8    VA       mg/m³   \n640377      10355  2016-12-31 21:00:00     2.4    VA       mg/m³   \n640378      10355  2016-12-31 22:00:00     2.1    VA       mg/m³   \n640379      10355  2016-12-31 23:00:00     2.8    VA       mg/m³   \n640380      10355  2017-01-01 00:00:00     3.0    VA       mg/m³   \n\n              NomeTipoSensore  Year  Month  Day  Hour  CumulativeDays  Week  \\\n0       Monossido di Carbonio  2013      1    1     0               1     1   \n1       Monossido di Carbonio  2013      1    1     1               1     1   \n2       Monossido di Carbonio  2013      1    1     2               1     1   \n3       Monossido di Carbonio  2013      1    1     3               1     1   \n4       Monossido di Carbonio  2013      1    1     4               1     1   \n...                       ...   ...    ...  ...   ...             ...   ...   \n640376  Monossido di Carbonio  2016     12   31    20             366    53   \n640377  Monossido di Carbonio  2016     12   31    21             366    53   \n640378  Monossido di Carbonio  2016     12   31    22             366    53   \n640379  Monossido di Carbonio  2016     12   31    23             366    53   \n640380  Monossido di Carbonio  2017      1    1     0               1     1   \n\n        CumulativeDay  \n0                   1  \n1                   1  \n2                   1  \n3                   1  \n4                   1  \n...               ...  \n640376            366  \n640377            366  \n640378            366  \n640379            366  \n640380              1  \n\n[640381 rows x 13 columns]",
      "text/html": "<div>\n<style scoped>\n    .dataframe tbody tr th:only-of-type {\n        vertical-align: middle;\n    }\n\n    .dataframe tbody tr th {\n        vertical-align: top;\n    }\n\n    .dataframe thead th {\n        text-align: right;\n    }\n</style>\n<table border=\"1\" class=\"dataframe\">\n  <thead>\n    <tr style=\"text-align: right;\">\n      <th></th>\n      <th>IdSensore</th>\n      <th>Data</th>\n      <th>Valore</th>\n      <th>Stato</th>\n      <th>UnitaMisura</th>\n      <th>NomeTipoSensore</th>\n      <th>Year</th>\n      <th>Month</th>\n      <th>Day</th>\n      <th>Hour</th>\n      <th>CumulativeDays</th>\n      <th>Week</th>\n      <th>CumulativeDay</th>\n    </tr>\n  </thead>\n  <tbody>\n    <tr>\n      <th>0</th>\n      <td>5810</td>\n      <td>2013-01-01 00:00:00</td>\n      <td>1.5</td>\n      <td>VA</td>\n      <td>mg/m³</td>\n      <td>Monossido di Carbonio</td>\n      <td>2013</td>\n      <td>1</td>\n      <td>1</td>\n      <td>0</td>\n      <td>1</td>\n      <td>1</td>\n      <td>1</td>\n    </tr>\n    <tr>\n      <th>1</th>\n      <td>5810</td>\n      <td>2013-01-01 01:00:00</td>\n      <td>1.5</td>\n      <td>VA</td>\n      <td>mg/m³</td>\n      <td>Monossido di Carbonio</td>\n      <td>2013</td>\n      <td>1</td>\n      <td>1</td>\n      <td>1</td>\n      <td>1</td>\n      <td>1</td>\n      <td>1</td>\n    </tr>\n    <tr>\n      <th>2</th>\n      <td>5810</td>\n      <td>2013-01-01 02:00:00</td>\n      <td>1.4</td>\n      <td>VA</td>\n      <td>mg/m³</td>\n      <td>Monossido di Carbonio</td>\n      <td>2013</td>\n      <td>1</td>\n      <td>1</td>\n      <td>2</td>\n      <td>1</td>\n      <td>1</td>\n      <td>1</td>\n    </tr>\n    <tr>\n      <th>3</th>\n      <td>5810</td>\n      <td>2013-01-01 03:00:00</td>\n      <td>1.5</td>\n      <td>VA</td>\n      <td>mg/m³</td>\n      <td>Monossido di Carbonio</td>\n      <td>2013</td>\n      <td>1</td>\n      <td>1</td>\n      <td>3</td>\n      <td>1</td>\n      <td>1</td>\n      <td>1</td>\n    </tr>\n    <tr>\n      <th>4</th>\n      <td>5810</td>\n      <td>2013-01-01 04:00:00</td>\n      <td>1.6</td>\n      <td>VA</td>\n      <td>mg/m³</td>\n      <td>Monossido di Carbonio</td>\n      <td>2013</td>\n      <td>1</td>\n      <td>1</td>\n      <td>4</td>\n      <td>1</td>\n      <td>1</td>\n      <td>1</td>\n    </tr>\n    <tr>\n      <th>...</th>\n      <td>...</td>\n      <td>...</td>\n      <td>...</td>\n      <td>...</td>\n      <td>...</td>\n      <td>...</td>\n      <td>...</td>\n      <td>...</td>\n      <td>...</td>\n      <td>...</td>\n      <td>...</td>\n      <td>...</td>\n      <td>...</td>\n    </tr>\n    <tr>\n      <th>640376</th>\n      <td>10355</td>\n      <td>2016-12-31 20:00:00</td>\n      <td>1.8</td>\n      <td>VA</td>\n      <td>mg/m³</td>\n      <td>Monossido di Carbonio</td>\n      <td>2016</td>\n      <td>12</td>\n      <td>31</td>\n      <td>20</td>\n      <td>366</td>\n      <td>53</td>\n      <td>366</td>\n    </tr>\n    <tr>\n      <th>640377</th>\n      <td>10355</td>\n      <td>2016-12-31 21:00:00</td>\n      <td>2.4</td>\n      <td>VA</td>\n      <td>mg/m³</td>\n      <td>Monossido di Carbonio</td>\n      <td>2016</td>\n      <td>12</td>\n      <td>31</td>\n      <td>21</td>\n      <td>366</td>\n      <td>53</td>\n      <td>366</td>\n    </tr>\n    <tr>\n      <th>640378</th>\n      <td>10355</td>\n      <td>2016-12-31 22:00:00</td>\n      <td>2.1</td>\n      <td>VA</td>\n      <td>mg/m³</td>\n      <td>Monossido di Carbonio</td>\n      <td>2016</td>\n      <td>12</td>\n      <td>31</td>\n      <td>22</td>\n      <td>366</td>\n      <td>53</td>\n      <td>366</td>\n    </tr>\n    <tr>\n      <th>640379</th>\n      <td>10355</td>\n      <td>2016-12-31 23:00:00</td>\n      <td>2.8</td>\n      <td>VA</td>\n      <td>mg/m³</td>\n      <td>Monossido di Carbonio</td>\n      <td>2016</td>\n      <td>12</td>\n      <td>31</td>\n      <td>23</td>\n      <td>366</td>\n      <td>53</td>\n      <td>366</td>\n    </tr>\n    <tr>\n      <th>640380</th>\n      <td>10355</td>\n      <td>2017-01-01 00:00:00</td>\n      <td>3.0</td>\n      <td>VA</td>\n      <td>mg/m³</td>\n      <td>Monossido di Carbonio</td>\n      <td>2017</td>\n      <td>1</td>\n      <td>1</td>\n      <td>0</td>\n      <td>1</td>\n      <td>1</td>\n      <td>1</td>\n    </tr>\n  </tbody>\n</table>\n<p>640381 rows × 13 columns</p>\n</div>"
     },
     "execution_count": 2,
     "metadata": {},
     "output_type": "execute_result"
    }
   ],
   "source": [
    "data = pd.read_csv('monossido_di_carbonio.csv')\n",
    "data"
   ],
   "metadata": {
    "collapsed": false,
    "ExecuteTime": {
     "end_time": "2024-05-18T13:50:41.277578Z",
     "start_time": "2024-05-18T13:50:39.879630400Z"
    }
   },
   "id": "ffee1f75bb72de54"
  },
  {
   "cell_type": "code",
   "execution_count": 3,
   "outputs": [
    {
     "data": {
      "text/plain": "Year  Week  IdSensore\n2013  1     5810         118\n            5812         118\n            5814         119\n            5820           7\n            5823         119\n                        ... \n2017  53    5827          17\n            5832          17\n            5834          17\n            5835          17\n            10002         17\nLength: 4042, dtype: int64"
     },
     "execution_count": 3,
     "metadata": {},
     "output_type": "execute_result"
    }
   ],
   "source": [
    "# dropping all the nocturnal hour (from 23 to 7)\n",
    "data = data[(data['Hour'] >= 7) & (data['Hour'] <= 23)]\n",
    "\n",
    "# counting the number of values for each day in each year\n",
    "data.groupby(['Year', 'Week', 'IdSensore']).size()"
   ],
   "metadata": {
    "collapsed": false,
    "ExecuteTime": {
     "end_time": "2024-05-18T13:50:41.453260300Z",
     "start_time": "2024-05-18T13:50:41.277578Z"
    }
   },
   "id": "d464e8a9fb538923"
  },
  {
   "cell_type": "code",
   "execution_count": 4,
   "outputs": [
    {
     "data": {
      "text/plain": "    IdSensore  Week 1 Year 2013  Week 2 Year 2013  Week 3 Year 2013  \\\n0      5810.0              1.29              1.21              1.41   \n1      5812.0              1.08              0.75              0.92   \n2      5814.0              1.11              1.04              1.14   \n3      5820.0              1.69              1.25              1.19   \n4      5823.0              2.65              1.53              1.61   \n5      5825.0              0.99              0.62              0.74   \n6      5826.0              1.65              1.27              1.53   \n7      5827.0              3.12              2.60              1.38   \n8      5831.0              1.50              1.07              1.08   \n9      5832.0              1.92              1.93              2.09   \n10     5834.0              1.89              1.63              1.34   \n11     5837.0              1.36              1.01              1.29   \n12     5835.0              2.08              1.02              1.32   \n13     5841.0              1.71              1.34              1.14   \n14    10002.0              1.37              1.19              1.38   \n15    10007.0              0.52              0.37              0.53   \n16    10355.0              0.87              0.62              0.77   \n\n    Week 4 Year 2013  Week 5 Year 2013  Week 6 Year 2013  Week 7 Year 2013  \\\n0               1.62              1.56              1.50              1.96   \n1               1.05              0.84              0.64              1.08   \n2               1.33              0.59              0.49              0.91   \n3               1.27              1.16              0.97              1.62   \n4               1.87              1.89              1.66              2.01   \n5               0.76              0.66              0.48              0.77   \n6               1.40              1.08              0.94              1.63   \n7               1.66              1.87              1.35              1.82   \n8               1.18              1.16              0.88              1.44   \n9               2.14              1.09              0.54              1.16   \n10              1.56              1.26              0.68              0.94   \n11              1.47              1.52              1.28              1.72   \n12              1.42              1.42              0.77              1.32   \n13              1.21              1.26              1.12              1.65   \n14              1.41              1.46              1.27              1.62   \n15              0.72              0.78              0.71              1.36   \n16              0.96              0.84              0.58              1.02   \n\n    Week 8 Year 2013  Week 9 Year 2013  ...  Week 48 Year 2017  \\\n0               1.82              1.89  ...                NaN   \n1               0.71              0.84  ...               0.50   \n2               0.89              0.66  ...               0.80   \n3               1.09              1.01  ...                NaN   \n4               1.90              1.84  ...               0.89   \n5               0.52              0.66  ...               0.62   \n6               1.25              1.17  ...               0.74   \n7               0.99              1.10  ...               1.24   \n8               1.15              1.43  ...                NaN   \n9               0.86              1.38  ...               1.16   \n10              0.91              1.32  ...               0.85   \n11              1.06              0.83  ...                NaN   \n12              1.38              1.85  ...               1.03   \n13              0.68              1.08  ...                NaN   \n14              0.69              0.77  ...               1.03   \n15              1.27              1.61  ...                NaN   \n16              0.82              0.93  ...                NaN   \n\n    Week 49 Year 2017  Week 50 Year 2017  Week 51 Year 2017  \\\n0                 NaN                NaN                NaN   \n1                0.72               0.52               0.95   \n2                0.99               1.04               1.22   \n3                 NaN                NaN                NaN   \n4                1.21               1.13               1.51   \n5                0.88               0.75               1.01   \n6                0.89               0.66               1.10   \n7                1.14               1.23               1.43   \n8                 NaN                NaN                NaN   \n9                1.93               1.29               1.46   \n10               1.20               1.16               1.56   \n11                NaN                NaN                NaN   \n12               1.20               1.08               1.35   \n13                NaN                NaN                NaN   \n14               1.27               1.20               1.16   \n15                NaN                NaN                NaN   \n16                NaN                NaN                NaN   \n\n    Week 52 Year 2017  Week 53 Year 2017  Week 2 Year 2017  Week 3 Year 2017  \\\n0                 NaN                NaN               NaN               NaN   \n1                0.61               0.68               NaN               NaN   \n2                0.51               0.72              0.95              1.02   \n3                 NaN                NaN               NaN               NaN   \n4                1.17               1.19              1.37              1.18   \n5                0.65               0.60              0.50              0.70   \n6                0.72               0.62              1.32              1.38   \n7                0.92               1.05              2.03              1.58   \n8                 NaN                NaN               NaN               NaN   \n9                1.07               1.27              0.35              1.70   \n10               1.14               1.18              1.24              1.09   \n11                NaN                NaN               NaN               NaN   \n12               0.91               0.99              1.06              1.34   \n13                NaN                NaN               NaN               NaN   \n14               0.86               0.92              1.44              1.03   \n15                NaN                NaN               NaN               NaN   \n16                NaN                NaN               NaN               NaN   \n\n    Week 33 Year 2017  Week 34 Year 2017  \n0                 NaN                NaN  \n1                 NaN                NaN  \n2                0.20               0.23  \n3                 NaN                NaN  \n4                0.94               0.95  \n5                0.33               0.35  \n6                0.18               0.20  \n7                0.58               0.67  \n8                 NaN                NaN  \n9                0.13               0.08  \n10               0.52               0.50  \n11                NaN                NaN  \n12               0.38               0.52  \n13                NaN                NaN  \n14               0.33               0.50  \n15                NaN                NaN  \n16                NaN                NaN  \n\n[17 rows x 266 columns]",
      "text/html": "<div>\n<style scoped>\n    .dataframe tbody tr th:only-of-type {\n        vertical-align: middle;\n    }\n\n    .dataframe tbody tr th {\n        vertical-align: top;\n    }\n\n    .dataframe thead th {\n        text-align: right;\n    }\n</style>\n<table border=\"1\" class=\"dataframe\">\n  <thead>\n    <tr style=\"text-align: right;\">\n      <th></th>\n      <th>IdSensore</th>\n      <th>Week 1 Year 2013</th>\n      <th>Week 2 Year 2013</th>\n      <th>Week 3 Year 2013</th>\n      <th>Week 4 Year 2013</th>\n      <th>Week 5 Year 2013</th>\n      <th>Week 6 Year 2013</th>\n      <th>Week 7 Year 2013</th>\n      <th>Week 8 Year 2013</th>\n      <th>Week 9 Year 2013</th>\n      <th>...</th>\n      <th>Week 48 Year 2017</th>\n      <th>Week 49 Year 2017</th>\n      <th>Week 50 Year 2017</th>\n      <th>Week 51 Year 2017</th>\n      <th>Week 52 Year 2017</th>\n      <th>Week 53 Year 2017</th>\n      <th>Week 2 Year 2017</th>\n      <th>Week 3 Year 2017</th>\n      <th>Week 33 Year 2017</th>\n      <th>Week 34 Year 2017</th>\n    </tr>\n  </thead>\n  <tbody>\n    <tr>\n      <th>0</th>\n      <td>5810.0</td>\n      <td>1.29</td>\n      <td>1.21</td>\n      <td>1.41</td>\n      <td>1.62</td>\n      <td>1.56</td>\n      <td>1.50</td>\n      <td>1.96</td>\n      <td>1.82</td>\n      <td>1.89</td>\n      <td>...</td>\n      <td>NaN</td>\n      <td>NaN</td>\n      <td>NaN</td>\n      <td>NaN</td>\n      <td>NaN</td>\n      <td>NaN</td>\n      <td>NaN</td>\n      <td>NaN</td>\n      <td>NaN</td>\n      <td>NaN</td>\n    </tr>\n    <tr>\n      <th>1</th>\n      <td>5812.0</td>\n      <td>1.08</td>\n      <td>0.75</td>\n      <td>0.92</td>\n      <td>1.05</td>\n      <td>0.84</td>\n      <td>0.64</td>\n      <td>1.08</td>\n      <td>0.71</td>\n      <td>0.84</td>\n      <td>...</td>\n      <td>0.50</td>\n      <td>0.72</td>\n      <td>0.52</td>\n      <td>0.95</td>\n      <td>0.61</td>\n      <td>0.68</td>\n      <td>NaN</td>\n      <td>NaN</td>\n      <td>NaN</td>\n      <td>NaN</td>\n    </tr>\n    <tr>\n      <th>2</th>\n      <td>5814.0</td>\n      <td>1.11</td>\n      <td>1.04</td>\n      <td>1.14</td>\n      <td>1.33</td>\n      <td>0.59</td>\n      <td>0.49</td>\n      <td>0.91</td>\n      <td>0.89</td>\n      <td>0.66</td>\n      <td>...</td>\n      <td>0.80</td>\n      <td>0.99</td>\n      <td>1.04</td>\n      <td>1.22</td>\n      <td>0.51</td>\n      <td>0.72</td>\n      <td>0.95</td>\n      <td>1.02</td>\n      <td>0.20</td>\n      <td>0.23</td>\n    </tr>\n    <tr>\n      <th>3</th>\n      <td>5820.0</td>\n      <td>1.69</td>\n      <td>1.25</td>\n      <td>1.19</td>\n      <td>1.27</td>\n      <td>1.16</td>\n      <td>0.97</td>\n      <td>1.62</td>\n      <td>1.09</td>\n      <td>1.01</td>\n      <td>...</td>\n      <td>NaN</td>\n      <td>NaN</td>\n      <td>NaN</td>\n      <td>NaN</td>\n      <td>NaN</td>\n      <td>NaN</td>\n      <td>NaN</td>\n      <td>NaN</td>\n      <td>NaN</td>\n      <td>NaN</td>\n    </tr>\n    <tr>\n      <th>4</th>\n      <td>5823.0</td>\n      <td>2.65</td>\n      <td>1.53</td>\n      <td>1.61</td>\n      <td>1.87</td>\n      <td>1.89</td>\n      <td>1.66</td>\n      <td>2.01</td>\n      <td>1.90</td>\n      <td>1.84</td>\n      <td>...</td>\n      <td>0.89</td>\n      <td>1.21</td>\n      <td>1.13</td>\n      <td>1.51</td>\n      <td>1.17</td>\n      <td>1.19</td>\n      <td>1.37</td>\n      <td>1.18</td>\n      <td>0.94</td>\n      <td>0.95</td>\n    </tr>\n    <tr>\n      <th>5</th>\n      <td>5825.0</td>\n      <td>0.99</td>\n      <td>0.62</td>\n      <td>0.74</td>\n      <td>0.76</td>\n      <td>0.66</td>\n      <td>0.48</td>\n      <td>0.77</td>\n      <td>0.52</td>\n      <td>0.66</td>\n      <td>...</td>\n      <td>0.62</td>\n      <td>0.88</td>\n      <td>0.75</td>\n      <td>1.01</td>\n      <td>0.65</td>\n      <td>0.60</td>\n      <td>0.50</td>\n      <td>0.70</td>\n      <td>0.33</td>\n      <td>0.35</td>\n    </tr>\n    <tr>\n      <th>6</th>\n      <td>5826.0</td>\n      <td>1.65</td>\n      <td>1.27</td>\n      <td>1.53</td>\n      <td>1.40</td>\n      <td>1.08</td>\n      <td>0.94</td>\n      <td>1.63</td>\n      <td>1.25</td>\n      <td>1.17</td>\n      <td>...</td>\n      <td>0.74</td>\n      <td>0.89</td>\n      <td>0.66</td>\n      <td>1.10</td>\n      <td>0.72</td>\n      <td>0.62</td>\n      <td>1.32</td>\n      <td>1.38</td>\n      <td>0.18</td>\n      <td>0.20</td>\n    </tr>\n    <tr>\n      <th>7</th>\n      <td>5827.0</td>\n      <td>3.12</td>\n      <td>2.60</td>\n      <td>1.38</td>\n      <td>1.66</td>\n      <td>1.87</td>\n      <td>1.35</td>\n      <td>1.82</td>\n      <td>0.99</td>\n      <td>1.10</td>\n      <td>...</td>\n      <td>1.24</td>\n      <td>1.14</td>\n      <td>1.23</td>\n      <td>1.43</td>\n      <td>0.92</td>\n      <td>1.05</td>\n      <td>2.03</td>\n      <td>1.58</td>\n      <td>0.58</td>\n      <td>0.67</td>\n    </tr>\n    <tr>\n      <th>8</th>\n      <td>5831.0</td>\n      <td>1.50</td>\n      <td>1.07</td>\n      <td>1.08</td>\n      <td>1.18</td>\n      <td>1.16</td>\n      <td>0.88</td>\n      <td>1.44</td>\n      <td>1.15</td>\n      <td>1.43</td>\n      <td>...</td>\n      <td>NaN</td>\n      <td>NaN</td>\n      <td>NaN</td>\n      <td>NaN</td>\n      <td>NaN</td>\n      <td>NaN</td>\n      <td>NaN</td>\n      <td>NaN</td>\n      <td>NaN</td>\n      <td>NaN</td>\n    </tr>\n    <tr>\n      <th>9</th>\n      <td>5832.0</td>\n      <td>1.92</td>\n      <td>1.93</td>\n      <td>2.09</td>\n      <td>2.14</td>\n      <td>1.09</td>\n      <td>0.54</td>\n      <td>1.16</td>\n      <td>0.86</td>\n      <td>1.38</td>\n      <td>...</td>\n      <td>1.16</td>\n      <td>1.93</td>\n      <td>1.29</td>\n      <td>1.46</td>\n      <td>1.07</td>\n      <td>1.27</td>\n      <td>0.35</td>\n      <td>1.70</td>\n      <td>0.13</td>\n      <td>0.08</td>\n    </tr>\n    <tr>\n      <th>10</th>\n      <td>5834.0</td>\n      <td>1.89</td>\n      <td>1.63</td>\n      <td>1.34</td>\n      <td>1.56</td>\n      <td>1.26</td>\n      <td>0.68</td>\n      <td>0.94</td>\n      <td>0.91</td>\n      <td>1.32</td>\n      <td>...</td>\n      <td>0.85</td>\n      <td>1.20</td>\n      <td>1.16</td>\n      <td>1.56</td>\n      <td>1.14</td>\n      <td>1.18</td>\n      <td>1.24</td>\n      <td>1.09</td>\n      <td>0.52</td>\n      <td>0.50</td>\n    </tr>\n    <tr>\n      <th>11</th>\n      <td>5837.0</td>\n      <td>1.36</td>\n      <td>1.01</td>\n      <td>1.29</td>\n      <td>1.47</td>\n      <td>1.52</td>\n      <td>1.28</td>\n      <td>1.72</td>\n      <td>1.06</td>\n      <td>0.83</td>\n      <td>...</td>\n      <td>NaN</td>\n      <td>NaN</td>\n      <td>NaN</td>\n      <td>NaN</td>\n      <td>NaN</td>\n      <td>NaN</td>\n      <td>NaN</td>\n      <td>NaN</td>\n      <td>NaN</td>\n      <td>NaN</td>\n    </tr>\n    <tr>\n      <th>12</th>\n      <td>5835.0</td>\n      <td>2.08</td>\n      <td>1.02</td>\n      <td>1.32</td>\n      <td>1.42</td>\n      <td>1.42</td>\n      <td>0.77</td>\n      <td>1.32</td>\n      <td>1.38</td>\n      <td>1.85</td>\n      <td>...</td>\n      <td>1.03</td>\n      <td>1.20</td>\n      <td>1.08</td>\n      <td>1.35</td>\n      <td>0.91</td>\n      <td>0.99</td>\n      <td>1.06</td>\n      <td>1.34</td>\n      <td>0.38</td>\n      <td>0.52</td>\n    </tr>\n    <tr>\n      <th>13</th>\n      <td>5841.0</td>\n      <td>1.71</td>\n      <td>1.34</td>\n      <td>1.14</td>\n      <td>1.21</td>\n      <td>1.26</td>\n      <td>1.12</td>\n      <td>1.65</td>\n      <td>0.68</td>\n      <td>1.08</td>\n      <td>...</td>\n      <td>NaN</td>\n      <td>NaN</td>\n      <td>NaN</td>\n      <td>NaN</td>\n      <td>NaN</td>\n      <td>NaN</td>\n      <td>NaN</td>\n      <td>NaN</td>\n      <td>NaN</td>\n      <td>NaN</td>\n    </tr>\n    <tr>\n      <th>14</th>\n      <td>10002.0</td>\n      <td>1.37</td>\n      <td>1.19</td>\n      <td>1.38</td>\n      <td>1.41</td>\n      <td>1.46</td>\n      <td>1.27</td>\n      <td>1.62</td>\n      <td>0.69</td>\n      <td>0.77</td>\n      <td>...</td>\n      <td>1.03</td>\n      <td>1.27</td>\n      <td>1.20</td>\n      <td>1.16</td>\n      <td>0.86</td>\n      <td>0.92</td>\n      <td>1.44</td>\n      <td>1.03</td>\n      <td>0.33</td>\n      <td>0.50</td>\n    </tr>\n    <tr>\n      <th>15</th>\n      <td>10007.0</td>\n      <td>0.52</td>\n      <td>0.37</td>\n      <td>0.53</td>\n      <td>0.72</td>\n      <td>0.78</td>\n      <td>0.71</td>\n      <td>1.36</td>\n      <td>1.27</td>\n      <td>1.61</td>\n      <td>...</td>\n      <td>NaN</td>\n      <td>NaN</td>\n      <td>NaN</td>\n      <td>NaN</td>\n      <td>NaN</td>\n      <td>NaN</td>\n      <td>NaN</td>\n      <td>NaN</td>\n      <td>NaN</td>\n      <td>NaN</td>\n    </tr>\n    <tr>\n      <th>16</th>\n      <td>10355.0</td>\n      <td>0.87</td>\n      <td>0.62</td>\n      <td>0.77</td>\n      <td>0.96</td>\n      <td>0.84</td>\n      <td>0.58</td>\n      <td>1.02</td>\n      <td>0.82</td>\n      <td>0.93</td>\n      <td>...</td>\n      <td>NaN</td>\n      <td>NaN</td>\n      <td>NaN</td>\n      <td>NaN</td>\n      <td>NaN</td>\n      <td>NaN</td>\n      <td>NaN</td>\n      <td>NaN</td>\n      <td>NaN</td>\n      <td>NaN</td>\n    </tr>\n  </tbody>\n</table>\n<p>17 rows × 266 columns</p>\n</div>"
     },
     "execution_count": 4,
     "metadata": {},
     "output_type": "execute_result"
    }
   ],
   "source": [
    "# weekly_std = data.groupby(['Year', 'Week']).size().std()\n",
    "data['IdSensore'].unique()\n",
    "# total number of weeks in the dataset\n",
    "weeks = data.groupby(['Year', 'Week']).size().count()\n",
    "# computing the maean for each sensors\n",
    "# creating the dataframe\n",
    "colarray = ['IdSensore']\n",
    "for years in data['Year'].unique():\n",
    "    for week in data[data['Year'] == years]['Week'].unique():\n",
    "        colarray.append('Week ' + str(week) + ' Year ' + str(years))\n",
    "means = pd.DataFrame(columns=colarray)\n",
    "\n",
    "for sensor in data['IdSensore'].unique():\n",
    "    currmeans = []\n",
    "    for year in data['Year'].unique():\n",
    "        for week in data[data['Year'] == year]['Week'].unique():\n",
    "            currentweek = data[(data['Year'] == year) & (data['Week'] == week) & (data['IdSensore'] == sensor)]\n",
    "            currmeans.append(round(currentweek['Valore'].mean(), 2))\n",
    "    # adding the means of the sensors as a row in the dataframe\n",
    "    means.loc[len(means)] = [sensor] + currmeans\n",
    "means"
   ],
   "metadata": {
    "collapsed": false,
    "ExecuteTime": {
     "end_time": "2024-05-18T13:50:54.080403800Z",
     "start_time": "2024-05-18T13:50:41.453260300Z"
    }
   },
   "id": "f1e55e2de26cdeaf"
  },
  {
   "cell_type": "code",
   "execution_count": 5,
   "outputs": [
    {
     "data": {
      "text/plain": "0     56\n1      7\n2      7\n3     59\n4      4\n5      9\n6      1\n7      0\n8     71\n9      5\n10     4\n11    56\n12     7\n13    53\n14     1\n15    57\n16    66\ndtype: int64"
     },
     "execution_count": 5,
     "metadata": {},
     "output_type": "execute_result"
    }
   ],
   "source": [
    "# finding out the number of missing values for each row\n",
    "missing = means.isna().sum(axis=1)\n",
    "missing"
   ],
   "metadata": {
    "collapsed": false,
    "ExecuteTime": {
     "end_time": "2024-05-18T13:51:05.911274400Z",
     "start_time": "2024-05-18T13:51:05.879612Z"
    }
   },
   "id": "aed84214eded2b4c"
  },
  {
   "cell_type": "code",
   "execution_count": 7,
   "outputs": [],
   "source": [
    "# saving the means\n",
    "means.to_csv('means_monossido_di_carbonio.csv', index=False)"
   ],
   "metadata": {
    "collapsed": false,
    "ExecuteTime": {
     "end_time": "2024-05-18T13:57:03.883560700Z",
     "start_time": "2024-05-18T13:57:03.852197600Z"
    }
   },
   "id": "initial_id"
  },
  {
   "cell_type": "code",
   "execution_count": null,
   "outputs": [],
   "source": [],
   "metadata": {
    "collapsed": false
   },
   "id": "6f3e8247ce52736"
  }
 ],
 "metadata": {
  "kernelspec": {
   "display_name": "Python 3",
   "language": "python",
   "name": "python3"
  },
  "language_info": {
   "codemirror_mode": {
    "name": "ipython",
    "version": 2
   },
   "file_extension": ".py",
   "mimetype": "text/x-python",
   "name": "python",
   "nbconvert_exporter": "python",
   "pygments_lexer": "ipython2",
   "version": "2.7.6"
  }
 },
 "nbformat": 4,
 "nbformat_minor": 5
}
