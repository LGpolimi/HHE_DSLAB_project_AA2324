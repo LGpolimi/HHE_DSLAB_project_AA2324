{
 "cells": [
  {
   "cell_type": "markdown",
   "source": [
    "## Biossido di Zolfo analysis ##"
   ],
   "metadata": {
    "collapsed": false
   },
   "id": "f8ec422d6d6e711f"
  },
  {
   "cell_type": "code",
   "execution_count": 103,
   "id": "initial_id",
   "metadata": {
    "collapsed": true,
    "ExecuteTime": {
     "end_time": "2024-05-18T13:09:02.537397500Z",
     "start_time": "2024-05-18T13:09:02.520866600Z"
    }
   },
   "outputs": [],
   "source": [
    "import pandas as pd\n",
    "import numpy as np\n",
    "import matplotlib.pyplot as plt\n",
    "import seaborn as sns"
   ]
  },
  {
   "cell_type": "code",
   "execution_count": 104,
   "outputs": [
    {
     "data": {
      "text/plain": "        IdSensore                 Data  Valore Stato UnitaMisura  \\\n0            5617  2013-01-01 00:00:00     1.4    VA       µg/m³   \n1            5617  2013-01-01 01:00:00     2.9    VA       µg/m³   \n2            5617  2013-01-01 02:00:00     1.9    VA       µg/m³   \n3            5617  2013-01-01 03:00:00     2.1    VA       µg/m³   \n4            5617  2013-01-01 04:00:00     2.5    VA       µg/m³   \n...           ...                  ...     ...   ...         ...   \n271190      20427  2017-12-31 19:00:00     2.5    VA       µg/m³   \n271191      20427  2017-12-31 20:00:00     3.5    VA       µg/m³   \n271192      20427  2017-12-31 21:00:00     4.2    VA       µg/m³   \n271193      20427  2017-12-31 22:00:00     4.8    VA       µg/m³   \n271194      20427  2017-12-31 23:00:00     4.5    VA       µg/m³   \n\n          NomeTipoSensore  Year  Month  Day  Hour  CumulativeDays  Week  \\\n0       Biossido di Zolfo  2013      1    1     0               1     1   \n1       Biossido di Zolfo  2013      1    1     1               1     1   \n2       Biossido di Zolfo  2013      1    1     2               1     1   \n3       Biossido di Zolfo  2013      1    1     3               1     1   \n4       Biossido di Zolfo  2013      1    1     4               1     1   \n...                   ...   ...    ...  ...   ...             ...   ...   \n271190  Biossido di Zolfo  2017     12   31    19             365    53   \n271191  Biossido di Zolfo  2017     12   31    20             365    53   \n271192  Biossido di Zolfo  2017     12   31    21             365    53   \n271193  Biossido di Zolfo  2017     12   31    22             365    53   \n271194  Biossido di Zolfo  2017     12   31    23             365    53   \n\n        CumulativeDay  \n0                   1  \n1                   1  \n2                   1  \n3                   1  \n4                   1  \n...               ...  \n271190            365  \n271191            365  \n271192            365  \n271193            365  \n271194            365  \n\n[271195 rows x 13 columns]",
      "text/html": "<div>\n<style scoped>\n    .dataframe tbody tr th:only-of-type {\n        vertical-align: middle;\n    }\n\n    .dataframe tbody tr th {\n        vertical-align: top;\n    }\n\n    .dataframe thead th {\n        text-align: right;\n    }\n</style>\n<table border=\"1\" class=\"dataframe\">\n  <thead>\n    <tr style=\"text-align: right;\">\n      <th></th>\n      <th>IdSensore</th>\n      <th>Data</th>\n      <th>Valore</th>\n      <th>Stato</th>\n      <th>UnitaMisura</th>\n      <th>NomeTipoSensore</th>\n      <th>Year</th>\n      <th>Month</th>\n      <th>Day</th>\n      <th>Hour</th>\n      <th>CumulativeDays</th>\n      <th>Week</th>\n      <th>CumulativeDay</th>\n    </tr>\n  </thead>\n  <tbody>\n    <tr>\n      <th>0</th>\n      <td>5617</td>\n      <td>2013-01-01 00:00:00</td>\n      <td>1.4</td>\n      <td>VA</td>\n      <td>µg/m³</td>\n      <td>Biossido di Zolfo</td>\n      <td>2013</td>\n      <td>1</td>\n      <td>1</td>\n      <td>0</td>\n      <td>1</td>\n      <td>1</td>\n      <td>1</td>\n    </tr>\n    <tr>\n      <th>1</th>\n      <td>5617</td>\n      <td>2013-01-01 01:00:00</td>\n      <td>2.9</td>\n      <td>VA</td>\n      <td>µg/m³</td>\n      <td>Biossido di Zolfo</td>\n      <td>2013</td>\n      <td>1</td>\n      <td>1</td>\n      <td>1</td>\n      <td>1</td>\n      <td>1</td>\n      <td>1</td>\n    </tr>\n    <tr>\n      <th>2</th>\n      <td>5617</td>\n      <td>2013-01-01 02:00:00</td>\n      <td>1.9</td>\n      <td>VA</td>\n      <td>µg/m³</td>\n      <td>Biossido di Zolfo</td>\n      <td>2013</td>\n      <td>1</td>\n      <td>1</td>\n      <td>2</td>\n      <td>1</td>\n      <td>1</td>\n      <td>1</td>\n    </tr>\n    <tr>\n      <th>3</th>\n      <td>5617</td>\n      <td>2013-01-01 03:00:00</td>\n      <td>2.1</td>\n      <td>VA</td>\n      <td>µg/m³</td>\n      <td>Biossido di Zolfo</td>\n      <td>2013</td>\n      <td>1</td>\n      <td>1</td>\n      <td>3</td>\n      <td>1</td>\n      <td>1</td>\n      <td>1</td>\n    </tr>\n    <tr>\n      <th>4</th>\n      <td>5617</td>\n      <td>2013-01-01 04:00:00</td>\n      <td>2.5</td>\n      <td>VA</td>\n      <td>µg/m³</td>\n      <td>Biossido di Zolfo</td>\n      <td>2013</td>\n      <td>1</td>\n      <td>1</td>\n      <td>4</td>\n      <td>1</td>\n      <td>1</td>\n      <td>1</td>\n    </tr>\n    <tr>\n      <th>...</th>\n      <td>...</td>\n      <td>...</td>\n      <td>...</td>\n      <td>...</td>\n      <td>...</td>\n      <td>...</td>\n      <td>...</td>\n      <td>...</td>\n      <td>...</td>\n      <td>...</td>\n      <td>...</td>\n      <td>...</td>\n      <td>...</td>\n    </tr>\n    <tr>\n      <th>271190</th>\n      <td>20427</td>\n      <td>2017-12-31 19:00:00</td>\n      <td>2.5</td>\n      <td>VA</td>\n      <td>µg/m³</td>\n      <td>Biossido di Zolfo</td>\n      <td>2017</td>\n      <td>12</td>\n      <td>31</td>\n      <td>19</td>\n      <td>365</td>\n      <td>53</td>\n      <td>365</td>\n    </tr>\n    <tr>\n      <th>271191</th>\n      <td>20427</td>\n      <td>2017-12-31 20:00:00</td>\n      <td>3.5</td>\n      <td>VA</td>\n      <td>µg/m³</td>\n      <td>Biossido di Zolfo</td>\n      <td>2017</td>\n      <td>12</td>\n      <td>31</td>\n      <td>20</td>\n      <td>365</td>\n      <td>53</td>\n      <td>365</td>\n    </tr>\n    <tr>\n      <th>271192</th>\n      <td>20427</td>\n      <td>2017-12-31 21:00:00</td>\n      <td>4.2</td>\n      <td>VA</td>\n      <td>µg/m³</td>\n      <td>Biossido di Zolfo</td>\n      <td>2017</td>\n      <td>12</td>\n      <td>31</td>\n      <td>21</td>\n      <td>365</td>\n      <td>53</td>\n      <td>365</td>\n    </tr>\n    <tr>\n      <th>271193</th>\n      <td>20427</td>\n      <td>2017-12-31 22:00:00</td>\n      <td>4.8</td>\n      <td>VA</td>\n      <td>µg/m³</td>\n      <td>Biossido di Zolfo</td>\n      <td>2017</td>\n      <td>12</td>\n      <td>31</td>\n      <td>22</td>\n      <td>365</td>\n      <td>53</td>\n      <td>365</td>\n    </tr>\n    <tr>\n      <th>271194</th>\n      <td>20427</td>\n      <td>2017-12-31 23:00:00</td>\n      <td>4.5</td>\n      <td>VA</td>\n      <td>µg/m³</td>\n      <td>Biossido di Zolfo</td>\n      <td>2017</td>\n      <td>12</td>\n      <td>31</td>\n      <td>23</td>\n      <td>365</td>\n      <td>53</td>\n      <td>365</td>\n    </tr>\n  </tbody>\n</table>\n<p>271195 rows × 13 columns</p>\n</div>"
     },
     "execution_count": 104,
     "metadata": {},
     "output_type": "execute_result"
    }
   ],
   "source": [
    "data = pd.read_csv('biossido_di_zolfo.csv')\n",
    "data"
   ],
   "metadata": {
    "collapsed": false,
    "ExecuteTime": {
     "end_time": "2024-05-18T13:09:03.765341900Z",
     "start_time": "2024-05-18T13:09:03.210545200Z"
    }
   },
   "id": "e19fd91e466d3bb8"
  },
  {
   "cell_type": "code",
   "execution_count": 105,
   "outputs": [
    {
     "data": {
      "text/plain": "Year  Week  IdSensore\n2013  1     5617         119\n            5619         119\n            5630         119\n            5631         119\n            5646         119\n                        ... \n2017  53    5630          17\n            5631          17\n            5646          17\n            10280         17\n            20427         17\nLength: 1736, dtype: int64"
     },
     "execution_count": 105,
     "metadata": {},
     "output_type": "execute_result"
    }
   ],
   "source": [
    "# dropping all the nocturnal hour (from 23 to 7)\n",
    "data = data[(data['Hour'] >= 7) & (data['Hour'] <= 23)]\n",
    "\n",
    "# counting the number of values for each day in each year\n",
    "data.groupby(['Year', 'Week', 'IdSensore']).size()\n",
    "# weekly_std = data.groupby(['Year', 'Week']).size().std()"
   ],
   "metadata": {
    "collapsed": false,
    "ExecuteTime": {
     "end_time": "2024-05-18T13:09:05.007739Z",
     "start_time": "2024-05-18T13:09:04.945170200Z"
    }
   },
   "id": "3aae8b468334977b"
  },
  {
   "cell_type": "code",
   "execution_count": 106,
   "outputs": [
    {
     "data": {
      "text/plain": "array([ 5617,  5619,  5630,  5631,  5646,  5696, 10006, 10280, 20427],\n      dtype=int64)"
     },
     "execution_count": 106,
     "metadata": {},
     "output_type": "execute_result"
    }
   ],
   "source": [
    "data['IdSensore'].unique()"
   ],
   "metadata": {
    "collapsed": false,
    "ExecuteTime": {
     "end_time": "2024-05-18T13:09:05.873203900Z",
     "start_time": "2024-05-18T13:09:05.857400Z"
    }
   },
   "id": "78b8b4e96b8a1759"
  },
  {
   "cell_type": "code",
   "execution_count": 110,
   "outputs": [
    {
     "data": {
      "text/plain": "   IdSensore  Week 1 Year 2013  Week 2 Year 2013  Week 3 Year 2013  \\\n0     5617.0              0.88              1.00              1.48   \n1     5619.0              6.46              1.86              2.94   \n2     5630.0              2.95              2.15              2.11   \n3     5631.0              7.46              6.09              4.10   \n4     5646.0              5.07              6.40              7.10   \n5     5696.0               NaN               NaN               NaN   \n6    10006.0              2.03              2.12              1.96   \n7    10280.0              7.05              6.37              7.99   \n8    20427.0               NaN               NaN               NaN   \n\n   Week 4 Year 2013  Week 5 Year 2013  Week 6 Year 2013  Week 7 Year 2013  \\\n0              1.07              1.03              1.24              0.77   \n1              3.02              2.71              3.05              6.28   \n2              1.95              2.88              0.63              6.90   \n3              2.94              3.42              2.69              4.47   \n4              6.81              6.92              6.77              7.19   \n5               NaN               NaN               NaN               NaN   \n6              2.09               NaN               NaN              3.00   \n7              8.70              8.32              9.80             11.59   \n8               NaN               NaN               NaN               NaN   \n\n   Week 8 Year 2013  Week 9 Year 2013  ...  Week 44 Year 2017  \\\n0              1.09              0.71  ...               1.20   \n1              3.27              2.52  ...               3.76   \n2              3.15              2.31  ...               3.73   \n3              6.33              2.56  ...               2.60   \n4              6.82              6.88  ...               2.78   \n5               NaN               NaN  ...                NaN   \n6              2.79              4.10  ...                NaN   \n7              4.83              3.62  ...               3.12   \n8               NaN               NaN  ...                NaN   \n\n   Week 45 Year 2017  Week 46 Year 2017  Week 47 Year 2017  Week 48 Year 2017  \\\n0               2.11               2.57               4.75               5.10   \n1               3.13               6.27               5.22               5.40   \n2               2.71               4.61               3.86               3.34   \n3               2.50               2.95               2.81               3.02   \n4               2.27               2.67               3.12               5.42   \n5                NaN                NaN                NaN                NaN   \n6                NaN                NaN                NaN                NaN   \n7               1.85               4.40               3.20               2.77   \n8                NaN                NaN                NaN                NaN   \n\n   Week 49 Year 2017  Week 50 Year 2017  Week 51 Year 2017  Week 52 Year 2017  \\\n0               6.99               6.28                NaN                NaN   \n1               6.83               6.30               7.47               4.32   \n2               4.51               3.63               4.64               3.34   \n3               4.54               5.03               7.41               4.26   \n4               3.16               2.19               1.78               1.72   \n5                NaN                NaN                NaN                NaN   \n6                NaN                NaN                NaN                NaN   \n7               3.85               3.07               4.66               2.63   \n8                NaN                NaN               5.40               4.89   \n\n   Week 53 Year 2017  \n0                NaN  \n1               4.52  \n2               2.94  \n3               5.09  \n4               2.37  \n5                NaN  \n6                NaN  \n7               2.22  \n8               4.38  \n\n[9 rows x 266 columns]",
      "text/html": "<div>\n<style scoped>\n    .dataframe tbody tr th:only-of-type {\n        vertical-align: middle;\n    }\n\n    .dataframe tbody tr th {\n        vertical-align: top;\n    }\n\n    .dataframe thead th {\n        text-align: right;\n    }\n</style>\n<table border=\"1\" class=\"dataframe\">\n  <thead>\n    <tr style=\"text-align: right;\">\n      <th></th>\n      <th>IdSensore</th>\n      <th>Week 1 Year 2013</th>\n      <th>Week 2 Year 2013</th>\n      <th>Week 3 Year 2013</th>\n      <th>Week 4 Year 2013</th>\n      <th>Week 5 Year 2013</th>\n      <th>Week 6 Year 2013</th>\n      <th>Week 7 Year 2013</th>\n      <th>Week 8 Year 2013</th>\n      <th>Week 9 Year 2013</th>\n      <th>...</th>\n      <th>Week 44 Year 2017</th>\n      <th>Week 45 Year 2017</th>\n      <th>Week 46 Year 2017</th>\n      <th>Week 47 Year 2017</th>\n      <th>Week 48 Year 2017</th>\n      <th>Week 49 Year 2017</th>\n      <th>Week 50 Year 2017</th>\n      <th>Week 51 Year 2017</th>\n      <th>Week 52 Year 2017</th>\n      <th>Week 53 Year 2017</th>\n    </tr>\n  </thead>\n  <tbody>\n    <tr>\n      <th>0</th>\n      <td>5617.0</td>\n      <td>0.88</td>\n      <td>1.00</td>\n      <td>1.48</td>\n      <td>1.07</td>\n      <td>1.03</td>\n      <td>1.24</td>\n      <td>0.77</td>\n      <td>1.09</td>\n      <td>0.71</td>\n      <td>...</td>\n      <td>1.20</td>\n      <td>2.11</td>\n      <td>2.57</td>\n      <td>4.75</td>\n      <td>5.10</td>\n      <td>6.99</td>\n      <td>6.28</td>\n      <td>NaN</td>\n      <td>NaN</td>\n      <td>NaN</td>\n    </tr>\n    <tr>\n      <th>1</th>\n      <td>5619.0</td>\n      <td>6.46</td>\n      <td>1.86</td>\n      <td>2.94</td>\n      <td>3.02</td>\n      <td>2.71</td>\n      <td>3.05</td>\n      <td>6.28</td>\n      <td>3.27</td>\n      <td>2.52</td>\n      <td>...</td>\n      <td>3.76</td>\n      <td>3.13</td>\n      <td>6.27</td>\n      <td>5.22</td>\n      <td>5.40</td>\n      <td>6.83</td>\n      <td>6.30</td>\n      <td>7.47</td>\n      <td>4.32</td>\n      <td>4.52</td>\n    </tr>\n    <tr>\n      <th>2</th>\n      <td>5630.0</td>\n      <td>2.95</td>\n      <td>2.15</td>\n      <td>2.11</td>\n      <td>1.95</td>\n      <td>2.88</td>\n      <td>0.63</td>\n      <td>6.90</td>\n      <td>3.15</td>\n      <td>2.31</td>\n      <td>...</td>\n      <td>3.73</td>\n      <td>2.71</td>\n      <td>4.61</td>\n      <td>3.86</td>\n      <td>3.34</td>\n      <td>4.51</td>\n      <td>3.63</td>\n      <td>4.64</td>\n      <td>3.34</td>\n      <td>2.94</td>\n    </tr>\n    <tr>\n      <th>3</th>\n      <td>5631.0</td>\n      <td>7.46</td>\n      <td>6.09</td>\n      <td>4.10</td>\n      <td>2.94</td>\n      <td>3.42</td>\n      <td>2.69</td>\n      <td>4.47</td>\n      <td>6.33</td>\n      <td>2.56</td>\n      <td>...</td>\n      <td>2.60</td>\n      <td>2.50</td>\n      <td>2.95</td>\n      <td>2.81</td>\n      <td>3.02</td>\n      <td>4.54</td>\n      <td>5.03</td>\n      <td>7.41</td>\n      <td>4.26</td>\n      <td>5.09</td>\n    </tr>\n    <tr>\n      <th>4</th>\n      <td>5646.0</td>\n      <td>5.07</td>\n      <td>6.40</td>\n      <td>7.10</td>\n      <td>6.81</td>\n      <td>6.92</td>\n      <td>6.77</td>\n      <td>7.19</td>\n      <td>6.82</td>\n      <td>6.88</td>\n      <td>...</td>\n      <td>2.78</td>\n      <td>2.27</td>\n      <td>2.67</td>\n      <td>3.12</td>\n      <td>5.42</td>\n      <td>3.16</td>\n      <td>2.19</td>\n      <td>1.78</td>\n      <td>1.72</td>\n      <td>2.37</td>\n    </tr>\n    <tr>\n      <th>5</th>\n      <td>5696.0</td>\n      <td>NaN</td>\n      <td>NaN</td>\n      <td>NaN</td>\n      <td>NaN</td>\n      <td>NaN</td>\n      <td>NaN</td>\n      <td>NaN</td>\n      <td>NaN</td>\n      <td>NaN</td>\n      <td>...</td>\n      <td>NaN</td>\n      <td>NaN</td>\n      <td>NaN</td>\n      <td>NaN</td>\n      <td>NaN</td>\n      <td>NaN</td>\n      <td>NaN</td>\n      <td>NaN</td>\n      <td>NaN</td>\n      <td>NaN</td>\n    </tr>\n    <tr>\n      <th>6</th>\n      <td>10006.0</td>\n      <td>2.03</td>\n      <td>2.12</td>\n      <td>1.96</td>\n      <td>2.09</td>\n      <td>NaN</td>\n      <td>NaN</td>\n      <td>3.00</td>\n      <td>2.79</td>\n      <td>4.10</td>\n      <td>...</td>\n      <td>NaN</td>\n      <td>NaN</td>\n      <td>NaN</td>\n      <td>NaN</td>\n      <td>NaN</td>\n      <td>NaN</td>\n      <td>NaN</td>\n      <td>NaN</td>\n      <td>NaN</td>\n      <td>NaN</td>\n    </tr>\n    <tr>\n      <th>7</th>\n      <td>10280.0</td>\n      <td>7.05</td>\n      <td>6.37</td>\n      <td>7.99</td>\n      <td>8.70</td>\n      <td>8.32</td>\n      <td>9.80</td>\n      <td>11.59</td>\n      <td>4.83</td>\n      <td>3.62</td>\n      <td>...</td>\n      <td>3.12</td>\n      <td>1.85</td>\n      <td>4.40</td>\n      <td>3.20</td>\n      <td>2.77</td>\n      <td>3.85</td>\n      <td>3.07</td>\n      <td>4.66</td>\n      <td>2.63</td>\n      <td>2.22</td>\n    </tr>\n    <tr>\n      <th>8</th>\n      <td>20427.0</td>\n      <td>NaN</td>\n      <td>NaN</td>\n      <td>NaN</td>\n      <td>NaN</td>\n      <td>NaN</td>\n      <td>NaN</td>\n      <td>NaN</td>\n      <td>NaN</td>\n      <td>NaN</td>\n      <td>...</td>\n      <td>NaN</td>\n      <td>NaN</td>\n      <td>NaN</td>\n      <td>NaN</td>\n      <td>NaN</td>\n      <td>NaN</td>\n      <td>NaN</td>\n      <td>5.40</td>\n      <td>4.89</td>\n      <td>4.38</td>\n    </tr>\n  </tbody>\n</table>\n<p>9 rows × 266 columns</p>\n</div>"
     },
     "execution_count": 110,
     "metadata": {},
     "output_type": "execute_result"
    }
   ],
   "source": [
    "# total number of weeks in the dataset\n",
    "weeks = data.groupby(['Year', 'Week']).size().count()\n",
    "# computing the maean for each sensors\n",
    "# creating the dataframe\n",
    "colarray = ['IdSensore']\n",
    "for years in data['Year'].unique():\n",
    "    for week in data[data['Year'] == years]['Week'].unique():\n",
    "        colarray.append('Week ' + str(week) + ' Year ' + str(years))\n",
    "means = pd.DataFrame(columns=colarray)\n",
    "        \n",
    "for sensor in data['IdSensore'].unique():\n",
    "    currmeans = []\n",
    "    for year in data['Year'].unique():\n",
    "        for week in data[data['Year'] == year]['Week'].unique():\n",
    "            currentweek = data[(data['Year'] == year) & (data['Week'] == week) & (data['IdSensore'] == sensor)]\n",
    "            currmeans.append(round(currentweek['Valore'].mean(), 2))\n",
    "    # adding the means of the sensors as a row in the dataframe\n",
    "    means.loc[len(means)] = [sensor] + currmeans\n",
    "means"
   ],
   "metadata": {
    "collapsed": false,
    "ExecuteTime": {
     "end_time": "2024-05-18T13:09:48.984623500Z",
     "start_time": "2024-05-18T13:09:46.091025500Z"
    }
   },
   "id": "f35deeaaeb80fdf5"
  },
  {
   "cell_type": "code",
   "execution_count": 112,
   "outputs": [
    {
     "data": {
      "text/plain": "0      9\n1     34\n2      1\n3      8\n4      8\n5    264\n6     58\n7      5\n8    262\ndtype: int64"
     },
     "execution_count": 112,
     "metadata": {},
     "output_type": "execute_result"
    }
   ],
   "source": [
    "# finding out the number of missing values for each row\n",
    "missing = means.isna().sum(axis=1)\n",
    "missing"
   ],
   "metadata": {
    "collapsed": false,
    "ExecuteTime": {
     "end_time": "2024-05-18T13:15:15.083108200Z",
     "start_time": "2024-05-18T13:15:15.048333200Z"
    }
   },
   "id": "41e3ebf2782c7939"
  },
  {
   "cell_type": "code",
   "execution_count": 111,
   "outputs": [],
   "source": [
    "# saving the means\n",
    "means.to_csv('means_biossido_di_zolfo.csv', index=False)"
   ],
   "metadata": {
    "collapsed": false,
    "ExecuteTime": {
     "end_time": "2024-05-18T13:10:00.476321900Z",
     "start_time": "2024-05-18T13:10:00.458846200Z"
    }
   },
   "id": "1add6e8f74c0c10a"
  },
  {
   "cell_type": "code",
   "execution_count": null,
   "outputs": [],
   "source": [],
   "metadata": {
    "collapsed": false
   },
   "id": "21ea48a08441b52b"
  }
 ],
 "metadata": {
  "kernelspec": {
   "display_name": "Python 3",
   "language": "python",
   "name": "python3"
  },
  "language_info": {
   "codemirror_mode": {
    "name": "ipython",
    "version": 2
   },
   "file_extension": ".py",
   "mimetype": "text/x-python",
   "name": "python",
   "nbconvert_exporter": "python",
   "pygments_lexer": "ipython2",
   "version": "2.7.6"
  }
 },
 "nbformat": 4,
 "nbformat_minor": 5
}
