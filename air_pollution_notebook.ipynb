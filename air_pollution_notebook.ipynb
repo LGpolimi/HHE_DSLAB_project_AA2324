{
 "cells": [
  {
   "cell_type": "code",
   "execution_count": 5,
   "outputs": [],
   "source": [
    "import pandas as pd\n",
    "import numpy as np\n",
    "import matplotlib.pyplot as plt\n",
    "import seaborn as sns\n",
    "import pykrige.kriging_tools as kt\n"
   ],
   "metadata": {
    "collapsed": false,
    "ExecuteTime": {
     "end_time": "2024-05-14T08:17:54.532530800Z",
     "start_time": "2024-05-14T08:17:54.174720100Z"
    }
   },
   "id": "95c56da9a6fd4612"
  },
  {
   "cell_type": "code",
   "execution_count": 6,
   "outputs": [],
   "source": [
    "df_stations = pd.read_csv('Air_quality_data/Stazioni_qualit__dell_aria_20240430.csv')\n",
    "df_air_quality1 = pd.read_csv('Air_quality_data/Dati_sensori_aria_2010-2017_20240430.csv', low_memory=False)\n",
    "df_air_quality2 = pd.read_csv('Air_quality_data/Dati_sensori_aria_dal_2018_20240430.csv', low_memory=False)"
   ],
   "metadata": {
    "collapsed": false,
    "ExecuteTime": {
     "end_time": "2024-05-14T08:18:31.717214100Z",
     "start_time": "2024-05-14T08:17:54.179270400Z"
    }
   },
   "id": "initial_id"
  },
  {
   "cell_type": "code",
   "execution_count": 7,
   "outputs": [],
   "source": [
    "# Add the two dataframes together by row\n",
    "df_air_quality = pd.concat([df_air_quality1, df_air_quality2], axis=0)"
   ],
   "metadata": {
    "collapsed": false,
    "ExecuteTime": {
     "end_time": "2024-05-14T08:18:32.735912800Z",
     "start_time": "2024-05-14T08:18:31.746081100Z"
    }
   },
   "id": "ef18f63a5d4b7321"
  },
  {
   "cell_type": "code",
   "execution_count": 8,
   "outputs": [],
   "source": [
    "milan_municipalities = [\n",
    "    'Abbiategrasso', 'Albairate', 'Arconate', 'Arese', 'Arluno', 'Assago',\n",
    "    'Baranzate', 'Bareggio', 'Basiano', 'Basiglio', 'Bellinzago Lombardo', 'Bernate Ticino', 'Besate', 'Binasco', 'Boffalora Sopra Ticino', 'Bollate', 'Bresso', 'Bubbiano', 'Buccinasco', 'Buscate', 'Bussero', 'Busto Garolfo',\n",
    "    'Calvignasco', 'Cambiago', 'Canegrate', 'Carpiano', 'Carugate', 'Casarile', 'Casorezzo', 'Cassano d\\'Adda', 'Cassina de\\' Pecchi', 'Cassinetta di Lugagnano', 'Castano Primo', 'Cernusco sul Naviglio', 'Cerro Maggiore', 'Cerro al Lambro', 'Cesano Boscone', 'Cesate', 'Cinisello Balsamo', 'Cisliano', 'Cologno Monzese', 'Colturano', 'Corbetta', 'Cormano', 'Cornaredo', 'Corsico', 'Cuggiono', 'Cusago', 'Cusano Milanino',\n",
    "    'Dairago', 'Dresano',\n",
    "    'Gaggiano', 'Garbagnate Milanese', 'Gessate', 'Gorgonzola', 'Grezzago', 'Gudo Visconti',\n",
    "    'Inveruno', 'Inzago',\n",
    "    'Lacchiarella', 'Lainate', 'Legnano', 'Liscate', 'Locate di Triulzi',\n",
    "    'Magenta', 'Magnago', 'Marcallo con Casone', 'Masate', 'Mediglia', 'Melegnano', 'Melzo', 'Mesero', 'Milano', 'Morimondo', 'Motta Visconti',\n",
    "    'Nerviano', 'Nosate', 'Novate Milanese', 'Noviglio',\n",
    "    'Opera', 'Ossona', 'Ozzero',\n",
    "    'Paderno Dugnano', 'Pantigliate', 'Parabiago', 'Paullo', 'Pero', 'Peschiera Borromeo', 'Pessano con Bornago', 'Pieve Emanuele', 'Pioltello', 'Pogliano Milanese', 'Pozzo D\\'Adda', 'Pozzuolo Martesana', 'Pregnana Milanese',\n",
    "    'Rescaldina', 'Rho', 'Robecchetto con Induno', 'Robecco sul Naviglio', 'Rodano', 'Rosate', 'Rozzano',\n",
    "    'San Colombano al Lambro', 'San Donato Milanese', 'San Giorgio su Legnano', 'San Giuliano Milanese', 'San Vittore Olona', 'San Zenone al Lambro', 'Santo Stefano Ticino', 'Sedriano', 'Segrate', 'Senago', 'Sesto San Giovanni', 'Settala', 'Settimo Milanese', 'Solaro',\n",
    "    'Trezzano Rosa', 'Trezzano sul Naviglio', 'Trezzo sull\\'Adda', 'Tribiano', 'Truccazzano', 'Turbigo',\n",
    "    'Vanzaghello', 'Vanzago', 'Vaprio d\\'Adda', 'Vermezzo con Zelo', 'Vernate', 'Vignate', 'Villa Cortese', 'Vimodrone', 'Vittuone', 'Vizzolo Predabissi',\n",
    "    'Zibido San Giacomo'\n",
    "]"
   ],
   "metadata": {
    "collapsed": false,
    "ExecuteTime": {
     "end_time": "2024-05-14T08:18:32.792192300Z",
     "start_time": "2024-05-14T08:18:32.738904800Z"
    }
   },
   "id": "26ea6bac43647415"
  },
  {
   "cell_type": "code",
   "execution_count": 9,
   "outputs": [
    {
     "name": "stdout",
     "output_type": "stream",
     "text": [
      "133\n"
     ]
    }
   ],
   "source": [
    "## Print the number of municipalities in Milan\n",
    "print(len(milan_municipalities))"
   ],
   "metadata": {
    "collapsed": false,
    "ExecuteTime": {
     "end_time": "2024-05-14T08:18:32.806284300Z",
     "start_time": "2024-05-14T08:18:32.797971300Z"
    }
   },
   "id": "5a608b6954b2cda6"
  },
  {
   "cell_type": "code",
   "execution_count": 10,
   "outputs": [
    {
     "name": "stdout",
     "output_type": "stream",
     "text": [
      "['Albairate', 'Arluno', 'Assago', 'Baranzate', 'Bareggio', 'Basiano', 'Basiglio', 'Bellinzago Lombardo', 'Bernate Ticino', 'Besate', 'Binasco', 'Boffalora Sopra Ticino', 'Bollate', 'Bresso', 'Bubbiano', 'Buccinasco', 'Buscate', 'Bussero', 'Busto Garolfo', 'Calvignasco', 'Cambiago', 'Canegrate', 'Carpiano', 'Carugate', 'Casarile', 'Casorezzo', \"Cassina de' Pecchi\", 'Cassinetta di Lugagnano', 'Cernusco sul Naviglio', 'Cerro Maggiore', 'Cerro al Lambro', 'Cesano Boscone', 'Cesate', 'Cisliano', 'Cologno Monzese', 'Colturano', 'Corbetta', 'Cornaredo', 'Cusago', 'Cusano Milanino', 'Dairago', 'Dresano', 'Gaggiano', 'Gessate', 'Gorgonzola', 'Grezzago', 'Gudo Visconti', 'Inveruno', 'Liscate', 'Locate di Triulzi', 'Magnago', 'Marcallo con Casone', 'Masate', 'Mediglia', 'Melzo', 'Mesero', 'Morimondo', 'Nerviano', 'Nosate', 'Novate Milanese', 'Noviglio', 'Opera', 'Ossona', 'Ozzero', 'Paderno Dugnano', 'Pantigliate', 'Parabiago', 'Paullo', 'Peschiera Borromeo', 'Pessano con Bornago', 'Pieve Emanuele', 'Pogliano Milanese', \"Pozzo D'Adda\", 'Pozzuolo Martesana', 'Pregnana Milanese', 'Rescaldina', 'Robecco sul Naviglio', 'Rodano', 'Rosate', 'Rozzano', 'San Colombano al Lambro', 'San Donato Milanese', 'San Giorgio su Legnano', 'San Vittore Olona', 'San Zenone al Lambro', 'Santo Stefano Ticino', 'Sedriano', 'Segrate', 'Senago', 'Settala', 'Solaro', 'Trezzano Rosa', 'Trezzano sul Naviglio', 'Vanzaghello', 'Vanzago', \"Vaprio d'Adda\", 'Vermezzo con Zelo', 'Vernate', 'Vignate', 'Villa Cortese', 'Vimodrone', 'Vittuone', 'Vizzolo Predabissi', 'Zibido San Giacomo']\n"
     ]
    }
   ],
   "source": [
    "## Make a list of municipalities in Milan that are not in the dataset\n",
    "not_in_dataset = [municipality for municipality in milan_municipalities if municipality not in df_stations['Comune'].unique()]\n",
    "print(not_in_dataset)"
   ],
   "metadata": {
    "collapsed": false,
    "ExecuteTime": {
     "end_time": "2024-05-14T08:18:32.851882400Z",
     "start_time": "2024-05-14T08:18:32.806284300Z"
    }
   },
   "id": "addeeff15a6729ce"
  },
  {
   "cell_type": "code",
   "execution_count": 11,
   "outputs": [
    {
     "name": "stdout",
     "output_type": "stream",
     "text": [
      "['Inzago' 'Pero' 'Sesto San Giovanni' 'Lacchiarella' 'Cormano' 'Corsico'\n",
      " 'Milano' \"Cassano d'Adda\" 'Cuggiono' \"Trezzo sull'Adda\"\n",
      " 'Cinisello Balsamo' 'Legnano' 'Motta Visconti' 'Magenta' 'Turbigo'\n",
      " 'Robecchetto con Induno' 'Arconate' 'Settimo Milanese' 'Pioltello' 'Rho'\n",
      " 'San Giuliano Milanese' 'Arese' 'Abbiategrasso' 'Melegnano' 'Lainate'\n",
      " 'Garbagnate Milanese' 'Tribiano' 'Castano Primo' 'Truccazzano']\n"
     ]
    }
   ],
   "source": [
    "## Drop rows with municipalities not in the list of milan_municipalities\n",
    "df_milano_stations = df_stations[df_stations['Comune'].isin(milan_municipalities)]\n",
    "print(df_milano_stations['Comune'].unique())"
   ],
   "metadata": {
    "collapsed": false,
    "ExecuteTime": {
     "end_time": "2024-05-14T08:18:32.888280300Z",
     "start_time": "2024-05-14T08:18:32.855235600Z"
    }
   },
   "id": "2455c1e0d92f439c"
  },
  {
   "cell_type": "code",
   "execution_count": 12,
   "outputs": [
    {
     "name": "stdout",
     "output_type": "stream",
     "text": [
      "29\n"
     ]
    }
   ],
   "source": [
    "## Print the number of municipalities in province of Milan that have air quality data\n",
    "print(len(df_milano_stations['Comune'].unique()))"
   ],
   "metadata": {
    "collapsed": false,
    "ExecuteTime": {
     "end_time": "2024-05-14T08:18:32.890453100Z",
     "start_time": "2024-05-14T08:18:32.886699700Z"
    }
   },
   "id": "d53663042c645ef5"
  },
  {
   "cell_type": "code",
   "execution_count": 13,
   "outputs": [
    {
     "name": "stdout",
     "output_type": "stream",
     "text": [
      "NomeTipoSensore\n",
      "Ossidi di Azoto               38\n",
      "Biossido di Azoto             38\n",
      "Biossido di Zolfo             32\n",
      "Monossido di Carbonio         26\n",
      "Ozono                         17\n",
      "Particolato Totale Sospeso    14\n",
      "PM10 (SM2005)                 13\n",
      "Benzene                        7\n",
      "Particelle sospese PM2.5       6\n",
      "BlackCarbon                    5\n",
      "Ammoniaca                      4\n",
      "Arsenico                       3\n",
      "Piombo                         3\n",
      "Nikel                          3\n",
      "Benzo(a)pirene                 3\n",
      "Cadmio                         3\n",
      "Name: count, dtype: int64\n"
     ]
    }
   ],
   "source": [
    "## Count the number of rows for each unique value in 'NomeTipoSensore' column\n",
    "print(df_milano_stations['NomeTipoSensore'].value_counts())"
   ],
   "metadata": {
    "collapsed": false,
    "ExecuteTime": {
     "end_time": "2024-05-14T08:18:32.928575600Z",
     "start_time": "2024-05-14T08:18:32.890453100Z"
    }
   },
   "id": "2396068d3a3c1c20"
  },
  {
   "cell_type": "code",
   "execution_count": 14,
   "outputs": [
    {
     "name": "stdout",
     "output_type": "stream",
     "text": [
      "['µg/m³' 'ng/m³' 'mg/m³']\n"
     ]
    }
   ],
   "source": [
    "## Get  the unique values of 'UnitaMisura' column\n",
    "print(df_milano_stations['UnitaMisura'].unique())\n"
   ],
   "metadata": {
    "collapsed": false,
    "ExecuteTime": {
     "end_time": "2024-05-14T08:18:32.939210300Z",
     "start_time": "2024-05-14T08:18:32.934900900Z"
    }
   },
   "id": "67d36b424d8d9633"
  },
  {
   "cell_type": "code",
   "execution_count": 15,
   "outputs": [
    {
     "name": "stdout",
     "output_type": "stream",
     "text": [
      "NomeTipoSensore\n",
      "Ammoniaca                                          [20020, 20484, 10269, 20525]\n",
      "Arsenico                                                  [12608, 12638, 12625]\n",
      "Benzene                            [17127, 6057, 6037, 9998, 6062, 6059, 17126]\n",
      "Benzo(a)pirene                                            [12641, 12611, 12629]\n",
      "Biossido di Azoto             [5507, 5513, 5531, 5550, 5520, 5549, 5519, 554...\n",
      "Biossido di Zolfo             [5620, 5621, 5618, 5617, 5627, 5643, 5642, 563...\n",
      "BlackCarbon                                 [20455, 29001, 20004, 20465, 20005]\n",
      "Cadmio                                                    [12626, 12609, 12639]\n",
      "Monossido di Carbonio         [5814, 5820, 5819, 5835, 5831, 5813, 5834, 581...\n",
      "Nikel                                                     [12624, 12637, 12607]\n",
      "Ossidi di Azoto               [6342, 6318, 6338, 6350, 6360, 6346, 6276, 629...\n",
      "Ozono                         [5712, 5714, 5710, 5713, 5724, 5725, 10350, 57...\n",
      "PM10 (SM2005)                 [20429, 20428, 6907, 6905, 6912, 6908, 6909, 1...\n",
      "Particelle sospese PM2.5              [20358, 9874, 10349, 10283, 20529, 17122]\n",
      "Particolato Totale Sospeso    [6636, 6637, 6648, 6651, 6640, 6646, 6639, 663...\n",
      "Piombo                                                    [12610, 12640, 12627]\n",
      "Name: IdSensore, dtype: object\n"
     ]
    }
   ],
   "source": [
    "## Get the list IdSensore for each unique value in 'NomeTipoSensore' column\n",
    "idSensor_grouped_by_type = df_milano_stations.groupby('NomeTipoSensore')['IdSensore'].unique()\n",
    "print(idSensor_grouped_by_type)"
   ],
   "metadata": {
    "collapsed": false,
    "ExecuteTime": {
     "end_time": "2024-05-14T08:18:32.973552400Z",
     "start_time": "2024-05-14T08:18:32.939587400Z"
    }
   },
   "id": "9e2baffedffff16d"
  },
  {
   "cell_type": "code",
   "execution_count": 16,
   "outputs": [
    {
     "name": "stdout",
     "output_type": "stream",
     "text": [
      "idSensore\n",
      "6665     122511\n",
      "5721     122428\n",
      "5548     122419\n",
      "6419     122390\n",
      "5749     122381\n",
      "          ...  \n",
      "17083       248\n",
      "6922        105\n",
      "5769        105\n",
      "6943          3\n",
      "6942          3\n",
      "Name: count, Length: 924, dtype: int64\n"
     ]
    }
   ],
   "source": [
    "## Print the number of rows in the air quality dataframe for each unique value in 'IdSensore' column\n",
    "print(df_air_quality['idSensore'].value_counts())"
   ],
   "metadata": {
    "collapsed": false,
    "ExecuteTime": {
     "end_time": "2024-05-14T08:18:33.372219Z",
     "start_time": "2024-05-14T08:18:32.974920200Z"
    }
   },
   "id": "b016fbc99274e786"
  },
  {
   "cell_type": "code",
   "execution_count": 17,
   "outputs": [
    {
     "data": {
      "text/plain": "   idSensore                 Data  Valore Stato\n0       5504  01/01/2010 01:00:00    70.7    VA\n1       5504  01/01/2010 02:00:00    73.0    VA\n2       5504  01/01/2010 03:00:00    69.0    VA\n3       5504  01/01/2010 04:00:00    66.0    VA\n4       5504  01/01/2010 05:00:00    68.8    VA",
      "text/html": "<div>\n<style scoped>\n    .dataframe tbody tr th:only-of-type {\n        vertical-align: middle;\n    }\n\n    .dataframe tbody tr th {\n        vertical-align: top;\n    }\n\n    .dataframe thead th {\n        text-align: right;\n    }\n</style>\n<table border=\"1\" class=\"dataframe\">\n  <thead>\n    <tr style=\"text-align: right;\">\n      <th></th>\n      <th>idSensore</th>\n      <th>Data</th>\n      <th>Valore</th>\n      <th>Stato</th>\n    </tr>\n  </thead>\n  <tbody>\n    <tr>\n      <th>0</th>\n      <td>5504</td>\n      <td>01/01/2010 01:00:00</td>\n      <td>70.7</td>\n      <td>VA</td>\n    </tr>\n    <tr>\n      <th>1</th>\n      <td>5504</td>\n      <td>01/01/2010 02:00:00</td>\n      <td>73.0</td>\n      <td>VA</td>\n    </tr>\n    <tr>\n      <th>2</th>\n      <td>5504</td>\n      <td>01/01/2010 03:00:00</td>\n      <td>69.0</td>\n      <td>VA</td>\n    </tr>\n    <tr>\n      <th>3</th>\n      <td>5504</td>\n      <td>01/01/2010 04:00:00</td>\n      <td>66.0</td>\n      <td>VA</td>\n    </tr>\n    <tr>\n      <th>4</th>\n      <td>5504</td>\n      <td>01/01/2010 05:00:00</td>\n      <td>68.8</td>\n      <td>VA</td>\n    </tr>\n  </tbody>\n</table>\n</div>"
     },
     "execution_count": 17,
     "metadata": {},
     "output_type": "execute_result"
    }
   ],
   "source": [
    "## Remove column 'idOperatore' from the air quality dataframe\n",
    "df_air_quality = df_air_quality.drop('idOperatore', axis=1)\n",
    "df_air_quality.head()"
   ],
   "metadata": {
    "collapsed": false,
    "ExecuteTime": {
     "end_time": "2024-05-14T08:18:37.089577900Z",
     "start_time": "2024-05-14T08:18:33.378670Z"
    }
   },
   "id": "56ca167c2917fff0"
  },
  {
   "cell_type": "code",
   "execution_count": 18,
   "outputs": [
    {
     "data": {
      "text/plain": "   IdSensore                 Data  Valore Stato\n0       5504  01/01/2010 01:00:00    70.7    VA\n1       5504  01/01/2010 02:00:00    73.0    VA\n2       5504  01/01/2010 03:00:00    69.0    VA\n3       5504  01/01/2010 04:00:00    66.0    VA\n4       5504  01/01/2010 05:00:00    68.8    VA",
      "text/html": "<div>\n<style scoped>\n    .dataframe tbody tr th:only-of-type {\n        vertical-align: middle;\n    }\n\n    .dataframe tbody tr th {\n        vertical-align: top;\n    }\n\n    .dataframe thead th {\n        text-align: right;\n    }\n</style>\n<table border=\"1\" class=\"dataframe\">\n  <thead>\n    <tr style=\"text-align: right;\">\n      <th></th>\n      <th>IdSensore</th>\n      <th>Data</th>\n      <th>Valore</th>\n      <th>Stato</th>\n    </tr>\n  </thead>\n  <tbody>\n    <tr>\n      <th>0</th>\n      <td>5504</td>\n      <td>01/01/2010 01:00:00</td>\n      <td>70.7</td>\n      <td>VA</td>\n    </tr>\n    <tr>\n      <th>1</th>\n      <td>5504</td>\n      <td>01/01/2010 02:00:00</td>\n      <td>73.0</td>\n      <td>VA</td>\n    </tr>\n    <tr>\n      <th>2</th>\n      <td>5504</td>\n      <td>01/01/2010 03:00:00</td>\n      <td>69.0</td>\n      <td>VA</td>\n    </tr>\n    <tr>\n      <th>3</th>\n      <td>5504</td>\n      <td>01/01/2010 04:00:00</td>\n      <td>66.0</td>\n      <td>VA</td>\n    </tr>\n    <tr>\n      <th>4</th>\n      <td>5504</td>\n      <td>01/01/2010 05:00:00</td>\n      <td>68.8</td>\n      <td>VA</td>\n    </tr>\n  </tbody>\n</table>\n</div>"
     },
     "execution_count": 18,
     "metadata": {},
     "output_type": "execute_result"
    }
   ],
   "source": [
    "## Rename the column 'idSensore' to 'IdSensore' in the air quality dataframe\n",
    "df_air_quality = df_air_quality.rename(columns={'idSensore': 'IdSensore'})\n",
    "df_air_quality.head()"
   ],
   "metadata": {
    "collapsed": false,
    "ExecuteTime": {
     "end_time": "2024-05-14T08:18:43.513473600Z",
     "start_time": "2024-05-14T08:18:37.089577900Z"
    }
   },
   "id": "b569a2e7a96c9ecd"
  },
  {
   "cell_type": "code",
   "execution_count": 19,
   "outputs": [
    {
     "data": {
      "text/plain": "   IdSensore                 Data  Valore Stato UnitaMisura\n0       5504  01/01/2010 01:00:00    70.7    VA       µg/m³\n1       5504  01/01/2010 02:00:00    73.0    VA       µg/m³\n2       5504  01/01/2010 03:00:00    69.0    VA       µg/m³\n3       5504  01/01/2010 04:00:00    66.0    VA       µg/m³\n4       5504  01/01/2010 05:00:00    68.8    VA       µg/m³",
      "text/html": "<div>\n<style scoped>\n    .dataframe tbody tr th:only-of-type {\n        vertical-align: middle;\n    }\n\n    .dataframe tbody tr th {\n        vertical-align: top;\n    }\n\n    .dataframe thead th {\n        text-align: right;\n    }\n</style>\n<table border=\"1\" class=\"dataframe\">\n  <thead>\n    <tr style=\"text-align: right;\">\n      <th></th>\n      <th>IdSensore</th>\n      <th>Data</th>\n      <th>Valore</th>\n      <th>Stato</th>\n      <th>UnitaMisura</th>\n    </tr>\n  </thead>\n  <tbody>\n    <tr>\n      <th>0</th>\n      <td>5504</td>\n      <td>01/01/2010 01:00:00</td>\n      <td>70.7</td>\n      <td>VA</td>\n      <td>µg/m³</td>\n    </tr>\n    <tr>\n      <th>1</th>\n      <td>5504</td>\n      <td>01/01/2010 02:00:00</td>\n      <td>73.0</td>\n      <td>VA</td>\n      <td>µg/m³</td>\n    </tr>\n    <tr>\n      <th>2</th>\n      <td>5504</td>\n      <td>01/01/2010 03:00:00</td>\n      <td>69.0</td>\n      <td>VA</td>\n      <td>µg/m³</td>\n    </tr>\n    <tr>\n      <th>3</th>\n      <td>5504</td>\n      <td>01/01/2010 04:00:00</td>\n      <td>66.0</td>\n      <td>VA</td>\n      <td>µg/m³</td>\n    </tr>\n    <tr>\n      <th>4</th>\n      <td>5504</td>\n      <td>01/01/2010 05:00:00</td>\n      <td>68.8</td>\n      <td>VA</td>\n      <td>µg/m³</td>\n    </tr>\n  </tbody>\n</table>\n</div>"
     },
     "execution_count": 19,
     "metadata": {},
     "output_type": "execute_result"
    }
   ],
   "source": [
    "## Add 'UnitaMisura' column to the air quality dataframe based on the 'IdSensore' column\n",
    "df_air_quality = df_air_quality.merge(df_milano_stations[['IdSensore', 'UnitaMisura']], on='IdSensore')\n",
    "df_air_quality.head()"
   ],
   "metadata": {
    "collapsed": false,
    "ExecuteTime": {
     "end_time": "2024-05-14T08:18:46.421465800Z",
     "start_time": "2024-05-14T08:18:43.562940600Z"
    }
   },
   "id": "fe93002709260cb9"
  },
  {
   "cell_type": "code",
   "execution_count": 20,
   "outputs": [
    {
     "data": {
      "text/plain": "   IdSensore                 Data  Valore Stato UnitaMisura    NomeTipoSensore\n0       5504  01/01/2010 01:00:00    70.7    VA       µg/m³  Biossido di Azoto\n1       5504  01/01/2010 02:00:00    73.0    VA       µg/m³  Biossido di Azoto\n2       5504  01/01/2010 03:00:00    69.0    VA       µg/m³  Biossido di Azoto\n3       5504  01/01/2010 04:00:00    66.0    VA       µg/m³  Biossido di Azoto\n4       5504  01/01/2010 05:00:00    68.8    VA       µg/m³  Biossido di Azoto",
      "text/html": "<div>\n<style scoped>\n    .dataframe tbody tr th:only-of-type {\n        vertical-align: middle;\n    }\n\n    .dataframe tbody tr th {\n        vertical-align: top;\n    }\n\n    .dataframe thead th {\n        text-align: right;\n    }\n</style>\n<table border=\"1\" class=\"dataframe\">\n  <thead>\n    <tr style=\"text-align: right;\">\n      <th></th>\n      <th>IdSensore</th>\n      <th>Data</th>\n      <th>Valore</th>\n      <th>Stato</th>\n      <th>UnitaMisura</th>\n      <th>NomeTipoSensore</th>\n    </tr>\n  </thead>\n  <tbody>\n    <tr>\n      <th>0</th>\n      <td>5504</td>\n      <td>01/01/2010 01:00:00</td>\n      <td>70.7</td>\n      <td>VA</td>\n      <td>µg/m³</td>\n      <td>Biossido di Azoto</td>\n    </tr>\n    <tr>\n      <th>1</th>\n      <td>5504</td>\n      <td>01/01/2010 02:00:00</td>\n      <td>73.0</td>\n      <td>VA</td>\n      <td>µg/m³</td>\n      <td>Biossido di Azoto</td>\n    </tr>\n    <tr>\n      <th>2</th>\n      <td>5504</td>\n      <td>01/01/2010 03:00:00</td>\n      <td>69.0</td>\n      <td>VA</td>\n      <td>µg/m³</td>\n      <td>Biossido di Azoto</td>\n    </tr>\n    <tr>\n      <th>3</th>\n      <td>5504</td>\n      <td>01/01/2010 04:00:00</td>\n      <td>66.0</td>\n      <td>VA</td>\n      <td>µg/m³</td>\n      <td>Biossido di Azoto</td>\n    </tr>\n    <tr>\n      <th>4</th>\n      <td>5504</td>\n      <td>01/01/2010 05:00:00</td>\n      <td>68.8</td>\n      <td>VA</td>\n      <td>µg/m³</td>\n      <td>Biossido di Azoto</td>\n    </tr>\n  </tbody>\n</table>\n</div>"
     },
     "execution_count": 20,
     "metadata": {},
     "output_type": "execute_result"
    }
   ],
   "source": [
    "## Append the column 'NomeTipoSensore' to the air quality dataframe based on the 'IdSensore' column\n",
    "df_air_quality = df_air_quality.merge(df_milano_stations[['IdSensore', 'NomeTipoSensore']], on='IdSensore')\n",
    "df_air_quality.head()"
   ],
   "metadata": {
    "collapsed": false,
    "ExecuteTime": {
     "end_time": "2024-05-14T08:18:48.431376400Z",
     "start_time": "2024-05-14T08:18:46.413847500Z"
    }
   },
   "id": "93d40f2380abb5c6"
  },
  {
   "cell_type": "code",
   "execution_count": 21,
   "outputs": [
    {
     "name": "stdout",
     "output_type": "stream",
     "text": [
      "NomeTipoSensore\n",
      "Ammoniaca                     [µg/m³]\n",
      "Arsenico                      [ng/m³]\n",
      "Benzene                       [µg/m³]\n",
      "Benzo(a)pirene                [ng/m³]\n",
      "Biossido di Azoto             [µg/m³]\n",
      "Biossido di Zolfo             [µg/m³]\n",
      "BlackCarbon                   [µg/m³]\n",
      "Cadmio                        [ng/m³]\n",
      "Monossido di Carbonio         [mg/m³]\n",
      "Nikel                         [ng/m³]\n",
      "Ossidi di Azoto               [µg/m³]\n",
      "Ozono                         [µg/m³]\n",
      "PM10 (SM2005)                 [µg/m³]\n",
      "Particelle sospese PM2.5      [µg/m³]\n",
      "Particolato Totale Sospeso    [µg/m³]\n",
      "Piombo                        [ng/m³]\n",
      "Name: UnitaMisura, dtype: object\n"
     ]
    }
   ],
   "source": [
    "## Get the unique values of 'UnitaMisura'  for each unique value of 'NomeTipoSensore' in the air quality dataframe\n",
    "unita_misura_grouped_by_type = df_air_quality.groupby('NomeTipoSensore')['UnitaMisura'].unique()\n",
    "print(unita_misura_grouped_by_type)"
   ],
   "metadata": {
    "collapsed": false,
    "ExecuteTime": {
     "end_time": "2024-05-14T08:18:50.146187800Z",
     "start_time": "2024-05-14T08:18:48.539817100Z"
    }
   },
   "id": "f3907ee011827d76"
  },
  {
   "cell_type": "code",
   "execution_count": 22,
   "outputs": [
    {
     "data": {
      "text/plain": "   IdSensore                 Data  Valore Stato UnitaMisura    NomeTipoSensore\n0       5504  01/01/2010 01:00:00    70.7    VA       µg/m³  Biossido di Azoto\n1       5504  01/01/2010 02:00:00    73.0    VA       µg/m³  Biossido di Azoto\n2       5504  01/01/2010 03:00:00    69.0    VA       µg/m³  Biossido di Azoto\n3       5504  01/01/2010 04:00:00    66.0    VA       µg/m³  Biossido di Azoto\n4       5504  01/01/2010 05:00:00    68.8    VA       µg/m³  Biossido di Azoto",
      "text/html": "<div>\n<style scoped>\n    .dataframe tbody tr th:only-of-type {\n        vertical-align: middle;\n    }\n\n    .dataframe tbody tr th {\n        vertical-align: top;\n    }\n\n    .dataframe thead th {\n        text-align: right;\n    }\n</style>\n<table border=\"1\" class=\"dataframe\">\n  <thead>\n    <tr style=\"text-align: right;\">\n      <th></th>\n      <th>IdSensore</th>\n      <th>Data</th>\n      <th>Valore</th>\n      <th>Stato</th>\n      <th>UnitaMisura</th>\n      <th>NomeTipoSensore</th>\n    </tr>\n  </thead>\n  <tbody>\n    <tr>\n      <th>0</th>\n      <td>5504</td>\n      <td>01/01/2010 01:00:00</td>\n      <td>70.7</td>\n      <td>VA</td>\n      <td>µg/m³</td>\n      <td>Biossido di Azoto</td>\n    </tr>\n    <tr>\n      <th>1</th>\n      <td>5504</td>\n      <td>01/01/2010 02:00:00</td>\n      <td>73.0</td>\n      <td>VA</td>\n      <td>µg/m³</td>\n      <td>Biossido di Azoto</td>\n    </tr>\n    <tr>\n      <th>2</th>\n      <td>5504</td>\n      <td>01/01/2010 03:00:00</td>\n      <td>69.0</td>\n      <td>VA</td>\n      <td>µg/m³</td>\n      <td>Biossido di Azoto</td>\n    </tr>\n    <tr>\n      <th>3</th>\n      <td>5504</td>\n      <td>01/01/2010 04:00:00</td>\n      <td>66.0</td>\n      <td>VA</td>\n      <td>µg/m³</td>\n      <td>Biossido di Azoto</td>\n    </tr>\n    <tr>\n      <th>4</th>\n      <td>5504</td>\n      <td>01/01/2010 05:00:00</td>\n      <td>68.8</td>\n      <td>VA</td>\n      <td>µg/m³</td>\n      <td>Biossido di Azoto</td>\n    </tr>\n  </tbody>\n</table>\n</div>"
     },
     "execution_count": 22,
     "metadata": {},
     "output_type": "execute_result"
    }
   ],
   "source": [
    "## Remove rows where 'NomeTipoSensore' has the value 'Cadmio', 'Benzo(a)pirene', 'Nikel', 'Piombo', 'Arsenico', 'Ammoniaca', 'BlackCarbon', 'Particelle sospese PM2.5', 'Benzene'\n",
    "df_air_quality = df_air_quality[~df_air_quality['NomeTipoSensore'].isin(['Cadmio', 'Benzo(a)pirene', 'Nikel', 'Piombo', 'Arsenico', 'Ammoniaca', 'BlackCarbon', 'Particelle sospese PM2.5', 'Benzene'])]\n",
    "df_air_quality.head()"
   ],
   "metadata": {
    "collapsed": false,
    "ExecuteTime": {
     "end_time": "2024-05-14T08:18:51.127354100Z",
     "start_time": "2024-05-14T08:18:50.155577600Z"
    }
   },
   "id": "1177fddc5d3259bf"
  },
  {
   "cell_type": "code",
   "execution_count": 23,
   "outputs": [
    {
     "name": "stdout",
     "output_type": "stream",
     "text": [
      "Valore\n",
      "-9999.0    1676116\n",
      "-0.2             2\n",
      "-0.4             1\n",
      "-0.1             1\n",
      "Name: count, dtype: int64\n"
     ]
    }
   ],
   "source": [
    "## Count how many rows for each unique values of column 'Valore' that are less than 0 in the air quality dataframe\n",
    "print(df_air_quality['Valore'][df_air_quality['Valore'] < 0].value_counts())"
   ],
   "metadata": {
    "collapsed": false,
    "ExecuteTime": {
     "end_time": "2024-05-14T08:18:51.195283Z",
     "start_time": "2024-05-14T08:18:51.127354100Z"
    }
   },
   "id": "f36f76e24998cb52"
  },
  {
   "cell_type": "code",
   "execution_count": 24,
   "outputs": [
    {
     "data": {
      "text/plain": "   IdSensore                 Data  Valore Stato UnitaMisura    NomeTipoSensore\n0       5504  01/01/2010 01:00:00    70.7    VA       µg/m³  Biossido di Azoto\n1       5504  01/01/2010 02:00:00    73.0    VA       µg/m³  Biossido di Azoto\n2       5504  01/01/2010 03:00:00    69.0    VA       µg/m³  Biossido di Azoto\n3       5504  01/01/2010 04:00:00    66.0    VA       µg/m³  Biossido di Azoto\n4       5504  01/01/2010 05:00:00    68.8    VA       µg/m³  Biossido di Azoto",
      "text/html": "<div>\n<style scoped>\n    .dataframe tbody tr th:only-of-type {\n        vertical-align: middle;\n    }\n\n    .dataframe tbody tr th {\n        vertical-align: top;\n    }\n\n    .dataframe thead th {\n        text-align: right;\n    }\n</style>\n<table border=\"1\" class=\"dataframe\">\n  <thead>\n    <tr style=\"text-align: right;\">\n      <th></th>\n      <th>IdSensore</th>\n      <th>Data</th>\n      <th>Valore</th>\n      <th>Stato</th>\n      <th>UnitaMisura</th>\n      <th>NomeTipoSensore</th>\n    </tr>\n  </thead>\n  <tbody>\n    <tr>\n      <th>0</th>\n      <td>5504</td>\n      <td>01/01/2010 01:00:00</td>\n      <td>70.7</td>\n      <td>VA</td>\n      <td>µg/m³</td>\n      <td>Biossido di Azoto</td>\n    </tr>\n    <tr>\n      <th>1</th>\n      <td>5504</td>\n      <td>01/01/2010 02:00:00</td>\n      <td>73.0</td>\n      <td>VA</td>\n      <td>µg/m³</td>\n      <td>Biossido di Azoto</td>\n    </tr>\n    <tr>\n      <th>2</th>\n      <td>5504</td>\n      <td>01/01/2010 03:00:00</td>\n      <td>69.0</td>\n      <td>VA</td>\n      <td>µg/m³</td>\n      <td>Biossido di Azoto</td>\n    </tr>\n    <tr>\n      <th>3</th>\n      <td>5504</td>\n      <td>01/01/2010 04:00:00</td>\n      <td>66.0</td>\n      <td>VA</td>\n      <td>µg/m³</td>\n      <td>Biossido di Azoto</td>\n    </tr>\n    <tr>\n      <th>4</th>\n      <td>5504</td>\n      <td>01/01/2010 05:00:00</td>\n      <td>68.8</td>\n      <td>VA</td>\n      <td>µg/m³</td>\n      <td>Biossido di Azoto</td>\n    </tr>\n  </tbody>\n</table>\n</div>"
     },
     "execution_count": 24,
     "metadata": {},
     "output_type": "execute_result"
    }
   ],
   "source": [
    "## Remove rows with values less than 0 in the column 'Valore' in the air quality dataframe\n",
    "df_air_quality = df_air_quality[df_air_quality['Valore'] >= 0]\n",
    "df_air_quality.head()"
   ],
   "metadata": {
    "collapsed": false,
    "ExecuteTime": {
     "end_time": "2024-05-14T08:18:51.788434300Z",
     "start_time": "2024-05-14T08:18:51.182116800Z"
    }
   },
   "id": "6a5f4aaf8e97171e"
  },
  {
   "cell_type": "code",
   "execution_count": 26,
   "outputs": [
    {
     "data": {
      "text/plain": "   IdSensore                Data  Valore Stato UnitaMisura    NomeTipoSensore\n0       5504 2010-01-01 01:00:00    70.7    VA       µg/m³  Biossido di Azoto\n1       5504 2010-01-01 02:00:00    73.0    VA       µg/m³  Biossido di Azoto\n2       5504 2010-01-01 03:00:00    69.0    VA       µg/m³  Biossido di Azoto\n3       5504 2010-01-01 04:00:00    66.0    VA       µg/m³  Biossido di Azoto\n4       5504 2010-01-01 05:00:00    68.8    VA       µg/m³  Biossido di Azoto",
      "text/html": "<div>\n<style scoped>\n    .dataframe tbody tr th:only-of-type {\n        vertical-align: middle;\n    }\n\n    .dataframe tbody tr th {\n        vertical-align: top;\n    }\n\n    .dataframe thead th {\n        text-align: right;\n    }\n</style>\n<table border=\"1\" class=\"dataframe\">\n  <thead>\n    <tr style=\"text-align: right;\">\n      <th></th>\n      <th>IdSensore</th>\n      <th>Data</th>\n      <th>Valore</th>\n      <th>Stato</th>\n      <th>UnitaMisura</th>\n      <th>NomeTipoSensore</th>\n    </tr>\n  </thead>\n  <tbody>\n    <tr>\n      <th>0</th>\n      <td>5504</td>\n      <td>2010-01-01 01:00:00</td>\n      <td>70.7</td>\n      <td>VA</td>\n      <td>µg/m³</td>\n      <td>Biossido di Azoto</td>\n    </tr>\n    <tr>\n      <th>1</th>\n      <td>5504</td>\n      <td>2010-01-01 02:00:00</td>\n      <td>73.0</td>\n      <td>VA</td>\n      <td>µg/m³</td>\n      <td>Biossido di Azoto</td>\n    </tr>\n    <tr>\n      <th>2</th>\n      <td>5504</td>\n      <td>2010-01-01 03:00:00</td>\n      <td>69.0</td>\n      <td>VA</td>\n      <td>µg/m³</td>\n      <td>Biossido di Azoto</td>\n    </tr>\n    <tr>\n      <th>3</th>\n      <td>5504</td>\n      <td>2010-01-01 04:00:00</td>\n      <td>66.0</td>\n      <td>VA</td>\n      <td>µg/m³</td>\n      <td>Biossido di Azoto</td>\n    </tr>\n    <tr>\n      <th>4</th>\n      <td>5504</td>\n      <td>2010-01-01 05:00:00</td>\n      <td>68.8</td>\n      <td>VA</td>\n      <td>µg/m³</td>\n      <td>Biossido di Azoto</td>\n    </tr>\n  </tbody>\n</table>\n</div>"
     },
     "execution_count": 26,
     "metadata": {},
     "output_type": "execute_result"
    }
   ],
   "source": [
    "## Convert the column 'Date' to datetime\n",
    "df_air_quality['Data'] = pd.to_datetime(df_air_quality['Data'], dayfirst=True)\n",
    "df_air_quality.head()"
   ],
   "metadata": {
    "collapsed": false,
    "ExecuteTime": {
     "end_time": "2024-05-14T08:19:57.676922600Z",
     "start_time": "2024-05-14T08:19:28.732767900Z"
    }
   },
   "id": "b2b970e47eeb4c5b"
  },
  {
   "cell_type": "code",
   "execution_count": 27,
   "outputs": [
    {
     "data": {
      "text/plain": "   IdSensore                Data  Valore Stato UnitaMisura    NomeTipoSensore  \\\n0       5504 2010-01-01 01:00:00    70.7    VA       µg/m³  Biossido di Azoto   \n1       5504 2010-01-01 02:00:00    73.0    VA       µg/m³  Biossido di Azoto   \n2       5504 2010-01-01 03:00:00    69.0    VA       µg/m³  Biossido di Azoto   \n3       5504 2010-01-01 04:00:00    66.0    VA       µg/m³  Biossido di Azoto   \n4       5504 2010-01-01 05:00:00    68.8    VA       µg/m³  Biossido di Azoto   \n\n   Year  Month  Day  Hour  \n0  2010      1    1     1  \n1  2010      1    1     2  \n2  2010      1    1     3  \n3  2010      1    1     4  \n4  2010      1    1     5  ",
      "text/html": "<div>\n<style scoped>\n    .dataframe tbody tr th:only-of-type {\n        vertical-align: middle;\n    }\n\n    .dataframe tbody tr th {\n        vertical-align: top;\n    }\n\n    .dataframe thead th {\n        text-align: right;\n    }\n</style>\n<table border=\"1\" class=\"dataframe\">\n  <thead>\n    <tr style=\"text-align: right;\">\n      <th></th>\n      <th>IdSensore</th>\n      <th>Data</th>\n      <th>Valore</th>\n      <th>Stato</th>\n      <th>UnitaMisura</th>\n      <th>NomeTipoSensore</th>\n      <th>Year</th>\n      <th>Month</th>\n      <th>Day</th>\n      <th>Hour</th>\n    </tr>\n  </thead>\n  <tbody>\n    <tr>\n      <th>0</th>\n      <td>5504</td>\n      <td>2010-01-01 01:00:00</td>\n      <td>70.7</td>\n      <td>VA</td>\n      <td>µg/m³</td>\n      <td>Biossido di Azoto</td>\n      <td>2010</td>\n      <td>1</td>\n      <td>1</td>\n      <td>1</td>\n    </tr>\n    <tr>\n      <th>1</th>\n      <td>5504</td>\n      <td>2010-01-01 02:00:00</td>\n      <td>73.0</td>\n      <td>VA</td>\n      <td>µg/m³</td>\n      <td>Biossido di Azoto</td>\n      <td>2010</td>\n      <td>1</td>\n      <td>1</td>\n      <td>2</td>\n    </tr>\n    <tr>\n      <th>2</th>\n      <td>5504</td>\n      <td>2010-01-01 03:00:00</td>\n      <td>69.0</td>\n      <td>VA</td>\n      <td>µg/m³</td>\n      <td>Biossido di Azoto</td>\n      <td>2010</td>\n      <td>1</td>\n      <td>1</td>\n      <td>3</td>\n    </tr>\n    <tr>\n      <th>3</th>\n      <td>5504</td>\n      <td>2010-01-01 04:00:00</td>\n      <td>66.0</td>\n      <td>VA</td>\n      <td>µg/m³</td>\n      <td>Biossido di Azoto</td>\n      <td>2010</td>\n      <td>1</td>\n      <td>1</td>\n      <td>4</td>\n    </tr>\n    <tr>\n      <th>4</th>\n      <td>5504</td>\n      <td>2010-01-01 05:00:00</td>\n      <td>68.8</td>\n      <td>VA</td>\n      <td>µg/m³</td>\n      <td>Biossido di Azoto</td>\n      <td>2010</td>\n      <td>1</td>\n      <td>1</td>\n      <td>5</td>\n    </tr>\n  </tbody>\n</table>\n</div>"
     },
     "execution_count": 27,
     "metadata": {},
     "output_type": "execute_result"
    }
   ],
   "source": [
    "## Add columns 'Year', 'Month', 'Day', 'Hour' to the air quality dataframe based on the 'Data' column\n",
    "df_air_quality['Year'] = df_air_quality['Data'].dt.year\n",
    "df_air_quality['Month'] = df_air_quality['Data'].dt.month\n",
    "df_air_quality['Day'] = df_air_quality['Data'].dt.day\n",
    "df_air_quality['Hour'] = df_air_quality['Data'].dt.hour\n",
    "df_air_quality.head()"
   ],
   "metadata": {
    "collapsed": false,
    "ExecuteTime": {
     "end_time": "2024-05-14T08:20:24.346361900Z",
     "start_time": "2024-05-14T08:20:21.420643Z"
    }
   },
   "id": "d62d3cb81ab1fb6b"
  },
  {
   "cell_type": "code",
   "execution_count": 28,
   "outputs": [
    {
     "data": {
      "text/plain": "   IdSensore                Data  Valore Stato UnitaMisura    NomeTipoSensore  \\\n0       5504 2010-01-01 01:00:00    70.7    VA       µg/m³  Biossido di Azoto   \n1       5504 2010-01-01 02:00:00    73.0    VA       µg/m³  Biossido di Azoto   \n2       5504 2010-01-01 03:00:00    69.0    VA       µg/m³  Biossido di Azoto   \n3       5504 2010-01-01 04:00:00    66.0    VA       µg/m³  Biossido di Azoto   \n4       5504 2010-01-01 05:00:00    68.8    VA       µg/m³  Biossido di Azoto   \n\n   Year  Month  Day  Hour  Comune  \n0  2010      1    1     1  Milano  \n1  2010      1    1     2  Milano  \n2  2010      1    1     3  Milano  \n3  2010      1    1     4  Milano  \n4  2010      1    1     5  Milano  ",
      "text/html": "<div>\n<style scoped>\n    .dataframe tbody tr th:only-of-type {\n        vertical-align: middle;\n    }\n\n    .dataframe tbody tr th {\n        vertical-align: top;\n    }\n\n    .dataframe thead th {\n        text-align: right;\n    }\n</style>\n<table border=\"1\" class=\"dataframe\">\n  <thead>\n    <tr style=\"text-align: right;\">\n      <th></th>\n      <th>IdSensore</th>\n      <th>Data</th>\n      <th>Valore</th>\n      <th>Stato</th>\n      <th>UnitaMisura</th>\n      <th>NomeTipoSensore</th>\n      <th>Year</th>\n      <th>Month</th>\n      <th>Day</th>\n      <th>Hour</th>\n      <th>Comune</th>\n    </tr>\n  </thead>\n  <tbody>\n    <tr>\n      <th>0</th>\n      <td>5504</td>\n      <td>2010-01-01 01:00:00</td>\n      <td>70.7</td>\n      <td>VA</td>\n      <td>µg/m³</td>\n      <td>Biossido di Azoto</td>\n      <td>2010</td>\n      <td>1</td>\n      <td>1</td>\n      <td>1</td>\n      <td>Milano</td>\n    </tr>\n    <tr>\n      <th>1</th>\n      <td>5504</td>\n      <td>2010-01-01 02:00:00</td>\n      <td>73.0</td>\n      <td>VA</td>\n      <td>µg/m³</td>\n      <td>Biossido di Azoto</td>\n      <td>2010</td>\n      <td>1</td>\n      <td>1</td>\n      <td>2</td>\n      <td>Milano</td>\n    </tr>\n    <tr>\n      <th>2</th>\n      <td>5504</td>\n      <td>2010-01-01 03:00:00</td>\n      <td>69.0</td>\n      <td>VA</td>\n      <td>µg/m³</td>\n      <td>Biossido di Azoto</td>\n      <td>2010</td>\n      <td>1</td>\n      <td>1</td>\n      <td>3</td>\n      <td>Milano</td>\n    </tr>\n    <tr>\n      <th>3</th>\n      <td>5504</td>\n      <td>2010-01-01 04:00:00</td>\n      <td>66.0</td>\n      <td>VA</td>\n      <td>µg/m³</td>\n      <td>Biossido di Azoto</td>\n      <td>2010</td>\n      <td>1</td>\n      <td>1</td>\n      <td>4</td>\n      <td>Milano</td>\n    </tr>\n    <tr>\n      <th>4</th>\n      <td>5504</td>\n      <td>2010-01-01 05:00:00</td>\n      <td>68.8</td>\n      <td>VA</td>\n      <td>µg/m³</td>\n      <td>Biossido di Azoto</td>\n      <td>2010</td>\n      <td>1</td>\n      <td>1</td>\n      <td>5</td>\n      <td>Milano</td>\n    </tr>\n  </tbody>\n</table>\n</div>"
     },
     "execution_count": 28,
     "metadata": {},
     "output_type": "execute_result"
    }
   ],
   "source": [
    "## Append the column 'Comune' to the air quality dataframe based on the 'IdSensore' column\n",
    "df_air_quality = df_air_quality.merge(df_milano_stations[['IdSensore', 'Comune']], on='IdSensore')\n",
    "df_air_quality.head()"
   ],
   "metadata": {
    "collapsed": false,
    "ExecuteTime": {
     "end_time": "2024-05-14T08:20:38.381634300Z",
     "start_time": "2024-05-14T08:20:36.966350500Z"
    }
   },
   "id": "359300cbc46d6f0e"
  },
  {
   "cell_type": "code",
   "execution_count": 29,
   "outputs": [
    {
     "data": {
      "text/plain": "<Figure size 640x480 with 1 Axes>",
      "image/png": "[encoded data removed]"
     },
     "metadata": {},
     "output_type": "display_data"
    }
   ],
   "source": [
    "## Plot number of rows for each unique value in 'NomeTipoSensore' column per year in the air quality dataframe\n",
    "sns.countplot(x='Year', hue='NomeTipoSensore', data=df_air_quality)\n",
    "plt.legend(fontsize='x-small', bbox_to_anchor=(1.05, 1), loc='upper left')\n",
    "plt.show()"
   ],
   "metadata": {
    "collapsed": false,
    "ExecuteTime": {
     "end_time": "2024-05-14T08:21:03.219897900Z",
     "start_time": "2024-05-14T08:20:42.937917400Z"
    }
   },
   "id": "33b721ea6b1b2672"
  },
  {
   "cell_type": "code",
   "execution_count": 30,
   "outputs": [
    {
     "name": "stdout",
     "output_type": "stream",
     "text": [
      "Year  IdSensore\n",
      "2010  5504         8704\n",
      "      5506         8450\n",
      "      5507         8583\n",
      "      5508         8500\n",
      "      5511         8352\n",
      "                   ... \n",
      "2024  10320           1\n",
      "      10352           1\n",
      "      20427           1\n",
      "      20428           1\n",
      "      20429           1\n",
      "Length: 1413, dtype: int64\n"
     ]
    }
   ],
   "source": [
    "# Group by 'Year' and 'idSensore', and count the number of rows\n",
    "result = df_air_quality.groupby(['Year', 'IdSensore']).size()\n",
    "\n",
    "# Now print the result\n",
    "print(result)"
   ],
   "metadata": {
    "collapsed": false,
    "ExecuteTime": {
     "end_time": "2024-05-14T08:21:06.039315100Z",
     "start_time": "2024-05-14T08:21:05.211828700Z"
    }
   },
   "id": "da78438911192b31"
  },
  {
   "cell_type": "code",
   "execution_count": 31,
   "outputs": [
    {
     "name": "stdout",
     "output_type": "stream",
     "text": [
      "0\n"
     ]
    }
   ],
   "source": [
    "## Count how many NaN values in the column 'Valore' in the air quality dataframe\n",
    "print(df_air_quality['Valore'].isnull().sum())"
   ],
   "metadata": {
    "collapsed": false,
    "ExecuteTime": {
     "end_time": "2024-05-14T08:21:21.287761600Z",
     "start_time": "2024-05-14T08:21:21.260620700Z"
    }
   },
   "id": "4319f6a163a453fa"
  },
  {
   "cell_type": "code",
   "execution_count": 44,
   "outputs": [
    {
     "data": {
      "text/plain": "   IdSensore                Data  Valore Stato UnitaMisura    NomeTipoSensore  \\\n0       5504 2010-01-01 01:00:00    70.7    VA       µg/m³  Biossido di Azoto   \n1       5504 2010-01-01 02:00:00    73.0    VA       µg/m³  Biossido di Azoto   \n2       5504 2010-01-01 03:00:00    69.0    VA       µg/m³  Biossido di Azoto   \n3       5504 2010-01-01 04:00:00    66.0    VA       µg/m³  Biossido di Azoto   \n4       5504 2010-01-01 05:00:00    68.8    VA       µg/m³  Biossido di Azoto   \n\n   Year  Month  Day  Hour  Comune  YearlyAverage  \n0  2010      1    1     1  Milano      73.336213  \n1  2010      1    1     2  Milano      73.336213  \n2  2010      1    1     3  Milano      73.336213  \n3  2010      1    1     4  Milano      73.336213  \n4  2010      1    1     5  Milano      73.336213  ",
      "text/html": "<div>\n<style scoped>\n    .dataframe tbody tr th:only-of-type {\n        vertical-align: middle;\n    }\n\n    .dataframe tbody tr th {\n        vertical-align: top;\n    }\n\n    .dataframe thead th {\n        text-align: right;\n    }\n</style>\n<table border=\"1\" class=\"dataframe\">\n  <thead>\n    <tr style=\"text-align: right;\">\n      <th></th>\n      <th>IdSensore</th>\n      <th>Data</th>\n      <th>Valore</th>\n      <th>Stato</th>\n      <th>UnitaMisura</th>\n      <th>NomeTipoSensore</th>\n      <th>Year</th>\n      <th>Month</th>\n      <th>Day</th>\n      <th>Hour</th>\n      <th>Comune</th>\n      <th>YearlyAverage</th>\n    </tr>\n  </thead>\n  <tbody>\n    <tr>\n      <th>0</th>\n      <td>5504</td>\n      <td>2010-01-01 01:00:00</td>\n      <td>70.7</td>\n      <td>VA</td>\n      <td>µg/m³</td>\n      <td>Biossido di Azoto</td>\n      <td>2010</td>\n      <td>1</td>\n      <td>1</td>\n      <td>1</td>\n      <td>Milano</td>\n      <td>73.336213</td>\n    </tr>\n    <tr>\n      <th>1</th>\n      <td>5504</td>\n      <td>2010-01-01 02:00:00</td>\n      <td>73.0</td>\n      <td>VA</td>\n      <td>µg/m³</td>\n      <td>Biossido di Azoto</td>\n      <td>2010</td>\n      <td>1</td>\n      <td>1</td>\n      <td>2</td>\n      <td>Milano</td>\n      <td>73.336213</td>\n    </tr>\n    <tr>\n      <th>2</th>\n      <td>5504</td>\n      <td>2010-01-01 03:00:00</td>\n      <td>69.0</td>\n      <td>VA</td>\n      <td>µg/m³</td>\n      <td>Biossido di Azoto</td>\n      <td>2010</td>\n      <td>1</td>\n      <td>1</td>\n      <td>3</td>\n      <td>Milano</td>\n      <td>73.336213</td>\n    </tr>\n    <tr>\n      <th>3</th>\n      <td>5504</td>\n      <td>2010-01-01 04:00:00</td>\n      <td>66.0</td>\n      <td>VA</td>\n      <td>µg/m³</td>\n      <td>Biossido di Azoto</td>\n      <td>2010</td>\n      <td>1</td>\n      <td>1</td>\n      <td>4</td>\n      <td>Milano</td>\n      <td>73.336213</td>\n    </tr>\n    <tr>\n      <th>4</th>\n      <td>5504</td>\n      <td>2010-01-01 05:00:00</td>\n      <td>68.8</td>\n      <td>VA</td>\n      <td>µg/m³</td>\n      <td>Biossido di Azoto</td>\n      <td>2010</td>\n      <td>1</td>\n      <td>1</td>\n      <td>5</td>\n      <td>Milano</td>\n      <td>73.336213</td>\n    </tr>\n  </tbody>\n</table>\n</div>"
     },
     "execution_count": 44,
     "metadata": {},
     "output_type": "execute_result"
    }
   ],
   "source": [
    "## Add a column 'YearlyAverage' to the air quality dataframe that contains the average value of 'Valore' for each year for each unique IdSensore\n",
    "df_air_quality['YearlyAverage'] = df_air_quality.groupby(['Year', 'IdSensore'])['Valore'].transform('mean')\n",
    "df_air_quality.head()"
   ],
   "metadata": {
    "collapsed": false,
    "ExecuteTime": {
     "end_time": "2024-05-14T08:32:24.626075800Z",
     "start_time": "2024-05-14T08:32:23.753866Z"
    }
   },
   "id": "722438b3ea9ee018"
  },
  {
   "cell_type": "code",
   "execution_count": 52,
   "outputs": [
    {
     "data": {
      "text/plain": "       Year  IdSensore    NomeTipoSensore  YearlyAverage\n0      2010       5504  Biossido di Azoto      73.336213\n8704   2011       5504  Biossido di Azoto      79.395491\n16821  2012       5504  Biossido di Azoto      67.325237\n25146  2013       5504  Biossido di Azoto      57.484775\n33862  2014       5504  Biossido di Azoto      55.732471",
      "text/html": "<div>\n<style scoped>\n    .dataframe tbody tr th:only-of-type {\n        vertical-align: middle;\n    }\n\n    .dataframe tbody tr th {\n        vertical-align: top;\n    }\n\n    .dataframe thead th {\n        text-align: right;\n    }\n</style>\n<table border=\"1\" class=\"dataframe\">\n  <thead>\n    <tr style=\"text-align: right;\">\n      <th></th>\n      <th>Year</th>\n      <th>IdSensore</th>\n      <th>NomeTipoSensore</th>\n      <th>YearlyAverage</th>\n    </tr>\n  </thead>\n  <tbody>\n    <tr>\n      <th>0</th>\n      <td>2010</td>\n      <td>5504</td>\n      <td>Biossido di Azoto</td>\n      <td>73.336213</td>\n    </tr>\n    <tr>\n      <th>8704</th>\n      <td>2011</td>\n      <td>5504</td>\n      <td>Biossido di Azoto</td>\n      <td>79.395491</td>\n    </tr>\n    <tr>\n      <th>16821</th>\n      <td>2012</td>\n      <td>5504</td>\n      <td>Biossido di Azoto</td>\n      <td>67.325237</td>\n    </tr>\n    <tr>\n      <th>25146</th>\n      <td>2013</td>\n      <td>5504</td>\n      <td>Biossido di Azoto</td>\n      <td>57.484775</td>\n    </tr>\n    <tr>\n      <th>33862</th>\n      <td>2014</td>\n      <td>5504</td>\n      <td>Biossido di Azoto</td>\n      <td>55.732471</td>\n    </tr>\n  </tbody>\n</table>\n</div>"
     },
     "execution_count": 52,
     "metadata": {},
     "output_type": "execute_result"
    }
   ],
   "source": [
    "y_average=df_air_quality[['Year', 'IdSensore', 'NomeTipoSensore','YearlyAverage']].drop_duplicates()\n",
    "y_average.head()"
   ],
   "metadata": {
    "collapsed": false,
    "ExecuteTime": {
     "end_time": "2024-05-14T08:33:56.723881600Z",
     "start_time": "2024-05-14T08:33:55.311177400Z"
    }
   },
   "id": "81843e0d0d5ab380"
  },
  {
   "cell_type": "code",
   "execution_count": 56,
   "outputs": [
    {
     "data": {
      "text/plain": "        Year  IdSensore    NomeTipoSensore  YearlyAverage\n42368   2015       5504  Biossido di Azoto      75.268302\n109921  2015       5506  Biossido di Azoto      67.156559\n167184  2015       5507  Biossido di Azoto      60.002450\n232172  2015       5508  Biossido di Azoto      39.301586\n290854  2015       5511  Biossido di Azoto      24.758916",
      "text/html": "<div>\n<style scoped>\n    .dataframe tbody tr th:only-of-type {\n        vertical-align: middle;\n    }\n\n    .dataframe tbody tr th {\n        vertical-align: top;\n    }\n\n    .dataframe thead th {\n        text-align: right;\n    }\n</style>\n<table border=\"1\" class=\"dataframe\">\n  <thead>\n    <tr style=\"text-align: right;\">\n      <th></th>\n      <th>Year</th>\n      <th>IdSensore</th>\n      <th>NomeTipoSensore</th>\n      <th>YearlyAverage</th>\n    </tr>\n  </thead>\n  <tbody>\n    <tr>\n      <th>42368</th>\n      <td>2015</td>\n      <td>5504</td>\n      <td>Biossido di Azoto</td>\n      <td>75.268302</td>\n    </tr>\n    <tr>\n      <th>109921</th>\n      <td>2015</td>\n      <td>5506</td>\n      <td>Biossido di Azoto</td>\n      <td>67.156559</td>\n    </tr>\n    <tr>\n      <th>167184</th>\n      <td>2015</td>\n      <td>5507</td>\n      <td>Biossido di Azoto</td>\n      <td>60.002450</td>\n    </tr>\n    <tr>\n      <th>232172</th>\n      <td>2015</td>\n      <td>5508</td>\n      <td>Biossido di Azoto</td>\n      <td>39.301586</td>\n    </tr>\n    <tr>\n      <th>290854</th>\n      <td>2015</td>\n      <td>5511</td>\n      <td>Biossido di Azoto</td>\n      <td>24.758916</td>\n    </tr>\n  </tbody>\n</table>\n</div>"
     },
     "execution_count": 56,
     "metadata": {},
     "output_type": "execute_result"
    }
   ],
   "source": [
    "y_average_2015=y_average[y_average['Year']==2015]\n",
    "y_average_2015.head()"
   ],
   "metadata": {
    "collapsed": false,
    "ExecuteTime": {
     "end_time": "2024-05-14T08:35:49.939942300Z",
     "start_time": "2024-05-14T08:35:49.915642300Z"
    }
   },
   "id": "71786505496b6934"
  },
  {
   "cell_type": "code",
   "execution_count": 58,
   "outputs": [
    {
     "data": {
      "text/plain": "(35, 4)"
     },
     "execution_count": 58,
     "metadata": {},
     "output_type": "execute_result"
    }
   ],
   "source": [
    "y_average_2015_BioAz = y_average_2015[y_average_2015['NomeTipoSensore']=='Biossido di Azoto']\n",
    "y_average_2015_BioAz.shape"
   ],
   "metadata": {
    "collapsed": false,
    "ExecuteTime": {
     "end_time": "2024-05-14T08:37:11.481282500Z",
     "start_time": "2024-05-14T08:37:11.443619200Z"
    }
   },
   "id": "2f46996a12020831"
  },
  {
   "cell_type": "code",
   "execution_count": 59,
   "outputs": [],
   "source": [
    "y_average_2015_BioAz.to_csv('y_average_2015_BioAz.csv', index=False)"
   ],
   "metadata": {
    "collapsed": false,
    "ExecuteTime": {
     "end_time": "2024-05-14T08:38:03.789290900Z",
     "start_time": "2024-05-14T08:38:03.758788800Z"
    }
   },
   "id": "8fbe8567130cc1fd"
  },
  {
   "cell_type": "code",
   "execution_count": 33,
   "outputs": [
    {
     "data": {
      "text/plain": "<Figure size 640x480 with 1 Axes>",
      "image/png": "[encoded data removed]"
     },
     "metadata": {},
     "output_type": "display_data"
    }
   ],
   "source": [
    "## Plot the average value of 'Valore' for each year for each unique IdSensore\n",
    "sns.lineplot(x='Year', y='YearlyAverage', hue='NomeTipoSensore', data=df_air_quality)\n",
    "plt.legend(fontsize='x-small', bbox_to_anchor=(1.05, 1), loc='upper left')\n",
    "plt.show()"
   ],
   "metadata": {
    "collapsed": false,
    "ExecuteTime": {
     "end_time": "2024-05-14T08:24:00.061576800Z",
     "start_time": "2024-05-14T08:22:03.105925Z"
    }
   },
   "id": "a4a68bb9303f64a5"
  },
  {
   "cell_type": "code",
   "execution_count": null,
   "outputs": [],
   "source": [
    "## Get the maximum value of 'Valore' for each unique NomeTipoSensore for each year in the air quality dataframe\n",
    "max_values = df_air_quality.groupby(['Year', 'NomeTipoSensore'])['Valore'].max()\n",
    "print(max_values)"
   ],
   "metadata": {
    "collapsed": false,
    "ExecuteTime": {
     "end_time": "2024-05-14T08:18:52.278503100Z",
     "start_time": "2024-05-14T08:18:52.254532100Z"
    }
   },
   "id": "8a7c542f906017d5"
  },
  {
   "cell_type": "code",
   "execution_count": null,
   "outputs": [],
   "source": [
    "## Create a dataframe with each unique value of 'NomeTipoSensore' as index and the YearlyAverage for each year as columns\n",
    "df_yearly_average = df_air_quality.pivot_table(index='NomeTipoSensore', columns='Year', values='YearlyAverage')\n",
    "df_yearly_average.head()"
   ],
   "metadata": {
    "collapsed": false,
    "ExecuteTime": {
     "start_time": "2024-05-14T08:18:52.256496800Z"
    }
   },
   "id": "7ca936a4494a8dd"
  },
  {
   "cell_type": "code",
   "execution_count": null,
   "outputs": [],
   "source": [
    "## Df with YearlyAverage, max and min values of 'Valore' for each unique value of 'NomeTipoSensore', and the variance of 'Valore' for each unique value of 'NomeTipoSensore'\n",
    "df_yearly_summary = df_air_quality.groupby(['Year', 'NomeTipoSensore'])['Valore'].agg(['mean', 'max', 'min', 'var'])\n",
    "df_yearly_summary"
   ],
   "metadata": {
    "collapsed": false,
    "ExecuteTime": {
     "start_time": "2024-05-14T08:18:52.263301Z"
    }
   },
   "id": "8ba039453cda5ce8"
  },
  {
   "cell_type": "code",
   "execution_count": null,
   "outputs": [],
   "source": [
    "## Plot the max column of the df_yearly_summary dataframe\n",
    "sns.lineplot(x='Year', y='max', hue='NomeTipoSensore', data=df_yearly_summary)\n",
    "plt.legend(fontsize='x-small', bbox_to_anchor=(1.05, 1), loc='upper left')\n",
    "plt.show()"
   ],
   "metadata": {
    "collapsed": false,
    "ExecuteTime": {
     "start_time": "2024-05-14T08:18:52.270983500Z"
    }
   },
   "id": "3db24f7aeb64974b"
  },
  {
   "cell_type": "code",
   "execution_count": null,
   "outputs": [],
   "source": [
    "## Create a dataframe with each unique value of 'NomeTipoSensore' as index and the average value of 'Valore' for all the rows that correspond to the same day as columns\n",
    "df_daily_average = df_air_quality.pivot_table(index='NomeTipoSensore', columns=['Year', 'Month', 'Day'], values='Valore', aggfunc='mean')\n",
    "df_daily_average.head()"
   ],
   "metadata": {
    "collapsed": false,
    "ExecuteTime": {
     "start_time": "2024-05-14T08:18:52.274483200Z"
    }
   },
   "id": "94c549df580aaede"
  },
  {
   "cell_type": "code",
   "execution_count": null,
   "outputs": [],
   "source": [
    "## Get the max value of the daily average for each unique value of 'NomeTipoSensore'\n",
    "max_daily_average = df_daily_average.max(axis=1)\n",
    "print(max_daily_average)\n",
    "\n"
   ],
   "metadata": {
    "collapsed": false,
    "ExecuteTime": {
     "start_time": "2024-05-14T08:18:52.278503100Z"
    }
   },
   "id": "4a959241d7d2ae73"
  },
  {
   "cell_type": "code",
   "execution_count": null,
   "outputs": [],
   "source": [
    "## Plot the max value of the daily average for each unique value of 'NomeTipoSensore'\n",
    "sns.barplot(x=max_daily_average, y=max_daily_average.index)\n",
    "plt.show()"
   ],
   "metadata": {
    "collapsed": false,
    "ExecuteTime": {
     "end_time": "2024-05-14T08:18:52.283010500Z",
     "start_time": "2024-05-14T08:18:52.278503100Z"
    }
   },
   "id": "11496c673acd68a1"
  },
  {
   "cell_type": "code",
   "execution_count": null,
   "outputs": [],
   "source": [
    "## Get how many times the daily average is greater than 50 for Particelle sospese PM2.5 row for each year\n",
    "df_air_quality[(df_air_quality['NomeTipoSensore'] == 'Particelle sospese PM2.5') & (df_air_quality['Valore'] > 50)].groupby('Year').size()"
   ],
   "metadata": {
    "collapsed": false,
    "ExecuteTime": {
     "start_time": "2024-05-14T08:18:52.283010500Z"
    }
   },
   "id": "a26504ec5e858c1"
  },
  {
   "cell_type": "code",
   "execution_count": null,
   "outputs": [],
   "source": [],
   "metadata": {
    "collapsed": false,
    "ExecuteTime": {
     "start_time": "2024-05-14T08:18:52.283010500Z"
    }
   },
   "id": "c5ead3e5ce7ac821"
  }
 ],
 "metadata": {
  "kernelspec": {
   "display_name": "Python 3",
   "language": "python",
   "name": "python3"
  },
  "language_info": {
   "codemirror_mode": {
    "name": "ipython",
    "version": 2
   },
   "file_extension": ".py",
   "mimetype": "text/x-python",
   "name": "python",
   "nbconvert_exporter": "python",
   "pygments_lexer": "ipython2",
   "version": "2.7.6"
  }
 },
 "nbformat": 4,
 "nbformat_minor": 5
}
