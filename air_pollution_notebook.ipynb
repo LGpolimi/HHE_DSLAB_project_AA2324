{
 "cells": [
  {
   "cell_type": "code",
   "execution_count": 1,
   "outputs": [],
   "source": [
    "import pandas as pd\n",
    "import numpy as np\n",
    "import matplotlib.pyplot as plt\n",
    "import seaborn as sns\n",
    "import pykrige.kriging_tools as kt\n"
   ],
   "metadata": {
    "collapsed": false,
    "ExecuteTime": {
     "end_time": "2024-05-19T11:42:20.240366500Z",
     "start_time": "2024-05-19T11:42:20.206431500Z"
    }
   },
   "id": "95c56da9a6fd4612"
  },
  {
   "cell_type": "code",
   "execution_count": 4,
   "outputs": [],
   "source": [
    "df_stations = pd.read_csv('Air_quality_data/Stazioni_qualit__dell_aria_20240430.csv')\n",
    "df_air_quality1 = pd.read_csv('Air_quality_data/Dati_sensori_aria_2010-2017_20240430.csv', low_memory=False)\n",
    "df_air_quality2 = pd.read_csv('Air_quality_data/Dati_sensori_aria_dal_2018_20240430.csv', low_memory=False)"
   ],
   "metadata": {
    "collapsed": false,
    "ExecuteTime": {
     "end_time": "2024-05-19T11:44:03.694168500Z",
     "start_time": "2024-05-19T11:43:29.285782100Z"
    }
   },
   "id": "initial_id"
  },
  {
   "cell_type": "code",
   "execution_count": 5,
   "outputs": [],
   "source": [
    "# Add the two dataframes together by row\n",
    "df_air_quality = pd.concat([df_air_quality1, df_air_quality2], axis=0)"
   ],
   "metadata": {
    "collapsed": false,
    "ExecuteTime": {
     "end_time": "2024-05-19T11:44:06.441933400Z",
     "start_time": "2024-05-19T11:44:03.704658200Z"
    }
   },
   "id": "ef18f63a5d4b7321"
  },
  {
   "cell_type": "code",
   "execution_count": 6,
   "outputs": [],
   "source": [
    "milan_municipalities = [\n",
    "    'Abbiategrasso', 'Albairate', 'Arconate', 'Arese', 'Arluno', 'Assago',\n",
    "    'Baranzate', 'Bareggio', 'Basiano', 'Basiglio', 'Bellinzago Lombardo', 'Bernate Ticino', 'Besate', 'Binasco', 'Boffalora Sopra Ticino', 'Bollate', 'Bresso', 'Bubbiano', 'Buccinasco', 'Buscate', 'Bussero', 'Busto Garolfo',\n",
    "    'Calvignasco', 'Cambiago', 'Canegrate', 'Carpiano', 'Carugate', 'Casarile', 'Casorezzo', 'Cassano d\\'Adda', 'Cassina de\\' Pecchi', 'Cassinetta di Lugagnano', 'Castano Primo', 'Cernusco sul Naviglio', 'Cerro Maggiore', 'Cerro al Lambro', 'Cesano Boscone', 'Cesate', 'Cinisello Balsamo', 'Cisliano', 'Cologno Monzese', 'Colturano', 'Corbetta', 'Cormano', 'Cornaredo', 'Corsico', 'Cuggiono', 'Cusago', 'Cusano Milanino',\n",
    "    'Dairago', 'Dresano',\n",
    "    'Gaggiano', 'Garbagnate Milanese', 'Gessate', 'Gorgonzola', 'Grezzago', 'Gudo Visconti',\n",
    "    'Inveruno', 'Inzago',\n",
    "    'Lacchiarella', 'Lainate', 'Legnano', 'Liscate', 'Locate di Triulzi',\n",
    "    'Magenta', 'Magnago', 'Marcallo con Casone', 'Masate', 'Mediglia', 'Melegnano', 'Melzo', 'Mesero', 'Milano', 'Morimondo', 'Motta Visconti',\n",
    "    'Nerviano', 'Nosate', 'Novate Milanese', 'Noviglio',\n",
    "    'Opera', 'Ossona', 'Ozzero',\n",
    "    'Paderno Dugnano', 'Pantigliate', 'Parabiago', 'Paullo', 'Pero', 'Peschiera Borromeo', 'Pessano con Bornago', 'Pieve Emanuele', 'Pioltello', 'Pogliano Milanese', 'Pozzo D\\'Adda', 'Pozzuolo Martesana', 'Pregnana Milanese',\n",
    "    'Rescaldina', 'Rho', 'Robecchetto con Induno', 'Robecco sul Naviglio', 'Rodano', 'Rosate', 'Rozzano',\n",
    "    'San Colombano al Lambro', 'San Donato Milanese', 'San Giorgio su Legnano', 'San Giuliano Milanese', 'San Vittore Olona', 'San Zenone al Lambro', 'Santo Stefano Ticino', 'Sedriano', 'Segrate', 'Senago', 'Sesto San Giovanni', 'Settala', 'Settimo Milanese', 'Solaro',\n",
    "    'Trezzano Rosa', 'Trezzano sul Naviglio', 'Trezzo sull\\'Adda', 'Tribiano', 'Truccazzano', 'Turbigo',\n",
    "    'Vanzaghello', 'Vanzago', 'Vaprio d\\'Adda', 'Vermezzo con Zelo', 'Vernate', 'Vignate', 'Villa Cortese', 'Vimodrone', 'Vittuone', 'Vizzolo Predabissi',\n",
    "    'Zibido San Giacomo'\n",
    "]"
   ],
   "metadata": {
    "collapsed": false,
    "ExecuteTime": {
     "end_time": "2024-05-19T11:44:06.445931800Z",
     "start_time": "2024-05-19T11:44:06.425166Z"
    }
   },
   "id": "26ea6bac43647415"
  },
  {
   "cell_type": "code",
   "execution_count": 7,
   "outputs": [
    {
     "name": "stdout",
     "output_type": "stream",
     "text": [
      "133\n"
     ]
    }
   ],
   "source": [
    "## Print the number of municipalities in Milan\n",
    "print(len(milan_municipalities))"
   ],
   "metadata": {
    "collapsed": false,
    "ExecuteTime": {
     "end_time": "2024-05-19T11:44:06.461234600Z",
     "start_time": "2024-05-19T11:44:06.446996200Z"
    }
   },
   "id": "5a608b6954b2cda6"
  },
  {
   "cell_type": "code",
   "execution_count": 8,
   "outputs": [
    {
     "name": "stdout",
     "output_type": "stream",
     "text": [
      "['Albairate', 'Arluno', 'Assago', 'Baranzate', 'Bareggio', 'Basiano', 'Basiglio', 'Bellinzago Lombardo', 'Bernate Ticino', 'Besate', 'Binasco', 'Boffalora Sopra Ticino', 'Bollate', 'Bresso', 'Bubbiano', 'Buccinasco', 'Buscate', 'Bussero', 'Busto Garolfo', 'Calvignasco', 'Cambiago', 'Canegrate', 'Carpiano', 'Carugate', 'Casarile', 'Casorezzo', \"Cassina de' Pecchi\", 'Cassinetta di Lugagnano', 'Cernusco sul Naviglio', 'Cerro Maggiore', 'Cerro al Lambro', 'Cesano Boscone', 'Cesate', 'Cisliano', 'Cologno Monzese', 'Colturano', 'Corbetta', 'Cornaredo', 'Cusago', 'Cusano Milanino', 'Dairago', 'Dresano', 'Gaggiano', 'Gessate', 'Gorgonzola', 'Grezzago', 'Gudo Visconti', 'Inveruno', 'Liscate', 'Locate di Triulzi', 'Magnago', 'Marcallo con Casone', 'Masate', 'Mediglia', 'Melzo', 'Mesero', 'Morimondo', 'Nerviano', 'Nosate', 'Novate Milanese', 'Noviglio', 'Opera', 'Ossona', 'Ozzero', 'Paderno Dugnano', 'Pantigliate', 'Parabiago', 'Paullo', 'Peschiera Borromeo', 'Pessano con Bornago', 'Pieve Emanuele', 'Pogliano Milanese', \"Pozzo D'Adda\", 'Pozzuolo Martesana', 'Pregnana Milanese', 'Rescaldina', 'Robecco sul Naviglio', 'Rodano', 'Rosate', 'Rozzano', 'San Colombano al Lambro', 'San Donato Milanese', 'San Giorgio su Legnano', 'San Vittore Olona', 'San Zenone al Lambro', 'Santo Stefano Ticino', 'Sedriano', 'Segrate', 'Senago', 'Settala', 'Solaro', 'Trezzano Rosa', 'Trezzano sul Naviglio', 'Vanzaghello', 'Vanzago', \"Vaprio d'Adda\", 'Vermezzo con Zelo', 'Vernate', 'Vignate', 'Villa Cortese', 'Vimodrone', 'Vittuone', 'Vizzolo Predabissi', 'Zibido San Giacomo']\n"
     ]
    }
   ],
   "source": [
    "## Make a list of municipalities in Milan that are not in the dataset\n",
    "not_in_dataset = [municipality for municipality in milan_municipalities if municipality not in df_stations['Comune'].unique()]\n",
    "print(not_in_dataset)"
   ],
   "metadata": {
    "collapsed": false,
    "ExecuteTime": {
     "end_time": "2024-05-19T11:44:06.532811800Z",
     "start_time": "2024-05-19T11:44:06.468268800Z"
    }
   },
   "id": "addeeff15a6729ce"
  },
  {
   "cell_type": "code",
   "execution_count": 9,
   "outputs": [
    {
     "name": "stdout",
     "output_type": "stream",
     "text": [
      "['Inzago' 'Pero' 'Sesto San Giovanni' 'Lacchiarella' 'Cormano' 'Corsico'\n",
      " 'Milano' \"Cassano d'Adda\" 'Cuggiono' \"Trezzo sull'Adda\"\n",
      " 'Cinisello Balsamo' 'Legnano' 'Motta Visconti' 'Magenta' 'Turbigo'\n",
      " 'Robecchetto con Induno' 'Arconate' 'Settimo Milanese' 'Pioltello' 'Rho'\n",
      " 'San Giuliano Milanese' 'Arese' 'Abbiategrasso' 'Melegnano' 'Lainate'\n",
      " 'Garbagnate Milanese' 'Tribiano' 'Castano Primo' 'Truccazzano']\n"
     ]
    }
   ],
   "source": [
    "## Drop rows with municipalities not in the list of milan_municipalities\n",
    "df_milano_stations = df_stations[df_stations['Comune'].isin(milan_municipalities)]\n",
    "print(df_milano_stations['Comune'].unique())"
   ],
   "metadata": {
    "collapsed": false,
    "ExecuteTime": {
     "end_time": "2024-05-19T11:44:06.533842600Z",
     "start_time": "2024-05-19T11:44:06.493744500Z"
    }
   },
   "id": "2455c1e0d92f439c"
  },
  {
   "cell_type": "code",
   "execution_count": 10,
   "outputs": [
    {
     "name": "stdout",
     "output_type": "stream",
     "text": [
      "29\n"
     ]
    }
   ],
   "source": [
    "## Print the number of municipalities in province of Milan that have air quality data\n",
    "print(len(df_milano_stations['Comune'].unique()))"
   ],
   "metadata": {
    "collapsed": false,
    "ExecuteTime": {
     "end_time": "2024-05-19T11:44:06.536373700Z",
     "start_time": "2024-05-19T11:44:06.510584300Z"
    }
   },
   "id": "d53663042c645ef5"
  },
  {
   "cell_type": "code",
   "execution_count": null,
   "outputs": [],
   "source": [
    "## Count the number of rows for each unique value in 'NomeTipoSensore' column\n",
    "print(df_milano_stations['NomeTipoSensore'].value_counts())"
   ],
   "metadata": {
    "collapsed": false,
    "ExecuteTime": {
     "end_time": "2024-05-19T11:29:24.708839100Z",
     "start_time": "2024-05-19T11:29:24.707693900Z"
    }
   },
   "id": "2396068d3a3c1c20"
  },
  {
   "cell_type": "code",
   "execution_count": null,
   "outputs": [],
   "source": [
    "## Get  the unique values of 'UnitaMisura' column\n",
    "print(df_milano_stations['UnitaMisura'].unique())\n"
   ],
   "metadata": {
    "collapsed": false,
    "ExecuteTime": {
     "start_time": "2024-05-19T11:29:24.709855500Z"
    }
   },
   "id": "67d36b424d8d9633"
  },
  {
   "cell_type": "code",
   "execution_count": 11,
   "outputs": [
    {
     "name": "stdout",
     "output_type": "stream",
     "text": [
      "NomeTipoSensore\n",
      "Ammoniaca                                          [20020, 20484, 10269, 20525]\n",
      "Arsenico                                                  [12608, 12638, 12625]\n",
      "Benzene                            [17127, 6057, 6037, 9998, 6062, 6059, 17126]\n",
      "Benzo(a)pirene                                            [12641, 12611, 12629]\n",
      "Biossido di Azoto             [5507, 5513, 5531, 5550, 5520, 5549, 5519, 554...\n",
      "Biossido di Zolfo             [5620, 5621, 5618, 5617, 5627, 5643, 5642, 563...\n",
      "BlackCarbon                                 [20455, 29001, 20004, 20465, 20005]\n",
      "Cadmio                                                    [12626, 12609, 12639]\n",
      "Monossido di Carbonio         [5814, 5820, 5819, 5835, 5831, 5813, 5834, 581...\n",
      "Nikel                                                     [12624, 12637, 12607]\n",
      "Ossidi di Azoto               [6342, 6318, 6338, 6350, 6360, 6346, 6276, 629...\n",
      "Ozono                         [5712, 5714, 5710, 5713, 5724, 5725, 10350, 57...\n",
      "PM10 (SM2005)                 [20429, 20428, 6907, 6905, 6912, 6908, 6909, 1...\n",
      "Particelle sospese PM2.5              [20358, 9874, 10349, 10283, 20529, 17122]\n",
      "Particolato Totale Sospeso    [6636, 6637, 6648, 6651, 6640, 6646, 6639, 663...\n",
      "Piombo                                                    [12610, 12640, 12627]\n",
      "Name: IdSensore, dtype: object\n"
     ]
    }
   ],
   "source": [
    "## Get the list IdSensore for each unique value in 'NomeTipoSensore' column\n",
    "idSensor_grouped_by_type = df_milano_stations.groupby('NomeTipoSensore')['IdSensore'].unique()\n",
    "print(idSensor_grouped_by_type)"
   ],
   "metadata": {
    "collapsed": false,
    "ExecuteTime": {
     "end_time": "2024-05-19T11:44:06.676553300Z",
     "start_time": "2024-05-19T11:44:06.526747100Z"
    }
   },
   "id": "9e2baffedffff16d"
  },
  {
   "cell_type": "code",
   "execution_count": 12,
   "outputs": [
    {
     "name": "stdout",
     "output_type": "stream",
     "text": [
      "6665     122511\n",
      "5721     122428\n",
      "5548     122419\n",
      "6419     122390\n",
      "5749     122381\n",
      "          ...  \n",
      "17083       248\n",
      "6922        105\n",
      "5769        105\n",
      "6943          3\n",
      "6942          3\n",
      "Name: idSensore, Length: 924, dtype: int64\n"
     ]
    }
   ],
   "source": [
    "## Print the number of rows in the air quality dataframe for each unique value in 'IdSensore' column\n",
    "print(df_air_quality['idSensore'].value_counts())"
   ],
   "metadata": {
    "collapsed": false,
    "ExecuteTime": {
     "end_time": "2024-05-19T11:44:06.836527400Z",
     "start_time": "2024-05-19T11:44:06.555106400Z"
    }
   },
   "id": "b016fbc99274e786"
  },
  {
   "cell_type": "code",
   "execution_count": 13,
   "outputs": [
    {
     "data": {
      "text/plain": "   idSensore                 Data  Valore Stato\n0       5504  01/01/2010 01:00:00    70.7    VA\n1       5504  01/01/2010 02:00:00    73.0    VA\n2       5504  01/01/2010 03:00:00    69.0    VA\n3       5504  01/01/2010 04:00:00    66.0    VA\n4       5504  01/01/2010 05:00:00    68.8    VA",
      "text/html": "<div>\n<style scoped>\n    .dataframe tbody tr th:only-of-type {\n        vertical-align: middle;\n    }\n\n    .dataframe tbody tr th {\n        vertical-align: top;\n    }\n\n    .dataframe thead th {\n        text-align: right;\n    }\n</style>\n<table border=\"1\" class=\"dataframe\">\n  <thead>\n    <tr style=\"text-align: right;\">\n      <th></th>\n      <th>idSensore</th>\n      <th>Data</th>\n      <th>Valore</th>\n      <th>Stato</th>\n    </tr>\n  </thead>\n  <tbody>\n    <tr>\n      <th>0</th>\n      <td>5504</td>\n      <td>01/01/2010 01:00:00</td>\n      <td>70.7</td>\n      <td>VA</td>\n    </tr>\n    <tr>\n      <th>1</th>\n      <td>5504</td>\n      <td>01/01/2010 02:00:00</td>\n      <td>73.0</td>\n      <td>VA</td>\n    </tr>\n    <tr>\n      <th>2</th>\n      <td>5504</td>\n      <td>01/01/2010 03:00:00</td>\n      <td>69.0</td>\n      <td>VA</td>\n    </tr>\n    <tr>\n      <th>3</th>\n      <td>5504</td>\n      <td>01/01/2010 04:00:00</td>\n      <td>66.0</td>\n      <td>VA</td>\n    </tr>\n    <tr>\n      <th>4</th>\n      <td>5504</td>\n      <td>01/01/2010 05:00:00</td>\n      <td>68.8</td>\n      <td>VA</td>\n    </tr>\n  </tbody>\n</table>\n</div>"
     },
     "execution_count": 13,
     "metadata": {},
     "output_type": "execute_result"
    }
   ],
   "source": [
    "## Remove column 'idOperatore' from the air quality dataframe\n",
    "df_air_quality = df_air_quality.drop('idOperatore', axis=1)\n",
    "df_air_quality.head()"
   ],
   "metadata": {
    "collapsed": false,
    "ExecuteTime": {
     "end_time": "2024-05-19T11:44:09.118990400Z",
     "start_time": "2024-05-19T11:44:06.973986700Z"
    }
   },
   "id": "56ca167c2917fff0"
  },
  {
   "cell_type": "code",
   "execution_count": 14,
   "outputs": [
    {
     "data": {
      "text/plain": "   IdSensore                 Data  Valore Stato\n0       5504  01/01/2010 01:00:00    70.7    VA\n1       5504  01/01/2010 02:00:00    73.0    VA\n2       5504  01/01/2010 03:00:00    69.0    VA\n3       5504  01/01/2010 04:00:00    66.0    VA\n4       5504  01/01/2010 05:00:00    68.8    VA",
      "text/html": "<div>\n<style scoped>\n    .dataframe tbody tr th:only-of-type {\n        vertical-align: middle;\n    }\n\n    .dataframe tbody tr th {\n        vertical-align: top;\n    }\n\n    .dataframe thead th {\n        text-align: right;\n    }\n</style>\n<table border=\"1\" class=\"dataframe\">\n  <thead>\n    <tr style=\"text-align: right;\">\n      <th></th>\n      <th>IdSensore</th>\n      <th>Data</th>\n      <th>Valore</th>\n      <th>Stato</th>\n    </tr>\n  </thead>\n  <tbody>\n    <tr>\n      <th>0</th>\n      <td>5504</td>\n      <td>01/01/2010 01:00:00</td>\n      <td>70.7</td>\n      <td>VA</td>\n    </tr>\n    <tr>\n      <th>1</th>\n      <td>5504</td>\n      <td>01/01/2010 02:00:00</td>\n      <td>73.0</td>\n      <td>VA</td>\n    </tr>\n    <tr>\n      <th>2</th>\n      <td>5504</td>\n      <td>01/01/2010 03:00:00</td>\n      <td>69.0</td>\n      <td>VA</td>\n    </tr>\n    <tr>\n      <th>3</th>\n      <td>5504</td>\n      <td>01/01/2010 04:00:00</td>\n      <td>66.0</td>\n      <td>VA</td>\n    </tr>\n    <tr>\n      <th>4</th>\n      <td>5504</td>\n      <td>01/01/2010 05:00:00</td>\n      <td>68.8</td>\n      <td>VA</td>\n    </tr>\n  </tbody>\n</table>\n</div>"
     },
     "execution_count": 14,
     "metadata": {},
     "output_type": "execute_result"
    }
   ],
   "source": [
    "## Rename the column 'idSensore' to 'IdSensore' in the air quality dataframe\n",
    "df_air_quality = df_air_quality.rename(columns={'idSensore': 'IdSensore'})\n",
    "df_air_quality.head()"
   ],
   "metadata": {
    "collapsed": false,
    "ExecuteTime": {
     "end_time": "2024-05-19T11:44:14.414037900Z",
     "start_time": "2024-05-19T11:44:09.119927700Z"
    }
   },
   "id": "b569a2e7a96c9ecd"
  },
  {
   "cell_type": "code",
   "execution_count": 15,
   "outputs": [
    {
     "data": {
      "text/plain": "   IdSensore                 Data  Valore Stato UnitaMisura\n0       5504  01/01/2010 01:00:00    70.7    VA       µg/m³\n1       5504  01/01/2010 02:00:00    73.0    VA       µg/m³\n2       5504  01/01/2010 03:00:00    69.0    VA       µg/m³\n3       5504  01/01/2010 04:00:00    66.0    VA       µg/m³\n4       5504  01/01/2010 05:00:00    68.8    VA       µg/m³",
      "text/html": "<div>\n<style scoped>\n    .dataframe tbody tr th:only-of-type {\n        vertical-align: middle;\n    }\n\n    .dataframe tbody tr th {\n        vertical-align: top;\n    }\n\n    .dataframe thead th {\n        text-align: right;\n    }\n</style>\n<table border=\"1\" class=\"dataframe\">\n  <thead>\n    <tr style=\"text-align: right;\">\n      <th></th>\n      <th>IdSensore</th>\n      <th>Data</th>\n      <th>Valore</th>\n      <th>Stato</th>\n      <th>UnitaMisura</th>\n    </tr>\n  </thead>\n  <tbody>\n    <tr>\n      <th>0</th>\n      <td>5504</td>\n      <td>01/01/2010 01:00:00</td>\n      <td>70.7</td>\n      <td>VA</td>\n      <td>µg/m³</td>\n    </tr>\n    <tr>\n      <th>1</th>\n      <td>5504</td>\n      <td>01/01/2010 02:00:00</td>\n      <td>73.0</td>\n      <td>VA</td>\n      <td>µg/m³</td>\n    </tr>\n    <tr>\n      <th>2</th>\n      <td>5504</td>\n      <td>01/01/2010 03:00:00</td>\n      <td>69.0</td>\n      <td>VA</td>\n      <td>µg/m³</td>\n    </tr>\n    <tr>\n      <th>3</th>\n      <td>5504</td>\n      <td>01/01/2010 04:00:00</td>\n      <td>66.0</td>\n      <td>VA</td>\n      <td>µg/m³</td>\n    </tr>\n    <tr>\n      <th>4</th>\n      <td>5504</td>\n      <td>01/01/2010 05:00:00</td>\n      <td>68.8</td>\n      <td>VA</td>\n      <td>µg/m³</td>\n    </tr>\n  </tbody>\n</table>\n</div>"
     },
     "execution_count": 15,
     "metadata": {},
     "output_type": "execute_result"
    }
   ],
   "source": [
    "## Add 'UnitaMisura' column to the air quality dataframe based on the 'IdSensore' column\n",
    "df_air_quality = df_air_quality.merge(df_milano_stations[['IdSensore', 'UnitaMisura']], on='IdSensore')\n",
    "df_air_quality.head()"
   ],
   "metadata": {
    "collapsed": false,
    "ExecuteTime": {
     "end_time": "2024-05-19T11:44:17.533082400Z",
     "start_time": "2024-05-19T11:44:14.415605600Z"
    }
   },
   "id": "fe93002709260cb9"
  },
  {
   "cell_type": "code",
   "execution_count": 16,
   "outputs": [
    {
     "data": {
      "text/plain": "   IdSensore                 Data  Valore Stato UnitaMisura    NomeTipoSensore\n0       5504  01/01/2010 01:00:00    70.7    VA       µg/m³  Biossido di Azoto\n1       5504  01/01/2010 02:00:00    73.0    VA       µg/m³  Biossido di Azoto\n2       5504  01/01/2010 03:00:00    69.0    VA       µg/m³  Biossido di Azoto\n3       5504  01/01/2010 04:00:00    66.0    VA       µg/m³  Biossido di Azoto\n4       5504  01/01/2010 05:00:00    68.8    VA       µg/m³  Biossido di Azoto",
      "text/html": "<div>\n<style scoped>\n    .dataframe tbody tr th:only-of-type {\n        vertical-align: middle;\n    }\n\n    .dataframe tbody tr th {\n        vertical-align: top;\n    }\n\n    .dataframe thead th {\n        text-align: right;\n    }\n</style>\n<table border=\"1\" class=\"dataframe\">\n  <thead>\n    <tr style=\"text-align: right;\">\n      <th></th>\n      <th>IdSensore</th>\n      <th>Data</th>\n      <th>Valore</th>\n      <th>Stato</th>\n      <th>UnitaMisura</th>\n      <th>NomeTipoSensore</th>\n    </tr>\n  </thead>\n  <tbody>\n    <tr>\n      <th>0</th>\n      <td>5504</td>\n      <td>01/01/2010 01:00:00</td>\n      <td>70.7</td>\n      <td>VA</td>\n      <td>µg/m³</td>\n      <td>Biossido di Azoto</td>\n    </tr>\n    <tr>\n      <th>1</th>\n      <td>5504</td>\n      <td>01/01/2010 02:00:00</td>\n      <td>73.0</td>\n      <td>VA</td>\n      <td>µg/m³</td>\n      <td>Biossido di Azoto</td>\n    </tr>\n    <tr>\n      <th>2</th>\n      <td>5504</td>\n      <td>01/01/2010 03:00:00</td>\n      <td>69.0</td>\n      <td>VA</td>\n      <td>µg/m³</td>\n      <td>Biossido di Azoto</td>\n    </tr>\n    <tr>\n      <th>3</th>\n      <td>5504</td>\n      <td>01/01/2010 04:00:00</td>\n      <td>66.0</td>\n      <td>VA</td>\n      <td>µg/m³</td>\n      <td>Biossido di Azoto</td>\n    </tr>\n    <tr>\n      <th>4</th>\n      <td>5504</td>\n      <td>01/01/2010 05:00:00</td>\n      <td>68.8</td>\n      <td>VA</td>\n      <td>µg/m³</td>\n      <td>Biossido di Azoto</td>\n    </tr>\n  </tbody>\n</table>\n</div>"
     },
     "execution_count": 16,
     "metadata": {},
     "output_type": "execute_result"
    }
   ],
   "source": [
    "## Append the column 'NomeTipoSensore' to the air quality dataframe based on the 'IdSensore' column\n",
    "df_air_quality = df_air_quality.merge(df_milano_stations[['IdSensore', 'NomeTipoSensore']], on='IdSensore')\n",
    "df_air_quality.head()"
   ],
   "metadata": {
    "collapsed": false,
    "ExecuteTime": {
     "end_time": "2024-05-19T11:44:19.182920900Z",
     "start_time": "2024-05-19T11:44:17.532036Z"
    }
   },
   "id": "93d40f2380abb5c6"
  },
  {
   "cell_type": "code",
   "execution_count": null,
   "outputs": [],
   "source": [
    "## Get the unique values of 'UnitaMisura'  for each unique value of 'NomeTipoSensore' in the air quality dataframe\n",
    "unita_misura_grouped_by_type = df_air_quality.groupby('NomeTipoSensore')['UnitaMisura'].unique()\n",
    "print(unita_misura_grouped_by_type)"
   ],
   "metadata": {
    "collapsed": false,
    "ExecuteTime": {
     "end_time": "2024-05-19T11:29:24.729734200Z",
     "start_time": "2024-05-19T11:29:24.726636300Z"
    }
   },
   "id": "f3907ee011827d76"
  },
  {
   "cell_type": "code",
   "execution_count": null,
   "outputs": [],
   "source": [
    "## Remove rows where 'NomeTipoSensore' has the value 'Cadmio', 'Benzo(a)pirene', 'Nikel', 'Piombo', 'Arsenico', 'Ammoniaca', 'BlackCarbon', 'Particelle sospese PM2.5', 'Benzene'\n",
    "df_air_quality = df_air_quality[~df_air_quality['NomeTipoSensore'].isin(['Cadmio', 'Benzo(a)pirene', 'Nikel', 'Piombo', 'Arsenico', 'Ammoniaca', 'BlackCarbon', 'Particelle sospese PM2.5', 'Benzene'])]\n",
    "df_air_quality.head()"
   ],
   "metadata": {
    "collapsed": false,
    "ExecuteTime": {
     "start_time": "2024-05-19T11:29:24.729734200Z"
    }
   },
   "id": "1177fddc5d3259bf"
  },
  {
   "cell_type": "code",
   "execution_count": null,
   "outputs": [],
   "source": [
    "## Count how many rows for each unique values of column 'Valore' that are less than 0 in the air quality dataframe\n",
    "print(df_air_quality['Valore'][df_air_quality['Valore'] < 0].value_counts())"
   ],
   "metadata": {
    "collapsed": false,
    "ExecuteTime": {
     "end_time": "2024-05-19T11:29:24.732798200Z",
     "start_time": "2024-05-19T11:29:24.731781900Z"
    }
   },
   "id": "f36f76e24998cb52"
  },
  {
   "cell_type": "code",
   "execution_count": null,
   "outputs": [],
   "source": [
    "## Convert the column 'Date' to datetime\n",
    "df_air_quality['Data'] = pd.to_datetime(df_air_quality['Data'], dayfirst=True)\n",
    "df_air_quality.head()"
   ],
   "metadata": {
    "collapsed": false,
    "ExecuteTime": {
     "start_time": "2024-05-19T11:29:24.734323400Z"
    }
   },
   "id": "b2b970e47eeb4c5b"
  },
  {
   "cell_type": "code",
   "execution_count": null,
   "outputs": [],
   "source": [
    "## Add columns 'Year', 'Month', 'Day', 'Hour' to the air quality dataframe based on the 'Data' column\n",
    "df_air_quality['Year'] = df_air_quality['Data'].dt.year\n",
    "df_air_quality['Month'] = df_air_quality['Data'].dt.month\n",
    "df_air_quality['Day'] = df_air_quality['Data'].dt.day\n",
    "df_air_quality['Hour'] = df_air_quality['Data'].dt.hour\n",
    "df_air_quality.head()"
   ],
   "metadata": {
    "collapsed": false,
    "ExecuteTime": {
     "end_time": "2024-05-19T11:29:24.829368100Z",
     "start_time": "2024-05-19T11:29:24.736539Z"
    }
   },
   "id": "d62d3cb81ab1fb6b"
  },
  {
   "cell_type": "code",
   "execution_count": null,
   "outputs": [],
   "source": [
    "## Append the column 'Comune' to the air quality dataframe based on the 'IdSensore' column\n",
    "df_air_quality = df_air_quality.merge(df_milano_stations[['IdSensore', 'Comune']], on='IdSensore')\n",
    "df_air_quality.head()"
   ],
   "metadata": {
    "collapsed": false,
    "ExecuteTime": {
     "start_time": "2024-05-19T11:29:24.737548100Z"
    }
   },
   "id": "359300cbc46d6f0e"
  },
  {
   "cell_type": "code",
   "execution_count": null,
   "outputs": [],
   "source": [
    "## Save the air quality dataframe to a csv file \n",
    "df_air_quality.to_csv('df_air_quality_dateTime.csv', index=False)"
   ],
   "metadata": {
    "collapsed": false,
    "ExecuteTime": {
     "start_time": "2024-05-19T11:29:24.740592400Z"
    }
   },
   "id": "bf1e3dfe14e8cd51"
  },
  {
   "cell_type": "markdown",
   "source": [
    "# READ FILE"
   ],
   "metadata": {
    "collapsed": false
   },
   "id": "cccac79fd61a6515"
  },
  {
   "cell_type": "code",
   "execution_count": 2,
   "outputs": [
    {
     "name": "stderr",
     "output_type": "stream",
     "text": [
      "C:\\Users\\massi\\AppData\\Local\\Temp\\ipykernel_39168\\4169795793.py:1: DtypeWarning: Columns (3) have mixed types. Specify dtype option on import or set low_memory=False.\n",
      "  df_air_quality = pd.read_csv('df_air_quality_dateTime.csv')\n"
     ]
    },
    {
     "data": {
      "text/plain": "   IdSensore                 Data  Valore Stato UnitaMisura  \\\n0       5504  2010-01-01 01:00:00    70.7    VA       µg/m³   \n1       5504  2010-01-01 02:00:00    73.0    VA       µg/m³   \n2       5504  2010-01-01 03:00:00    69.0    VA       µg/m³   \n3       5504  2010-01-01 04:00:00    66.0    VA       µg/m³   \n4       5504  2010-01-01 05:00:00    68.8    VA       µg/m³   \n\n     NomeTipoSensore  Year  Month  Day  Hour  Comune  \n0  Biossido di Azoto  2010      1    1     1  Milano  \n1  Biossido di Azoto  2010      1    1     2  Milano  \n2  Biossido di Azoto  2010      1    1     3  Milano  \n3  Biossido di Azoto  2010      1    1     4  Milano  \n4  Biossido di Azoto  2010      1    1     5  Milano  ",
      "text/html": "<div>\n<style scoped>\n    .dataframe tbody tr th:only-of-type {\n        vertical-align: middle;\n    }\n\n    .dataframe tbody tr th {\n        vertical-align: top;\n    }\n\n    .dataframe thead th {\n        text-align: right;\n    }\n</style>\n<table border=\"1\" class=\"dataframe\">\n  <thead>\n    <tr style=\"text-align: right;\">\n      <th></th>\n      <th>IdSensore</th>\n      <th>Data</th>\n      <th>Valore</th>\n      <th>Stato</th>\n      <th>UnitaMisura</th>\n      <th>NomeTipoSensore</th>\n      <th>Year</th>\n      <th>Month</th>\n      <th>Day</th>\n      <th>Hour</th>\n      <th>Comune</th>\n    </tr>\n  </thead>\n  <tbody>\n    <tr>\n      <th>0</th>\n      <td>5504</td>\n      <td>2010-01-01 01:00:00</td>\n      <td>70.7</td>\n      <td>VA</td>\n      <td>µg/m³</td>\n      <td>Biossido di Azoto</td>\n      <td>2010</td>\n      <td>1</td>\n      <td>1</td>\n      <td>1</td>\n      <td>Milano</td>\n    </tr>\n    <tr>\n      <th>1</th>\n      <td>5504</td>\n      <td>2010-01-01 02:00:00</td>\n      <td>73.0</td>\n      <td>VA</td>\n      <td>µg/m³</td>\n      <td>Biossido di Azoto</td>\n      <td>2010</td>\n      <td>1</td>\n      <td>1</td>\n      <td>2</td>\n      <td>Milano</td>\n    </tr>\n    <tr>\n      <th>2</th>\n      <td>5504</td>\n      <td>2010-01-01 03:00:00</td>\n      <td>69.0</td>\n      <td>VA</td>\n      <td>µg/m³</td>\n      <td>Biossido di Azoto</td>\n      <td>2010</td>\n      <td>1</td>\n      <td>1</td>\n      <td>3</td>\n      <td>Milano</td>\n    </tr>\n    <tr>\n      <th>3</th>\n      <td>5504</td>\n      <td>2010-01-01 04:00:00</td>\n      <td>66.0</td>\n      <td>VA</td>\n      <td>µg/m³</td>\n      <td>Biossido di Azoto</td>\n      <td>2010</td>\n      <td>1</td>\n      <td>1</td>\n      <td>4</td>\n      <td>Milano</td>\n    </tr>\n    <tr>\n      <th>4</th>\n      <td>5504</td>\n      <td>2010-01-01 05:00:00</td>\n      <td>68.8</td>\n      <td>VA</td>\n      <td>µg/m³</td>\n      <td>Biossido di Azoto</td>\n      <td>2010</td>\n      <td>1</td>\n      <td>1</td>\n      <td>5</td>\n      <td>Milano</td>\n    </tr>\n  </tbody>\n</table>\n</div>"
     },
     "execution_count": 2,
     "metadata": {},
     "output_type": "execute_result"
    }
   ],
   "source": [
    "df_air_quality = pd.read_csv('df_air_quality_dateTime.csv')\n",
    "df_air_quality.head()"
   ],
   "metadata": {
    "collapsed": false,
    "ExecuteTime": {
     "end_time": "2024-05-19T11:42:37.714871200Z",
     "start_time": "2024-05-19T11:42:23.241032400Z"
    }
   },
   "id": "7f08a9538d84bd40"
  },
  {
   "cell_type": "code",
   "execution_count": 5,
   "outputs": [
    {
     "name": "stdout",
     "output_type": "stream",
     "text": [
      "0\n"
     ]
    }
   ],
   "source": [
    "## Count how many NaN values in the column 'Valore' in the air quality dataframe\n",
    "print(df_air_quality['Valore'].isnull().sum())"
   ],
   "metadata": {
    "collapsed": false,
    "ExecuteTime": {
     "end_time": "2024-05-19T11:30:00.445765700Z",
     "start_time": "2024-05-19T11:30:00.279258700Z"
    }
   },
   "id": "4319f6a163a453fa"
  },
  {
   "cell_type": "code",
   "execution_count": 6,
   "outputs": [],
   "source": [
    "## Put NaN in  rows with values less than 0 in the column 'Valore' in the air quality dataframe\n",
    "df_air_quality.loc[df_air_quality['Valore'] < 0, 'Valore'] = np.nan\n"
   ],
   "metadata": {
    "collapsed": false,
    "ExecuteTime": {
     "end_time": "2024-05-19T11:30:00.448351700Z",
     "start_time": "2024-05-19T11:30:00.337647Z"
    }
   },
   "id": "6a5f4aaf8e97171e"
  },
  {
   "cell_type": "code",
   "execution_count": 7,
   "outputs": [
    {
     "name": "stdout",
     "output_type": "stream",
     "text": [
      "1676120\n"
     ]
    }
   ],
   "source": [
    "## Count how many NaN values in the column 'Valore' in the air quality dataframe\n",
    "print(df_air_quality['Valore'].isnull().sum())"
   ],
   "metadata": {
    "collapsed": false,
    "ExecuteTime": {
     "end_time": "2024-05-19T11:30:00.450363400Z",
     "start_time": "2024-05-19T11:30:00.387463200Z"
    }
   },
   "id": "6da54275fc931afc"
  },
  {
   "cell_type": "code",
   "execution_count": 8,
   "outputs": [
    {
     "name": "stdout",
     "output_type": "stream",
     "text": [
      "Year\n",
      "2010    255728\n",
      "2011    296907\n",
      "2012    346931\n",
      "2013    299951\n",
      "2014    110516\n",
      "2015    117520\n",
      "2016    114149\n",
      "2017     32460\n",
      "2018     26696\n",
      "2019     18229\n",
      "2020     14733\n",
      "2021     15588\n",
      "2022     17513\n",
      "2023      9199\n",
      "2024         0\n",
      "Name: Valore, dtype: int64\n"
     ]
    }
   ],
   "source": [
    "## Count how many NaN for each year in the column 'Valore' in the air quality dataframe\n",
    "print(df_air_quality.groupby('Year')['Valore'].apply(lambda x: x.isnull().sum()))"
   ],
   "metadata": {
    "collapsed": false,
    "ExecuteTime": {
     "end_time": "2024-05-19T11:30:00.851288Z",
     "start_time": "2024-05-19T11:30:00.416029100Z"
    }
   },
   "id": "9563dadb4c60edab"
  },
  {
   "cell_type": "code",
   "execution_count": 9,
   "outputs": [
    {
     "name": "stdout",
     "output_type": "stream",
     "text": [
      "IdSensore\n",
      "5504      3546\n",
      "5505     35892\n",
      "5506      2163\n",
      "5507      5737\n",
      "5508      1601\n",
      "         ...  \n",
      "10354      232\n",
      "10355     6393\n",
      "20427     4257\n",
      "20428      104\n",
      "20429       28\n",
      "Name: Valore, Length: 173, dtype: int64\n"
     ]
    }
   ],
   "source": [
    "## Count how many NaN for each IdSensore in the column 'Valore' in the air quality dataframe\n",
    "print(df_air_quality.groupby('IdSensore')['Valore'].apply(lambda x: x.isnull().sum()))\n",
    "\n"
   ],
   "metadata": {
    "collapsed": false,
    "ExecuteTime": {
     "end_time": "2024-05-19T11:30:01.370163700Z",
     "start_time": "2024-05-19T11:30:00.853297300Z"
    }
   },
   "id": "2611c76a168ee188"
  },
  {
   "cell_type": "code",
   "execution_count": 10,
   "outputs": [
    {
     "data": {
      "text/plain": "   IdSensore                 Data  Valore Stato UnitaMisura  \\\n0       5504  2010-01-01 01:00:00    70.7    VA       µg/m³   \n1       5504  2010-01-01 02:00:00    73.0    VA       µg/m³   \n2       5504  2010-01-01 03:00:00    69.0    VA       µg/m³   \n3       5504  2010-01-01 04:00:00    66.0    VA       µg/m³   \n4       5504  2010-01-01 05:00:00    68.8    VA       µg/m³   \n\n     NomeTipoSensore  Year  Month  Day  Hour  Comune  YearlyAverage  \n0  Biossido di Azoto  2010      1    1     1  Milano      73.336213  \n1  Biossido di Azoto  2010      1    1     2  Milano      73.336213  \n2  Biossido di Azoto  2010      1    1     3  Milano      73.336213  \n3  Biossido di Azoto  2010      1    1     4  Milano      73.336213  \n4  Biossido di Azoto  2010      1    1     5  Milano      73.336213  ",
      "text/html": "<div>\n<style scoped>\n    .dataframe tbody tr th:only-of-type {\n        vertical-align: middle;\n    }\n\n    .dataframe tbody tr th {\n        vertical-align: top;\n    }\n\n    .dataframe thead th {\n        text-align: right;\n    }\n</style>\n<table border=\"1\" class=\"dataframe\">\n  <thead>\n    <tr style=\"text-align: right;\">\n      <th></th>\n      <th>IdSensore</th>\n      <th>Data</th>\n      <th>Valore</th>\n      <th>Stato</th>\n      <th>UnitaMisura</th>\n      <th>NomeTipoSensore</th>\n      <th>Year</th>\n      <th>Month</th>\n      <th>Day</th>\n      <th>Hour</th>\n      <th>Comune</th>\n      <th>YearlyAverage</th>\n    </tr>\n  </thead>\n  <tbody>\n    <tr>\n      <th>0</th>\n      <td>5504</td>\n      <td>2010-01-01 01:00:00</td>\n      <td>70.7</td>\n      <td>VA</td>\n      <td>µg/m³</td>\n      <td>Biossido di Azoto</td>\n      <td>2010</td>\n      <td>1</td>\n      <td>1</td>\n      <td>1</td>\n      <td>Milano</td>\n      <td>73.336213</td>\n    </tr>\n    <tr>\n      <th>1</th>\n      <td>5504</td>\n      <td>2010-01-01 02:00:00</td>\n      <td>73.0</td>\n      <td>VA</td>\n      <td>µg/m³</td>\n      <td>Biossido di Azoto</td>\n      <td>2010</td>\n      <td>1</td>\n      <td>1</td>\n      <td>2</td>\n      <td>Milano</td>\n      <td>73.336213</td>\n    </tr>\n    <tr>\n      <th>2</th>\n      <td>5504</td>\n      <td>2010-01-01 03:00:00</td>\n      <td>69.0</td>\n      <td>VA</td>\n      <td>µg/m³</td>\n      <td>Biossido di Azoto</td>\n      <td>2010</td>\n      <td>1</td>\n      <td>1</td>\n      <td>3</td>\n      <td>Milano</td>\n      <td>73.336213</td>\n    </tr>\n    <tr>\n      <th>3</th>\n      <td>5504</td>\n      <td>2010-01-01 04:00:00</td>\n      <td>66.0</td>\n      <td>VA</td>\n      <td>µg/m³</td>\n      <td>Biossido di Azoto</td>\n      <td>2010</td>\n      <td>1</td>\n      <td>1</td>\n      <td>4</td>\n      <td>Milano</td>\n      <td>73.336213</td>\n    </tr>\n    <tr>\n      <th>4</th>\n      <td>5504</td>\n      <td>2010-01-01 05:00:00</td>\n      <td>68.8</td>\n      <td>VA</td>\n      <td>µg/m³</td>\n      <td>Biossido di Azoto</td>\n      <td>2010</td>\n      <td>1</td>\n      <td>1</td>\n      <td>5</td>\n      <td>Milano</td>\n      <td>73.336213</td>\n    </tr>\n  </tbody>\n</table>\n</div>"
     },
     "execution_count": 10,
     "metadata": {},
     "output_type": "execute_result"
    }
   ],
   "source": [
    "## Add a column 'YearlyAverage' to the air quality dataframe that contains the average value of 'Valore' for each year for each unique IdSensore\n",
    "df_air_quality['YearlyAverage'] = df_air_quality.groupby(['Year', 'IdSensore'])['Valore'].transform('mean')\n",
    "df_air_quality.head()"
   ],
   "metadata": {
    "collapsed": false,
    "ExecuteTime": {
     "end_time": "2024-05-19T11:30:02.156884900Z",
     "start_time": "2024-05-19T11:30:01.374232300Z"
    }
   },
   "id": "722438b3ea9ee018"
  },
  {
   "cell_type": "code",
   "execution_count": 11,
   "outputs": [
    {
     "data": {
      "text/plain": "       Year  IdSensore    NomeTipoSensore  YearlyAverage\n0      2010       5504  Biossido di Azoto      73.336213\n8757   2011       5504  Biossido di Azoto      79.395491\n17243  2012       5504  Biossido di Azoto      67.325237\n25613  2013       5504  Biossido di Azoto      57.484775\n34340  2014       5504  Biossido di Azoto      55.732471",
      "text/html": "<div>\n<style scoped>\n    .dataframe tbody tr th:only-of-type {\n        vertical-align: middle;\n    }\n\n    .dataframe tbody tr th {\n        vertical-align: top;\n    }\n\n    .dataframe thead th {\n        text-align: right;\n    }\n</style>\n<table border=\"1\" class=\"dataframe\">\n  <thead>\n    <tr style=\"text-align: right;\">\n      <th></th>\n      <th>Year</th>\n      <th>IdSensore</th>\n      <th>NomeTipoSensore</th>\n      <th>YearlyAverage</th>\n    </tr>\n  </thead>\n  <tbody>\n    <tr>\n      <th>0</th>\n      <td>2010</td>\n      <td>5504</td>\n      <td>Biossido di Azoto</td>\n      <td>73.336213</td>\n    </tr>\n    <tr>\n      <th>8757</th>\n      <td>2011</td>\n      <td>5504</td>\n      <td>Biossido di Azoto</td>\n      <td>79.395491</td>\n    </tr>\n    <tr>\n      <th>17243</th>\n      <td>2012</td>\n      <td>5504</td>\n      <td>Biossido di Azoto</td>\n      <td>67.325237</td>\n    </tr>\n    <tr>\n      <th>25613</th>\n      <td>2013</td>\n      <td>5504</td>\n      <td>Biossido di Azoto</td>\n      <td>57.484775</td>\n    </tr>\n    <tr>\n      <th>34340</th>\n      <td>2014</td>\n      <td>5504</td>\n      <td>Biossido di Azoto</td>\n      <td>55.732471</td>\n    </tr>\n  </tbody>\n</table>\n</div>"
     },
     "execution_count": 11,
     "metadata": {},
     "output_type": "execute_result"
    }
   ],
   "source": [
    "y_average=df_air_quality[['Year', 'IdSensore', 'NomeTipoSensore','YearlyAverage']].drop_duplicates()\n",
    "y_average.head()"
   ],
   "metadata": {
    "collapsed": false,
    "ExecuteTime": {
     "end_time": "2024-05-19T11:30:03.832543Z",
     "start_time": "2024-05-19T11:30:02.160931700Z"
    }
   },
   "id": "81843e0d0d5ab380"
  },
  {
   "cell_type": "code",
   "execution_count": 12,
   "outputs": [
    {
     "data": {
      "text/plain": "Year                              2010       2011       2012       2013  \\\nIdSensore NomeTipoSensore                                                 \n5504      Biossido di Azoto  73.336213  79.395491  67.325237  57.484775   \n5506      Biossido di Azoto  64.051657  66.068298  67.154015  61.212845   \n5507      Biossido di Azoto  64.222032  67.438324  63.872621  54.068553   \n5508      Biossido di Azoto  46.620318  54.160047  57.405850  46.528702   \n5511      Biossido di Azoto  29.751904  32.469399  31.139307  33.215860   \n\nYear                              2014       2015       2016       2017  \\\nIdSensore NomeTipoSensore                                                 \n5504      Biossido di Azoto  55.732471  75.268302  66.999654  64.388197   \n5506      Biossido di Azoto  47.973746  67.156559  51.702877  53.200000   \n5507      Biossido di Azoto  51.169834  60.002450  42.909536  55.655026   \n5508      Biossido di Azoto  34.282085  39.301586  38.114640  54.500000   \n5511      Biossido di Azoto  25.405678  24.758916  26.547022  23.375064   \n\nYear                              2018       2019       2020       2021  \\\nIdSensore NomeTipoSensore                                                 \n5504      Biossido di Azoto  59.258082  57.610548  48.491295  44.348874   \n5506      Biossido di Azoto        NaN        NaN        NaN        NaN   \n5507      Biossido di Azoto  42.800700  42.268191  38.227980  42.031321   \n5508      Biossido di Azoto        NaN        NaN        NaN        NaN   \n5511      Biossido di Azoto        NaN        NaN        NaN        NaN   \n\nYear                              2022       2023  2024  \nIdSensore NomeTipoSensore                                \n5504      Biossido di Azoto  43.591399  43.825003  43.8  \n5506      Biossido di Azoto        NaN        NaN   NaN  \n5507      Biossido di Azoto  39.997747  37.594306  33.8  \n5508      Biossido di Azoto        NaN        NaN   NaN  \n5511      Biossido di Azoto        NaN        NaN   NaN  ",
      "text/html": "<div>\n<style scoped>\n    .dataframe tbody tr th:only-of-type {\n        vertical-align: middle;\n    }\n\n    .dataframe tbody tr th {\n        vertical-align: top;\n    }\n\n    .dataframe thead th {\n        text-align: right;\n    }\n</style>\n<table border=\"1\" class=\"dataframe\">\n  <thead>\n    <tr style=\"text-align: right;\">\n      <th></th>\n      <th>Year</th>\n      <th>2010</th>\n      <th>2011</th>\n      <th>2012</th>\n      <th>2013</th>\n      <th>2014</th>\n      <th>2015</th>\n      <th>2016</th>\n      <th>2017</th>\n      <th>2018</th>\n      <th>2019</th>\n      <th>2020</th>\n      <th>2021</th>\n      <th>2022</th>\n      <th>2023</th>\n      <th>2024</th>\n    </tr>\n    <tr>\n      <th>IdSensore</th>\n      <th>NomeTipoSensore</th>\n      <th></th>\n      <th></th>\n      <th></th>\n      <th></th>\n      <th></th>\n      <th></th>\n      <th></th>\n      <th></th>\n      <th></th>\n      <th></th>\n      <th></th>\n      <th></th>\n      <th></th>\n      <th></th>\n      <th></th>\n    </tr>\n  </thead>\n  <tbody>\n    <tr>\n      <th>5504</th>\n      <th>Biossido di Azoto</th>\n      <td>73.336213</td>\n      <td>79.395491</td>\n      <td>67.325237</td>\n      <td>57.484775</td>\n      <td>55.732471</td>\n      <td>75.268302</td>\n      <td>66.999654</td>\n      <td>64.388197</td>\n      <td>59.258082</td>\n      <td>57.610548</td>\n      <td>48.491295</td>\n      <td>44.348874</td>\n      <td>43.591399</td>\n      <td>43.825003</td>\n      <td>43.8</td>\n    </tr>\n    <tr>\n      <th>5506</th>\n      <th>Biossido di Azoto</th>\n      <td>64.051657</td>\n      <td>66.068298</td>\n      <td>67.154015</td>\n      <td>61.212845</td>\n      <td>47.973746</td>\n      <td>67.156559</td>\n      <td>51.702877</td>\n      <td>53.200000</td>\n      <td>NaN</td>\n      <td>NaN</td>\n      <td>NaN</td>\n      <td>NaN</td>\n      <td>NaN</td>\n      <td>NaN</td>\n      <td>NaN</td>\n    </tr>\n    <tr>\n      <th>5507</th>\n      <th>Biossido di Azoto</th>\n      <td>64.222032</td>\n      <td>67.438324</td>\n      <td>63.872621</td>\n      <td>54.068553</td>\n      <td>51.169834</td>\n      <td>60.002450</td>\n      <td>42.909536</td>\n      <td>55.655026</td>\n      <td>42.800700</td>\n      <td>42.268191</td>\n      <td>38.227980</td>\n      <td>42.031321</td>\n      <td>39.997747</td>\n      <td>37.594306</td>\n      <td>33.8</td>\n    </tr>\n    <tr>\n      <th>5508</th>\n      <th>Biossido di Azoto</th>\n      <td>46.620318</td>\n      <td>54.160047</td>\n      <td>57.405850</td>\n      <td>46.528702</td>\n      <td>34.282085</td>\n      <td>39.301586</td>\n      <td>38.114640</td>\n      <td>54.500000</td>\n      <td>NaN</td>\n      <td>NaN</td>\n      <td>NaN</td>\n      <td>NaN</td>\n      <td>NaN</td>\n      <td>NaN</td>\n      <td>NaN</td>\n    </tr>\n    <tr>\n      <th>5511</th>\n      <th>Biossido di Azoto</th>\n      <td>29.751904</td>\n      <td>32.469399</td>\n      <td>31.139307</td>\n      <td>33.215860</td>\n      <td>25.405678</td>\n      <td>24.758916</td>\n      <td>26.547022</td>\n      <td>23.375064</td>\n      <td>NaN</td>\n      <td>NaN</td>\n      <td>NaN</td>\n      <td>NaN</td>\n      <td>NaN</td>\n      <td>NaN</td>\n      <td>NaN</td>\n    </tr>\n  </tbody>\n</table>\n</div>"
     },
     "execution_count": 12,
     "metadata": {},
     "output_type": "execute_result"
    }
   ],
   "source": [
    "## for each IdSensore make a column for every year with its respective YearlyAverage\n",
    "y_average = y_average.pivot_table(index=['IdSensore', 'NomeTipoSensore'], columns='Year', values='YearlyAverage')\n",
    "y_average.head()"
   ],
   "metadata": {
    "collapsed": false,
    "ExecuteTime": {
     "end_time": "2024-05-19T11:30:03.976245800Z",
     "start_time": "2024-05-19T11:30:03.836583600Z"
    }
   },
   "id": "11c01f5e58d2b028"
  },
  {
   "cell_type": "code",
   "execution_count": 13,
   "outputs": [
    {
     "ename": "KeyError",
     "evalue": "'Year'",
     "output_type": "error",
     "traceback": [
      "\u001B[1;31m---------------------------------------------------------------------------\u001B[0m",
      "\u001B[1;31mKeyError\u001B[0m                                  Traceback (most recent call last)",
      "File \u001B[1;32m~\\anaconda3\\lib\\site-packages\\pandas\\core\\indexes\\base.py:3629\u001B[0m, in \u001B[0;36mIndex.get_loc\u001B[1;34m(self, key, method, tolerance)\u001B[0m\n\u001B[0;32m   3628\u001B[0m \u001B[38;5;28;01mtry\u001B[39;00m:\n\u001B[1;32m-> 3629\u001B[0m     \u001B[38;5;28;01mreturn\u001B[39;00m \u001B[38;5;28;43mself\u001B[39;49m\u001B[38;5;241;43m.\u001B[39;49m\u001B[43m_engine\u001B[49m\u001B[38;5;241;43m.\u001B[39;49m\u001B[43mget_loc\u001B[49m\u001B[43m(\u001B[49m\u001B[43mcasted_key\u001B[49m\u001B[43m)\u001B[49m\n\u001B[0;32m   3630\u001B[0m \u001B[38;5;28;01mexcept\u001B[39;00m \u001B[38;5;167;01mKeyError\u001B[39;00m \u001B[38;5;28;01mas\u001B[39;00m err:\n",
      "File \u001B[1;32m~\\anaconda3\\lib\\site-packages\\pandas\\_libs\\index.pyx:136\u001B[0m, in \u001B[0;36mpandas._libs.index.IndexEngine.get_loc\u001B[1;34m()\u001B[0m\n",
      "File \u001B[1;32m~\\anaconda3\\lib\\site-packages\\pandas\\_libs\\index.pyx:144\u001B[0m, in \u001B[0;36mpandas._libs.index.IndexEngine.get_loc\u001B[1;34m()\u001B[0m\n",
      "File \u001B[1;32mpandas\\_libs\\index_class_helper.pxi:41\u001B[0m, in \u001B[0;36mpandas._libs.index.Int64Engine._check_type\u001B[1;34m()\u001B[0m\n",
      "\u001B[1;31mKeyError\u001B[0m: 'Year'",
      "\nThe above exception was the direct cause of the following exception:\n",
      "\u001B[1;31mKeyError\u001B[0m                                  Traceback (most recent call last)",
      "Input \u001B[1;32mIn [13]\u001B[0m, in \u001B[0;36m<cell line: 1>\u001B[1;34m()\u001B[0m\n\u001B[1;32m----> 1\u001B[0m y_average_2015\u001B[38;5;241m=\u001B[39my_average[\u001B[43my_average\u001B[49m\u001B[43m[\u001B[49m\u001B[38;5;124;43m'\u001B[39;49m\u001B[38;5;124;43mYear\u001B[39;49m\u001B[38;5;124;43m'\u001B[39;49m\u001B[43m]\u001B[49m\u001B[38;5;241m==\u001B[39m\u001B[38;5;241m2015\u001B[39m]\n\u001B[0;32m      2\u001B[0m y_average_2015\u001B[38;5;241m.\u001B[39mhead()\n",
      "File \u001B[1;32m~\\anaconda3\\lib\\site-packages\\pandas\\core\\frame.py:3505\u001B[0m, in \u001B[0;36mDataFrame.__getitem__\u001B[1;34m(self, key)\u001B[0m\n\u001B[0;32m   3503\u001B[0m \u001B[38;5;28;01mif\u001B[39;00m \u001B[38;5;28mself\u001B[39m\u001B[38;5;241m.\u001B[39mcolumns\u001B[38;5;241m.\u001B[39mnlevels \u001B[38;5;241m>\u001B[39m \u001B[38;5;241m1\u001B[39m:\n\u001B[0;32m   3504\u001B[0m     \u001B[38;5;28;01mreturn\u001B[39;00m \u001B[38;5;28mself\u001B[39m\u001B[38;5;241m.\u001B[39m_getitem_multilevel(key)\n\u001B[1;32m-> 3505\u001B[0m indexer \u001B[38;5;241m=\u001B[39m \u001B[38;5;28;43mself\u001B[39;49m\u001B[38;5;241;43m.\u001B[39;49m\u001B[43mcolumns\u001B[49m\u001B[38;5;241;43m.\u001B[39;49m\u001B[43mget_loc\u001B[49m\u001B[43m(\u001B[49m\u001B[43mkey\u001B[49m\u001B[43m)\u001B[49m\n\u001B[0;32m   3506\u001B[0m \u001B[38;5;28;01mif\u001B[39;00m is_integer(indexer):\n\u001B[0;32m   3507\u001B[0m     indexer \u001B[38;5;241m=\u001B[39m [indexer]\n",
      "File \u001B[1;32m~\\anaconda3\\lib\\site-packages\\pandas\\core\\indexes\\base.py:3631\u001B[0m, in \u001B[0;36mIndex.get_loc\u001B[1;34m(self, key, method, tolerance)\u001B[0m\n\u001B[0;32m   3629\u001B[0m     \u001B[38;5;28;01mreturn\u001B[39;00m \u001B[38;5;28mself\u001B[39m\u001B[38;5;241m.\u001B[39m_engine\u001B[38;5;241m.\u001B[39mget_loc(casted_key)\n\u001B[0;32m   3630\u001B[0m \u001B[38;5;28;01mexcept\u001B[39;00m \u001B[38;5;167;01mKeyError\u001B[39;00m \u001B[38;5;28;01mas\u001B[39;00m err:\n\u001B[1;32m-> 3631\u001B[0m     \u001B[38;5;28;01mraise\u001B[39;00m \u001B[38;5;167;01mKeyError\u001B[39;00m(key) \u001B[38;5;28;01mfrom\u001B[39;00m \u001B[38;5;21;01merr\u001B[39;00m\n\u001B[0;32m   3632\u001B[0m \u001B[38;5;28;01mexcept\u001B[39;00m \u001B[38;5;167;01mTypeError\u001B[39;00m:\n\u001B[0;32m   3633\u001B[0m     \u001B[38;5;66;03m# If we have a listlike key, _check_indexing_error will raise\u001B[39;00m\n\u001B[0;32m   3634\u001B[0m     \u001B[38;5;66;03m#  InvalidIndexError. Otherwise we fall through and re-raise\u001B[39;00m\n\u001B[0;32m   3635\u001B[0m     \u001B[38;5;66;03m#  the TypeError.\u001B[39;00m\n\u001B[0;32m   3636\u001B[0m     \u001B[38;5;28mself\u001B[39m\u001B[38;5;241m.\u001B[39m_check_indexing_error(key)\n",
      "\u001B[1;31mKeyError\u001B[0m: 'Year'"
     ]
    }
   ],
   "source": [
    "y_average_2015=y_average[y_average['Year']==2015]\n",
    "y_average_2015.head()"
   ],
   "metadata": {
    "collapsed": false,
    "ExecuteTime": {
     "end_time": "2024-05-19T11:30:05.682940100Z",
     "start_time": "2024-05-19T11:30:03.883232800Z"
    }
   },
   "id": "71786505496b6934"
  },
  {
   "cell_type": "code",
   "execution_count": null,
   "outputs": [],
   "source": [
    "y_average_2015_BioAz = y_average_2015[y_average_2015['NomeTipoSensore']=='Biossido di Azoto']\n",
    "y_average_2015_BioAz.shape"
   ],
   "metadata": {
    "collapsed": false,
    "ExecuteTime": {
     "end_time": "2024-05-19T11:30:05.689542900Z",
     "start_time": "2024-05-19T11:30:05.684968400Z"
    }
   },
   "id": "2f46996a12020831"
  },
  {
   "cell_type": "code",
   "execution_count": null,
   "outputs": [],
   "source": [
    "y_average_2015_BioAz.to_csv('y_average_2015_BioAz.csv', index=False)"
   ],
   "metadata": {
    "collapsed": false,
    "ExecuteTime": {
     "start_time": "2024-05-19T11:30:05.688012100Z"
    }
   },
   "id": "8fbe8567130cc1fd"
  },
  {
   "cell_type": "code",
   "execution_count": null,
   "outputs": [],
   "source": [
    "## Plot the average value of 'Valore' for each year for each unique IdSensore\n",
    "sns.lineplot(x='Year', y='YearlyAverage', hue='NomeTipoSensore', data=df_air_quality)\n",
    "plt.legend(fontsize='x-small', bbox_to_anchor=(1.05, 1), loc='upper left')\n",
    "plt.show()"
   ],
   "metadata": {
    "collapsed": false,
    "ExecuteTime": {
     "start_time": "2024-05-19T11:30:05.692061Z"
    }
   },
   "id": "a4a68bb9303f64a5"
  },
  {
   "cell_type": "code",
   "execution_count": null,
   "outputs": [],
   "source": [
    "## Get the maximum value of 'Valore' for each unique NomeTipoSensore for each year in the air quality dataframe\n",
    "max_values = df_air_quality.groupby(['Year', 'NomeTipoSensore'])['Valore'].max()\n",
    "print(max_values)"
   ],
   "metadata": {
    "collapsed": false,
    "ExecuteTime": {
     "start_time": "2024-05-19T11:30:05.695109100Z"
    }
   },
   "id": "8a7c542f906017d5"
  },
  {
   "cell_type": "code",
   "execution_count": null,
   "outputs": [],
   "source": [
    "## Create a dataframe with each unique value of 'NomeTipoSensore' as index and the YearlyAverage for each year as columns\n",
    "df_yearly_average = df_air_quality.pivot_table(index='NomeTipoSensore', columns='Year', values='YearlyAverage')\n",
    "df_yearly_average.head()"
   ],
   "metadata": {
    "collapsed": false,
    "ExecuteTime": {
     "start_time": "2024-05-19T11:30:05.698847700Z"
    }
   },
   "id": "7ca936a4494a8dd"
  },
  {
   "cell_type": "code",
   "execution_count": null,
   "outputs": [],
   "source": [
    "## Plot number of rows for each unique value in 'NomeTipoSensore' column per year in the air quality dataframe\n",
    "sns.countplot(x='Year', hue='NomeTipoSensore', data=df_air_quality)\n",
    "plt.legend(fontsize='x-small', bbox_to_anchor=(1.05, 1), loc='upper left')\n",
    "plt.show()"
   ],
   "metadata": {
    "collapsed": false,
    "ExecuteTime": {
     "end_time": "2024-05-19T11:30:05.774128300Z",
     "start_time": "2024-05-19T11:30:05.703691900Z"
    }
   },
   "id": "33b721ea6b1b2672"
  },
  {
   "cell_type": "code",
   "execution_count": null,
   "outputs": [],
   "source": [
    "## Df with YearlyAverage, max and min values of 'Valore' for each unique value of 'NomeTipoSensore', and the variance of 'Valore' for each unique value of 'NomeTipoSensore'\n",
    "df_yearly_summary = df_air_quality.groupby(['Year', 'NomeTipoSensore'])['Valore'].agg(['mean', 'max', 'min', 'var'])\n",
    "df_yearly_summary"
   ],
   "metadata": {
    "collapsed": false,
    "ExecuteTime": {
     "start_time": "2024-05-19T11:30:05.707664800Z"
    }
   },
   "id": "8ba039453cda5ce8"
  },
  {
   "cell_type": "code",
   "execution_count": null,
   "outputs": [],
   "source": [
    "## Plot the max column of the df_yearly_summary dataframe\n",
    "sns.lineplot(x='Year', y='max', hue='NomeTipoSensore', data=df_yearly_summary)\n",
    "plt.legend(fontsize='x-small', bbox_to_anchor=(1.05, 1), loc='upper left')\n",
    "plt.show()"
   ],
   "metadata": {
    "collapsed": false,
    "ExecuteTime": {
     "start_time": "2024-05-19T11:30:05.712287700Z"
    }
   },
   "id": "3db24f7aeb64974b"
  },
  {
   "cell_type": "code",
   "execution_count": null,
   "outputs": [],
   "source": [
    "## Create a dataframe with each unique value of 'NomeTipoSensore' as index and the average value of 'Valore' for all the rows that correspond to the same day as columns\n",
    "df_daily_average = df_air_quality.pivot_table(index='NomeTipoSensore', columns=['Year', 'Month', 'Day'], values='Valore', aggfunc='mean')\n",
    "df_daily_average.head()"
   ],
   "metadata": {
    "collapsed": false,
    "ExecuteTime": {
     "start_time": "2024-05-19T11:30:05.716323500Z"
    }
   },
   "id": "94c549df580aaede"
  },
  {
   "cell_type": "code",
   "execution_count": null,
   "outputs": [],
   "source": [
    "## Get the max value of the daily average for each unique value of 'NomeTipoSensore'\n",
    "max_daily_average = df_daily_average.max(axis=1)\n",
    "print(max_daily_average)\n",
    "\n"
   ],
   "metadata": {
    "collapsed": false,
    "ExecuteTime": {
     "start_time": "2024-05-19T11:30:05.719858700Z"
    }
   },
   "id": "4a959241d7d2ae73"
  },
  {
   "cell_type": "code",
   "execution_count": null,
   "outputs": [],
   "source": [
    "## Plot the max value of the daily average for each unique value of 'NomeTipoSensore'\n",
    "sns.barplot(x=max_daily_average, y=max_daily_average.index)\n",
    "plt.show()"
   ],
   "metadata": {
    "collapsed": false,
    "ExecuteTime": {
     "start_time": "2024-05-19T11:30:05.721364600Z"
    }
   },
   "id": "11496c673acd68a1"
  },
  {
   "cell_type": "code",
   "execution_count": null,
   "outputs": [],
   "source": [
    "## Get how many times the daily average is greater than 50 for Particelle sospese PM2.5 row for each year\n",
    "df_air_quality[(df_air_quality['NomeTipoSensore'] == 'Particelle sospese PM2.5') & (df_air_quality['Valore'] > 50)].groupby('Year').size()"
   ],
   "metadata": {
    "collapsed": false,
    "ExecuteTime": {
     "start_time": "2024-05-19T11:30:05.723894600Z"
    }
   },
   "id": "a26504ec5e858c1"
  },
  {
   "cell_type": "code",
   "execution_count": null,
   "outputs": [],
   "source": [],
   "metadata": {
    "collapsed": false,
    "ExecuteTime": {
     "start_time": "2024-05-19T11:30:05.726534800Z"
    }
   },
   "id": "c5ead3e5ce7ac821"
  },
  {
   "cell_type": "code",
   "execution_count": 17,
   "outputs": [
    {
     "data": {
      "text/plain": "          IdSensore                 Data  Valore Stato UnitaMisura  \\\n0              5504  01/01/2010 01:00:00    70.7    VA       µg/m³   \n1              5504  01/01/2010 02:00:00    73.0    VA       µg/m³   \n2              5504  01/01/2010 03:00:00    69.0    VA       µg/m³   \n3              5504  01/01/2010 04:00:00    66.0    VA       µg/m³   \n4              5504  01/01/2010 05:00:00    68.8    VA       µg/m³   \n...             ...                  ...     ...   ...         ...   \n12343219      20529  28/12/2023 00:00:00    39.0    VA       µg/m³   \n12343220      20529  29/12/2023 00:00:00    27.0    VA       µg/m³   \n12343221      20529  30/12/2023 00:00:00    28.0    VA       µg/m³   \n12343222      20529  31/12/2023 00:00:00    40.0    VA       µg/m³   \n12343223      20529  01/01/2024 00:00:00    38.0    VA       µg/m³   \n\n                   NomeTipoSensore  \n0                Biossido di Azoto  \n1                Biossido di Azoto  \n2                Biossido di Azoto  \n3                Biossido di Azoto  \n4                Biossido di Azoto  \n...                            ...  \n12343219  Particelle sospese PM2.5  \n12343220  Particelle sospese PM2.5  \n12343221  Particelle sospese PM2.5  \n12343222  Particelle sospese PM2.5  \n12343223  Particelle sospese PM2.5  \n\n[12343224 rows x 6 columns]",
      "text/html": "<div>\n<style scoped>\n    .dataframe tbody tr th:only-of-type {\n        vertical-align: middle;\n    }\n\n    .dataframe tbody tr th {\n        vertical-align: top;\n    }\n\n    .dataframe thead th {\n        text-align: right;\n    }\n</style>\n<table border=\"1\" class=\"dataframe\">\n  <thead>\n    <tr style=\"text-align: right;\">\n      <th></th>\n      <th>IdSensore</th>\n      <th>Data</th>\n      <th>Valore</th>\n      <th>Stato</th>\n      <th>UnitaMisura</th>\n      <th>NomeTipoSensore</th>\n    </tr>\n  </thead>\n  <tbody>\n    <tr>\n      <th>0</th>\n      <td>5504</td>\n      <td>01/01/2010 01:00:00</td>\n      <td>70.7</td>\n      <td>VA</td>\n      <td>µg/m³</td>\n      <td>Biossido di Azoto</td>\n    </tr>\n    <tr>\n      <th>1</th>\n      <td>5504</td>\n      <td>01/01/2010 02:00:00</td>\n      <td>73.0</td>\n      <td>VA</td>\n      <td>µg/m³</td>\n      <td>Biossido di Azoto</td>\n    </tr>\n    <tr>\n      <th>2</th>\n      <td>5504</td>\n      <td>01/01/2010 03:00:00</td>\n      <td>69.0</td>\n      <td>VA</td>\n      <td>µg/m³</td>\n      <td>Biossido di Azoto</td>\n    </tr>\n    <tr>\n      <th>3</th>\n      <td>5504</td>\n      <td>01/01/2010 04:00:00</td>\n      <td>66.0</td>\n      <td>VA</td>\n      <td>µg/m³</td>\n      <td>Biossido di Azoto</td>\n    </tr>\n    <tr>\n      <th>4</th>\n      <td>5504</td>\n      <td>01/01/2010 05:00:00</td>\n      <td>68.8</td>\n      <td>VA</td>\n      <td>µg/m³</td>\n      <td>Biossido di Azoto</td>\n    </tr>\n    <tr>\n      <th>...</th>\n      <td>...</td>\n      <td>...</td>\n      <td>...</td>\n      <td>...</td>\n      <td>...</td>\n      <td>...</td>\n    </tr>\n    <tr>\n      <th>12343219</th>\n      <td>20529</td>\n      <td>28/12/2023 00:00:00</td>\n      <td>39.0</td>\n      <td>VA</td>\n      <td>µg/m³</td>\n      <td>Particelle sospese PM2.5</td>\n    </tr>\n    <tr>\n      <th>12343220</th>\n      <td>20529</td>\n      <td>29/12/2023 00:00:00</td>\n      <td>27.0</td>\n      <td>VA</td>\n      <td>µg/m³</td>\n      <td>Particelle sospese PM2.5</td>\n    </tr>\n    <tr>\n      <th>12343221</th>\n      <td>20529</td>\n      <td>30/12/2023 00:00:00</td>\n      <td>28.0</td>\n      <td>VA</td>\n      <td>µg/m³</td>\n      <td>Particelle sospese PM2.5</td>\n    </tr>\n    <tr>\n      <th>12343222</th>\n      <td>20529</td>\n      <td>31/12/2023 00:00:00</td>\n      <td>40.0</td>\n      <td>VA</td>\n      <td>µg/m³</td>\n      <td>Particelle sospese PM2.5</td>\n    </tr>\n    <tr>\n      <th>12343223</th>\n      <td>20529</td>\n      <td>01/01/2024 00:00:00</td>\n      <td>38.0</td>\n      <td>VA</td>\n      <td>µg/m³</td>\n      <td>Particelle sospese PM2.5</td>\n    </tr>\n  </tbody>\n</table>\n<p>12343224 rows × 6 columns</p>\n</div>"
     },
     "execution_count": 17,
     "metadata": {},
     "output_type": "execute_result"
    }
   ],
   "source": [
    "pd.set_option('display.max_rows', 1000)\n",
    "pd.set_option('display.max_columns', 100)\n",
    "df_air_quality"
   ],
   "metadata": {
    "collapsed": false,
    "ExecuteTime": {
     "end_time": "2024-05-19T11:44:30.562629900Z",
     "start_time": "2024-05-19T11:44:30.500831200Z"
    }
   },
   "id": "16bf19bb3f78ff54"
  },
  {
   "cell_type": "code",
   "execution_count": 18,
   "outputs": [
    {
     "data": {
      "text/plain": "          IdSensore                 Data  Valore Stato UnitaMisura  \\\n10193898       6905  01/01/2010 00:00:00 -9999.0   NaN       µg/m³   \n10193899       6905  02/01/2010 00:00:00 -9999.0   NaN       µg/m³   \n10193900       6905  03/01/2010 00:00:00 -9999.0   NaN       µg/m³   \n10193901       6905  04/01/2010 00:00:00 -9999.0   NaN       µg/m³   \n10193902       6905  05/01/2010 00:00:00 -9999.0   NaN       µg/m³   \n\n         NomeTipoSensore  \n10193898   PM10 (SM2005)  \n10193899   PM10 (SM2005)  \n10193900   PM10 (SM2005)  \n10193901   PM10 (SM2005)  \n10193902   PM10 (SM2005)  ",
      "text/html": "<div>\n<style scoped>\n    .dataframe tbody tr th:only-of-type {\n        vertical-align: middle;\n    }\n\n    .dataframe tbody tr th {\n        vertical-align: top;\n    }\n\n    .dataframe thead th {\n        text-align: right;\n    }\n</style>\n<table border=\"1\" class=\"dataframe\">\n  <thead>\n    <tr style=\"text-align: right;\">\n      <th></th>\n      <th>IdSensore</th>\n      <th>Data</th>\n      <th>Valore</th>\n      <th>Stato</th>\n      <th>UnitaMisura</th>\n      <th>NomeTipoSensore</th>\n    </tr>\n  </thead>\n  <tbody>\n    <tr>\n      <th>10193898</th>\n      <td>6905</td>\n      <td>01/01/2010 00:00:00</td>\n      <td>-9999.0</td>\n      <td>NaN</td>\n      <td>µg/m³</td>\n      <td>PM10 (SM2005)</td>\n    </tr>\n    <tr>\n      <th>10193899</th>\n      <td>6905</td>\n      <td>02/01/2010 00:00:00</td>\n      <td>-9999.0</td>\n      <td>NaN</td>\n      <td>µg/m³</td>\n      <td>PM10 (SM2005)</td>\n    </tr>\n    <tr>\n      <th>10193900</th>\n      <td>6905</td>\n      <td>03/01/2010 00:00:00</td>\n      <td>-9999.0</td>\n      <td>NaN</td>\n      <td>µg/m³</td>\n      <td>PM10 (SM2005)</td>\n    </tr>\n    <tr>\n      <th>10193901</th>\n      <td>6905</td>\n      <td>04/01/2010 00:00:00</td>\n      <td>-9999.0</td>\n      <td>NaN</td>\n      <td>µg/m³</td>\n      <td>PM10 (SM2005)</td>\n    </tr>\n    <tr>\n      <th>10193902</th>\n      <td>6905</td>\n      <td>05/01/2010 00:00:00</td>\n      <td>-9999.0</td>\n      <td>NaN</td>\n      <td>µg/m³</td>\n      <td>PM10 (SM2005)</td>\n    </tr>\n  </tbody>\n</table>\n</div>"
     },
     "execution_count": 18,
     "metadata": {},
     "output_type": "execute_result"
    }
   ],
   "source": [
    "## Select only the rows where 'NomeTipoSensore' is 'PM10 (SM2005)'\n",
    "df_air_quality_PM10 = df_air_quality[df_air_quality['NomeTipoSensore'] == 'PM10 (SM2005)']\n",
    "df_air_quality_PM10.head()"
   ],
   "metadata": {
    "collapsed": false,
    "ExecuteTime": {
     "end_time": "2024-05-19T11:44:43.438603400Z",
     "start_time": "2024-05-19T11:44:42.082769400Z"
    }
   },
   "id": "c0b08d9d48baa22e"
  },
  {
   "cell_type": "code",
   "execution_count": null,
   "outputs": [],
   "source": [],
   "metadata": {
    "collapsed": false,
    "ExecuteTime": {
     "start_time": "2024-05-19T11:29:24.788050100Z"
    }
   },
   "id": "2cdc0e5ee7a4775b"
  }
 ],
 "metadata": {
  "kernelspec": {
   "display_name": "Python 3",
   "language": "python",
   "name": "python3"
  },
  "language_info": {
   "codemirror_mode": {
    "name": "ipython",
    "version": 2
   },
   "file_extension": ".py",
   "mimetype": "text/x-python",
   "name": "python",
   "nbconvert_exporter": "python",
   "pygments_lexer": "ipython2",
   "version": "2.7.6"
  }
 },
 "nbformat": 4,
 "nbformat_minor": 5
}
