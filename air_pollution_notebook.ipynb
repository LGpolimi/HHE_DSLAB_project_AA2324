{
 "cells": [
  {
   "cell_type": "code",
   "execution_count": 3,
   "outputs": [],
   "source": [
    "import pandas as pd\n",
    "import numpy as np\n",
    "import matplotlib.pyplot as plt\n",
    "import seaborn as sns\n",
    "import pykrige.kriging_tools as kt\n"
   ],
   "metadata": {
    "collapsed": false,
    "ExecuteTime": {
     "end_time": "2024-05-15T16:01:43.190357100Z",
     "start_time": "2024-05-15T16:01:43.110334800Z"
    }
   },
   "id": "95c56da9a6fd4612"
  },
  {
   "cell_type": "code",
   "execution_count": 43,
   "outputs": [],
   "source": [
    "df_stations = pd.read_csv('Air_quality_data/Stazioni_qualit__dell_aria_20240430.csv')\n",
    "df_air_quality1 = pd.read_csv('Air_quality_data/Dati_sensori_aria_2010-2017_20240430.csv', low_memory=False)\n",
    "df_air_quality2 = pd.read_csv('Air_quality_data/Dati_sensori_aria_dal_2018_20240430.csv', low_memory=False)"
   ],
   "metadata": {
    "collapsed": false,
    "ExecuteTime": {
     "end_time": "2024-05-14T16:22:14.436082100Z",
     "start_time": "2024-05-14T16:21:35.470841900Z"
    }
   },
   "id": "initial_id"
  },
  {
   "cell_type": "code",
   "execution_count": 44,
   "outputs": [],
   "source": [
    "# Add the two dataframes together by row\n",
    "df_air_quality = pd.concat([df_air_quality1, df_air_quality2], axis=0)"
   ],
   "metadata": {
    "collapsed": false,
    "ExecuteTime": {
     "end_time": "2024-05-14T16:22:16.990454300Z",
     "start_time": "2024-05-14T16:22:14.437080300Z"
    }
   },
   "id": "ef18f63a5d4b7321"
  },
  {
   "cell_type": "code",
   "execution_count": 45,
   "outputs": [],
   "source": [
    "milan_municipalities = [\n",
    "    'Abbiategrasso', 'Albairate', 'Arconate', 'Arese', 'Arluno', 'Assago',\n",
    "    'Baranzate', 'Bareggio', 'Basiano', 'Basiglio', 'Bellinzago Lombardo', 'Bernate Ticino', 'Besate', 'Binasco', 'Boffalora Sopra Ticino', 'Bollate', 'Bresso', 'Bubbiano', 'Buccinasco', 'Buscate', 'Bussero', 'Busto Garolfo',\n",
    "    'Calvignasco', 'Cambiago', 'Canegrate', 'Carpiano', 'Carugate', 'Casarile', 'Casorezzo', 'Cassano d\\'Adda', 'Cassina de\\' Pecchi', 'Cassinetta di Lugagnano', 'Castano Primo', 'Cernusco sul Naviglio', 'Cerro Maggiore', 'Cerro al Lambro', 'Cesano Boscone', 'Cesate', 'Cinisello Balsamo', 'Cisliano', 'Cologno Monzese', 'Colturano', 'Corbetta', 'Cormano', 'Cornaredo', 'Corsico', 'Cuggiono', 'Cusago', 'Cusano Milanino',\n",
    "    'Dairago', 'Dresano',\n",
    "    'Gaggiano', 'Garbagnate Milanese', 'Gessate', 'Gorgonzola', 'Grezzago', 'Gudo Visconti',\n",
    "    'Inveruno', 'Inzago',\n",
    "    'Lacchiarella', 'Lainate', 'Legnano', 'Liscate', 'Locate di Triulzi',\n",
    "    'Magenta', 'Magnago', 'Marcallo con Casone', 'Masate', 'Mediglia', 'Melegnano', 'Melzo', 'Mesero', 'Milano', 'Morimondo', 'Motta Visconti',\n",
    "    'Nerviano', 'Nosate', 'Novate Milanese', 'Noviglio',\n",
    "    'Opera', 'Ossona', 'Ozzero',\n",
    "    'Paderno Dugnano', 'Pantigliate', 'Parabiago', 'Paullo', 'Pero', 'Peschiera Borromeo', 'Pessano con Bornago', 'Pieve Emanuele', 'Pioltello', 'Pogliano Milanese', 'Pozzo D\\'Adda', 'Pozzuolo Martesana', 'Pregnana Milanese',\n",
    "    'Rescaldina', 'Rho', 'Robecchetto con Induno', 'Robecco sul Naviglio', 'Rodano', 'Rosate', 'Rozzano',\n",
    "    'San Colombano al Lambro', 'San Donato Milanese', 'San Giorgio su Legnano', 'San Giuliano Milanese', 'San Vittore Olona', 'San Zenone al Lambro', 'Santo Stefano Ticino', 'Sedriano', 'Segrate', 'Senago', 'Sesto San Giovanni', 'Settala', 'Settimo Milanese', 'Solaro',\n",
    "    'Trezzano Rosa', 'Trezzano sul Naviglio', 'Trezzo sull\\'Adda', 'Tribiano', 'Truccazzano', 'Turbigo',\n",
    "    'Vanzaghello', 'Vanzago', 'Vaprio d\\'Adda', 'Vermezzo con Zelo', 'Vernate', 'Vignate', 'Villa Cortese', 'Vimodrone', 'Vittuone', 'Vizzolo Predabissi',\n",
    "    'Zibido San Giacomo'\n",
    "]"
   ],
   "metadata": {
    "collapsed": false,
    "ExecuteTime": {
     "end_time": "2024-05-14T16:22:17.007907Z",
     "start_time": "2024-05-14T16:22:17.001924Z"
    }
   },
   "id": "26ea6bac43647415"
  },
  {
   "cell_type": "code",
   "execution_count": 46,
   "outputs": [
    {
     "name": "stdout",
     "output_type": "stream",
     "text": [
      "133\n"
     ]
    }
   ],
   "source": [
    "## Print the number of municipalities in Milan\n",
    "print(len(milan_municipalities))"
   ],
   "metadata": {
    "collapsed": false,
    "ExecuteTime": {
     "end_time": "2024-05-14T16:22:17.067903400Z",
     "start_time": "2024-05-14T16:22:17.012913900Z"
    }
   },
   "id": "5a608b6954b2cda6"
  },
  {
   "cell_type": "code",
   "execution_count": 47,
   "outputs": [
    {
     "name": "stdout",
     "output_type": "stream",
     "text": [
      "['Albairate', 'Arluno', 'Assago', 'Baranzate', 'Bareggio', 'Basiano', 'Basiglio', 'Bellinzago Lombardo', 'Bernate Ticino', 'Besate', 'Binasco', 'Boffalora Sopra Ticino', 'Bollate', 'Bresso', 'Bubbiano', 'Buccinasco', 'Buscate', 'Bussero', 'Busto Garolfo', 'Calvignasco', 'Cambiago', 'Canegrate', 'Carpiano', 'Carugate', 'Casarile', 'Casorezzo', \"Cassina de' Pecchi\", 'Cassinetta di Lugagnano', 'Cernusco sul Naviglio', 'Cerro Maggiore', 'Cerro al Lambro', 'Cesano Boscone', 'Cesate', 'Cisliano', 'Cologno Monzese', 'Colturano', 'Corbetta', 'Cornaredo', 'Cusago', 'Cusano Milanino', 'Dairago', 'Dresano', 'Gaggiano', 'Gessate', 'Gorgonzola', 'Grezzago', 'Gudo Visconti', 'Inveruno', 'Liscate', 'Locate di Triulzi', 'Magnago', 'Marcallo con Casone', 'Masate', 'Mediglia', 'Melzo', 'Mesero', 'Morimondo', 'Nerviano', 'Nosate', 'Novate Milanese', 'Noviglio', 'Opera', 'Ossona', 'Ozzero', 'Paderno Dugnano', 'Pantigliate', 'Parabiago', 'Paullo', 'Peschiera Borromeo', 'Pessano con Bornago', 'Pieve Emanuele', 'Pogliano Milanese', \"Pozzo D'Adda\", 'Pozzuolo Martesana', 'Pregnana Milanese', 'Rescaldina', 'Robecco sul Naviglio', 'Rodano', 'Rosate', 'Rozzano', 'San Colombano al Lambro', 'San Donato Milanese', 'San Giorgio su Legnano', 'San Vittore Olona', 'San Zenone al Lambro', 'Santo Stefano Ticino', 'Sedriano', 'Segrate', 'Senago', 'Settala', 'Solaro', 'Trezzano Rosa', 'Trezzano sul Naviglio', 'Vanzaghello', 'Vanzago', \"Vaprio d'Adda\", 'Vermezzo con Zelo', 'Vernate', 'Vignate', 'Villa Cortese', 'Vimodrone', 'Vittuone', 'Vizzolo Predabissi', 'Zibido San Giacomo']\n"
     ]
    }
   ],
   "source": [
    "## Make a list of municipalities in Milan that are not in the dataset\n",
    "not_in_dataset = [municipality for municipality in milan_municipalities if municipality not in df_stations['Comune'].unique()]\n",
    "print(not_in_dataset)"
   ],
   "metadata": {
    "collapsed": false,
    "ExecuteTime": {
     "end_time": "2024-05-14T16:22:17.083910300Z",
     "start_time": "2024-05-14T16:22:17.026899600Z"
    }
   },
   "id": "addeeff15a6729ce"
  },
  {
   "cell_type": "code",
   "execution_count": 48,
   "outputs": [
    {
     "name": "stdout",
     "output_type": "stream",
     "text": [
      "['Inzago' 'Pero' 'Sesto San Giovanni' 'Lacchiarella' 'Cormano' 'Corsico'\n",
      " 'Milano' \"Cassano d'Adda\" 'Cuggiono' \"Trezzo sull'Adda\"\n",
      " 'Cinisello Balsamo' 'Legnano' 'Motta Visconti' 'Magenta' 'Turbigo'\n",
      " 'Robecchetto con Induno' 'Arconate' 'Settimo Milanese' 'Pioltello' 'Rho'\n",
      " 'San Giuliano Milanese' 'Arese' 'Abbiategrasso' 'Melegnano' 'Lainate'\n",
      " 'Garbagnate Milanese' 'Tribiano' 'Castano Primo' 'Truccazzano']\n"
     ]
    }
   ],
   "source": [
    "## Drop rows with municipalities not in the list of milan_municipalities\n",
    "df_milano_stations = df_stations[df_stations['Comune'].isin(milan_municipalities)]\n",
    "print(df_milano_stations['Comune'].unique())"
   ],
   "metadata": {
    "collapsed": false,
    "ExecuteTime": {
     "end_time": "2024-05-14T16:22:17.085904900Z",
     "start_time": "2024-05-14T16:22:17.056906500Z"
    }
   },
   "id": "2455c1e0d92f439c"
  },
  {
   "cell_type": "code",
   "execution_count": 49,
   "outputs": [
    {
     "name": "stdout",
     "output_type": "stream",
     "text": [
      "29\n"
     ]
    }
   ],
   "source": [
    "## Print the number of municipalities in province of Milan that have air quality data\n",
    "print(len(df_milano_stations['Comune'].unique()))"
   ],
   "metadata": {
    "collapsed": false,
    "ExecuteTime": {
     "end_time": "2024-05-14T16:22:17.109898700Z",
     "start_time": "2024-05-14T16:22:17.074902800Z"
    }
   },
   "id": "d53663042c645ef5"
  },
  {
   "cell_type": "code",
   "execution_count": 50,
   "outputs": [
    {
     "name": "stdout",
     "output_type": "stream",
     "text": [
      "Ossidi di Azoto               38\n",
      "Biossido di Azoto             38\n",
      "Biossido di Zolfo             32\n",
      "Monossido di Carbonio         26\n",
      "Ozono                         17\n",
      "Particolato Totale Sospeso    14\n",
      "PM10 (SM2005)                 13\n",
      "Benzene                        7\n",
      "Particelle sospese PM2.5       6\n",
      "BlackCarbon                    5\n",
      "Ammoniaca                      4\n",
      "Arsenico                       3\n",
      "Piombo                         3\n",
      "Nikel                          3\n",
      "Benzo(a)pirene                 3\n",
      "Cadmio                         3\n",
      "Name: NomeTipoSensore, dtype: int64\n"
     ]
    }
   ],
   "source": [
    "## Count the number of rows for each unique value in 'NomeTipoSensore' column\n",
    "print(df_milano_stations['NomeTipoSensore'].value_counts())"
   ],
   "metadata": {
    "collapsed": false,
    "ExecuteTime": {
     "end_time": "2024-05-14T16:22:17.243912400Z",
     "start_time": "2024-05-14T16:22:17.092910Z"
    }
   },
   "id": "2396068d3a3c1c20"
  },
  {
   "cell_type": "code",
   "execution_count": 51,
   "outputs": [
    {
     "name": "stdout",
     "output_type": "stream",
     "text": [
      "['µg/m³' 'ng/m³' 'mg/m³']\n"
     ]
    }
   ],
   "source": [
    "## Get  the unique values of 'UnitaMisura' column\n",
    "print(df_milano_stations['UnitaMisura'].unique())\n"
   ],
   "metadata": {
    "collapsed": false,
    "ExecuteTime": {
     "end_time": "2024-05-14T16:22:17.278911100Z",
     "start_time": "2024-05-14T16:22:17.106908800Z"
    }
   },
   "id": "67d36b424d8d9633"
  },
  {
   "cell_type": "code",
   "execution_count": 52,
   "outputs": [
    {
     "name": "stdout",
     "output_type": "stream",
     "text": [
      "NomeTipoSensore\n",
      "Ammoniaca                                          [20020, 20484, 10269, 20525]\n",
      "Arsenico                                                  [12608, 12638, 12625]\n",
      "Benzene                            [17127, 6057, 6037, 9998, 6062, 6059, 17126]\n",
      "Benzo(a)pirene                                            [12641, 12611, 12629]\n",
      "Biossido di Azoto             [5507, 5513, 5531, 5550, 5520, 5549, 5519, 554...\n",
      "Biossido di Zolfo             [5620, 5621, 5618, 5617, 5627, 5643, 5642, 563...\n",
      "BlackCarbon                                 [20455, 29001, 20004, 20465, 20005]\n",
      "Cadmio                                                    [12626, 12609, 12639]\n",
      "Monossido di Carbonio         [5814, 5820, 5819, 5835, 5831, 5813, 5834, 581...\n",
      "Nikel                                                     [12624, 12637, 12607]\n",
      "Ossidi di Azoto               [6342, 6318, 6338, 6350, 6360, 6346, 6276, 629...\n",
      "Ozono                         [5712, 5714, 5710, 5713, 5724, 5725, 10350, 57...\n",
      "PM10 (SM2005)                 [20429, 20428, 6907, 6905, 6912, 6908, 6909, 1...\n",
      "Particelle sospese PM2.5              [20358, 9874, 10349, 10283, 20529, 17122]\n",
      "Particolato Totale Sospeso    [6636, 6637, 6648, 6651, 6640, 6646, 6639, 663...\n",
      "Piombo                                                    [12610, 12640, 12627]\n",
      "Name: IdSensore, dtype: object\n"
     ]
    }
   ],
   "source": [
    "## Get the list IdSensore for each unique value in 'NomeTipoSensore' column\n",
    "idSensor_grouped_by_type = df_milano_stations.groupby('NomeTipoSensore')['IdSensore'].unique()\n",
    "print(idSensor_grouped_by_type)"
   ],
   "metadata": {
    "collapsed": false,
    "ExecuteTime": {
     "end_time": "2024-05-14T16:22:17.281911900Z",
     "start_time": "2024-05-14T16:22:17.121904700Z"
    }
   },
   "id": "9e2baffedffff16d"
  },
  {
   "cell_type": "code",
   "execution_count": 53,
   "outputs": [
    {
     "name": "stdout",
     "output_type": "stream",
     "text": [
      "6665     122511\n",
      "5721     122428\n",
      "5548     122419\n",
      "6419     122390\n",
      "5749     122381\n",
      "5557     122375\n",
      "5730     122357\n",
      "6338     122336\n",
      "6230     122333\n",
      "5750     122326\n",
      "5658     122322\n",
      "5568     122292\n",
      "10041    122281\n",
      "5577     122276\n",
      "5805     122272\n",
      "10329    122267\n",
      "10038    122266\n",
      "6398     122265\n",
      "6706     122255\n",
      "6248     122233\n",
      "10037    122228\n",
      "9972     122192\n",
      "9971     122163\n",
      "5567     122158\n",
      "9968     122134\n",
      "5555     122088\n",
      "5965     122063\n",
      "10301    122063\n",
      "6402     122053\n",
      "10019    122033\n",
      "10025    122028\n",
      "6428     122007\n",
      "6234     121997\n",
      "6587     121986\n",
      "5953     121977\n",
      "10017    121963\n",
      "9969     121921\n",
      "6412     121918\n",
      "6005     121911\n",
      "10036    121881\n",
      "5742     121854\n",
      "6382     121851\n",
      "5739     121814\n",
      "5504     121808\n",
      "10018    121794\n",
      "5827     121789\n",
      "9861     121775\n",
      "5842     121770\n",
      "5950     121767\n",
      "6408     121737\n",
      "5574     121727\n",
      "10259    121726\n",
      "10258    121722\n",
      "6380     121717\n",
      "6328     121716\n",
      "5563     121710\n",
      "6582     121692\n",
      "5845     121690\n",
      "10020    121688\n",
      "5798     121688\n",
      "6374     121678\n",
      "5704     121671\n",
      "6400     121658\n",
      "5572     121657\n",
      "5794     121653\n",
      "5520     121648\n",
      "10288    121643\n",
      "5717     121643\n",
      "6364     121640\n",
      "10285    121601\n",
      "5670     121594\n",
      "6324     121576\n",
      "6220     121553\n",
      "6320     121527\n",
      "5725     121520\n",
      "5531     121518\n",
      "5549     121516\n",
      "6232     121514\n",
      "10333    121507\n",
      "5575     121503\n",
      "5700     121492\n",
      "5989     121484\n",
      "5960     121464\n",
      "5564     121447\n",
      "5534     121446\n",
      "5853     121444\n",
      "5587     121443\n",
      "10437    121440\n",
      "6366     121432\n",
      "5665     121415\n",
      "9991     121400\n",
      "10286    121399\n",
      "6208     121391\n",
      "5542     121385\n",
      "9857     121338\n",
      "6204     121334\n",
      "5630     121329\n",
      "6705     121321\n",
      "5676     121320\n",
      "9860     121311\n",
      "6904     121309\n",
      "10431    121303\n",
      "10279    121298\n",
      "9928     121233\n",
      "10451    121231\n",
      "9925     121215\n",
      "5835     121212\n",
      "5598     121209\n",
      "20443    121198\n",
      "5551     121195\n",
      "9930     121183\n",
      "20442    121175\n",
      "5595     121175\n",
      "20441    121173\n",
      "6212     121173\n",
      "5790     121129\n",
      "10432    121074\n",
      "10002    121067\n",
      "5601     121017\n",
      "5599     121014\n",
      "10463    121010\n",
      "6252     121009\n",
      "6411     121008\n",
      "5958     121005\n",
      "6274     121002\n",
      "5507     120980\n",
      "10458    120964\n",
      "10454    120960\n",
      "29041    120946\n",
      "10457    120940\n",
      "10587    120908\n",
      "6356     120908\n",
      "9999     120899\n",
      "5809     120883\n",
      "6280     120882\n",
      "10326    120850\n",
      "6701     120849\n",
      "10384    120826\n",
      "10001    120824\n",
      "5579     120809\n",
      "5952     120806\n",
      "5517     120757\n",
      "5693     120726\n",
      "9859     120702\n",
      "6346     120678\n",
      "6268     120637\n",
      "5532     120622\n",
      "5710     120620\n",
      "5547     120610\n",
      "9918     120583\n",
      "6879     120582\n",
      "6877     120579\n",
      "6264     120557\n",
      "6300     120538\n",
      "6218     120532\n",
      "9833     120504\n",
      "10016    120488\n",
      "10452    120459\n",
      "5812     120454\n",
      "9772     120445\n",
      "5586     120415\n",
      "10327    120410\n",
      "9899     120384\n",
      "5732     120338\n",
      "5576     120328\n",
      "9896     120325\n",
      "6246     120289\n",
      "5609     120218\n",
      "6276     120202\n",
      "9897     120139\n",
      "9996     120099\n",
      "9995     120095\n",
      "10331    120092\n",
      "5554     120075\n",
      "5814     120070\n",
      "6872     120038\n",
      "6870     120037\n",
      "11041    120018\n",
      "6326     120012\n",
      "6288     119993\n",
      "10081    119968\n",
      "10079    119965\n",
      "20034    119945\n",
      "6781     119942\n",
      "6782     119941\n",
      "6871     119940\n",
      "9882     119926\n",
      "6784     119880\n",
      "5847     119847\n",
      "5561     119845\n",
      "6859     119841\n",
      "6832     119840\n",
      "5707     119818\n",
      "6386     119801\n",
      "6826     119801\n",
      "9877     119782\n",
      "6864     119742\n",
      "5603     119732\n",
      "5545     119714\n",
      "6831     119711\n",
      "9798     119698\n",
      "9917     119696\n",
      "9802     119693\n",
      "5823     119681\n",
      "9797     119679\n",
      "9875     119673\n",
      "6330     119650\n",
      "10078    119634\n",
      "9997     119569\n",
      "5652     119561\n",
      "5718     119557\n",
      "5607     119491\n",
      "5698     119455\n",
      "9804     119425\n",
      "5826     119414\n",
      "5825     119414\n",
      "9993     119359\n",
      "6260     119325\n",
      "10280    119314\n",
      "10282    119306\n",
      "20216    119276\n",
      "6818     119226\n",
      "6813     119218\n",
      "5611     119205\n",
      "10278    119191\n",
      "20020    119181\n",
      "10507    119152\n",
      "6817     119131\n",
      "6884     119051\n",
      "10505    119050\n",
      "6880     119042\n",
      "10166    118987\n",
      "5834     118955\n",
      "9856     118954\n",
      "6804     118927\n",
      "6798     118926\n",
      "9855     118920\n",
      "10511    118870\n",
      "9854     118858\n",
      "6354     118857\n",
      "6803     118850\n",
      "6057     118823\n",
      "5832     118821\n",
      "9920     118795\n",
      "10097    118766\n",
      "10506    118734\n",
      "6691     118639\n",
      "6685     118599\n",
      "6686     118591\n",
      "6869     118575\n",
      "6690     118563\n",
      "6228     118554\n",
      "10070    118551\n",
      "10095    118534\n",
      "6761     118533\n",
      "10035    118501\n",
      "6766     118420\n",
      "5591     118364\n",
      "5738     118347\n",
      "10165    118277\n",
      "5619     118171\n",
      "5719     118076\n",
      "9880     118067\n",
      "5828     118042\n",
      "9852     118040\n",
      "9998     117976\n",
      "5631     117918\n",
      "5610     117761\n",
      "10167    117477\n",
      "10171    117432\n",
      "10169    117182\n",
      "5646     117100\n",
      "10168    116868\n",
      "20032    116561\n",
      "6966     115954\n",
      "10580    115217\n",
      "10584    114918\n",
      "10581    114914\n",
      "10583    114879\n",
      "5797     113777\n",
      "5959     113643\n",
      "5677     113614\n",
      "9924     113473\n",
      "9923     113461\n",
      "6418     113445\n",
      "5844     113236\n",
      "5662     113095\n",
      "6862     113004\n",
      "5683     112694\n",
      "12020    112526\n",
      "12016    112492\n",
      "5807     112312\n",
      "10270    112150\n",
      "6801     112081\n",
      "9888     112063\n",
      "5691     111993\n",
      "6764     111868\n",
      "12017    111106\n",
      "10039    109097\n",
      "10023    107632\n",
      "17042    106477\n",
      "5811     105908\n",
      "5735     105372\n",
      "10291    100956\n",
      "30166     96700\n",
      "17127     95735\n",
      "17126     95622\n",
      "17297     95051\n",
      "20004     94644\n",
      "17288     94262\n",
      "17286     94210\n",
      "17285     94186\n",
      "20041     93415\n",
      "6841      92925\n",
      "17295     92909\n",
      "6845      92812\n",
      "20042     91773\n",
      "30165     89671\n",
      "30163     89664\n",
      "30162     89582\n",
      "17163     87962\n",
      "20031     87935\n",
      "20154     87550\n",
      "20082     86901\n",
      "20156     86507\n",
      "30160     85319\n",
      "30159     85240\n",
      "20005     84869\n",
      "17284     83226\n",
      "9900      69376\n",
      "5617      69367\n",
      "5511      69365\n",
      "10098     69327\n",
      "6296      69296\n",
      "10096     69257\n",
      "5530      61341\n",
      "5744      61334\n",
      "6292      61316\n",
      "5614      61309\n",
      "5709      61270\n",
      "5515      61267\n",
      "6304      61257\n",
      "5535      61257\n",
      "5558      61257\n",
      "10350     61247\n",
      "5621      61242\n",
      "5512      61242\n",
      "5736      61235\n",
      "6388      61227\n",
      "5578      61211\n",
      "5728      61203\n",
      "5597      61193\n",
      "6294      61181\n",
      "6254      61178\n",
      "6888      61175\n",
      "6348      61167\n",
      "10355     61134\n",
      "5640      61133\n",
      "5519      61133\n",
      "6210      61132\n",
      "6885      61132\n",
      "6350      61130\n",
      "5745      61127\n",
      "5799      61114\n",
      "5559      61110\n",
      "5541      61103\n",
      "6390      61066\n",
      "6744      61065\n",
      "10089     61062\n",
      "6898      61061\n",
      "6899      61059\n",
      "6358      61042\n",
      "10299     61037\n",
      "6791      61037\n",
      "6789      61034\n",
      "6786      61033\n",
      "10087     61029\n",
      "5518      61015\n",
      "5831      61006\n",
      "10123     60985\n",
      "5722      60981\n",
      "6790      60967\n",
      "6901      60959\n",
      "6748      60956\n",
      "5740      60950\n",
      "6340      60949\n",
      "5715      60940\n",
      "10119     60935\n",
      "5600      60934\n",
      "5508      60931\n",
      "5724      60928\n",
      "6342      60928\n",
      "6306      60927\n",
      "5837      60925\n",
      "5521      60925\n",
      "5516      60922\n",
      "5622      60922\n",
      "5706      60915\n",
      "5533      60911\n",
      "5589      60909\n",
      "5570      60904\n",
      "9919      60902\n",
      "5552      60897\n",
      "5668      60881\n",
      "5594      60874\n",
      "5716      60869\n",
      "5544      60868\n",
      "6376      60863\n",
      "6216      60855\n",
      "6318      60852\n",
      "5543      60851\n",
      "6344      60846\n",
      "6224      60845\n",
      "6286      60838\n",
      "10088     60838\n",
      "10086     60822\n",
      "9916      60817\n",
      "6202      60815\n",
      "6322      60784\n",
      "10407     60781\n",
      "6308      60780\n",
      "6886      60763\n",
      "10406     60720\n",
      "10324     60709\n",
      "5566      60705\n",
      "10321     60703\n",
      "5846      60691\n",
      "5573      60686\n",
      "10323     60684\n",
      "5550      60659\n",
      "10179     60649\n",
      "10145     60635\n",
      "10143     60634\n",
      "6059      60631\n",
      "6360      60629\n",
      "5596      60619\n",
      "10131     60618\n",
      "10133     60618\n",
      "5708      60615\n",
      "6384      60615\n",
      "5506      60606\n",
      "6372      60596\n",
      "5714      60577\n",
      "5538      60571\n",
      "6206      60565\n",
      "6889      60550\n",
      "6236      60538\n",
      "6891      60519\n",
      "6314      60502\n",
      "5539      60457\n",
      "10074     60430\n",
      "10177     60395\n",
      "10129     60392\n",
      "5841      60390\n",
      "6290      60388\n",
      "5560      60387\n",
      "9805      60384\n",
      "10141     60377\n",
      "20401     60368\n",
      "5664      60347\n",
      "6392      60338\n",
      "5727      60319\n",
      "5580      60318\n",
      "6062      60317\n",
      "5546      60312\n",
      "9921      60298\n",
      "6242      60284\n",
      "6370      60254\n",
      "9800      60155\n",
      "9807      60138\n",
      "10159     60130\n",
      "6902      60121\n",
      "10155     60118\n",
      "6852      60112\n",
      "5963      60112\n",
      "6298      60099\n",
      "5696      60094\n",
      "10048     60091\n",
      "10300     60075\n",
      "6426      60062\n",
      "5712      60042\n",
      "5513      60039\n",
      "6856      60018\n",
      "6310      59982\n",
      "10474     59907\n",
      "10475     59903\n",
      "10477     59902\n",
      "10007     59896\n",
      "10005     59887\n",
      "10006     59887\n",
      "10153     59883\n",
      "10473     59842\n",
      "10108     59836\n",
      "10112     59831\n",
      "10004     59830\n",
      "10117     59823\n",
      "5514      59802\n",
      "5604      59801\n",
      "6272      59788\n",
      "5562      59771\n",
      "6284      59735\n",
      "5747      59718\n",
      "6083      59681\n",
      "6394      59659\n",
      "6881      59632\n",
      "5711      59551\n",
      "5528      59548\n",
      "5820      59545\n",
      "10109     59537\n",
      "10106     59527\n",
      "6302      59472\n",
      "5606      59409\n",
      "6262      59402\n",
      "5690      59373\n",
      "10054     59107\n",
      "5810      58892\n",
      "5605      58808\n",
      "6270      58792\n",
      "5694      58784\n",
      "10516     58130\n",
      "5565      56916\n",
      "6238      56745\n",
      "10049     56678\n",
      "10073     55267\n",
      "20427     51424\n",
      "12579     46243\n",
      "12581     46242\n",
      "12587     46197\n",
      "12583     46196\n",
      "6837      43800\n",
      "6840      43696\n",
      "5713      35906\n",
      "5625      35893\n",
      "6312      35893\n",
      "5505      35892\n",
      "10269     35892\n",
      "5796      35244\n",
      "5672      35244\n",
      "5792      35205\n",
      "5666      35183\n",
      "10411     35035\n",
      "5789      35032\n",
      "5661      35032\n",
      "5663      34615\n",
      "5791      34615\n",
      "5654      34427\n",
      "5849      34427\n",
      "5657      34340\n",
      "5686      34325\n",
      "10433     34289\n",
      "5705      34280\n",
      "5703      34275\n",
      "5854      34260\n",
      "5800      34222\n",
      "5678      34222\n",
      "5743      34191\n",
      "5679      34149\n",
      "5801      34149\n",
      "5733      34141\n",
      "5653      34088\n",
      "5848      34073\n",
      "5685      33983\n",
      "6814      33971\n",
      "5643      33820\n",
      "5836      33820\n",
      "5628      33738\n",
      "5838      33729\n",
      "5647      33729\n",
      "6787      33702\n",
      "6807      33689\n",
      "5674      33666\n",
      "6967      33665\n",
      "5669      33643\n",
      "5822      33642\n",
      "5627      33642\n",
      "5746      33612\n",
      "5850      33611\n",
      "5655      33611\n",
      "5824      33564\n",
      "5629      33564\n",
      "5639      33558\n",
      "5821      33545\n",
      "5803      33540\n",
      "5681      33534\n",
      "5637      33432\n",
      "5636      33312\n",
      "5816      33266\n",
      "5615      33266\n",
      "5612      33232\n",
      "5815      33162\n",
      "5840      33147\n",
      "5649      33147\n",
      "5613      33060\n",
      "5851      33047\n",
      "5616      33017\n",
      "5675      32997\n",
      "5651      32733\n",
      "20465     32586\n",
      "6037      32581\n",
      "5819      32581\n",
      "6719      32573\n",
      "6715      32567\n",
      "6720      32560\n",
      "5642      32559\n",
      "5624      32490\n",
      "6883      32409\n",
      "5813      32375\n",
      "5638      32354\n",
      "5818      32338\n",
      "5618      32337\n",
      "6316      32306\n",
      "5540      32306\n",
      "5855      32305\n",
      "5626      32305\n",
      "5620      31869\n",
      "30129     30318\n",
      "5593      29486\n",
      "6200      29467\n",
      "5660      29453\n",
      "5788      29453\n",
      "5650      28269\n",
      "20487     27388\n",
      "20484     27189\n",
      "20455     26980\n",
      "5695      26564\n",
      "5689      26489\n",
      "20497     26318\n",
      "20523     24899\n",
      "20489     24648\n",
      "20491     24647\n",
      "20490     24647\n",
      "20494     24416\n",
      "20495     24416\n",
      "20493     24416\n",
      "6733      24320\n",
      "6730      24311\n",
      "6734      24304\n",
      "5951      18633\n",
      "5964      18442\n",
      "6425      18285\n",
      "5852      18000\n",
      "5556      17968\n",
      "5656      17968\n",
      "6396      17968\n",
      "6867      17176\n",
      "6689      16894\n",
      "29001     15342\n",
      "6731       9829\n",
      "5954       8058\n",
      "6702       7606\n",
      "5839       6104\n",
      "6368       6104\n",
      "5648       6104\n",
      "5510       6104\n",
      "10027      5111\n",
      "6947       5111\n",
      "10405      5110\n",
      "9872       5108\n",
      "10343      5108\n",
      "9976       5107\n",
      "10335      5102\n",
      "6915       5101\n",
      "6962       5101\n",
      "6921       5101\n",
      "6935       5092\n",
      "9739       5092\n",
      "6936       5092\n",
      "10072      5086\n",
      "9983       5084\n",
      "9978       5076\n",
      "6925       5074\n",
      "6927       5072\n",
      "6917       5070\n",
      "9965       5069\n",
      "10290      5069\n",
      "6912       5067\n",
      "10352      5066\n",
      "10339      5065\n",
      "9873       5064\n",
      "6956       5061\n",
      "6918       5056\n",
      "10028      5054\n",
      "10043      5052\n",
      "10449      5048\n",
      "20197      5043\n",
      "10320      5041\n",
      "9835       5038\n",
      "10399      5037\n",
      "6919       5037\n",
      "6931       5035\n",
      "10484      5032\n",
      "6926       5029\n",
      "6958       5029\n",
      "10085      5029\n",
      "10438      5028\n",
      "9831       5028\n",
      "10083      5028\n",
      "10347      5027\n",
      "6959       5026\n",
      "6908       5016\n",
      "6951       5011\n",
      "6952       5009\n",
      "10103      5003\n",
      "12029      5000\n",
      "6955       4994\n",
      "9927       4992\n",
      "6910       4991\n",
      "10456      4988\n",
      "10483      4987\n",
      "10273      4985\n",
      "10197      4985\n",
      "6954       4975\n",
      "6953       4973\n",
      "10283      4972\n",
      "6945       4958\n",
      "10173      4919\n",
      "10176      4907\n",
      "9890       4900\n",
      "10396      4887\n",
      "9961       4883\n",
      "10547      4871\n",
      "10548      4862\n",
      "9984       4856\n",
      "10491      4839\n",
      "10586      4775\n",
      "12022      4656\n",
      "12531      4643\n",
      "10501      4607\n",
      "12028      4605\n",
      "6939       4580\n",
      "9985       4577\n",
      "9740       4574\n",
      "10450      4560\n",
      "10013      4513\n",
      "6929       4468\n",
      "12574      4460\n",
      "12570      4401\n",
      "12584      4397\n",
      "12577      4393\n",
      "17122      4052\n",
      "17293      4009\n",
      "17159      3949\n",
      "17290      3804\n",
      "17162      3793\n",
      "30158      3786\n",
      "20104      3647\n",
      "20155      3620\n",
      "20157      3526\n",
      "20565      3004\n",
      "9963       2907\n",
      "10390      2557\n",
      "6937       2557\n",
      "10029      2557\n",
      "10354      2557\n",
      "10349      2556\n",
      "9967       2556\n",
      "10346      2556\n",
      "6907       2552\n",
      "10149      2549\n",
      "6911       2548\n",
      "9832       2545\n",
      "10077      2544\n",
      "10479      2527\n",
      "10185      2523\n",
      "9915       2520\n",
      "10114      2513\n",
      "5802       2505\n",
      "5569       2505\n",
      "6240       2505\n",
      "5731       2505\n",
      "5680       2505\n",
      "6909       2496\n",
      "20358      2493\n",
      "6634       2475\n",
      "6648       2460\n",
      "20428      2183\n",
      "20429      2181\n",
      "6940       2024\n",
      "12585      1932\n",
      "12617      1904\n",
      "12593      1858\n",
      "12671      1738\n",
      "12694      1705\n",
      "12605      1687\n",
      "12600      1641\n",
      "12623      1638\n",
      "6637       1630\n",
      "6632       1630\n",
      "6631       1630\n",
      "6629       1630\n",
      "6656       1630\n",
      "6606       1630\n",
      "6607       1630\n",
      "10413      1630\n",
      "6616       1630\n",
      "6609       1630\n",
      "6614       1630\n",
      "6905       1630\n",
      "6618       1629\n",
      "6640       1628\n",
      "6642       1628\n",
      "6630       1628\n",
      "9891       1628\n",
      "6641       1628\n",
      "6638       1628\n",
      "6610       1628\n",
      "6635       1628\n",
      "6608       1628\n",
      "6633       1628\n",
      "6611       1628\n",
      "6645       1628\n",
      "6646       1628\n",
      "6655       1628\n",
      "6639       1628\n",
      "6657       1628\n",
      "6650       1627\n",
      "6636       1627\n",
      "6948       1627\n",
      "6647       1626\n",
      "12611      1620\n",
      "6651       1619\n",
      "6605       1618\n",
      "5757       1618\n",
      "12629      1616\n",
      "12641      1611\n",
      "5753       1606\n",
      "6722       1603\n",
      "6736       1601\n",
      "9874       1601\n",
      "6693       1601\n",
      "12676      1600\n",
      "6649       1597\n",
      "6613       1596\n",
      "12688      1596\n",
      "6934       1594\n",
      "10336      1594\n",
      "10330      1594\n",
      "6604       1594\n",
      "6617       1594\n",
      "6944       1510\n",
      "17037      1486\n",
      "6619       1441\n",
      "5768       1438\n",
      "6626       1437\n",
      "6924       1436\n",
      "6652       1436\n",
      "6654       1434\n",
      "6623       1432\n",
      "6625       1432\n",
      "6675       1425\n",
      "6793       1418\n",
      "6622       1416\n",
      "6620       1416\n",
      "20488      1160\n",
      "12588      1068\n",
      "12590      1068\n",
      "12589      1068\n",
      "12591      1068\n",
      "20492      1044\n",
      "12601      1037\n",
      "12602      1037\n",
      "12603      1037\n",
      "12604      1037\n",
      "20496      1029\n",
      "12665      1020\n",
      "20528       957\n",
      "12687       916\n",
      "12685       916\n",
      "12684       916\n",
      "12686       916\n",
      "12673       898\n",
      "12675       898\n",
      "12674       898\n",
      "12695       898\n",
      "12607       897\n",
      "12610       897\n",
      "12609       897\n",
      "12608       897\n",
      "12640       893\n",
      "12638       893\n",
      "12637       893\n",
      "12622       893\n",
      "12621       893\n",
      "12620       893\n",
      "12619       893\n",
      "12639       893\n",
      "12627       873\n",
      "12626       873\n",
      "12625       873\n",
      "12624       873\n",
      "12598       854\n",
      "12597       854\n",
      "12696       854\n",
      "12596       854\n",
      "12663       827\n",
      "12661       827\n",
      "12664       827\n",
      "12662       827\n",
      "12668       820\n",
      "12670       820\n",
      "12669       820\n",
      "12667       820\n",
      "12614       818\n",
      "12615       818\n",
      "12616       818\n",
      "12613       818\n",
      "20529       815\n",
      "12691       810\n",
      "12693       810\n",
      "12692       810\n",
      "12690       810\n",
      "17040       662\n",
      "17038       662\n",
      "17039       662\n",
      "17041       662\n",
      "17082       250\n",
      "17085       248\n",
      "17086       248\n",
      "17084       248\n",
      "17083       248\n",
      "6922        105\n",
      "5769        105\n",
      "6943          3\n",
      "6942          3\n",
      "Name: idSensore, dtype: int64\n"
     ]
    }
   ],
   "source": [
    "## Print the number of rows in the air quality dataframe for each unique value in 'IdSensore' column\n",
    "print(df_air_quality['idSensore'].value_counts())"
   ],
   "metadata": {
    "collapsed": false,
    "ExecuteTime": {
     "end_time": "2024-05-14T16:22:17.434995600Z",
     "start_time": "2024-05-14T16:22:17.399982200Z"
    }
   },
   "id": "b016fbc99274e786"
  },
  {
   "cell_type": "code",
   "execution_count": 54,
   "outputs": [
    {
     "data": {
      "text/plain": "   idSensore                 Data  Valore Stato\n0       5504  01/01/2010 01:00:00    70.7    VA\n1       5504  01/01/2010 02:00:00    73.0    VA\n2       5504  01/01/2010 03:00:00    69.0    VA\n3       5504  01/01/2010 04:00:00    66.0    VA\n4       5504  01/01/2010 05:00:00    68.8    VA",
      "text/html": "<div>\n<style scoped>\n    .dataframe tbody tr th:only-of-type {\n        vertical-align: middle;\n    }\n\n    .dataframe tbody tr th {\n        vertical-align: top;\n    }\n\n    .dataframe thead th {\n        text-align: right;\n    }\n</style>\n<table border=\"1\" class=\"dataframe\">\n  <thead>\n    <tr style=\"text-align: right;\">\n      <th></th>\n      <th>idSensore</th>\n      <th>Data</th>\n      <th>Valore</th>\n      <th>Stato</th>\n    </tr>\n  </thead>\n  <tbody>\n    <tr>\n      <th>0</th>\n      <td>5504</td>\n      <td>01/01/2010 01:00:00</td>\n      <td>70.7</td>\n      <td>VA</td>\n    </tr>\n    <tr>\n      <th>1</th>\n      <td>5504</td>\n      <td>01/01/2010 02:00:00</td>\n      <td>73.0</td>\n      <td>VA</td>\n    </tr>\n    <tr>\n      <th>2</th>\n      <td>5504</td>\n      <td>01/01/2010 03:00:00</td>\n      <td>69.0</td>\n      <td>VA</td>\n    </tr>\n    <tr>\n      <th>3</th>\n      <td>5504</td>\n      <td>01/01/2010 04:00:00</td>\n      <td>66.0</td>\n      <td>VA</td>\n    </tr>\n    <tr>\n      <th>4</th>\n      <td>5504</td>\n      <td>01/01/2010 05:00:00</td>\n      <td>68.8</td>\n      <td>VA</td>\n    </tr>\n  </tbody>\n</table>\n</div>"
     },
     "execution_count": 54,
     "metadata": {},
     "output_type": "execute_result"
    }
   ],
   "source": [
    "## Remove column 'idOperatore' from the air quality dataframe\n",
    "df_air_quality = df_air_quality.drop('idOperatore', axis=1)\n",
    "df_air_quality.head()"
   ],
   "metadata": {
    "collapsed": false,
    "ExecuteTime": {
     "end_time": "2024-05-14T16:22:19.550725400Z",
     "start_time": "2024-05-14T16:22:17.421994900Z"
    }
   },
   "id": "56ca167c2917fff0"
  },
  {
   "cell_type": "code",
   "execution_count": 55,
   "outputs": [
    {
     "data": {
      "text/plain": "   IdSensore                 Data  Valore Stato\n0       5504  01/01/2010 01:00:00    70.7    VA\n1       5504  01/01/2010 02:00:00    73.0    VA\n2       5504  01/01/2010 03:00:00    69.0    VA\n3       5504  01/01/2010 04:00:00    66.0    VA\n4       5504  01/01/2010 05:00:00    68.8    VA",
      "text/html": "<div>\n<style scoped>\n    .dataframe tbody tr th:only-of-type {\n        vertical-align: middle;\n    }\n\n    .dataframe tbody tr th {\n        vertical-align: top;\n    }\n\n    .dataframe thead th {\n        text-align: right;\n    }\n</style>\n<table border=\"1\" class=\"dataframe\">\n  <thead>\n    <tr style=\"text-align: right;\">\n      <th></th>\n      <th>IdSensore</th>\n      <th>Data</th>\n      <th>Valore</th>\n      <th>Stato</th>\n    </tr>\n  </thead>\n  <tbody>\n    <tr>\n      <th>0</th>\n      <td>5504</td>\n      <td>01/01/2010 01:00:00</td>\n      <td>70.7</td>\n      <td>VA</td>\n    </tr>\n    <tr>\n      <th>1</th>\n      <td>5504</td>\n      <td>01/01/2010 02:00:00</td>\n      <td>73.0</td>\n      <td>VA</td>\n    </tr>\n    <tr>\n      <th>2</th>\n      <td>5504</td>\n      <td>01/01/2010 03:00:00</td>\n      <td>69.0</td>\n      <td>VA</td>\n    </tr>\n    <tr>\n      <th>3</th>\n      <td>5504</td>\n      <td>01/01/2010 04:00:00</td>\n      <td>66.0</td>\n      <td>VA</td>\n    </tr>\n    <tr>\n      <th>4</th>\n      <td>5504</td>\n      <td>01/01/2010 05:00:00</td>\n      <td>68.8</td>\n      <td>VA</td>\n    </tr>\n  </tbody>\n</table>\n</div>"
     },
     "execution_count": 55,
     "metadata": {},
     "output_type": "execute_result"
    }
   ],
   "source": [
    "## Rename the column 'idSensore' to 'IdSensore' in the air quality dataframe\n",
    "df_air_quality = df_air_quality.rename(columns={'idSensore': 'IdSensore'})\n",
    "df_air_quality.head()"
   ],
   "metadata": {
    "collapsed": false,
    "ExecuteTime": {
     "end_time": "2024-05-14T16:22:24.820085100Z",
     "start_time": "2024-05-14T16:22:19.549712900Z"
    }
   },
   "id": "b569a2e7a96c9ecd"
  },
  {
   "cell_type": "code",
   "execution_count": 56,
   "outputs": [
    {
     "data": {
      "text/plain": "   IdSensore                 Data  Valore Stato UnitaMisura\n0       5504  01/01/2010 01:00:00    70.7    VA       µg/m³\n1       5504  01/01/2010 02:00:00    73.0    VA       µg/m³\n2       5504  01/01/2010 03:00:00    69.0    VA       µg/m³\n3       5504  01/01/2010 04:00:00    66.0    VA       µg/m³\n4       5504  01/01/2010 05:00:00    68.8    VA       µg/m³",
      "text/html": "<div>\n<style scoped>\n    .dataframe tbody tr th:only-of-type {\n        vertical-align: middle;\n    }\n\n    .dataframe tbody tr th {\n        vertical-align: top;\n    }\n\n    .dataframe thead th {\n        text-align: right;\n    }\n</style>\n<table border=\"1\" class=\"dataframe\">\n  <thead>\n    <tr style=\"text-align: right;\">\n      <th></th>\n      <th>IdSensore</th>\n      <th>Data</th>\n      <th>Valore</th>\n      <th>Stato</th>\n      <th>UnitaMisura</th>\n    </tr>\n  </thead>\n  <tbody>\n    <tr>\n      <th>0</th>\n      <td>5504</td>\n      <td>01/01/2010 01:00:00</td>\n      <td>70.7</td>\n      <td>VA</td>\n      <td>µg/m³</td>\n    </tr>\n    <tr>\n      <th>1</th>\n      <td>5504</td>\n      <td>01/01/2010 02:00:00</td>\n      <td>73.0</td>\n      <td>VA</td>\n      <td>µg/m³</td>\n    </tr>\n    <tr>\n      <th>2</th>\n      <td>5504</td>\n      <td>01/01/2010 03:00:00</td>\n      <td>69.0</td>\n      <td>VA</td>\n      <td>µg/m³</td>\n    </tr>\n    <tr>\n      <th>3</th>\n      <td>5504</td>\n      <td>01/01/2010 04:00:00</td>\n      <td>66.0</td>\n      <td>VA</td>\n      <td>µg/m³</td>\n    </tr>\n    <tr>\n      <th>4</th>\n      <td>5504</td>\n      <td>01/01/2010 05:00:00</td>\n      <td>68.8</td>\n      <td>VA</td>\n      <td>µg/m³</td>\n    </tr>\n  </tbody>\n</table>\n</div>"
     },
     "execution_count": 56,
     "metadata": {},
     "output_type": "execute_result"
    }
   ],
   "source": [
    "## Add 'UnitaMisura' column to the air quality dataframe based on the 'IdSensore' column\n",
    "df_air_quality = df_air_quality.merge(df_milano_stations[['IdSensore', 'UnitaMisura']], on='IdSensore')\n",
    "df_air_quality.head()"
   ],
   "metadata": {
    "collapsed": false,
    "ExecuteTime": {
     "end_time": "2024-05-14T16:22:28.062494800Z",
     "start_time": "2024-05-14T16:22:24.839090700Z"
    }
   },
   "id": "fe93002709260cb9"
  },
  {
   "cell_type": "code",
   "execution_count": 57,
   "outputs": [
    {
     "data": {
      "text/plain": "   IdSensore                 Data  Valore Stato UnitaMisura    NomeTipoSensore\n0       5504  01/01/2010 01:00:00    70.7    VA       µg/m³  Biossido di Azoto\n1       5504  01/01/2010 02:00:00    73.0    VA       µg/m³  Biossido di Azoto\n2       5504  01/01/2010 03:00:00    69.0    VA       µg/m³  Biossido di Azoto\n3       5504  01/01/2010 04:00:00    66.0    VA       µg/m³  Biossido di Azoto\n4       5504  01/01/2010 05:00:00    68.8    VA       µg/m³  Biossido di Azoto",
      "text/html": "<div>\n<style scoped>\n    .dataframe tbody tr th:only-of-type {\n        vertical-align: middle;\n    }\n\n    .dataframe tbody tr th {\n        vertical-align: top;\n    }\n\n    .dataframe thead th {\n        text-align: right;\n    }\n</style>\n<table border=\"1\" class=\"dataframe\">\n  <thead>\n    <tr style=\"text-align: right;\">\n      <th></th>\n      <th>IdSensore</th>\n      <th>Data</th>\n      <th>Valore</th>\n      <th>Stato</th>\n      <th>UnitaMisura</th>\n      <th>NomeTipoSensore</th>\n    </tr>\n  </thead>\n  <tbody>\n    <tr>\n      <th>0</th>\n      <td>5504</td>\n      <td>01/01/2010 01:00:00</td>\n      <td>70.7</td>\n      <td>VA</td>\n      <td>µg/m³</td>\n      <td>Biossido di Azoto</td>\n    </tr>\n    <tr>\n      <th>1</th>\n      <td>5504</td>\n      <td>01/01/2010 02:00:00</td>\n      <td>73.0</td>\n      <td>VA</td>\n      <td>µg/m³</td>\n      <td>Biossido di Azoto</td>\n    </tr>\n    <tr>\n      <th>2</th>\n      <td>5504</td>\n      <td>01/01/2010 03:00:00</td>\n      <td>69.0</td>\n      <td>VA</td>\n      <td>µg/m³</td>\n      <td>Biossido di Azoto</td>\n    </tr>\n    <tr>\n      <th>3</th>\n      <td>5504</td>\n      <td>01/01/2010 04:00:00</td>\n      <td>66.0</td>\n      <td>VA</td>\n      <td>µg/m³</td>\n      <td>Biossido di Azoto</td>\n    </tr>\n    <tr>\n      <th>4</th>\n      <td>5504</td>\n      <td>01/01/2010 05:00:00</td>\n      <td>68.8</td>\n      <td>VA</td>\n      <td>µg/m³</td>\n      <td>Biossido di Azoto</td>\n    </tr>\n  </tbody>\n</table>\n</div>"
     },
     "execution_count": 57,
     "metadata": {},
     "output_type": "execute_result"
    }
   ],
   "source": [
    "## Append the column 'NomeTipoSensore' to the air quality dataframe based on the 'IdSensore' column\n",
    "df_air_quality = df_air_quality.merge(df_milano_stations[['IdSensore', 'NomeTipoSensore']], on='IdSensore')\n",
    "df_air_quality.head()"
   ],
   "metadata": {
    "collapsed": false,
    "ExecuteTime": {
     "end_time": "2024-05-14T16:22:29.738972800Z",
     "start_time": "2024-05-14T16:22:28.065499200Z"
    }
   },
   "id": "93d40f2380abb5c6"
  },
  {
   "cell_type": "code",
   "execution_count": 58,
   "outputs": [
    {
     "name": "stdout",
     "output_type": "stream",
     "text": [
      "NomeTipoSensore\n",
      "Ammoniaca                     [µg/m³]\n",
      "Arsenico                      [ng/m³]\n",
      "Benzene                       [µg/m³]\n",
      "Benzo(a)pirene                [ng/m³]\n",
      "Biossido di Azoto             [µg/m³]\n",
      "Biossido di Zolfo             [µg/m³]\n",
      "BlackCarbon                   [µg/m³]\n",
      "Cadmio                        [ng/m³]\n",
      "Monossido di Carbonio         [mg/m³]\n",
      "Nikel                         [ng/m³]\n",
      "Ossidi di Azoto               [µg/m³]\n",
      "Ozono                         [µg/m³]\n",
      "PM10 (SM2005)                 [µg/m³]\n",
      "Particelle sospese PM2.5      [µg/m³]\n",
      "Particolato Totale Sospeso    [µg/m³]\n",
      "Piombo                        [ng/m³]\n",
      "Name: UnitaMisura, dtype: object\n"
     ]
    }
   ],
   "source": [
    "## Get the unique values of 'UnitaMisura'  for each unique value of 'NomeTipoSensore' in the air quality dataframe\n",
    "unita_misura_grouped_by_type = df_air_quality.groupby('NomeTipoSensore')['UnitaMisura'].unique()\n",
    "print(unita_misura_grouped_by_type)"
   ],
   "metadata": {
    "collapsed": false,
    "ExecuteTime": {
     "end_time": "2024-05-14T16:22:31.750363500Z",
     "start_time": "2024-05-14T16:22:29.742980400Z"
    }
   },
   "id": "f3907ee011827d76"
  },
  {
   "cell_type": "code",
   "execution_count": 59,
   "outputs": [
    {
     "data": {
      "text/plain": "   IdSensore                 Data  Valore Stato UnitaMisura    NomeTipoSensore\n0       5504  01/01/2010 01:00:00    70.7    VA       µg/m³  Biossido di Azoto\n1       5504  01/01/2010 02:00:00    73.0    VA       µg/m³  Biossido di Azoto\n2       5504  01/01/2010 03:00:00    69.0    VA       µg/m³  Biossido di Azoto\n3       5504  01/01/2010 04:00:00    66.0    VA       µg/m³  Biossido di Azoto\n4       5504  01/01/2010 05:00:00    68.8    VA       µg/m³  Biossido di Azoto",
      "text/html": "<div>\n<style scoped>\n    .dataframe tbody tr th:only-of-type {\n        vertical-align: middle;\n    }\n\n    .dataframe tbody tr th {\n        vertical-align: top;\n    }\n\n    .dataframe thead th {\n        text-align: right;\n    }\n</style>\n<table border=\"1\" class=\"dataframe\">\n  <thead>\n    <tr style=\"text-align: right;\">\n      <th></th>\n      <th>IdSensore</th>\n      <th>Data</th>\n      <th>Valore</th>\n      <th>Stato</th>\n      <th>UnitaMisura</th>\n      <th>NomeTipoSensore</th>\n    </tr>\n  </thead>\n  <tbody>\n    <tr>\n      <th>0</th>\n      <td>5504</td>\n      <td>01/01/2010 01:00:00</td>\n      <td>70.7</td>\n      <td>VA</td>\n      <td>µg/m³</td>\n      <td>Biossido di Azoto</td>\n    </tr>\n    <tr>\n      <th>1</th>\n      <td>5504</td>\n      <td>01/01/2010 02:00:00</td>\n      <td>73.0</td>\n      <td>VA</td>\n      <td>µg/m³</td>\n      <td>Biossido di Azoto</td>\n    </tr>\n    <tr>\n      <th>2</th>\n      <td>5504</td>\n      <td>01/01/2010 03:00:00</td>\n      <td>69.0</td>\n      <td>VA</td>\n      <td>µg/m³</td>\n      <td>Biossido di Azoto</td>\n    </tr>\n    <tr>\n      <th>3</th>\n      <td>5504</td>\n      <td>01/01/2010 04:00:00</td>\n      <td>66.0</td>\n      <td>VA</td>\n      <td>µg/m³</td>\n      <td>Biossido di Azoto</td>\n    </tr>\n    <tr>\n      <th>4</th>\n      <td>5504</td>\n      <td>01/01/2010 05:00:00</td>\n      <td>68.8</td>\n      <td>VA</td>\n      <td>µg/m³</td>\n      <td>Biossido di Azoto</td>\n    </tr>\n  </tbody>\n</table>\n</div>"
     },
     "execution_count": 59,
     "metadata": {},
     "output_type": "execute_result"
    }
   ],
   "source": [
    "## Remove rows where 'NomeTipoSensore' has the value 'Cadmio', 'Benzo(a)pirene', 'Nikel', 'Piombo', 'Arsenico', 'Ammoniaca', 'BlackCarbon', 'Particelle sospese PM2.5', 'Benzene'\n",
    "df_air_quality = df_air_quality[~df_air_quality['NomeTipoSensore'].isin(['Cadmio', 'Benzo(a)pirene', 'Nikel', 'Piombo', 'Arsenico', 'Ammoniaca', 'BlackCarbon', 'Particelle sospese PM2.5', 'Benzene'])]\n",
    "df_air_quality.head()"
   ],
   "metadata": {
    "collapsed": false,
    "ExecuteTime": {
     "end_time": "2024-05-14T16:22:33.653208200Z",
     "start_time": "2024-05-14T16:22:31.754365600Z"
    }
   },
   "id": "1177fddc5d3259bf"
  },
  {
   "cell_type": "code",
   "execution_count": 60,
   "outputs": [
    {
     "name": "stdout",
     "output_type": "stream",
     "text": [
      "-9999.0    1676116\n",
      "-0.2             2\n",
      "-0.4             1\n",
      "-0.1             1\n",
      "Name: Valore, dtype: int64\n"
     ]
    }
   ],
   "source": [
    "## Count how many rows for each unique values of column 'Valore' that are less than 0 in the air quality dataframe\n",
    "print(df_air_quality['Valore'][df_air_quality['Valore'] < 0].value_counts())"
   ],
   "metadata": {
    "collapsed": false,
    "ExecuteTime": {
     "end_time": "2024-05-14T16:22:33.787211600Z",
     "start_time": "2024-05-14T16:22:33.659212500Z"
    }
   },
   "id": "f36f76e24998cb52"
  },
  {
   "cell_type": "code",
   "execution_count": 61,
   "outputs": [
    {
     "data": {
      "text/plain": "   IdSensore                Data  Valore Stato UnitaMisura    NomeTipoSensore\n0       5504 2010-01-01 01:00:00    70.7    VA       µg/m³  Biossido di Azoto\n1       5504 2010-01-01 02:00:00    73.0    VA       µg/m³  Biossido di Azoto\n2       5504 2010-01-01 03:00:00    69.0    VA       µg/m³  Biossido di Azoto\n3       5504 2010-01-01 04:00:00    66.0    VA       µg/m³  Biossido di Azoto\n4       5504 2010-01-01 05:00:00    68.8    VA       µg/m³  Biossido di Azoto",
      "text/html": "<div>\n<style scoped>\n    .dataframe tbody tr th:only-of-type {\n        vertical-align: middle;\n    }\n\n    .dataframe tbody tr th {\n        vertical-align: top;\n    }\n\n    .dataframe thead th {\n        text-align: right;\n    }\n</style>\n<table border=\"1\" class=\"dataframe\">\n  <thead>\n    <tr style=\"text-align: right;\">\n      <th></th>\n      <th>IdSensore</th>\n      <th>Data</th>\n      <th>Valore</th>\n      <th>Stato</th>\n      <th>UnitaMisura</th>\n      <th>NomeTipoSensore</th>\n    </tr>\n  </thead>\n  <tbody>\n    <tr>\n      <th>0</th>\n      <td>5504</td>\n      <td>2010-01-01 01:00:00</td>\n      <td>70.7</td>\n      <td>VA</td>\n      <td>µg/m³</td>\n      <td>Biossido di Azoto</td>\n    </tr>\n    <tr>\n      <th>1</th>\n      <td>5504</td>\n      <td>2010-01-01 02:00:00</td>\n      <td>73.0</td>\n      <td>VA</td>\n      <td>µg/m³</td>\n      <td>Biossido di Azoto</td>\n    </tr>\n    <tr>\n      <th>2</th>\n      <td>5504</td>\n      <td>2010-01-01 03:00:00</td>\n      <td>69.0</td>\n      <td>VA</td>\n      <td>µg/m³</td>\n      <td>Biossido di Azoto</td>\n    </tr>\n    <tr>\n      <th>3</th>\n      <td>5504</td>\n      <td>2010-01-01 04:00:00</td>\n      <td>66.0</td>\n      <td>VA</td>\n      <td>µg/m³</td>\n      <td>Biossido di Azoto</td>\n    </tr>\n    <tr>\n      <th>4</th>\n      <td>5504</td>\n      <td>2010-01-01 05:00:00</td>\n      <td>68.8</td>\n      <td>VA</td>\n      <td>µg/m³</td>\n      <td>Biossido di Azoto</td>\n    </tr>\n  </tbody>\n</table>\n</div>"
     },
     "execution_count": 61,
     "metadata": {},
     "output_type": "execute_result"
    }
   ],
   "source": [
    "## Convert the column 'Date' to datetime\n",
    "df_air_quality['Data'] = pd.to_datetime(df_air_quality['Data'], dayfirst=True)\n",
    "df_air_quality.head()"
   ],
   "metadata": {
    "collapsed": false,
    "ExecuteTime": {
     "end_time": "2024-05-14T16:38:24.786267300Z",
     "start_time": "2024-05-14T16:22:33.761210700Z"
    }
   },
   "id": "b2b970e47eeb4c5b"
  },
  {
   "cell_type": "code",
   "execution_count": 62,
   "outputs": [
    {
     "data": {
      "text/plain": "   IdSensore                Data  Valore Stato UnitaMisura    NomeTipoSensore  \\\n0       5504 2010-01-01 01:00:00    70.7    VA       µg/m³  Biossido di Azoto   \n1       5504 2010-01-01 02:00:00    73.0    VA       µg/m³  Biossido di Azoto   \n2       5504 2010-01-01 03:00:00    69.0    VA       µg/m³  Biossido di Azoto   \n3       5504 2010-01-01 04:00:00    66.0    VA       µg/m³  Biossido di Azoto   \n4       5504 2010-01-01 05:00:00    68.8    VA       µg/m³  Biossido di Azoto   \n\n   Year  Month  Day  Hour  \n0  2010      1    1     1  \n1  2010      1    1     2  \n2  2010      1    1     3  \n3  2010      1    1     4  \n4  2010      1    1     5  ",
      "text/html": "<div>\n<style scoped>\n    .dataframe tbody tr th:only-of-type {\n        vertical-align: middle;\n    }\n\n    .dataframe tbody tr th {\n        vertical-align: top;\n    }\n\n    .dataframe thead th {\n        text-align: right;\n    }\n</style>\n<table border=\"1\" class=\"dataframe\">\n  <thead>\n    <tr style=\"text-align: right;\">\n      <th></th>\n      <th>IdSensore</th>\n      <th>Data</th>\n      <th>Valore</th>\n      <th>Stato</th>\n      <th>UnitaMisura</th>\n      <th>NomeTipoSensore</th>\n      <th>Year</th>\n      <th>Month</th>\n      <th>Day</th>\n      <th>Hour</th>\n    </tr>\n  </thead>\n  <tbody>\n    <tr>\n      <th>0</th>\n      <td>5504</td>\n      <td>2010-01-01 01:00:00</td>\n      <td>70.7</td>\n      <td>VA</td>\n      <td>µg/m³</td>\n      <td>Biossido di Azoto</td>\n      <td>2010</td>\n      <td>1</td>\n      <td>1</td>\n      <td>1</td>\n    </tr>\n    <tr>\n      <th>1</th>\n      <td>5504</td>\n      <td>2010-01-01 02:00:00</td>\n      <td>73.0</td>\n      <td>VA</td>\n      <td>µg/m³</td>\n      <td>Biossido di Azoto</td>\n      <td>2010</td>\n      <td>1</td>\n      <td>1</td>\n      <td>2</td>\n    </tr>\n    <tr>\n      <th>2</th>\n      <td>5504</td>\n      <td>2010-01-01 03:00:00</td>\n      <td>69.0</td>\n      <td>VA</td>\n      <td>µg/m³</td>\n      <td>Biossido di Azoto</td>\n      <td>2010</td>\n      <td>1</td>\n      <td>1</td>\n      <td>3</td>\n    </tr>\n    <tr>\n      <th>3</th>\n      <td>5504</td>\n      <td>2010-01-01 04:00:00</td>\n      <td>66.0</td>\n      <td>VA</td>\n      <td>µg/m³</td>\n      <td>Biossido di Azoto</td>\n      <td>2010</td>\n      <td>1</td>\n      <td>1</td>\n      <td>4</td>\n    </tr>\n    <tr>\n      <th>4</th>\n      <td>5504</td>\n      <td>2010-01-01 05:00:00</td>\n      <td>68.8</td>\n      <td>VA</td>\n      <td>µg/m³</td>\n      <td>Biossido di Azoto</td>\n      <td>2010</td>\n      <td>1</td>\n      <td>1</td>\n      <td>5</td>\n    </tr>\n  </tbody>\n</table>\n</div>"
     },
     "execution_count": 62,
     "metadata": {},
     "output_type": "execute_result"
    }
   ],
   "source": [
    "## Add columns 'Year', 'Month', 'Day', 'Hour' to the air quality dataframe based on the 'Data' column\n",
    "df_air_quality['Year'] = df_air_quality['Data'].dt.year\n",
    "df_air_quality['Month'] = df_air_quality['Data'].dt.month\n",
    "df_air_quality['Day'] = df_air_quality['Data'].dt.day\n",
    "df_air_quality['Hour'] = df_air_quality['Data'].dt.hour\n",
    "df_air_quality.head()"
   ],
   "metadata": {
    "collapsed": false,
    "ExecuteTime": {
     "end_time": "2024-05-14T16:38:26.424596100Z",
     "start_time": "2024-05-14T16:38:24.774292800Z"
    }
   },
   "id": "d62d3cb81ab1fb6b"
  },
  {
   "cell_type": "code",
   "execution_count": 63,
   "outputs": [
    {
     "data": {
      "text/plain": "   IdSensore                Data  Valore Stato UnitaMisura    NomeTipoSensore  \\\n0       5504 2010-01-01 01:00:00    70.7    VA       µg/m³  Biossido di Azoto   \n1       5504 2010-01-01 02:00:00    73.0    VA       µg/m³  Biossido di Azoto   \n2       5504 2010-01-01 03:00:00    69.0    VA       µg/m³  Biossido di Azoto   \n3       5504 2010-01-01 04:00:00    66.0    VA       µg/m³  Biossido di Azoto   \n4       5504 2010-01-01 05:00:00    68.8    VA       µg/m³  Biossido di Azoto   \n\n   Year  Month  Day  Hour  Comune  \n0  2010      1    1     1  Milano  \n1  2010      1    1     2  Milano  \n2  2010      1    1     3  Milano  \n3  2010      1    1     4  Milano  \n4  2010      1    1     5  Milano  ",
      "text/html": "<div>\n<style scoped>\n    .dataframe tbody tr th:only-of-type {\n        vertical-align: middle;\n    }\n\n    .dataframe tbody tr th {\n        vertical-align: top;\n    }\n\n    .dataframe thead th {\n        text-align: right;\n    }\n</style>\n<table border=\"1\" class=\"dataframe\">\n  <thead>\n    <tr style=\"text-align: right;\">\n      <th></th>\n      <th>IdSensore</th>\n      <th>Data</th>\n      <th>Valore</th>\n      <th>Stato</th>\n      <th>UnitaMisura</th>\n      <th>NomeTipoSensore</th>\n      <th>Year</th>\n      <th>Month</th>\n      <th>Day</th>\n      <th>Hour</th>\n      <th>Comune</th>\n    </tr>\n  </thead>\n  <tbody>\n    <tr>\n      <th>0</th>\n      <td>5504</td>\n      <td>2010-01-01 01:00:00</td>\n      <td>70.7</td>\n      <td>VA</td>\n      <td>µg/m³</td>\n      <td>Biossido di Azoto</td>\n      <td>2010</td>\n      <td>1</td>\n      <td>1</td>\n      <td>1</td>\n      <td>Milano</td>\n    </tr>\n    <tr>\n      <th>1</th>\n      <td>5504</td>\n      <td>2010-01-01 02:00:00</td>\n      <td>73.0</td>\n      <td>VA</td>\n      <td>µg/m³</td>\n      <td>Biossido di Azoto</td>\n      <td>2010</td>\n      <td>1</td>\n      <td>1</td>\n      <td>2</td>\n      <td>Milano</td>\n    </tr>\n    <tr>\n      <th>2</th>\n      <td>5504</td>\n      <td>2010-01-01 03:00:00</td>\n      <td>69.0</td>\n      <td>VA</td>\n      <td>µg/m³</td>\n      <td>Biossido di Azoto</td>\n      <td>2010</td>\n      <td>1</td>\n      <td>1</td>\n      <td>3</td>\n      <td>Milano</td>\n    </tr>\n    <tr>\n      <th>3</th>\n      <td>5504</td>\n      <td>2010-01-01 04:00:00</td>\n      <td>66.0</td>\n      <td>VA</td>\n      <td>µg/m³</td>\n      <td>Biossido di Azoto</td>\n      <td>2010</td>\n      <td>1</td>\n      <td>1</td>\n      <td>4</td>\n      <td>Milano</td>\n    </tr>\n    <tr>\n      <th>4</th>\n      <td>5504</td>\n      <td>2010-01-01 05:00:00</td>\n      <td>68.8</td>\n      <td>VA</td>\n      <td>µg/m³</td>\n      <td>Biossido di Azoto</td>\n      <td>2010</td>\n      <td>1</td>\n      <td>1</td>\n      <td>5</td>\n      <td>Milano</td>\n    </tr>\n  </tbody>\n</table>\n</div>"
     },
     "execution_count": 63,
     "metadata": {},
     "output_type": "execute_result"
    }
   ],
   "source": [
    "## Append the column 'Comune' to the air quality dataframe based on the 'IdSensore' column\n",
    "df_air_quality = df_air_quality.merge(df_milano_stations[['IdSensore', 'Comune']], on='IdSensore')\n",
    "df_air_quality.head()"
   ],
   "metadata": {
    "collapsed": false,
    "ExecuteTime": {
     "end_time": "2024-05-14T16:38:28.225990400Z",
     "start_time": "2024-05-14T16:38:26.416611700Z"
    }
   },
   "id": "359300cbc46d6f0e"
  },
  {
   "cell_type": "code",
   "execution_count": 66,
   "outputs": [],
   "source": [
    "## Save the air quality dataframe to a csv file \n",
    "df_air_quality.to_csv('df_air_quality_dateTime.csv', index=False)"
   ],
   "metadata": {
    "collapsed": false,
    "ExecuteTime": {
     "end_time": "2024-05-14T16:48:22.713874400Z",
     "start_time": "2024-05-14T16:46:23.615266300Z"
    }
   },
   "id": "bf1e3dfe14e8cd51"
  },
  {
   "cell_type": "code",
   "execution_count": 22,
   "outputs": [
    {
     "name": "stderr",
     "output_type": "stream",
     "text": [
      "C:\\Users\\massi\\AppData\\Local\\Temp\\ipykernel_26044\\4169795793.py:1: DtypeWarning: Columns (3) have mixed types. Specify dtype option on import or set low_memory=False.\n",
      "  df_air_quality = pd.read_csv('df_air_quality_dateTime.csv')\n"
     ]
    },
    {
     "data": {
      "text/plain": "   IdSensore                 Data  Valore Stato UnitaMisura  \\\n0       5504  2010-01-01 01:00:00    70.7    VA       µg/m³   \n1       5504  2010-01-01 02:00:00    73.0    VA       µg/m³   \n2       5504  2010-01-01 03:00:00    69.0    VA       µg/m³   \n3       5504  2010-01-01 04:00:00    66.0    VA       µg/m³   \n4       5504  2010-01-01 05:00:00    68.8    VA       µg/m³   \n\n     NomeTipoSensore  Year  Month  Day  Hour  Comune  \n0  Biossido di Azoto  2010      1    1     1  Milano  \n1  Biossido di Azoto  2010      1    1     2  Milano  \n2  Biossido di Azoto  2010      1    1     3  Milano  \n3  Biossido di Azoto  2010      1    1     4  Milano  \n4  Biossido di Azoto  2010      1    1     5  Milano  ",
      "text/html": "<div>\n<style scoped>\n    .dataframe tbody tr th:only-of-type {\n        vertical-align: middle;\n    }\n\n    .dataframe tbody tr th {\n        vertical-align: top;\n    }\n\n    .dataframe thead th {\n        text-align: right;\n    }\n</style>\n<table border=\"1\" class=\"dataframe\">\n  <thead>\n    <tr style=\"text-align: right;\">\n      <th></th>\n      <th>IdSensore</th>\n      <th>Data</th>\n      <th>Valore</th>\n      <th>Stato</th>\n      <th>UnitaMisura</th>\n      <th>NomeTipoSensore</th>\n      <th>Year</th>\n      <th>Month</th>\n      <th>Day</th>\n      <th>Hour</th>\n      <th>Comune</th>\n    </tr>\n  </thead>\n  <tbody>\n    <tr>\n      <th>0</th>\n      <td>5504</td>\n      <td>2010-01-01 01:00:00</td>\n      <td>70.7</td>\n      <td>VA</td>\n      <td>µg/m³</td>\n      <td>Biossido di Azoto</td>\n      <td>2010</td>\n      <td>1</td>\n      <td>1</td>\n      <td>1</td>\n      <td>Milano</td>\n    </tr>\n    <tr>\n      <th>1</th>\n      <td>5504</td>\n      <td>2010-01-01 02:00:00</td>\n      <td>73.0</td>\n      <td>VA</td>\n      <td>µg/m³</td>\n      <td>Biossido di Azoto</td>\n      <td>2010</td>\n      <td>1</td>\n      <td>1</td>\n      <td>2</td>\n      <td>Milano</td>\n    </tr>\n    <tr>\n      <th>2</th>\n      <td>5504</td>\n      <td>2010-01-01 03:00:00</td>\n      <td>69.0</td>\n      <td>VA</td>\n      <td>µg/m³</td>\n      <td>Biossido di Azoto</td>\n      <td>2010</td>\n      <td>1</td>\n      <td>1</td>\n      <td>3</td>\n      <td>Milano</td>\n    </tr>\n    <tr>\n      <th>3</th>\n      <td>5504</td>\n      <td>2010-01-01 04:00:00</td>\n      <td>66.0</td>\n      <td>VA</td>\n      <td>µg/m³</td>\n      <td>Biossido di Azoto</td>\n      <td>2010</td>\n      <td>1</td>\n      <td>1</td>\n      <td>4</td>\n      <td>Milano</td>\n    </tr>\n    <tr>\n      <th>4</th>\n      <td>5504</td>\n      <td>2010-01-01 05:00:00</td>\n      <td>68.8</td>\n      <td>VA</td>\n      <td>µg/m³</td>\n      <td>Biossido di Azoto</td>\n      <td>2010</td>\n      <td>1</td>\n      <td>1</td>\n      <td>5</td>\n      <td>Milano</td>\n    </tr>\n  </tbody>\n</table>\n</div>"
     },
     "execution_count": 22,
     "metadata": {},
     "output_type": "execute_result"
    }
   ],
   "source": [
    "df_air_quality = pd.read_csv('df_air_quality_dateTime.csv')\n",
    "df_air_quality.head()"
   ],
   "metadata": {
    "collapsed": false,
    "ExecuteTime": {
     "end_time": "2024-05-15T16:23:26.195842200Z",
     "start_time": "2024-05-15T16:23:07.388030200Z"
    }
   },
   "id": "7f08a9538d84bd40"
  },
  {
   "cell_type": "code",
   "execution_count": 23,
   "outputs": [
    {
     "name": "stdout",
     "output_type": "stream",
     "text": [
      "0\n"
     ]
    }
   ],
   "source": [
    "## Count how many NaN values in the column 'Valore' in the air quality dataframe\n",
    "print(df_air_quality['Valore'].isnull().sum())"
   ],
   "metadata": {
    "collapsed": false,
    "ExecuteTime": {
     "end_time": "2024-05-15T16:23:26.344838100Z",
     "start_time": "2024-05-15T16:23:26.195842200Z"
    }
   },
   "id": "4319f6a163a453fa"
  },
  {
   "cell_type": "code",
   "execution_count": 24,
   "outputs": [],
   "source": [
    "## Put NaN in  rows with values less than 0 in the column 'Valore' in the air quality dataframe\n",
    "df_air_quality.loc[df_air_quality['Valore'] < 0, 'Valore'] = np.nan\n"
   ],
   "metadata": {
    "collapsed": false,
    "ExecuteTime": {
     "end_time": "2024-05-15T16:23:26.412844300Z",
     "start_time": "2024-05-15T16:23:26.226853800Z"
    }
   },
   "id": "6a5f4aaf8e97171e"
  },
  {
   "cell_type": "code",
   "execution_count": 25,
   "outputs": [
    {
     "name": "stdout",
     "output_type": "stream",
     "text": [
      "1676120\n"
     ]
    }
   ],
   "source": [
    "## Count how many NaN values in the column 'Valore' in the air quality dataframe\n",
    "print(df_air_quality['Valore'].isnull().sum())"
   ],
   "metadata": {
    "collapsed": false,
    "ExecuteTime": {
     "end_time": "2024-05-15T16:23:26.413847600Z",
     "start_time": "2024-05-15T16:23:26.273850700Z"
    }
   },
   "id": "6da54275fc931afc"
  },
  {
   "cell_type": "code",
   "execution_count": 26,
   "outputs": [
    {
     "name": "stdout",
     "output_type": "stream",
     "text": [
      "Year\n",
      "2010    255728\n",
      "2011    296907\n",
      "2012    346931\n",
      "2013    299951\n",
      "2014    110516\n",
      "2015    117520\n",
      "2016    114149\n",
      "2017     32460\n",
      "2018     26696\n",
      "2019     18229\n",
      "2020     14733\n",
      "2021     15588\n",
      "2022     17513\n",
      "2023      9199\n",
      "2024         0\n",
      "Name: Valore, dtype: int64\n"
     ]
    }
   ],
   "source": [
    "## Count how many NaN for each year in the column 'Valore' in the air quality dataframe\n",
    "print(df_air_quality.groupby('Year')['Valore'].apply(lambda x: x.isnull().sum()))"
   ],
   "metadata": {
    "collapsed": false,
    "ExecuteTime": {
     "end_time": "2024-05-15T16:23:26.754841500Z",
     "start_time": "2024-05-15T16:23:26.307855200Z"
    }
   },
   "id": "9563dadb4c60edab"
  },
  {
   "cell_type": "code",
   "execution_count": 27,
   "outputs": [
    {
     "name": "stdout",
     "output_type": "stream",
     "text": [
      "IdSensore\n",
      "5504      3546\n",
      "5505     35892\n",
      "5506      2163\n",
      "5507      5737\n",
      "5508      1601\n",
      "         ...  \n",
      "10354      232\n",
      "10355     6393\n",
      "20427     4257\n",
      "20428      104\n",
      "20429       28\n",
      "Name: Valore, Length: 173, dtype: int64\n"
     ]
    }
   ],
   "source": [
    "## Count how many NaN for each IdSensore in the column 'Valore' in the air quality dataframe\n",
    "print(df_air_quality.groupby('IdSensore')['Valore'].apply(lambda x: x.isnull().sum()))\n",
    "\n"
   ],
   "metadata": {
    "collapsed": false,
    "ExecuteTime": {
     "end_time": "2024-05-15T16:23:27.310841600Z",
     "start_time": "2024-05-15T16:23:26.760855300Z"
    }
   },
   "id": "2611c76a168ee188"
  },
  {
   "cell_type": "code",
   "execution_count": 9,
   "outputs": [
    {
     "data": {
      "text/plain": "   IdSensore                 Data  Valore Stato UnitaMisura  \\\n0       5504  2010-01-01 01:00:00    70.7    VA       µg/m³   \n1       5504  2010-01-01 02:00:00    73.0    VA       µg/m³   \n2       5504  2010-01-01 03:00:00    69.0    VA       µg/m³   \n3       5504  2010-01-01 04:00:00    66.0    VA       µg/m³   \n4       5504  2010-01-01 05:00:00    68.8    VA       µg/m³   \n\n     NomeTipoSensore  Year  Month  Day  Hour  Comune  YearlyAverage  \n0  Biossido di Azoto  2010      1    1     1  Milano      73.336213  \n1  Biossido di Azoto  2010      1    1     2  Milano      73.336213  \n2  Biossido di Azoto  2010      1    1     3  Milano      73.336213  \n3  Biossido di Azoto  2010      1    1     4  Milano      73.336213  \n4  Biossido di Azoto  2010      1    1     5  Milano      73.336213  ",
      "text/html": "<div>\n<style scoped>\n    .dataframe tbody tr th:only-of-type {\n        vertical-align: middle;\n    }\n\n    .dataframe tbody tr th {\n        vertical-align: top;\n    }\n\n    .dataframe thead th {\n        text-align: right;\n    }\n</style>\n<table border=\"1\" class=\"dataframe\">\n  <thead>\n    <tr style=\"text-align: right;\">\n      <th></th>\n      <th>IdSensore</th>\n      <th>Data</th>\n      <th>Valore</th>\n      <th>Stato</th>\n      <th>UnitaMisura</th>\n      <th>NomeTipoSensore</th>\n      <th>Year</th>\n      <th>Month</th>\n      <th>Day</th>\n      <th>Hour</th>\n      <th>Comune</th>\n      <th>YearlyAverage</th>\n    </tr>\n  </thead>\n  <tbody>\n    <tr>\n      <th>0</th>\n      <td>5504</td>\n      <td>2010-01-01 01:00:00</td>\n      <td>70.7</td>\n      <td>VA</td>\n      <td>µg/m³</td>\n      <td>Biossido di Azoto</td>\n      <td>2010</td>\n      <td>1</td>\n      <td>1</td>\n      <td>1</td>\n      <td>Milano</td>\n      <td>73.336213</td>\n    </tr>\n    <tr>\n      <th>1</th>\n      <td>5504</td>\n      <td>2010-01-01 02:00:00</td>\n      <td>73.0</td>\n      <td>VA</td>\n      <td>µg/m³</td>\n      <td>Biossido di Azoto</td>\n      <td>2010</td>\n      <td>1</td>\n      <td>1</td>\n      <td>2</td>\n      <td>Milano</td>\n      <td>73.336213</td>\n    </tr>\n    <tr>\n      <th>2</th>\n      <td>5504</td>\n      <td>2010-01-01 03:00:00</td>\n      <td>69.0</td>\n      <td>VA</td>\n      <td>µg/m³</td>\n      <td>Biossido di Azoto</td>\n      <td>2010</td>\n      <td>1</td>\n      <td>1</td>\n      <td>3</td>\n      <td>Milano</td>\n      <td>73.336213</td>\n    </tr>\n    <tr>\n      <th>3</th>\n      <td>5504</td>\n      <td>2010-01-01 04:00:00</td>\n      <td>66.0</td>\n      <td>VA</td>\n      <td>µg/m³</td>\n      <td>Biossido di Azoto</td>\n      <td>2010</td>\n      <td>1</td>\n      <td>1</td>\n      <td>4</td>\n      <td>Milano</td>\n      <td>73.336213</td>\n    </tr>\n    <tr>\n      <th>4</th>\n      <td>5504</td>\n      <td>2010-01-01 05:00:00</td>\n      <td>68.8</td>\n      <td>VA</td>\n      <td>µg/m³</td>\n      <td>Biossido di Azoto</td>\n      <td>2010</td>\n      <td>1</td>\n      <td>1</td>\n      <td>5</td>\n      <td>Milano</td>\n      <td>73.336213</td>\n    </tr>\n  </tbody>\n</table>\n</div>"
     },
     "execution_count": 9,
     "metadata": {},
     "output_type": "execute_result"
    }
   ],
   "source": [
    "## Add a column 'YearlyAverage' to the air quality dataframe that contains the average value of 'Valore' for each year for each unique IdSensore\n",
    "df_air_quality['YearlyAverage'] = df_air_quality.groupby(['Year', 'IdSensore'])['Valore'].transform('mean')\n",
    "df_air_quality.head()"
   ],
   "metadata": {
    "collapsed": false,
    "ExecuteTime": {
     "end_time": "2024-05-15T16:03:25.598038700Z",
     "start_time": "2024-05-15T16:03:25.003297600Z"
    }
   },
   "id": "722438b3ea9ee018"
  },
  {
   "cell_type": "code",
   "execution_count": 10,
   "outputs": [
    {
     "data": {
      "text/plain": "       Year  IdSensore    NomeTipoSensore  YearlyAverage\n0      2010       5504  Biossido di Azoto      73.336213\n8757   2011       5504  Biossido di Azoto      79.395491\n17244  2012       5504  Biossido di Azoto      67.325237\n25613  2013       5504  Biossido di Azoto      57.484775\n34340  2014       5504  Biossido di Azoto      55.732471",
      "text/html": "<div>\n<style scoped>\n    .dataframe tbody tr th:only-of-type {\n        vertical-align: middle;\n    }\n\n    .dataframe tbody tr th {\n        vertical-align: top;\n    }\n\n    .dataframe thead th {\n        text-align: right;\n    }\n</style>\n<table border=\"1\" class=\"dataframe\">\n  <thead>\n    <tr style=\"text-align: right;\">\n      <th></th>\n      <th>Year</th>\n      <th>IdSensore</th>\n      <th>NomeTipoSensore</th>\n      <th>YearlyAverage</th>\n    </tr>\n  </thead>\n  <tbody>\n    <tr>\n      <th>0</th>\n      <td>2010</td>\n      <td>5504</td>\n      <td>Biossido di Azoto</td>\n      <td>73.336213</td>\n    </tr>\n    <tr>\n      <th>8757</th>\n      <td>2011</td>\n      <td>5504</td>\n      <td>Biossido di Azoto</td>\n      <td>79.395491</td>\n    </tr>\n    <tr>\n      <th>17244</th>\n      <td>2012</td>\n      <td>5504</td>\n      <td>Biossido di Azoto</td>\n      <td>67.325237</td>\n    </tr>\n    <tr>\n      <th>25613</th>\n      <td>2013</td>\n      <td>5504</td>\n      <td>Biossido di Azoto</td>\n      <td>57.484775</td>\n    </tr>\n    <tr>\n      <th>34340</th>\n      <td>2014</td>\n      <td>5504</td>\n      <td>Biossido di Azoto</td>\n      <td>55.732471</td>\n    </tr>\n  </tbody>\n</table>\n</div>"
     },
     "execution_count": 10,
     "metadata": {},
     "output_type": "execute_result"
    }
   ],
   "source": [
    "y_average=df_air_quality[['Year', 'IdSensore', 'NomeTipoSensore','YearlyAverage']].drop_duplicates()\n",
    "y_average.head()"
   ],
   "metadata": {
    "collapsed": false,
    "ExecuteTime": {
     "end_time": "2024-05-15T16:03:27.086519100Z",
     "start_time": "2024-05-15T16:03:25.600031500Z"
    }
   },
   "id": "81843e0d0d5ab380"
  },
  {
   "cell_type": "code",
   "execution_count": 11,
   "outputs": [
    {
     "data": {
      "text/plain": "Year                              2010       2011       2012       2013  \\\nIdSensore NomeTipoSensore                                                 \n5504      Biossido di Azoto  73.336213  79.395491  67.325237  57.484775   \n5506      Biossido di Azoto  64.051657  66.068298  67.154015  61.212845   \n5507      Biossido di Azoto  64.222032  67.438324  63.872621  54.068553   \n5508      Biossido di Azoto  46.620318  54.160047  57.405850  46.528702   \n5511      Biossido di Azoto  29.751904  32.469399  31.139307  33.215860   \n\nYear                              2014       2015       2016       2017  \\\nIdSensore NomeTipoSensore                                                 \n5504      Biossido di Azoto  55.732471  75.268302  66.999654  64.388197   \n5506      Biossido di Azoto  47.973746  67.156559  51.702877  53.200000   \n5507      Biossido di Azoto  51.169834  60.002450  42.909536  55.655026   \n5508      Biossido di Azoto  34.282085  39.301586  38.114640  54.500000   \n5511      Biossido di Azoto  25.405678  24.758916  26.547022  23.375064   \n\nYear                              2018       2019       2020       2021  \\\nIdSensore NomeTipoSensore                                                 \n5504      Biossido di Azoto  59.258082  57.610548  48.491295  44.348874   \n5506      Biossido di Azoto        NaN        NaN        NaN        NaN   \n5507      Biossido di Azoto  42.800700  42.268191  38.227980  42.031321   \n5508      Biossido di Azoto        NaN        NaN        NaN        NaN   \n5511      Biossido di Azoto        NaN        NaN        NaN        NaN   \n\nYear                              2022       2023  2024  \nIdSensore NomeTipoSensore                                \n5504      Biossido di Azoto  43.591399  43.825003  43.8  \n5506      Biossido di Azoto        NaN        NaN   NaN  \n5507      Biossido di Azoto  39.997747  37.594306  33.8  \n5508      Biossido di Azoto        NaN        NaN   NaN  \n5511      Biossido di Azoto        NaN        NaN   NaN  ",
      "text/html": "<div>\n<style scoped>\n    .dataframe tbody tr th:only-of-type {\n        vertical-align: middle;\n    }\n\n    .dataframe tbody tr th {\n        vertical-align: top;\n    }\n\n    .dataframe thead th {\n        text-align: right;\n    }\n</style>\n<table border=\"1\" class=\"dataframe\">\n  <thead>\n    <tr style=\"text-align: right;\">\n      <th></th>\n      <th>Year</th>\n      <th>2010</th>\n      <th>2011</th>\n      <th>2012</th>\n      <th>2013</th>\n      <th>2014</th>\n      <th>2015</th>\n      <th>2016</th>\n      <th>2017</th>\n      <th>2018</th>\n      <th>2019</th>\n      <th>2020</th>\n      <th>2021</th>\n      <th>2022</th>\n      <th>2023</th>\n      <th>2024</th>\n    </tr>\n    <tr>\n      <th>IdSensore</th>\n      <th>NomeTipoSensore</th>\n      <th></th>\n      <th></th>\n      <th></th>\n      <th></th>\n      <th></th>\n      <th></th>\n      <th></th>\n      <th></th>\n      <th></th>\n      <th></th>\n      <th></th>\n      <th></th>\n      <th></th>\n      <th></th>\n      <th></th>\n    </tr>\n  </thead>\n  <tbody>\n    <tr>\n      <th>5504</th>\n      <th>Biossido di Azoto</th>\n      <td>73.336213</td>\n      <td>79.395491</td>\n      <td>67.325237</td>\n      <td>57.484775</td>\n      <td>55.732471</td>\n      <td>75.268302</td>\n      <td>66.999654</td>\n      <td>64.388197</td>\n      <td>59.258082</td>\n      <td>57.610548</td>\n      <td>48.491295</td>\n      <td>44.348874</td>\n      <td>43.591399</td>\n      <td>43.825003</td>\n      <td>43.8</td>\n    </tr>\n    <tr>\n      <th>5506</th>\n      <th>Biossido di Azoto</th>\n      <td>64.051657</td>\n      <td>66.068298</td>\n      <td>67.154015</td>\n      <td>61.212845</td>\n      <td>47.973746</td>\n      <td>67.156559</td>\n      <td>51.702877</td>\n      <td>53.200000</td>\n      <td>NaN</td>\n      <td>NaN</td>\n      <td>NaN</td>\n      <td>NaN</td>\n      <td>NaN</td>\n      <td>NaN</td>\n      <td>NaN</td>\n    </tr>\n    <tr>\n      <th>5507</th>\n      <th>Biossido di Azoto</th>\n      <td>64.222032</td>\n      <td>67.438324</td>\n      <td>63.872621</td>\n      <td>54.068553</td>\n      <td>51.169834</td>\n      <td>60.002450</td>\n      <td>42.909536</td>\n      <td>55.655026</td>\n      <td>42.800700</td>\n      <td>42.268191</td>\n      <td>38.227980</td>\n      <td>42.031321</td>\n      <td>39.997747</td>\n      <td>37.594306</td>\n      <td>33.8</td>\n    </tr>\n    <tr>\n      <th>5508</th>\n      <th>Biossido di Azoto</th>\n      <td>46.620318</td>\n      <td>54.160047</td>\n      <td>57.405850</td>\n      <td>46.528702</td>\n      <td>34.282085</td>\n      <td>39.301586</td>\n      <td>38.114640</td>\n      <td>54.500000</td>\n      <td>NaN</td>\n      <td>NaN</td>\n      <td>NaN</td>\n      <td>NaN</td>\n      <td>NaN</td>\n      <td>NaN</td>\n      <td>NaN</td>\n    </tr>\n    <tr>\n      <th>5511</th>\n      <th>Biossido di Azoto</th>\n      <td>29.751904</td>\n      <td>32.469399</td>\n      <td>31.139307</td>\n      <td>33.215860</td>\n      <td>25.405678</td>\n      <td>24.758916</td>\n      <td>26.547022</td>\n      <td>23.375064</td>\n      <td>NaN</td>\n      <td>NaN</td>\n      <td>NaN</td>\n      <td>NaN</td>\n      <td>NaN</td>\n      <td>NaN</td>\n      <td>NaN</td>\n    </tr>\n  </tbody>\n</table>\n</div>"
     },
     "execution_count": 11,
     "metadata": {},
     "output_type": "execute_result"
    }
   ],
   "source": [
    "## for each IdSensore make a column for every year with its respective YearlyAverage\n",
    "y_average = y_average.pivot_table(index=['IdSensore', 'NomeTipoSensore'], columns='Year', values='YearlyAverage')\n",
    "y_average.head()"
   ],
   "metadata": {
    "collapsed": false,
    "ExecuteTime": {
     "end_time": "2024-05-15T16:03:30.053683700Z",
     "start_time": "2024-05-15T16:03:29.988687400Z"
    }
   },
   "id": "11c01f5e58d2b028"
  },
  {
   "cell_type": "code",
   "execution_count": 29,
   "outputs": [
    {
     "data": {
      "text/plain": "        Year  IdSensore    NomeTipoSensore  YearlyAverage\n42368   2015       5504  Biossido di Azoto      75.268302\n160162  2015       5506  Biossido di Azoto      67.156559\n217425  2015       5507  Biossido di Azoto      60.002450\n334047  2015       5508  Biossido di Azoto      39.301586\n392729  2015       5511  Biossido di Azoto      24.758916",
      "text/html": "<div>\n<style scoped>\n    .dataframe tbody tr th:only-of-type {\n        vertical-align: middle;\n    }\n\n    .dataframe tbody tr th {\n        vertical-align: top;\n    }\n\n    .dataframe thead th {\n        text-align: right;\n    }\n</style>\n<table border=\"1\" class=\"dataframe\">\n  <thead>\n    <tr style=\"text-align: right;\">\n      <th></th>\n      <th>Year</th>\n      <th>IdSensore</th>\n      <th>NomeTipoSensore</th>\n      <th>YearlyAverage</th>\n    </tr>\n  </thead>\n  <tbody>\n    <tr>\n      <th>42368</th>\n      <td>2015</td>\n      <td>5504</td>\n      <td>Biossido di Azoto</td>\n      <td>75.268302</td>\n    </tr>\n    <tr>\n      <th>160162</th>\n      <td>2015</td>\n      <td>5506</td>\n      <td>Biossido di Azoto</td>\n      <td>67.156559</td>\n    </tr>\n    <tr>\n      <th>217425</th>\n      <td>2015</td>\n      <td>5507</td>\n      <td>Biossido di Azoto</td>\n      <td>60.002450</td>\n    </tr>\n    <tr>\n      <th>334047</th>\n      <td>2015</td>\n      <td>5508</td>\n      <td>Biossido di Azoto</td>\n      <td>39.301586</td>\n    </tr>\n    <tr>\n      <th>392729</th>\n      <td>2015</td>\n      <td>5511</td>\n      <td>Biossido di Azoto</td>\n      <td>24.758916</td>\n    </tr>\n  </tbody>\n</table>\n</div>"
     },
     "execution_count": 29,
     "metadata": {},
     "output_type": "execute_result"
    }
   ],
   "source": [
    "y_average_2015=y_average[y_average['Year']==2015]\n",
    "y_average_2015.head()"
   ],
   "metadata": {
    "collapsed": false,
    "ExecuteTime": {
     "end_time": "2024-05-14T14:11:05.967358700Z",
     "start_time": "2024-05-14T14:11:05.935761300Z"
    }
   },
   "id": "71786505496b6934"
  },
  {
   "cell_type": "code",
   "execution_count": 30,
   "outputs": [
    {
     "data": {
      "text/plain": "(35, 4)"
     },
     "execution_count": 30,
     "metadata": {},
     "output_type": "execute_result"
    }
   ],
   "source": [
    "y_average_2015_BioAz = y_average_2015[y_average_2015['NomeTipoSensore']=='Biossido di Azoto']\n",
    "y_average_2015_BioAz.shape"
   ],
   "metadata": {
    "collapsed": false,
    "ExecuteTime": {
     "end_time": "2024-05-14T14:11:05.968880500Z",
     "start_time": "2024-05-14T14:11:05.946293300Z"
    }
   },
   "id": "2f46996a12020831"
  },
  {
   "cell_type": "code",
   "execution_count": 31,
   "outputs": [],
   "source": [
    "y_average_2015_BioAz.to_csv('y_average_2015_BioAz.csv', index=False)"
   ],
   "metadata": {
    "collapsed": false,
    "ExecuteTime": {
     "end_time": "2024-05-14T14:11:06.093286700Z",
     "start_time": "2024-05-14T14:11:05.959826200Z"
    }
   },
   "id": "8fbe8567130cc1fd"
  },
  {
   "cell_type": "code",
   "execution_count": 32,
   "outputs": [
    {
     "data": {
      "text/plain": "<Figure size 640x480 with 1 Axes>",
      "image/png": "[encoded data removed]"
     },
     "metadata": {},
     "output_type": "display_data"
    }
   ],
   "source": [
    "## Plot the average value of 'Valore' for each year for each unique IdSensore\n",
    "sns.lineplot(x='Year', y='YearlyAverage', hue='NomeTipoSensore', data=df_air_quality)\n",
    "plt.legend(fontsize='x-small', bbox_to_anchor=(1.05, 1), loc='upper left')\n",
    "plt.show()"
   ],
   "metadata": {
    "collapsed": false,
    "ExecuteTime": {
     "end_time": "2024-05-14T14:13:31.154333800Z",
     "start_time": "2024-05-14T14:11:05.980921400Z"
    }
   },
   "id": "a4a68bb9303f64a5"
  },
  {
   "cell_type": "code",
   "execution_count": 33,
   "outputs": [
    {
     "name": "stdout",
     "output_type": "stream",
     "text": [
      "Year  NomeTipoSensore      \n",
      "2010  Biossido di Azoto         293.7\n",
      "      Biossido di Zolfo         113.5\n",
      "      Monossido di Carbonio      11.9\n",
      "      Ossidi di Azoto          1548.6\n",
      "      Ozono                     243.6\n",
      "                                ...  \n",
      "2024  Biossido di Zolfo           3.7\n",
      "      Monossido di Carbonio       1.7\n",
      "      Ossidi di Azoto            88.7\n",
      "      Ozono                       9.7\n",
      "      PM10 (SM2005)              46.7\n",
      "Name: Valore, Length: 94, dtype: float64\n"
     ]
    }
   ],
   "source": [
    "## Get the maximum value of 'Valore' for each unique NomeTipoSensore for each year in the air quality dataframe\n",
    "max_values = df_air_quality.groupby(['Year', 'NomeTipoSensore'])['Valore'].max()\n",
    "print(max_values)"
   ],
   "metadata": {
    "collapsed": false,
    "ExecuteTime": {
     "end_time": "2024-05-14T14:13:31.973674800Z",
     "start_time": "2024-05-14T14:13:31.153342300Z"
    }
   },
   "id": "8a7c542f906017d5"
  },
  {
   "cell_type": "code",
   "execution_count": 34,
   "outputs": [
    {
     "data": {
      "text/plain": "Year                        2010        2011       2012       2013       2014  \\\nNomeTipoSensore                                                                 \nBiossido di Azoto      46.398507   49.804847  46.721373  42.506211  38.168204   \nBiossido di Zolfo       2.622130    3.114778   3.015196   3.538496   3.404678   \nMonossido di Carbonio   1.039792    1.012024   0.948375   0.904076   0.890151   \nOssidi di Azoto        95.237761  113.302847  98.847406  93.256901  84.509804   \nOzono                  43.777814   44.212293  44.017204  41.960761  39.421713   \n\nYear                        2015       2016       2017       2018       2019  \\\nNomeTipoSensore                                                                \nBiossido di Azoto      41.636087  39.569663  44.581334  38.891081  38.049908   \nBiossido di Zolfo       4.482031   4.401129   2.866932   3.396740   2.599475   \nMonossido di Carbonio   0.982997   0.849705   0.743203   0.718481   0.729579   \nOssidi di Azoto        94.000838  82.708885  89.505104  73.297322  73.302886   \nOzono                  45.743827  43.277944  47.654187  46.086184  46.333021   \n\nYear                        2020       2021       2022       2023       2024  \nNomeTipoSensore                                                               \nBiossido di Azoto      33.439636  34.032689  33.384276  31.074580  29.681250  \nBiossido di Zolfo       3.140611   2.725559   2.458562   2.761955   2.000000  \nMonossido di Carbonio   0.745293   0.667850   0.631140   0.570415   0.933333  \nOssidi di Azoto        67.798647  62.679938  62.491344  55.543914  43.386667  \nOzono                  46.578300  47.441895  50.823590  53.800880   6.500000  ",
      "text/html": "<div>\n<style scoped>\n    .dataframe tbody tr th:only-of-type {\n        vertical-align: middle;\n    }\n\n    .dataframe tbody tr th {\n        vertical-align: top;\n    }\n\n    .dataframe thead th {\n        text-align: right;\n    }\n</style>\n<table border=\"1\" class=\"dataframe\">\n  <thead>\n    <tr style=\"text-align: right;\">\n      <th>Year</th>\n      <th>2010</th>\n      <th>2011</th>\n      <th>2012</th>\n      <th>2013</th>\n      <th>2014</th>\n      <th>2015</th>\n      <th>2016</th>\n      <th>2017</th>\n      <th>2018</th>\n      <th>2019</th>\n      <th>2020</th>\n      <th>2021</th>\n      <th>2022</th>\n      <th>2023</th>\n      <th>2024</th>\n    </tr>\n    <tr>\n      <th>NomeTipoSensore</th>\n      <th></th>\n      <th></th>\n      <th></th>\n      <th></th>\n      <th></th>\n      <th></th>\n      <th></th>\n      <th></th>\n      <th></th>\n      <th></th>\n      <th></th>\n      <th></th>\n      <th></th>\n      <th></th>\n      <th></th>\n    </tr>\n  </thead>\n  <tbody>\n    <tr>\n      <th>Biossido di Azoto</th>\n      <td>46.398507</td>\n      <td>49.804847</td>\n      <td>46.721373</td>\n      <td>42.506211</td>\n      <td>38.168204</td>\n      <td>41.636087</td>\n      <td>39.569663</td>\n      <td>44.581334</td>\n      <td>38.891081</td>\n      <td>38.049908</td>\n      <td>33.439636</td>\n      <td>34.032689</td>\n      <td>33.384276</td>\n      <td>31.074580</td>\n      <td>29.681250</td>\n    </tr>\n    <tr>\n      <th>Biossido di Zolfo</th>\n      <td>2.622130</td>\n      <td>3.114778</td>\n      <td>3.015196</td>\n      <td>3.538496</td>\n      <td>3.404678</td>\n      <td>4.482031</td>\n      <td>4.401129</td>\n      <td>2.866932</td>\n      <td>3.396740</td>\n      <td>2.599475</td>\n      <td>3.140611</td>\n      <td>2.725559</td>\n      <td>2.458562</td>\n      <td>2.761955</td>\n      <td>2.000000</td>\n    </tr>\n    <tr>\n      <th>Monossido di Carbonio</th>\n      <td>1.039792</td>\n      <td>1.012024</td>\n      <td>0.948375</td>\n      <td>0.904076</td>\n      <td>0.890151</td>\n      <td>0.982997</td>\n      <td>0.849705</td>\n      <td>0.743203</td>\n      <td>0.718481</td>\n      <td>0.729579</td>\n      <td>0.745293</td>\n      <td>0.667850</td>\n      <td>0.631140</td>\n      <td>0.570415</td>\n      <td>0.933333</td>\n    </tr>\n    <tr>\n      <th>Ossidi di Azoto</th>\n      <td>95.237761</td>\n      <td>113.302847</td>\n      <td>98.847406</td>\n      <td>93.256901</td>\n      <td>84.509804</td>\n      <td>94.000838</td>\n      <td>82.708885</td>\n      <td>89.505104</td>\n      <td>73.297322</td>\n      <td>73.302886</td>\n      <td>67.798647</td>\n      <td>62.679938</td>\n      <td>62.491344</td>\n      <td>55.543914</td>\n      <td>43.386667</td>\n    </tr>\n    <tr>\n      <th>Ozono</th>\n      <td>43.777814</td>\n      <td>44.212293</td>\n      <td>44.017204</td>\n      <td>41.960761</td>\n      <td>39.421713</td>\n      <td>45.743827</td>\n      <td>43.277944</td>\n      <td>47.654187</td>\n      <td>46.086184</td>\n      <td>46.333021</td>\n      <td>46.578300</td>\n      <td>47.441895</td>\n      <td>50.823590</td>\n      <td>53.800880</td>\n      <td>6.500000</td>\n    </tr>\n  </tbody>\n</table>\n</div>"
     },
     "execution_count": 34,
     "metadata": {},
     "output_type": "execute_result"
    }
   ],
   "source": [
    "## Create a dataframe with each unique value of 'NomeTipoSensore' as index and the YearlyAverage for each year as columns\n",
    "df_yearly_average = df_air_quality.pivot_table(index='NomeTipoSensore', columns='Year', values='YearlyAverage')\n",
    "df_yearly_average.head()"
   ],
   "metadata": {
    "collapsed": false,
    "ExecuteTime": {
     "end_time": "2024-05-14T14:13:32.939029500Z",
     "start_time": "2024-05-14T14:13:32.044335700Z"
    }
   },
   "id": "7ca936a4494a8dd"
  },
  {
   "cell_type": "code",
   "execution_count": 24,
   "outputs": [
    {
     "data": {
      "text/plain": "<Figure size 640x480 with 1 Axes>",
      "image/png": "[encoded data removed]"
     },
     "metadata": {},
     "output_type": "display_data"
    }
   ],
   "source": [
    "## Plot number of rows for each unique value in 'NomeTipoSensore' column per year in the air quality dataframe\n",
    "sns.countplot(x='Year', hue='NomeTipoSensore', data=df_air_quality)\n",
    "plt.legend(fontsize='x-small', bbox_to_anchor=(1.05, 1), loc='upper left')\n",
    "plt.show()"
   ],
   "metadata": {
    "collapsed": false,
    "ExecuteTime": {
     "start_time": "2024-05-14T14:10:56.159433600Z"
    }
   },
   "id": "33b721ea6b1b2672"
  },
  {
   "cell_type": "code",
   "execution_count": 35,
   "outputs": [
    {
     "data": {
      "text/plain": "                                 mean     max   min           var\nYear NomeTipoSensore                                             \n2010 Biossido di Azoto      46.398507   293.7   0.0    891.006249\n     Biossido di Zolfo       2.622130   113.5   0.0     10.065412\n     Monossido di Carbonio   1.039792    11.9   0.0      0.329593\n     Ossidi di Azoto        95.237761  1548.6   0.0  10507.353290\n     Ozono                  43.777814   243.6   0.0   1648.093124\n...                               ...     ...   ...           ...\n2024 Biossido di Zolfo       2.000000     3.7   0.7      2.370000\n     Monossido di Carbonio   0.933333     1.7   0.5      0.210667\n     Ossidi di Azoto        43.386667    88.7  19.4    360.785524\n     Ozono                   6.500000     9.7   4.2      4.136000\n     PM10 (SM2005)          30.337500    46.7  14.0     89.996964\n\n[94 rows x 4 columns]",
      "text/html": "<div>\n<style scoped>\n    .dataframe tbody tr th:only-of-type {\n        vertical-align: middle;\n    }\n\n    .dataframe tbody tr th {\n        vertical-align: top;\n    }\n\n    .dataframe thead th {\n        text-align: right;\n    }\n</style>\n<table border=\"1\" class=\"dataframe\">\n  <thead>\n    <tr style=\"text-align: right;\">\n      <th></th>\n      <th></th>\n      <th>mean</th>\n      <th>max</th>\n      <th>min</th>\n      <th>var</th>\n    </tr>\n    <tr>\n      <th>Year</th>\n      <th>NomeTipoSensore</th>\n      <th></th>\n      <th></th>\n      <th></th>\n      <th></th>\n    </tr>\n  </thead>\n  <tbody>\n    <tr>\n      <th rowspan=\"5\" valign=\"top\">2010</th>\n      <th>Biossido di Azoto</th>\n      <td>46.398507</td>\n      <td>293.7</td>\n      <td>0.0</td>\n      <td>891.006249</td>\n    </tr>\n    <tr>\n      <th>Biossido di Zolfo</th>\n      <td>2.622130</td>\n      <td>113.5</td>\n      <td>0.0</td>\n      <td>10.065412</td>\n    </tr>\n    <tr>\n      <th>Monossido di Carbonio</th>\n      <td>1.039792</td>\n      <td>11.9</td>\n      <td>0.0</td>\n      <td>0.329593</td>\n    </tr>\n    <tr>\n      <th>Ossidi di Azoto</th>\n      <td>95.237761</td>\n      <td>1548.6</td>\n      <td>0.0</td>\n      <td>10507.353290</td>\n    </tr>\n    <tr>\n      <th>Ozono</th>\n      <td>43.777814</td>\n      <td>243.6</td>\n      <td>0.0</td>\n      <td>1648.093124</td>\n    </tr>\n    <tr>\n      <th>...</th>\n      <th>...</th>\n      <td>...</td>\n      <td>...</td>\n      <td>...</td>\n      <td>...</td>\n    </tr>\n    <tr>\n      <th rowspan=\"5\" valign=\"top\">2024</th>\n      <th>Biossido di Zolfo</th>\n      <td>2.000000</td>\n      <td>3.7</td>\n      <td>0.7</td>\n      <td>2.370000</td>\n    </tr>\n    <tr>\n      <th>Monossido di Carbonio</th>\n      <td>0.933333</td>\n      <td>1.7</td>\n      <td>0.5</td>\n      <td>0.210667</td>\n    </tr>\n    <tr>\n      <th>Ossidi di Azoto</th>\n      <td>43.386667</td>\n      <td>88.7</td>\n      <td>19.4</td>\n      <td>360.785524</td>\n    </tr>\n    <tr>\n      <th>Ozono</th>\n      <td>6.500000</td>\n      <td>9.7</td>\n      <td>4.2</td>\n      <td>4.136000</td>\n    </tr>\n    <tr>\n      <th>PM10 (SM2005)</th>\n      <td>30.337500</td>\n      <td>46.7</td>\n      <td>14.0</td>\n      <td>89.996964</td>\n    </tr>\n  </tbody>\n</table>\n<p>94 rows × 4 columns</p>\n</div>"
     },
     "execution_count": 35,
     "metadata": {},
     "output_type": "execute_result"
    }
   ],
   "source": [
    "## Df with YearlyAverage, max and min values of 'Valore' for each unique value of 'NomeTipoSensore', and the variance of 'Valore' for each unique value of 'NomeTipoSensore'\n",
    "df_yearly_summary = df_air_quality.groupby(['Year', 'NomeTipoSensore'])['Valore'].agg(['mean', 'max', 'min', 'var'])\n",
    "df_yearly_summary"
   ],
   "metadata": {
    "collapsed": false,
    "ExecuteTime": {
     "end_time": "2024-05-14T14:13:34.074932700Z",
     "start_time": "2024-05-14T14:13:32.936639200Z"
    }
   },
   "id": "8ba039453cda5ce8"
  },
  {
   "cell_type": "code",
   "execution_count": 36,
   "outputs": [
    {
     "data": {
      "text/plain": "<Figure size 640x480 with 1 Axes>",
      "image/png": "[encoded data removed]"
     },
     "metadata": {},
     "output_type": "display_data"
    }
   ],
   "source": [
    "## Plot the max column of the df_yearly_summary dataframe\n",
    "sns.lineplot(x='Year', y='max', hue='NomeTipoSensore', data=df_yearly_summary)\n",
    "plt.legend(fontsize='x-small', bbox_to_anchor=(1.05, 1), loc='upper left')\n",
    "plt.show()"
   ],
   "metadata": {
    "collapsed": false,
    "ExecuteTime": {
     "end_time": "2024-05-14T14:13:34.353884200Z",
     "start_time": "2024-05-14T14:13:34.094964Z"
    }
   },
   "id": "3db24f7aeb64974b"
  },
  {
   "cell_type": "code",
   "execution_count": 37,
   "outputs": [
    {
     "data": {
      "text/plain": "Year                         2010                                     \\\nMonth                          1                                       \nDay                            1          2           3           4    \nNomeTipoSensore                                                        \nBiossido di Azoto       52.861111  29.575116   51.500000   62.497880   \nBiossido di Zolfo        3.481683   2.154502    2.513744    2.816327   \nMonossido di Carbonio    1.914609   1.226500    1.254941    1.520167   \nOssidi di Azoto        158.952295  63.244907  106.317477  135.316863   \nOzono                    6.723098  33.270052   25.146354   10.609896   \n\nYear                                                                   \\\nMonth                                                                   \nDay                            5           6           7           8    \nNomeTipoSensore                                                         \nBiossido di Azoto       59.024180   59.928010   74.977738   57.460476   \nBiossido di Zolfo        3.057310    4.673262    3.820321    2.343850   \nMonossido di Carbonio    1.556055    1.517043    1.839932    1.408333   \nOssidi di Azoto        143.176914  117.062574  210.003943  117.301667   \nOzono                    8.343597   10.833943    8.272656   11.860156   \n\nYear                                          ...       2023             \\\nMonth                                         ...         12              \nDay                            9          10  ...         23         24   \nNomeTipoSensore                               ...                         \nBiossido di Azoto       51.737294  39.970588  ...  42.639063  26.050398   \nBiossido di Zolfo        3.884286   4.514000  ...   3.633333   2.475000   \nMonossido di Carbonio    1.568313   1.380036  ...   0.704861   0.645139   \nOssidi di Azoto        117.232000  80.513113  ...  70.581389  39.273371   \nOzono                    7.405469  15.655496  ...  27.415278  40.168056   \n\nYear                                                                 \\\nMonth                                                                 \nDay                           25         26          27          28   \nNomeTipoSensore                                                       \nBiossido di Azoto      36.513021  39.379948   39.390104   40.848177   \nBiossido di Zolfo       1.761111   1.980556    2.397222    2.254167   \nMonossido di Carbonio   0.795833   0.956250    1.109722    1.169444   \nOssidi di Azoto        69.640833  80.873333  108.518611  117.062222   \nOzono                  24.431250   9.898611    3.559028    3.376389   \n\nYear                                                         2024  \nMonth                                                          1   \nDay                           29         30         31         1   \nNomeTipoSensore                                                    \nBiossido di Azoto      38.537760  36.307292  32.751042  29.681250  \nBiossido di Zolfo       2.236111   2.445833   2.145833   2.000000  \nMonossido di Carbonio   1.027083   0.993750   0.904167   0.933333  \nOssidi di Azoto        88.613056  75.209167  56.896944  43.386667  \nOzono                   3.310417   5.011111   8.054861   6.500000  \n\n[5 rows x 5114 columns]",
      "text/html": "<div>\n<style scoped>\n    .dataframe tbody tr th:only-of-type {\n        vertical-align: middle;\n    }\n\n    .dataframe tbody tr th {\n        vertical-align: top;\n    }\n\n    .dataframe thead tr th {\n        text-align: left;\n    }\n\n    .dataframe thead tr:last-of-type th {\n        text-align: right;\n    }\n</style>\n<table border=\"1\" class=\"dataframe\">\n  <thead>\n    <tr>\n      <th>Year</th>\n      <th colspan=\"10\" halign=\"left\">2010</th>\n      <th>...</th>\n      <th colspan=\"9\" halign=\"left\">2023</th>\n      <th>2024</th>\n    </tr>\n    <tr>\n      <th>Month</th>\n      <th colspan=\"10\" halign=\"left\">1</th>\n      <th>...</th>\n      <th colspan=\"9\" halign=\"left\">12</th>\n      <th>1</th>\n    </tr>\n    <tr>\n      <th>Day</th>\n      <th>1</th>\n      <th>2</th>\n      <th>3</th>\n      <th>4</th>\n      <th>5</th>\n      <th>6</th>\n      <th>7</th>\n      <th>8</th>\n      <th>9</th>\n      <th>10</th>\n      <th>...</th>\n      <th>23</th>\n      <th>24</th>\n      <th>25</th>\n      <th>26</th>\n      <th>27</th>\n      <th>28</th>\n      <th>29</th>\n      <th>30</th>\n      <th>31</th>\n      <th>1</th>\n    </tr>\n    <tr>\n      <th>NomeTipoSensore</th>\n      <th></th>\n      <th></th>\n      <th></th>\n      <th></th>\n      <th></th>\n      <th></th>\n      <th></th>\n      <th></th>\n      <th></th>\n      <th></th>\n      <th></th>\n      <th></th>\n      <th></th>\n      <th></th>\n      <th></th>\n      <th></th>\n      <th></th>\n      <th></th>\n      <th></th>\n      <th></th>\n      <th></th>\n    </tr>\n  </thead>\n  <tbody>\n    <tr>\n      <th>Biossido di Azoto</th>\n      <td>52.861111</td>\n      <td>29.575116</td>\n      <td>51.500000</td>\n      <td>62.497880</td>\n      <td>59.024180</td>\n      <td>59.928010</td>\n      <td>74.977738</td>\n      <td>57.460476</td>\n      <td>51.737294</td>\n      <td>39.970588</td>\n      <td>...</td>\n      <td>42.639063</td>\n      <td>26.050398</td>\n      <td>36.513021</td>\n      <td>39.379948</td>\n      <td>39.390104</td>\n      <td>40.848177</td>\n      <td>38.537760</td>\n      <td>36.307292</td>\n      <td>32.751042</td>\n      <td>29.681250</td>\n    </tr>\n    <tr>\n      <th>Biossido di Zolfo</th>\n      <td>3.481683</td>\n      <td>2.154502</td>\n      <td>2.513744</td>\n      <td>2.816327</td>\n      <td>3.057310</td>\n      <td>4.673262</td>\n      <td>3.820321</td>\n      <td>2.343850</td>\n      <td>3.884286</td>\n      <td>4.514000</td>\n      <td>...</td>\n      <td>3.633333</td>\n      <td>2.475000</td>\n      <td>1.761111</td>\n      <td>1.980556</td>\n      <td>2.397222</td>\n      <td>2.254167</td>\n      <td>2.236111</td>\n      <td>2.445833</td>\n      <td>2.145833</td>\n      <td>2.000000</td>\n    </tr>\n    <tr>\n      <th>Monossido di Carbonio</th>\n      <td>1.914609</td>\n      <td>1.226500</td>\n      <td>1.254941</td>\n      <td>1.520167</td>\n      <td>1.556055</td>\n      <td>1.517043</td>\n      <td>1.839932</td>\n      <td>1.408333</td>\n      <td>1.568313</td>\n      <td>1.380036</td>\n      <td>...</td>\n      <td>0.704861</td>\n      <td>0.645139</td>\n      <td>0.795833</td>\n      <td>0.956250</td>\n      <td>1.109722</td>\n      <td>1.169444</td>\n      <td>1.027083</td>\n      <td>0.993750</td>\n      <td>0.904167</td>\n      <td>0.933333</td>\n    </tr>\n    <tr>\n      <th>Ossidi di Azoto</th>\n      <td>158.952295</td>\n      <td>63.244907</td>\n      <td>106.317477</td>\n      <td>135.316863</td>\n      <td>143.176914</td>\n      <td>117.062574</td>\n      <td>210.003943</td>\n      <td>117.301667</td>\n      <td>117.232000</td>\n      <td>80.513113</td>\n      <td>...</td>\n      <td>70.581389</td>\n      <td>39.273371</td>\n      <td>69.640833</td>\n      <td>80.873333</td>\n      <td>108.518611</td>\n      <td>117.062222</td>\n      <td>88.613056</td>\n      <td>75.209167</td>\n      <td>56.896944</td>\n      <td>43.386667</td>\n    </tr>\n    <tr>\n      <th>Ozono</th>\n      <td>6.723098</td>\n      <td>33.270052</td>\n      <td>25.146354</td>\n      <td>10.609896</td>\n      <td>8.343597</td>\n      <td>10.833943</td>\n      <td>8.272656</td>\n      <td>11.860156</td>\n      <td>7.405469</td>\n      <td>15.655496</td>\n      <td>...</td>\n      <td>27.415278</td>\n      <td>40.168056</td>\n      <td>24.431250</td>\n      <td>9.898611</td>\n      <td>3.559028</td>\n      <td>3.376389</td>\n      <td>3.310417</td>\n      <td>5.011111</td>\n      <td>8.054861</td>\n      <td>6.500000</td>\n    </tr>\n  </tbody>\n</table>\n<p>5 rows × 5114 columns</p>\n</div>"
     },
     "execution_count": 37,
     "metadata": {},
     "output_type": "execute_result"
    }
   ],
   "source": [
    "## Create a dataframe with each unique value of 'NomeTipoSensore' as index and the average value of 'Valore' for all the rows that correspond to the same day as columns\n",
    "df_daily_average = df_air_quality.pivot_table(index='NomeTipoSensore', columns=['Year', 'Month', 'Day'], values='Valore', aggfunc='mean')\n",
    "df_daily_average.head()"
   ],
   "metadata": {
    "collapsed": false,
    "ExecuteTime": {
     "end_time": "2024-05-14T14:13:35.720246Z",
     "start_time": "2024-05-14T14:13:34.341337500Z"
    }
   },
   "id": "94c549df580aaede"
  },
  {
   "cell_type": "code",
   "execution_count": 38,
   "outputs": [
    {
     "name": "stdout",
     "output_type": "stream",
     "text": [
      "NomeTipoSensore\n",
      "Biossido di Azoto             128.310049\n",
      "Biossido di Zolfo               8.971014\n",
      "Monossido di Carbonio           2.886213\n",
      "Ossidi di Azoto               551.169428\n",
      "Ozono                         130.399479\n",
      "PM10 (SM2005)                 169.500000\n",
      "Particolato Totale Sospeso    115.000000\n",
      "dtype: float64\n"
     ]
    }
   ],
   "source": [
    "## Get the max value of the daily average for each unique value of 'NomeTipoSensore'\n",
    "max_daily_average = df_daily_average.max(axis=1)\n",
    "print(max_daily_average)\n",
    "\n"
   ],
   "metadata": {
    "collapsed": false,
    "ExecuteTime": {
     "end_time": "2024-05-14T14:13:35.733759400Z",
     "start_time": "2024-05-14T14:13:35.715665500Z"
    }
   },
   "id": "4a959241d7d2ae73"
  },
  {
   "cell_type": "code",
   "execution_count": 39,
   "outputs": [
    {
     "data": {
      "text/plain": "<Figure size 640x480 with 1 Axes>",
      "image/png": "[encoded data removed]"
     },
     "metadata": {},
     "output_type": "display_data"
    }
   ],
   "source": [
    "## Plot the max value of the daily average for each unique value of 'NomeTipoSensore'\n",
    "sns.barplot(x=max_daily_average, y=max_daily_average.index)\n",
    "plt.show()"
   ],
   "metadata": {
    "collapsed": false,
    "ExecuteTime": {
     "end_time": "2024-05-14T14:13:36.033974600Z",
     "start_time": "2024-05-14T14:13:35.739337600Z"
    }
   },
   "id": "11496c673acd68a1"
  },
  {
   "cell_type": "code",
   "execution_count": 40,
   "outputs": [
    {
     "data": {
      "text/plain": "Series([], dtype: int64)"
     },
     "execution_count": 40,
     "metadata": {},
     "output_type": "execute_result"
    }
   ],
   "source": [
    "## Get how many times the daily average is greater than 50 for Particelle sospese PM2.5 row for each year\n",
    "df_air_quality[(df_air_quality['NomeTipoSensore'] == 'Particelle sospese PM2.5') & (df_air_quality['Valore'] > 50)].groupby('Year').size()"
   ],
   "metadata": {
    "collapsed": false,
    "ExecuteTime": {
     "end_time": "2024-05-14T14:13:36.357572600Z",
     "start_time": "2024-05-14T14:13:36.323519500Z"
    }
   },
   "id": "a26504ec5e858c1"
  },
  {
   "cell_type": "code",
   "execution_count": 40,
   "outputs": [],
   "source": [],
   "metadata": {
    "collapsed": false,
    "ExecuteTime": {
     "end_time": "2024-05-14T14:13:36.412523700Z",
     "start_time": "2024-05-14T14:13:36.354050700Z"
    }
   },
   "id": "c5ead3e5ce7ac821"
  },
  {
   "cell_type": "code",
   "execution_count": 41,
   "outputs": [
    {
     "data": {
      "text/plain": "         IdSensore                Data  Valore Stato UnitaMisura  \\\n0             5504 2010-01-01 01:00:00    70.7    VA       µg/m³   \n1             5504 2010-01-01 02:00:00    73.0    VA       µg/m³   \n2             5504 2010-01-01 03:00:00    69.0    VA       µg/m³   \n3             5504 2010-01-01 04:00:00    66.0    VA       µg/m³   \n4             5504 2010-01-01 05:00:00    68.8    VA       µg/m³   \n...            ...                 ...     ...   ...         ...   \n9616743      20429 2023-12-28 00:00:00    52.9    VA       µg/m³   \n9616744      20429 2023-12-29 00:00:00    38.8    VA       µg/m³   \n9616745      20429 2023-12-30 00:00:00    40.9    VA       µg/m³   \n9616746      20429 2023-12-31 00:00:00    51.2    VA       µg/m³   \n9616747      20429 2024-01-01 00:00:00    46.7    VA       µg/m³   \n\n           NomeTipoSensore  Year  Month  Day  Hour  Comune  YearlyAverage  \n0        Biossido di Azoto  2010      1    1     1  Milano      73.336213  \n1        Biossido di Azoto  2010      1    1     2  Milano      73.336213  \n2        Biossido di Azoto  2010      1    1     3  Milano      73.336213  \n3        Biossido di Azoto  2010      1    1     4  Milano      73.336213  \n4        Biossido di Azoto  2010      1    1     5  Milano      73.336213  \n...                    ...   ...    ...  ...   ...     ...            ...  \n9616743      PM10 (SM2005)  2023     12   28     0  Milano      29.968067  \n9616744      PM10 (SM2005)  2023     12   29     0  Milano      29.968067  \n9616745      PM10 (SM2005)  2023     12   30     0  Milano      29.968067  \n9616746      PM10 (SM2005)  2023     12   31     0  Milano      29.968067  \n9616747      PM10 (SM2005)  2024      1    1     0  Milano      46.700000  \n\n[9616748 rows x 12 columns]",
      "text/html": "<div>\n<style scoped>\n    .dataframe tbody tr th:only-of-type {\n        vertical-align: middle;\n    }\n\n    .dataframe tbody tr th {\n        vertical-align: top;\n    }\n\n    .dataframe thead th {\n        text-align: right;\n    }\n</style>\n<table border=\"1\" class=\"dataframe\">\n  <thead>\n    <tr style=\"text-align: right;\">\n      <th></th>\n      <th>IdSensore</th>\n      <th>Data</th>\n      <th>Valore</th>\n      <th>Stato</th>\n      <th>UnitaMisura</th>\n      <th>NomeTipoSensore</th>\n      <th>Year</th>\n      <th>Month</th>\n      <th>Day</th>\n      <th>Hour</th>\n      <th>Comune</th>\n      <th>YearlyAverage</th>\n    </tr>\n  </thead>\n  <tbody>\n    <tr>\n      <th>0</th>\n      <td>5504</td>\n      <td>2010-01-01 01:00:00</td>\n      <td>70.7</td>\n      <td>VA</td>\n      <td>µg/m³</td>\n      <td>Biossido di Azoto</td>\n      <td>2010</td>\n      <td>1</td>\n      <td>1</td>\n      <td>1</td>\n      <td>Milano</td>\n      <td>73.336213</td>\n    </tr>\n    <tr>\n      <th>1</th>\n      <td>5504</td>\n      <td>2010-01-01 02:00:00</td>\n      <td>73.0</td>\n      <td>VA</td>\n      <td>µg/m³</td>\n      <td>Biossido di Azoto</td>\n      <td>2010</td>\n      <td>1</td>\n      <td>1</td>\n      <td>2</td>\n      <td>Milano</td>\n      <td>73.336213</td>\n    </tr>\n    <tr>\n      <th>2</th>\n      <td>5504</td>\n      <td>2010-01-01 03:00:00</td>\n      <td>69.0</td>\n      <td>VA</td>\n      <td>µg/m³</td>\n      <td>Biossido di Azoto</td>\n      <td>2010</td>\n      <td>1</td>\n      <td>1</td>\n      <td>3</td>\n      <td>Milano</td>\n      <td>73.336213</td>\n    </tr>\n    <tr>\n      <th>3</th>\n      <td>5504</td>\n      <td>2010-01-01 04:00:00</td>\n      <td>66.0</td>\n      <td>VA</td>\n      <td>µg/m³</td>\n      <td>Biossido di Azoto</td>\n      <td>2010</td>\n      <td>1</td>\n      <td>1</td>\n      <td>4</td>\n      <td>Milano</td>\n      <td>73.336213</td>\n    </tr>\n    <tr>\n      <th>4</th>\n      <td>5504</td>\n      <td>2010-01-01 05:00:00</td>\n      <td>68.8</td>\n      <td>VA</td>\n      <td>µg/m³</td>\n      <td>Biossido di Azoto</td>\n      <td>2010</td>\n      <td>1</td>\n      <td>1</td>\n      <td>5</td>\n      <td>Milano</td>\n      <td>73.336213</td>\n    </tr>\n    <tr>\n      <th>...</th>\n      <td>...</td>\n      <td>...</td>\n      <td>...</td>\n      <td>...</td>\n      <td>...</td>\n      <td>...</td>\n      <td>...</td>\n      <td>...</td>\n      <td>...</td>\n      <td>...</td>\n      <td>...</td>\n      <td>...</td>\n    </tr>\n    <tr>\n      <th>9616743</th>\n      <td>20429</td>\n      <td>2023-12-28 00:00:00</td>\n      <td>52.9</td>\n      <td>VA</td>\n      <td>µg/m³</td>\n      <td>PM10 (SM2005)</td>\n      <td>2023</td>\n      <td>12</td>\n      <td>28</td>\n      <td>0</td>\n      <td>Milano</td>\n      <td>29.968067</td>\n    </tr>\n    <tr>\n      <th>9616744</th>\n      <td>20429</td>\n      <td>2023-12-29 00:00:00</td>\n      <td>38.8</td>\n      <td>VA</td>\n      <td>µg/m³</td>\n      <td>PM10 (SM2005)</td>\n      <td>2023</td>\n      <td>12</td>\n      <td>29</td>\n      <td>0</td>\n      <td>Milano</td>\n      <td>29.968067</td>\n    </tr>\n    <tr>\n      <th>9616745</th>\n      <td>20429</td>\n      <td>2023-12-30 00:00:00</td>\n      <td>40.9</td>\n      <td>VA</td>\n      <td>µg/m³</td>\n      <td>PM10 (SM2005)</td>\n      <td>2023</td>\n      <td>12</td>\n      <td>30</td>\n      <td>0</td>\n      <td>Milano</td>\n      <td>29.968067</td>\n    </tr>\n    <tr>\n      <th>9616746</th>\n      <td>20429</td>\n      <td>2023-12-31 00:00:00</td>\n      <td>51.2</td>\n      <td>VA</td>\n      <td>µg/m³</td>\n      <td>PM10 (SM2005)</td>\n      <td>2023</td>\n      <td>12</td>\n      <td>31</td>\n      <td>0</td>\n      <td>Milano</td>\n      <td>29.968067</td>\n    </tr>\n    <tr>\n      <th>9616747</th>\n      <td>20429</td>\n      <td>2024-01-01 00:00:00</td>\n      <td>46.7</td>\n      <td>VA</td>\n      <td>µg/m³</td>\n      <td>PM10 (SM2005)</td>\n      <td>2024</td>\n      <td>1</td>\n      <td>1</td>\n      <td>0</td>\n      <td>Milano</td>\n      <td>46.700000</td>\n    </tr>\n  </tbody>\n</table>\n<p>9616748 rows × 12 columns</p>\n</div>"
     },
     "execution_count": 41,
     "metadata": {},
     "output_type": "execute_result"
    }
   ],
   "source": [
    "pd.set_option('display.max_rows', 1000)\n",
    "pd.set_option('display.max_columns', 100)\n",
    "df_air_quality"
   ],
   "metadata": {
    "collapsed": false,
    "ExecuteTime": {
     "end_time": "2024-05-14T16:09:45.817276500Z",
     "start_time": "2024-05-14T16:09:45.659284800Z"
    }
   },
   "id": "16bf19bb3f78ff54"
  },
  {
   "cell_type": "code",
   "execution_count": null,
   "outputs": [],
   "source": [],
   "metadata": {
    "collapsed": false
   },
   "id": "d7e1271e8ec6d464"
  }
 ],
 "metadata": {
  "kernelspec": {
   "display_name": "Python 3",
   "language": "python",
   "name": "python3"
  },
  "language_info": {
   "codemirror_mode": {
    "name": "ipython",
    "version": 2
   },
   "file_extension": ".py",
   "mimetype": "text/x-python",
   "name": "python",
   "nbconvert_exporter": "python",
   "pygments_lexer": "ipython2",
   "version": "2.7.6"
  }
 },
 "nbformat": 4,
 "nbformat_minor": 5
}
