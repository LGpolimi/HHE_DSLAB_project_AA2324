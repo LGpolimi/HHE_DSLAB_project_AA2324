{
 "cells": [
  {
   "cell_type": "code",
   "execution_count": 2,
   "outputs": [],
   "source": [
    "import pandas as pd"
   ],
   "metadata": {
    "collapsed": false,
    "ExecuteTime": {
     "end_time": "2024-05-03T18:08:46.836496300Z",
     "start_time": "2024-05-03T18:08:45.626900700Z"
    }
   },
   "id": "95c56da9a6fd4612"
  },
  {
   "cell_type": "code",
   "execution_count": 3,
   "outputs": [],
   "source": [
    "df_stations = pd.read_csv('Air_quality_data/Stazioni_qualit__dell_aria_20240430.csv')\n",
    "df_air_quality1 = pd.read_csv('Air_quality_data/Dati_sensori_aria_2010-2017_20240430.csv', low_memory=False)\n",
    "df_air_quality2 = pd.read_csv('Air_quality_data/Dati_sensori_aria_dal_2018_20240430.csv', low_memory=False)"
   ],
   "metadata": {
    "collapsed": false,
    "ExecuteTime": {
     "end_time": "2024-05-03T18:09:22.935072Z",
     "start_time": "2024-05-03T18:08:47.893989300Z"
    }
   },
   "id": "initial_id"
  },
  {
   "cell_type": "code",
   "execution_count": 4,
   "outputs": [],
   "source": [
    "# Add the two dataframes together by row\n",
    "df_air_quality = pd.concat([df_air_quality1, df_air_quality2], axis=0)"
   ],
   "metadata": {
    "collapsed": false,
    "ExecuteTime": {
     "end_time": "2024-05-03T18:09:26.006653200Z",
     "start_time": "2024-05-03T18:09:22.936077Z"
    }
   },
   "id": "ef18f63a5d4b7321"
  },
  {
   "cell_type": "code",
   "execution_count": 5,
   "outputs": [],
   "source": [
    "milan_municipalities = [\n",
    "    'Abbiategrasso', 'Albairate', 'Arconate', 'Arese', 'Arluno', 'Assago',\n",
    "    'Baranzate', 'Bareggio', 'Basiano', 'Basiglio', 'Bellinzago Lombardo', 'Bernate Ticino', 'Besate', 'Binasco', 'Boffalora Sopra Ticino', 'Bollate', 'Bresso', 'Bubbiano', 'Buccinasco', 'Buscate', 'Bussero', 'Busto Garolfo',\n",
    "    'Calvignasco', 'Cambiago', 'Canegrate', 'Carpiano', 'Carugate', 'Casarile', 'Casorezzo', 'Cassano d\\'Adda', 'Cassina de\\' Pecchi', 'Cassinetta di Lugagnano', 'Castano Primo', 'Cernusco sul Naviglio', 'Cerro Maggiore', 'Cerro al Lambro', 'Cesano Boscone', 'Cesate', 'Cinisello Balsamo', 'Cisliano', 'Cologno Monzese', 'Colturano', 'Corbetta', 'Cormano', 'Cornaredo', 'Corsico', 'Cuggiono', 'Cusago', 'Cusano Milanino',\n",
    "    'Dairago', 'Dresano',\n",
    "    'Gaggiano', 'Garbagnate Milanese', 'Gessate', 'Gorgonzola', 'Grezzago', 'Gudo Visconti',\n",
    "    'Inveruno', 'Inzago',\n",
    "    'Lacchiarella', 'Lainate', 'Legnano', 'Liscate', 'Locate di Triulzi',\n",
    "    'Magenta', 'Magnago', 'Marcallo con Casone', 'Masate', 'Mediglia', 'Melegnano', 'Melzo', 'Mesero', 'Milano', 'Morimondo', 'Motta Visconti',\n",
    "    'Nerviano', 'Nosate', 'Novate Milanese', 'Noviglio',\n",
    "    'Opera', 'Ossona', 'Ozzero',\n",
    "    'Paderno Dugnano', 'Pantigliate', 'Parabiago', 'Paullo', 'Pero', 'Peschiera Borromeo', 'Pessano con Bornago', 'Pieve Emanuele', 'Pioltello', 'Pogliano Milanese', 'Pozzo D\\'Adda', 'Pozzuolo Martesana', 'Pregnana Milanese',\n",
    "    'Rescaldina', 'Rho', 'Robecchetto con Induno', 'Robecco sul Naviglio', 'Rodano', 'Rosate', 'Rozzano',\n",
    "    'San Colombano al Lambro', 'San Donato Milanese', 'San Giorgio su Legnano', 'San Giuliano Milanese', 'San Vittore Olona', 'San Zenone al Lambro', 'Santo Stefano Ticino', 'Sedriano', 'Segrate', 'Senago', 'Sesto San Giovanni', 'Settala', 'Settimo Milanese', 'Solaro',\n",
    "    'Trezzano Rosa', 'Trezzano sul Naviglio', 'Trezzo sull\\'Adda', 'Tribiano', 'Truccazzano', 'Turbigo',\n",
    "    'Vanzaghello', 'Vanzago', 'Vaprio d\\'Adda', 'Vermezzo con Zelo', 'Vernate', 'Vignate', 'Villa Cortese', 'Vimodrone', 'Vittuone', 'Vizzolo Predabissi',\n",
    "    'Zibido San Giacomo'\n",
    "]"
   ],
   "metadata": {
    "collapsed": false,
    "ExecuteTime": {
     "end_time": "2024-05-03T18:09:26.020810700Z",
     "start_time": "2024-05-03T18:09:26.014285100Z"
    }
   },
   "id": "26ea6bac43647415"
  },
  {
   "cell_type": "code",
   "execution_count": 6,
   "outputs": [
    {
     "name": "stdout",
     "output_type": "stream",
     "text": [
      "133\n"
     ]
    }
   ],
   "source": [
    "## Print the number of municipalities in Milan\n",
    "print(len(milan_municipalities))"
   ],
   "metadata": {
    "collapsed": false,
    "ExecuteTime": {
     "end_time": "2024-05-03T18:09:26.059994400Z",
     "start_time": "2024-05-03T18:09:26.024342100Z"
    }
   },
   "id": "5a608b6954b2cda6"
  },
  {
   "cell_type": "code",
   "execution_count": 7,
   "outputs": [
    {
     "name": "stdout",
     "output_type": "stream",
     "text": [
      "['Albairate', 'Arluno', 'Assago', 'Baranzate', 'Bareggio', 'Basiano', 'Basiglio', 'Bellinzago Lombardo', 'Bernate Ticino', 'Besate', 'Binasco', 'Boffalora Sopra Ticino', 'Bollate', 'Bresso', 'Bubbiano', 'Buccinasco', 'Buscate', 'Bussero', 'Busto Garolfo', 'Calvignasco', 'Cambiago', 'Canegrate', 'Carpiano', 'Carugate', 'Casarile', 'Casorezzo', \"Cassina de' Pecchi\", 'Cassinetta di Lugagnano', 'Cernusco sul Naviglio', 'Cerro Maggiore', 'Cerro al Lambro', 'Cesano Boscone', 'Cesate', 'Cisliano', 'Cologno Monzese', 'Colturano', 'Corbetta', 'Cornaredo', 'Cusago', 'Cusano Milanino', 'Dairago', 'Dresano', 'Gaggiano', 'Gessate', 'Gorgonzola', 'Grezzago', 'Gudo Visconti', 'Inveruno', 'Liscate', 'Locate di Triulzi', 'Magnago', 'Marcallo con Casone', 'Masate', 'Mediglia', 'Melzo', 'Mesero', 'Morimondo', 'Nerviano', 'Nosate', 'Novate Milanese', 'Noviglio', 'Opera', 'Ossona', 'Ozzero', 'Paderno Dugnano', 'Pantigliate', 'Parabiago', 'Paullo', 'Peschiera Borromeo', 'Pessano con Bornago', 'Pieve Emanuele', 'Pogliano Milanese', \"Pozzo D'Adda\", 'Pozzuolo Martesana', 'Pregnana Milanese', 'Rescaldina', 'Robecco sul Naviglio', 'Rodano', 'Rosate', 'Rozzano', 'San Colombano al Lambro', 'San Donato Milanese', 'San Giorgio su Legnano', 'San Vittore Olona', 'San Zenone al Lambro', 'Santo Stefano Ticino', 'Sedriano', 'Segrate', 'Senago', 'Settala', 'Solaro', 'Trezzano Rosa', 'Trezzano sul Naviglio', 'Vanzaghello', 'Vanzago', \"Vaprio d'Adda\", 'Vermezzo con Zelo', 'Vernate', 'Vignate', 'Villa Cortese', 'Vimodrone', 'Vittuone', 'Vizzolo Predabissi', 'Zibido San Giacomo']\n"
     ]
    }
   ],
   "source": [
    "## Make a list of municipalities in Milan that are not in the dataset\n",
    "not_in_dataset = [municipality for municipality in milan_municipalities if municipality not in df_stations['Comune'].unique()]\n",
    "print(not_in_dataset)"
   ],
   "metadata": {
    "collapsed": false,
    "ExecuteTime": {
     "end_time": "2024-05-03T18:09:26.066521800Z",
     "start_time": "2024-05-03T18:09:26.039918100Z"
    }
   },
   "id": "addeeff15a6729ce"
  },
  {
   "cell_type": "code",
   "execution_count": 8,
   "outputs": [
    {
     "name": "stdout",
     "output_type": "stream",
     "text": [
      "['Inzago' 'Pero' 'Sesto San Giovanni' 'Lacchiarella' 'Cormano' 'Corsico'\n",
      " 'Milano' \"Cassano d'Adda\" 'Cuggiono' \"Trezzo sull'Adda\"\n",
      " 'Cinisello Balsamo' 'Legnano' 'Motta Visconti' 'Magenta' 'Turbigo'\n",
      " 'Robecchetto con Induno' 'Arconate' 'Settimo Milanese' 'Pioltello' 'Rho'\n",
      " 'San Giuliano Milanese' 'Arese' 'Abbiategrasso' 'Melegnano' 'Lainate'\n",
      " 'Garbagnate Milanese' 'Tribiano' 'Castano Primo' 'Truccazzano']\n"
     ]
    }
   ],
   "source": [
    "## Drop rows with municipalities not in the list of milan_municipalities\n",
    "df_milano_stations = df_stations[df_stations['Comune'].isin(milan_municipalities)]\n",
    "print(df_milano_stations['Comune'].unique())"
   ],
   "metadata": {
    "collapsed": false,
    "ExecuteTime": {
     "end_time": "2024-05-03T18:09:26.085114300Z",
     "start_time": "2024-05-03T18:09:26.069546400Z"
    }
   },
   "id": "2455c1e0d92f439c"
  },
  {
   "cell_type": "code",
   "execution_count": 9,
   "outputs": [
    {
     "name": "stdout",
     "output_type": "stream",
     "text": [
      "29\n"
     ]
    }
   ],
   "source": [
    "## Print the number of municipalities in province of Milan that have air quality data\n",
    "print(len(df_milano_stations['Comune'].unique()))"
   ],
   "metadata": {
    "collapsed": false,
    "ExecuteTime": {
     "end_time": "2024-05-03T18:09:34.479178200Z",
     "start_time": "2024-05-03T18:09:34.440629100Z"
    }
   },
   "id": "d53663042c645ef5"
  },
  {
   "cell_type": "code",
   "execution_count": 10,
   "outputs": [
    {
     "name": "stdout",
     "output_type": "stream",
     "text": [
      "Ossidi di Azoto               38\n",
      "Biossido di Azoto             38\n",
      "Biossido di Zolfo             32\n",
      "Monossido di Carbonio         26\n",
      "Ozono                         17\n",
      "Particolato Totale Sospeso    14\n",
      "PM10 (SM2005)                 13\n",
      "Benzene                        7\n",
      "Particelle sospese PM2.5       6\n",
      "BlackCarbon                    5\n",
      "Ammoniaca                      4\n",
      "Arsenico                       3\n",
      "Piombo                         3\n",
      "Nikel                          3\n",
      "Benzo(a)pirene                 3\n",
      "Cadmio                         3\n",
      "Name: NomeTipoSensore, dtype: int64\n"
     ]
    }
   ],
   "source": [
    "## Count the number of rows for each unique value in 'NomeTipoSensore' column\n",
    "print(df_milano_stations['NomeTipoSensore'].value_counts())"
   ],
   "metadata": {
    "collapsed": false,
    "ExecuteTime": {
     "end_time": "2024-05-03T18:09:42.717248800Z",
     "start_time": "2024-05-03T18:09:42.639659300Z"
    }
   },
   "id": "2396068d3a3c1c20"
  },
  {
   "cell_type": "code",
   "execution_count": 21,
   "outputs": [
    {
     "name": "stdout",
     "output_type": "stream",
     "text": [
      "NomeTipoSensore\n",
      "Ammoniaca                                          [20020, 20484, 10269, 20525]\n",
      "Arsenico                                                  [12608, 12638, 12625]\n",
      "Benzene                            [17127, 6057, 6037, 9998, 6062, 6059, 17126]\n",
      "Benzo(a)pirene                                            [12641, 12611, 12629]\n",
      "Biossido di Azoto             [5507, 5513, 5531, 5550, 5520, 5549, 5519, 554...\n",
      "Biossido di Zolfo             [5620, 5621, 5618, 5617, 5627, 5643, 5642, 563...\n",
      "BlackCarbon                                 [20455, 29001, 20004, 20465, 20005]\n",
      "Cadmio                                                    [12626, 12609, 12639]\n",
      "Monossido di Carbonio         [5814, 5820, 5819, 5835, 5831, 5813, 5834, 581...\n",
      "Nikel                                                     [12624, 12637, 12607]\n",
      "Ossidi di Azoto               [6342, 6318, 6338, 6350, 6360, 6346, 6276, 629...\n",
      "Ozono                         [5712, 5714, 5710, 5713, 5724, 5725, 10350, 57...\n",
      "PM10 (SM2005)                 [20429, 20428, 6907, 6905, 6912, 6908, 6909, 1...\n",
      "Particelle sospese PM2.5              [20358, 9874, 10349, 10283, 20529, 17122]\n",
      "Particolato Totale Sospeso    [6636, 6637, 6648, 6651, 6640, 6646, 6639, 663...\n",
      "Piombo                                                    [12610, 12640, 12627]\n",
      "Name: IdSensore, dtype: object\n"
     ]
    }
   ],
   "source": [
    "## Get the list IdSensore for each unique value in 'NomeTipoSensore' column\n",
    "idSensor_grouped_by_type = df_milano_stations.groupby('NomeTipoSensore')['IdSensore'].unique()\n",
    "print(idSensor_grouped_by_type)"
   ],
   "metadata": {
    "collapsed": false,
    "ExecuteTime": {
     "end_time": "2024-05-03T18:31:24.255217100Z",
     "start_time": "2024-05-03T18:31:24.220701800Z"
    }
   },
   "id": "9e2baffedffff16d"
  },
  {
   "cell_type": "code",
   "execution_count": 12,
   "outputs": [
    {
     "name": "stdout",
     "output_type": "stream",
     "text": [
      "6665     122511\n",
      "5721     122428\n",
      "5548     122419\n",
      "6419     122390\n",
      "5749     122381\n",
      "          ...  \n",
      "17083       248\n",
      "6922        105\n",
      "5769        105\n",
      "6943          3\n",
      "6942          3\n",
      "Name: idSensore, Length: 924, dtype: int64\n"
     ]
    }
   ],
   "source": [
    "## Print the number of rows in the air quality dataframe for each unique value in 'IdSensore' column\n",
    "print(df_air_quality['idSensore'].value_counts())"
   ],
   "metadata": {
    "collapsed": false,
    "ExecuteTime": {
     "end_time": "2024-05-03T18:09:57.404302100Z",
     "start_time": "2024-05-03T18:09:57.388520600Z"
    }
   },
   "id": "b016fbc99274e786"
  },
  {
   "cell_type": "code",
   "execution_count": 20,
   "outputs": [
    {
     "name": "stdout",
     "output_type": "stream",
     "text": [
      "Year  idSensore\n",
      "2010  5504         8757\n",
      "      5505         8756\n",
      "      5506         8664\n",
      "      5507         8756\n",
      "      5508         8654\n",
      "                   ... \n",
      "2024  30158           1\n",
      "      30162           1\n",
      "      30163           1\n",
      "      30165           1\n",
      "      30166           1\n",
      "Length: 9714, dtype: int64\n"
     ]
    }
   ],
   "source": [
    "# Extract the year from the 'Data' column using string slicing\n",
    "df_air_quality['Year'] = df_air_quality['Data'].str[6:10]\n",
    "\n",
    "# Group by 'Year' and 'idSensore', and count the number of rows\n",
    "result = df_air_quality.groupby(['Year', 'idSensore']).size()\n",
    "\n",
    "# Now print the result\n",
    "print(result)\n"
   ],
   "metadata": {
    "collapsed": false,
    "ExecuteTime": {
     "end_time": "2024-05-03T18:29:11.148383600Z",
     "start_time": "2024-05-03T18:28:45.843188200Z"
    }
   },
   "id": "bb4fff8505612cfb"
  },
  {
   "cell_type": "code",
   "execution_count": 14,
   "outputs": [
    {
     "name": "stdout",
     "output_type": "stream",
     "text": [
      "2010    5255252\n",
      "2011    5244494\n",
      "2013    5235206\n",
      "2012    5218549\n",
      "2014    4663940\n",
      "2015    4645376\n",
      "2016    4643688\n",
      "2021    3012341\n",
      "2022    2984464\n",
      "2017    2953620\n",
      "2020    2938889\n",
      "2018    2908286\n",
      "2019    2908153\n",
      "2023    2546110\n",
      "2024        398\n",
      "Name: Data, dtype: int64\n"
     ]
    }
   ],
   "source": [
    "##Print the number of rows in the air quality dataframe for each year\n",
    "print(df_air_quality['Data'].str[6:10].value_counts())\n"
   ],
   "metadata": {
    "collapsed": false,
    "ExecuteTime": {
     "end_time": "2024-05-03T18:10:46.733613100Z",
     "start_time": "2024-05-03T18:10:34.523029Z"
    }
   },
   "id": "e5961221efe02a99"
  },
  {
   "cell_type": "code",
   "execution_count": null,
   "outputs": [],
   "source": [],
   "metadata": {
    "collapsed": false
   },
   "id": "93d40f2380abb5c6"
  }
 ],
 "metadata": {
  "kernelspec": {
   "display_name": "Python 3",
   "language": "python",
   "name": "python3"
  },
  "language_info": {
   "codemirror_mode": {
    "name": "ipython",
    "version": 2
   },
   "file_extension": ".py",
   "mimetype": "text/x-python",
   "name": "python",
   "nbconvert_exporter": "python",
   "pygments_lexer": "ipython2",
   "version": "2.7.6"
  }
 },
 "nbformat": 4,
 "nbformat_minor": 5
}
